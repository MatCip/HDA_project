{
 "cells": [
  {
   "cell_type": "code",
   "execution_count": 63,
   "metadata": {},
   "outputs": [],
   "source": [
    "import pandas as pd\n",
    "import numpy as np\n",
    "from keras.models import Sequential\n",
    "from keras.layers import Dense, Conv1D, LSTM, CuDNNLSTM, Flatten, Dropout\n",
    "from keras import optimizers\n",
    "from keras.utils import to_categorical"
   ]
  },
  {
   "cell_type": "code",
   "execution_count": 64,
   "metadata": {
    "collapsed": true
   },
   "outputs": [],
   "source": [
    "class trainerHelper():\n",
    "    \n",
    "    def __init__(self, data, labels, win_size, num_sensor_data, num_classes):\n",
    "        self.data = data\n",
    "        self.labels = labels\n",
    "        self.win_size = win_size\n",
    "        self.sensor_data = num_sensor_data\n",
    "        self.num_classes = num_classes\n",
    "        self.data_length = self.data.shape[0]\n",
    "        print(self.data_length)\n",
    "        self.start = 0\n",
    "        \n",
    "    def windows(self):\n",
    " \n",
    "        while self.start + self.win_size < self.data_length:\n",
    "            yield int(self.start), int(self.start + self.win_size)\n",
    "            self.start += (self.win_size/2)\n",
    "    \n",
    "    def segment_data(self):\n",
    "        self.start = 0\n",
    "        segments = np.empty((0, self.win_size, self.sensor_data))\n",
    "        labels= np.empty((0, self.num_classes))\n",
    "        for (start, end) in self.windows():\n",
    "            x = np.zeros((1, self.win_size, self.sensor_data))\n",
    "            x[0,:] = self.data[start:end,:]\n",
    "            label = self.labels[start:end,:]\n",
    "            if(x.shape[1] == self.win_size):\n",
    "                segments = np.vstack([segments,x])\n",
    "                lb = np.zeros((1, self.num_classes))\n",
    "                lb[0,:] = label[-1]\n",
    "                labels = np.vstack([labels,lb])\n",
    "        return segments, labels"
   ]
  },
  {
   "cell_type": "code",
   "execution_count": 65,
   "metadata": {
    "collapsed": true
   },
   "outputs": [],
   "source": [
    "from sklearn.preprocessing import OneHotEncoder\n",
    "from sklearn.preprocessing import MinMaxScaler\n",
    "\n",
    "def prepare_data(train_data, test_data):\n",
    "    encoder = OneHotEncoder()\n",
    "    train_labels = encoder.fit_transform(train_data['labels'].values.reshape(-1,1)).toarray()\n",
    "    test_labels = encoder.transform(test_data['labels'].values.reshape(-1,1)).toarray()\n",
    "    print(train_labels.shape)\n",
    "    print(test_labels.shape)\n",
    "    scaler = MinMaxScaler()\n",
    "    train_data.drop(['labels'], axis=1, inplace=True)\n",
    "    test_data.drop(['labels'], axis=1, inplace=True)\n",
    "    train_data = scaler.fit_transform(train_data)\n",
    "    test_data = scaler.transform(test_data)\n",
    "    \n",
    "    return train_data, test_data, train_labels, test_labels"
   ]
  },
  {
   "cell_type": "code",
   "execution_count": 66,
   "metadata": {},
   "outputs": [],
   "source": [
    "data1= pd.read_csv(\"ADL1Opportunity_locomotion.csv\",header=None)\n",
    "data2= pd.read_csv(\"ADL2Opportunity_locomotion.csv\",header=None)\n",
    "data3= pd.read_csv(\"ADL3Opportunity_locomotion.csv\",header=None)\n",
    "data4= pd.read_csv(\"ADL4Opportunity_locomotion.csv\",header=None)\n",
    "data5= pd.read_csv(\"ADL5Opportunity_locomotion.csv\",header=None)"
   ]
  },
  {
   "cell_type": "code",
   "execution_count": 67,
   "metadata": {},
   "outputs": [
    {
     "name": "stdout",
     "output_type": "stream",
     "text": [
      "(4, 114)\n"
     ]
    }
   ],
   "source": [
    "prova = data1[0:4]\n",
    "print(prova.shape)"
   ]
  },
  {
   "cell_type": "code",
   "execution_count": 68,
   "metadata": {},
   "outputs": [],
   "source": [
    "train_frames = [data1, data2, data3]\n",
    "test_frames = [data4, data5]\n",
    "train_data = pd.concat(train_frames)\n",
    "test_data = pd.concat(test_frames)\n",
    "train_data.drop([35,36,37], axis=1, inplace=True) # drop columns 35,36,37 they're all zeros\n",
    "test_data.drop([35,36,37], axis=1, inplace=True)\n",
    "train_data.columns = [i for i in range(train_data.shape[1])]\n",
    "test_data.columns = [i for i in range(test_data.shape[1])]\n",
    "train_data.rename(columns ={110: 'labels'}, inplace =True)\n",
    "test_data.rename(columns ={110: 'labels'}, inplace =True)"
   ]
  },
  {
   "cell_type": "code",
   "execution_count": 69,
   "metadata": {},
   "outputs": [
    {
     "name": "stdout",
     "output_type": "stream",
     "text": [
      "(65910, 111)\n"
     ]
    },
    {
     "data": {
      "text/html": [
       "<div>\n",
       "<style>\n",
       "    .dataframe thead tr:only-child th {\n",
       "        text-align: right;\n",
       "    }\n",
       "\n",
       "    .dataframe thead th {\n",
       "        text-align: left;\n",
       "    }\n",
       "\n",
       "    .dataframe tbody tr th {\n",
       "        vertical-align: top;\n",
       "    }\n",
       "</style>\n",
       "<table border=\"1\" class=\"dataframe\">\n",
       "  <thead>\n",
       "    <tr style=\"text-align: right;\">\n",
       "      <th></th>\n",
       "      <th>0</th>\n",
       "      <th>1</th>\n",
       "      <th>2</th>\n",
       "      <th>3</th>\n",
       "      <th>4</th>\n",
       "      <th>5</th>\n",
       "      <th>6</th>\n",
       "      <th>7</th>\n",
       "      <th>8</th>\n",
       "      <th>9</th>\n",
       "      <th>...</th>\n",
       "      <th>101</th>\n",
       "      <th>102</th>\n",
       "      <th>103</th>\n",
       "      <th>104</th>\n",
       "      <th>105</th>\n",
       "      <th>106</th>\n",
       "      <th>107</th>\n",
       "      <th>108</th>\n",
       "      <th>109</th>\n",
       "      <th>labels</th>\n",
       "    </tr>\n",
       "  </thead>\n",
       "  <tbody>\n",
       "    <tr>\n",
       "      <th>0</th>\n",
       "      <td>148.0</td>\n",
       "      <td>956.0</td>\n",
       "      <td>-358.0</td>\n",
       "      <td>19.0</td>\n",
       "      <td>986.0</td>\n",
       "      <td>196.0</td>\n",
       "      <td>95.0</td>\n",
       "      <td>975.0</td>\n",
       "      <td>152.0</td>\n",
       "      <td>194.0</td>\n",
       "      <td>...</td>\n",
       "      <td>319.0</td>\n",
       "      <td>-845.0</td>\n",
       "      <td>-20.0</td>\n",
       "      <td>57.0</td>\n",
       "      <td>42</td>\n",
       "      <td>57.0</td>\n",
       "      <td>20.0</td>\n",
       "      <td>42</td>\n",
       "      <td>175.0</td>\n",
       "      <td>1</td>\n",
       "    </tr>\n",
       "    <tr>\n",
       "      <th>1</th>\n",
       "      <td>89.0</td>\n",
       "      <td>973.0</td>\n",
       "      <td>-287.0</td>\n",
       "      <td>10.0</td>\n",
       "      <td>1004.0</td>\n",
       "      <td>162.0</td>\n",
       "      <td>125.0</td>\n",
       "      <td>968.0</td>\n",
       "      <td>122.0</td>\n",
       "      <td>224.0</td>\n",
       "      <td>...</td>\n",
       "      <td>325.0</td>\n",
       "      <td>-847.0</td>\n",
       "      <td>-17.0</td>\n",
       "      <td>38.0</td>\n",
       "      <td>31</td>\n",
       "      <td>38.0</td>\n",
       "      <td>17.0</td>\n",
       "      <td>31</td>\n",
       "      <td>175.0</td>\n",
       "      <td>1</td>\n",
       "    </tr>\n",
       "    <tr>\n",
       "      <th>2</th>\n",
       "      <td>130.0</td>\n",
       "      <td>988.0</td>\n",
       "      <td>-418.0</td>\n",
       "      <td>-11.0</td>\n",
       "      <td>1014.0</td>\n",
       "      <td>202.0</td>\n",
       "      <td>127.0</td>\n",
       "      <td>1002.0</td>\n",
       "      <td>113.0</td>\n",
       "      <td>279.0</td>\n",
       "      <td>...</td>\n",
       "      <td>328.0</td>\n",
       "      <td>-852.0</td>\n",
       "      <td>27.0</td>\n",
       "      <td>31.0</td>\n",
       "      <td>15</td>\n",
       "      <td>31.0</td>\n",
       "      <td>-27.0</td>\n",
       "      <td>15</td>\n",
       "      <td>175.0</td>\n",
       "      <td>1</td>\n",
       "    </tr>\n",
       "    <tr>\n",
       "      <th>3</th>\n",
       "      <td>89.0</td>\n",
       "      <td>980.0</td>\n",
       "      <td>-425.0</td>\n",
       "      <td>-47.0</td>\n",
       "      <td>1025.0</td>\n",
       "      <td>191.0</td>\n",
       "      <td>110.0</td>\n",
       "      <td>1006.0</td>\n",
       "      <td>105.0</td>\n",
       "      <td>353.0</td>\n",
       "      <td>...</td>\n",
       "      <td>321.0</td>\n",
       "      <td>-852.0</td>\n",
       "      <td>26.0</td>\n",
       "      <td>22.0</td>\n",
       "      <td>-2</td>\n",
       "      <td>22.0</td>\n",
       "      <td>-26.0</td>\n",
       "      <td>-2</td>\n",
       "      <td>175.0</td>\n",
       "      <td>1</td>\n",
       "    </tr>\n",
       "    <tr>\n",
       "      <th>4</th>\n",
       "      <td>64.0</td>\n",
       "      <td>857.0</td>\n",
       "      <td>-391.0</td>\n",
       "      <td>-8.0</td>\n",
       "      <td>1022.0</td>\n",
       "      <td>204.0</td>\n",
       "      <td>97.0</td>\n",
       "      <td>1002.0</td>\n",
       "      <td>93.0</td>\n",
       "      <td>548.0</td>\n",
       "      <td>...</td>\n",
       "      <td>321.0</td>\n",
       "      <td>-850.0</td>\n",
       "      <td>22.0</td>\n",
       "      <td>45.0</td>\n",
       "      <td>-7</td>\n",
       "      <td>45.0</td>\n",
       "      <td>-22.0</td>\n",
       "      <td>-7</td>\n",
       "      <td>175.0</td>\n",
       "      <td>1</td>\n",
       "    </tr>\n",
       "  </tbody>\n",
       "</table>\n",
       "<p>5 rows × 111 columns</p>\n",
       "</div>"
      ],
      "text/plain": [
       "       0      1      2     3       4      5      6       7      8      9  \\\n",
       "0  148.0  956.0 -358.0  19.0   986.0  196.0   95.0   975.0  152.0  194.0   \n",
       "1   89.0  973.0 -287.0  10.0  1004.0  162.0  125.0   968.0  122.0  224.0   \n",
       "2  130.0  988.0 -418.0 -11.0  1014.0  202.0  127.0  1002.0  113.0  279.0   \n",
       "3   89.0  980.0 -425.0 -47.0  1025.0  191.0  110.0  1006.0  105.0  353.0   \n",
       "4   64.0  857.0 -391.0  -8.0  1022.0  204.0   97.0  1002.0   93.0  548.0   \n",
       "\n",
       "    ...      101    102   103   104  105   106   107  108    109  labels  \n",
       "0   ...    319.0 -845.0 -20.0  57.0   42  57.0  20.0   42  175.0       1  \n",
       "1   ...    325.0 -847.0 -17.0  38.0   31  38.0  17.0   31  175.0       1  \n",
       "2   ...    328.0 -852.0  27.0  31.0   15  31.0 -27.0   15  175.0       1  \n",
       "3   ...    321.0 -852.0  26.0  22.0   -2  22.0 -26.0   -2  175.0       1  \n",
       "4   ...    321.0 -850.0  22.0  45.0   -7  45.0 -22.0   -7  175.0       1  \n",
       "\n",
       "[5 rows x 111 columns]"
      ]
     },
     "execution_count": 69,
     "metadata": {},
     "output_type": "execute_result"
    }
   ],
   "source": [
    "print(test_data.shape)\n",
    "train_data.head()"
   ]
  },
  {
   "cell_type": "code",
   "execution_count": 70,
   "metadata": {},
   "outputs": [
    {
     "name": "stdout",
     "output_type": "stream",
     "text": [
      "(116585, 5)\n",
      "(65910, 5)\n"
     ]
    }
   ],
   "source": [
    "scaled_train, scaled_test, train_labels, test_labels = prepare_data(train_data, test_data)"
   ]
  },
  {
   "cell_type": "code",
   "execution_count": 71,
   "metadata": {},
   "outputs": [
    {
     "name": "stdout",
     "output_type": "stream",
     "text": [
      "(116585, 110)\n",
      "(116585, 5)\n"
     ]
    }
   ],
   "source": [
    "print(scaled_train.shape)\n",
    "print(train_labels.shape)"
   ]
  },
  {
   "cell_type": "code",
   "execution_count": 75,
   "metadata": {},
   "outputs": [
    {
     "name": "stdout",
     "output_type": "stream",
     "text": [
      "33274\n"
     ]
    }
   ],
   "source": [
    "print(data3.shape[0])"
   ]
  },
  {
   "cell_type": "code",
   "execution_count": 83,
   "metadata": {},
   "outputs": [
    {
     "name": "stdout",
     "output_type": "stream",
     "text": [
      "51088\n",
      "32223\n",
      "33274\n",
      "Train data has been segmented\n",
      "32955\n",
      "32955\n",
      "Test data has been segmented\n"
     ]
    }
   ],
   "source": [
    "train_adls = [data1, data2, data3]\n",
    "test_adls = [data4, data5]\n",
    "win_size = 15\n",
    "classes = 5\n",
    "num_sensors = scaled_train.shape[1]\n",
    "\n",
    "train_segments = np.empty((0, win_size, num_sensors))\n",
    "train_segments_labels= np.empty((0, classes))\n",
    "last_idx = 0\n",
    "for adl in train_adls:\n",
    "\n",
    "    trainer_helper = trainerHelper(scaled_train[last_idx:last_idx+adl.shape[0]], train_labels[last_idx:last_idx+adl.shape[0]], win_size, num_sensors, classes)\n",
    "    segments, labels = trainer_helper.segment_data()\n",
    "    train_segments = np.vstack([train_segments, segments])\n",
    "    train_segments_labels = np.vstack([train_segments_labels, labels])\n",
    "    last_idx = adl.shape[0]\n",
    "\n",
    "print('Train data has been segmented')\n",
    "\n",
    "test_segments = np.empty((0, win_size, num_sensors))\n",
    "test_segments_labels= np.empty((0, classes))\n",
    "last_idx = 0\n",
    "for adl in test_adls:\n",
    "\n",
    "    trainer_helper = trainerHelper(scaled_test[last_idx:last_idx+adl.shape[0]], test_labels[last_idx:last_idx+adl.shape[0]], win_size, num_sensors, classes)\n",
    "    segments, labels = trainer_helper.segment_data()\n",
    "    test_segments = np.vstack([test_segments, segments])\n",
    "    test_segments_labels = np.vstack([test_segments_labels, labels])\n",
    "    last_idx = adl.shape[0]\n",
    "    \n",
    "print('Test data has been segmented')    "
   ]
  },
  {
   "cell_type": "code",
   "execution_count": 84,
   "metadata": {},
   "outputs": [
    {
     "data": {
      "text/plain": [
       "(15540, 15, 110)"
      ]
     },
     "execution_count": 84,
     "metadata": {},
     "output_type": "execute_result"
    }
   ],
   "source": [
    "train_segments.shape"
   ]
  },
  {
   "cell_type": "code",
   "execution_count": 85,
   "metadata": {},
   "outputs": [
    {
     "data": {
      "text/plain": [
       "(15540, 5)"
      ]
     },
     "execution_count": 85,
     "metadata": {},
     "output_type": "execute_result"
    }
   ],
   "source": [
    "train_segments_labels.shape"
   ]
  },
  {
   "cell_type": "code",
   "execution_count": 87,
   "metadata": {},
   "outputs": [],
   "source": [
    "reshaped_train = train_segments.transpose(0,2,1)\n",
    "reshaped_test = test_segments.transpose(0,2,1)"
   ]
  },
  {
   "cell_type": "code",
   "execution_count": 101,
   "metadata": {
    "collapsed": true
   },
   "outputs": [],
   "source": [
    "model = Sequential()\n",
    "kernel_height = 5\n",
    "inputshape = (num_sensors, win_size)\n",
    "validationRatio=0.8;"
   ]
  },
  {
   "cell_type": "code",
   "execution_count": 102,
   "metadata": {},
   "outputs": [],
   "source": [
    "model.add(Conv1D(64, kernel_size=kernel_height, strides=1,\n",
    "                 activation='relu',\n",
    "                 input_shape=inputshape))\n",
    "\n",
    "model.add(Conv1D(64, kernel_size=kernel_height, strides=1,\n",
    "                 activation='relu'))\n",
    "\n",
    "model.add(Conv1D(64, kernel_size=kernel_height, strides=1,\n",
    "                 activation='relu'))\n",
    "\n",
    "model.add(Conv1D(64, kernel_size=kernel_height, strides=1,\n",
    "                 activation='relu'))\n",
    "\n",
    "model.add(Dropout(0.5))\n",
    "\n",
    "model.add(CuDNNLSTM(128, return_sequences=True))\n",
    "\n",
    "model.add(Dropout(0.5))\n",
    "\n",
    "model.add(CuDNNLSTM(128, return_sequences=False))\n",
    "\n",
    "model.add(Dropout(0.5))\n",
    "\n",
    "model.add(Dense(classes, activation='softmax'))\n",
    "\n",
    "adam = optimizers.RMSprop(lr=0.001, decay=1e-6)\n",
    "model.compile(loss='categorical_crossentropy', optimizer=adam, metrics=['accuracy'])"
   ]
  },
  {
   "cell_type": "code",
   "execution_count": 103,
   "metadata": {},
   "outputs": [
    {
     "name": "stdout",
     "output_type": "stream",
     "text": [
      "conv1d_9\n",
      "conv1d_10\n",
      "conv1d_11\n",
      "conv1d_12\n",
      "dropout_7\n",
      "cu_dnnlstm_3\n",
      "dropout_8\n",
      "cu_dnnlstm_4\n",
      "dropout_9\n",
      "dense_3\n"
     ]
    }
   ],
   "source": [
    "for layer in model.layers:\n",
    "    print(layer.name)"
   ]
  },
  {
   "cell_type": "code",
   "execution_count": 104,
   "metadata": {},
   "outputs": [
    {
     "name": "stdout",
     "output_type": "stream",
     "text": [
      "Train on 12432 samples, validate on 3108 samples\n",
      "Epoch 1/50\n",
      "12432/12432 [==============================] - 8s 607us/step - loss: 1.4258 - acc: 0.3843 - val_loss: 1.7828 - val_acc: 0.1264\n",
      "Epoch 2/50\n",
      "12432/12432 [==============================] - 6s 454us/step - loss: 1.1370 - acc: 0.5049 - val_loss: 1.1014 - val_acc: 0.4215\n",
      "Epoch 3/50\n",
      "12432/12432 [==============================] - 6s 451us/step - loss: 0.8962 - acc: 0.5915 - val_loss: 1.0565 - val_acc: 0.4266\n",
      "Epoch 4/50\n",
      "12432/12432 [==============================] - 6s 454us/step - loss: 0.8596 - acc: 0.6108 - val_loss: 0.9929 - val_acc: 0.4804\n",
      "Epoch 5/50\n",
      "12432/12432 [==============================] - 6s 453us/step - loss: 0.7982 - acc: 0.6482 - val_loss: 0.9865 - val_acc: 0.5685\n",
      "Epoch 6/50\n",
      "12432/12432 [==============================] - 6s 452us/step - loss: 0.7257 - acc: 0.6931 - val_loss: 1.1616 - val_acc: 0.5354\n",
      "Epoch 7/50\n",
      "12432/12432 [==============================] - 6s 453us/step - loss: 0.6482 - acc: 0.7373 - val_loss: 0.9222 - val_acc: 0.6052\n",
      "Epoch 8/50\n",
      "12432/12432 [==============================] - 6s 453us/step - loss: 0.5541 - acc: 0.7843 - val_loss: 0.5993 - val_acc: 0.7703\n",
      "Epoch 9/50\n",
      "12432/12432 [==============================] - 6s 453us/step - loss: 0.4858 - acc: 0.8126 - val_loss: 0.7321 - val_acc: 0.7165\n",
      "Epoch 10/50\n",
      "12432/12432 [==============================] - 6s 452us/step - loss: 0.4457 - acc: 0.8334 - val_loss: 0.6101 - val_acc: 0.7429\n",
      "Epoch 11/50\n",
      "12432/12432 [==============================] - 6s 453us/step - loss: 0.4058 - acc: 0.8483 - val_loss: 0.5030 - val_acc: 0.8134\n",
      "Epoch 12/50\n",
      "12432/12432 [==============================] - 6s 456us/step - loss: 0.3848 - acc: 0.8560 - val_loss: 0.4602 - val_acc: 0.8089\n",
      "Epoch 13/50\n",
      "12432/12432 [==============================] - 6s 457us/step - loss: 0.3546 - acc: 0.8657 - val_loss: 0.4462 - val_acc: 0.8385\n",
      "Epoch 14/50\n",
      "12432/12432 [==============================] - 6s 455us/step - loss: 0.3312 - acc: 0.8788 - val_loss: 0.5096 - val_acc: 0.8166\n",
      "Epoch 15/50\n",
      "12432/12432 [==============================] - 6s 456us/step - loss: 0.3087 - acc: 0.8877 - val_loss: 0.4215 - val_acc: 0.8337\n",
      "Epoch 16/50\n",
      "12432/12432 [==============================] - 6s 457us/step - loss: 0.2919 - acc: 0.8947 - val_loss: 0.4892 - val_acc: 0.7995\n",
      "Epoch 17/50\n",
      "12432/12432 [==============================] - 6s 456us/step - loss: 0.2872 - acc: 0.8970 - val_loss: 0.5775 - val_acc: 0.7754\n",
      "Epoch 18/50\n",
      "12432/12432 [==============================] - 6s 456us/step - loss: 0.2693 - acc: 0.9023 - val_loss: 0.4055 - val_acc: 0.8533\n",
      "Epoch 19/50\n",
      "12432/12432 [==============================] - 6s 456us/step - loss: 0.2585 - acc: 0.9077 - val_loss: 0.3618 - val_acc: 0.8697\n",
      "Epoch 20/50\n",
      "12432/12432 [==============================] - 6s 456us/step - loss: 0.2499 - acc: 0.9134 - val_loss: 0.3120 - val_acc: 0.8871\n",
      "Epoch 21/50\n",
      "12432/12432 [==============================] - 6s 455us/step - loss: 0.2365 - acc: 0.9151 - val_loss: 0.3208 - val_acc: 0.8835\n",
      "Epoch 22/50\n",
      "12432/12432 [==============================] - 6s 458us/step - loss: 0.2318 - acc: 0.9195 - val_loss: 0.2580 - val_acc: 0.9067\n",
      "Epoch 23/50\n",
      "12432/12432 [==============================] - 6s 458us/step - loss: 0.2207 - acc: 0.9221 - val_loss: 0.2955 - val_acc: 0.8887\n",
      "Epoch 24/50\n",
      "12432/12432 [==============================] - 6s 459us/step - loss: 0.2125 - acc: 0.9263 - val_loss: 0.2231 - val_acc: 0.9160\n",
      "Epoch 25/50\n",
      "12432/12432 [==============================] - 6s 458us/step - loss: 0.2075 - acc: 0.9253 - val_loss: 0.8661 - val_acc: 0.7053\n",
      "Epoch 26/50\n",
      "12432/12432 [==============================] - 6s 457us/step - loss: 0.2124 - acc: 0.9290 - val_loss: 0.3380 - val_acc: 0.8810\n",
      "Epoch 27/50\n",
      "12432/12432 [==============================] - 6s 458us/step - loss: 0.1897 - acc: 0.9334 - val_loss: 0.2155 - val_acc: 0.9266\n",
      "Epoch 28/50\n",
      "12432/12432 [==============================] - 6s 458us/step - loss: 0.1861 - acc: 0.9365 - val_loss: 0.2789 - val_acc: 0.8900\n",
      "Epoch 29/50\n",
      "12432/12432 [==============================] - 6s 457us/step - loss: 0.1766 - acc: 0.9395 - val_loss: 0.2461 - val_acc: 0.9144\n",
      "Epoch 30/50\n",
      "12432/12432 [==============================] - 6s 458us/step - loss: 0.1778 - acc: 0.9361 - val_loss: 0.1998 - val_acc: 0.9337\n",
      "Epoch 31/50\n",
      "12432/12432 [==============================] - 6s 456us/step - loss: 0.1724 - acc: 0.9388 - val_loss: 0.1668 - val_acc: 0.9424\n",
      "Epoch 32/50\n",
      "12432/12432 [==============================] - 6s 455us/step - loss: 0.1609 - acc: 0.9431 - val_loss: 0.2072 - val_acc: 0.9315\n",
      "Epoch 33/50\n",
      "12432/12432 [==============================] - 6s 455us/step - loss: 0.1629 - acc: 0.9443 - val_loss: 0.1938 - val_acc: 0.9299\n",
      "Epoch 34/50\n",
      "12432/12432 [==============================] - 6s 455us/step - loss: 0.1573 - acc: 0.9443 - val_loss: 0.2094 - val_acc: 0.9373\n",
      "Epoch 35/50\n",
      "12432/12432 [==============================] - 6s 457us/step - loss: 0.1530 - acc: 0.9476 - val_loss: 0.2037 - val_acc: 0.9205\n",
      "Epoch 36/50\n",
      "12432/12432 [==============================] - 6s 457us/step - loss: 0.1510 - acc: 0.9488 - val_loss: 0.2245 - val_acc: 0.9228\n",
      "Epoch 37/50\n",
      "12432/12432 [==============================] - 6s 455us/step - loss: 0.1471 - acc: 0.9500 - val_loss: 0.2355 - val_acc: 0.9128\n",
      "Epoch 38/50\n",
      "12432/12432 [==============================] - 6s 456us/step - loss: 0.1437 - acc: 0.9516 - val_loss: 0.1710 - val_acc: 0.9437\n",
      "Epoch 39/50\n",
      "12432/12432 [==============================] - 6s 456us/step - loss: 0.1425 - acc: 0.9507 - val_loss: 0.1823 - val_acc: 0.9369\n",
      "Epoch 40/50\n",
      "12432/12432 [==============================] - 6s 455us/step - loss: 0.1363 - acc: 0.9542 - val_loss: 0.1884 - val_acc: 0.9376\n",
      "Epoch 41/50\n",
      "12432/12432 [==============================] - 6s 456us/step - loss: 0.1297 - acc: 0.9575 - val_loss: 0.1891 - val_acc: 0.9292\n",
      "Epoch 42/50\n",
      "12432/12432 [==============================] - 6s 455us/step - loss: 0.1309 - acc: 0.9548 - val_loss: 0.1628 - val_acc: 0.9408\n",
      "Epoch 43/50\n",
      "12432/12432 [==============================] - 6s 456us/step - loss: 0.1259 - acc: 0.9568 - val_loss: 0.1543 - val_acc: 0.9488\n",
      "Epoch 44/50\n",
      "12432/12432 [==============================] - 6s 457us/step - loss: 0.1263 - acc: 0.9587 - val_loss: 0.1300 - val_acc: 0.9540\n",
      "Epoch 45/50\n",
      "12432/12432 [==============================] - 6s 456us/step - loss: 0.1211 - acc: 0.9577 - val_loss: 0.1480 - val_acc: 0.9508\n",
      "Epoch 46/50\n",
      "12432/12432 [==============================] - 6s 456us/step - loss: 0.1201 - acc: 0.9590 - val_loss: 0.2993 - val_acc: 0.9147\n",
      "Epoch 47/50\n",
      "12432/12432 [==============================] - 6s 458us/step - loss: 0.1186 - acc: 0.9597 - val_loss: 0.1436 - val_acc: 0.9498\n",
      "Epoch 48/50\n",
      "12432/12432 [==============================] - 6s 454us/step - loss: 0.1143 - acc: 0.9607 - val_loss: 0.2169 - val_acc: 0.9183\n",
      "Epoch 49/50\n",
      "12432/12432 [==============================] - 6s 455us/step - loss: 0.1165 - acc: 0.9587 - val_loss: 0.1505 - val_acc: 0.9517\n",
      "Epoch 50/50\n",
      "12432/12432 [==============================] - 6s 453us/step - loss: 0.1097 - acc: 0.9632 - val_loss: 0.2424 - val_acc: 0.9205\n",
      "Calculating score.. \n",
      "8784/8784 [==============================] - 3s 350us/step\n",
      "[0.87653007126253712, 0.79485428051001816]\n"
     ]
    }
   ],
   "source": [
    "batchSize = 100\n",
    "\n",
    "model.fit(reshaped_train,train_segments_labels, validation_split=1-validationRatio,epochs=50,batch_size=batchSize,verbose=1)\n",
    "\n",
    "print('Calculating score.. ')\n",
    "score = model.evaluate(reshaped_test,test_segments_labels,verbose=1)\n",
    "print(score)\n",
    "model.save('CIP_ADL_CNN4_LSTM2_model.h5')"
   ]
  },
  {
   "cell_type": "code",
   "execution_count": 109,
   "metadata": {
    "collapsed": true
   },
   "outputs": [],
   "source": [
    "predictions = model.predict(reshaped_test)"
   ]
  },
  {
   "cell_type": "code",
   "execution_count": 110,
   "metadata": {},
   "outputs": [
    {
     "name": "stdout",
     "output_type": "stream",
     "text": [
      "0.7948542805100182\n"
     ]
    }
   ],
   "source": [
    "count = 0.0\n",
    "den = 0.0\n",
    "for pair in zip(predictions, test_segments_labels):\n",
    "    if np.argmax(pair[0]) == np.argmax(pair[1]):\n",
    "        count += 1.0\n",
    "    den += 1.0\n",
    "\n",
    "print(count / den)"
   ]
  },
  {
   "cell_type": "code",
   "execution_count": 38,
   "metadata": {
    "collapsed": true
   },
   "outputs": [],
   "source": [
    "pred_df = pd.DataFrame(predictions)\n",
    "pred_df.to_csv('preds_test.csv', header=False, index=False)"
   ]
  },
  {
   "cell_type": "code",
   "execution_count": 39,
   "metadata": {
    "collapsed": true
   },
   "outputs": [],
   "source": [
    "true_df = pd.DataFrame(testY)\n",
    "true_df.to_csv('true_test.csv', header=False, index=False)"
   ]
  },
  {
   "cell_type": "code",
   "execution_count": null,
   "metadata": {
    "collapsed": true
   },
   "outputs": [],
   "source": []
  }
 ],
 "metadata": {
  "kernelspec": {
   "display_name": "Python 3",
   "language": "python",
   "name": "python3"
  },
  "language_info": {
   "codemirror_mode": {
    "name": "ipython",
    "version": 3
   },
   "file_extension": ".py",
   "mimetype": "text/x-python",
   "name": "python",
   "nbconvert_exporter": "python",
   "pygments_lexer": "ipython3",
   "version": "3.5.4"
  }
 },
 "nbformat": 4,
 "nbformat_minor": 2
}
