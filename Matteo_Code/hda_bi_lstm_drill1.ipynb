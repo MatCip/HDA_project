{
 "cells": [
  {
   "cell_type": "code",
   "execution_count": 17,
   "metadata": {},
   "outputs": [],
   "source": [
    "import pandas as pd\n",
    "import numpy as np"
   ]
  },
  {
   "cell_type": "code",
   "execution_count": 18,
   "metadata": {},
   "outputs": [],
   "source": [
    "data = pd.read_csv(\"drill1Opportunity.csv\",header=None)"
   ]
  },
  {
   "cell_type": "code",
   "execution_count": 19,
   "metadata": {},
   "outputs": [
    {
     "data": {
      "text/html": [
       "<div>\n",
       "<style scoped>\n",
       "    .dataframe tbody tr th:only-of-type {\n",
       "        vertical-align: middle;\n",
       "    }\n",
       "\n",
       "    .dataframe tbody tr th {\n",
       "        vertical-align: top;\n",
       "    }\n",
       "\n",
       "    .dataframe thead th {\n",
       "        text-align: right;\n",
       "    }\n",
       "</style>\n",
       "<table border=\"1\" class=\"dataframe\">\n",
       "  <thead>\n",
       "    <tr style=\"text-align: right;\">\n",
       "      <th></th>\n",
       "      <th>0</th>\n",
       "      <th>1</th>\n",
       "      <th>2</th>\n",
       "      <th>3</th>\n",
       "      <th>4</th>\n",
       "      <th>5</th>\n",
       "      <th>6</th>\n",
       "      <th>7</th>\n",
       "      <th>8</th>\n",
       "      <th>9</th>\n",
       "      <th>...</th>\n",
       "      <th>101</th>\n",
       "      <th>102</th>\n",
       "      <th>103</th>\n",
       "      <th>104</th>\n",
       "      <th>105</th>\n",
       "      <th>106</th>\n",
       "      <th>107</th>\n",
       "      <th>108</th>\n",
       "      <th>109</th>\n",
       "      <th>labels</th>\n",
       "    </tr>\n",
       "  </thead>\n",
       "  <tbody>\n",
       "    <tr>\n",
       "      <th>0</th>\n",
       "      <td>20</td>\n",
       "      <td>1036</td>\n",
       "      <td>108</td>\n",
       "      <td>-197</td>\n",
       "      <td>974</td>\n",
       "      <td>254</td>\n",
       "      <td>-258</td>\n",
       "      <td>1052</td>\n",
       "      <td>-34</td>\n",
       "      <td>88</td>\n",
       "      <td>...</td>\n",
       "      <td>358</td>\n",
       "      <td>-821</td>\n",
       "      <td>69</td>\n",
       "      <td>79</td>\n",
       "      <td>13</td>\n",
       "      <td>79</td>\n",
       "      <td>-69</td>\n",
       "      <td>13</td>\n",
       "      <td>168</td>\n",
       "      <td>1</td>\n",
       "    </tr>\n",
       "    <tr>\n",
       "      <th>1</th>\n",
       "      <td>0</td>\n",
       "      <td>1038</td>\n",
       "      <td>92</td>\n",
       "      <td>-212</td>\n",
       "      <td>952</td>\n",
       "      <td>229</td>\n",
       "      <td>-250</td>\n",
       "      <td>1066</td>\n",
       "      <td>-22</td>\n",
       "      <td>98</td>\n",
       "      <td>...</td>\n",
       "      <td>363</td>\n",
       "      <td>-821</td>\n",
       "      <td>52</td>\n",
       "      <td>58</td>\n",
       "      <td>9</td>\n",
       "      <td>58</td>\n",
       "      <td>-52</td>\n",
       "      <td>9</td>\n",
       "      <td>168</td>\n",
       "      <td>1</td>\n",
       "    </tr>\n",
       "    <tr>\n",
       "      <th>2</th>\n",
       "      <td>67</td>\n",
       "      <td>1064</td>\n",
       "      <td>71</td>\n",
       "      <td>-224</td>\n",
       "      <td>983</td>\n",
       "      <td>218</td>\n",
       "      <td>-162</td>\n",
       "      <td>1041</td>\n",
       "      <td>-80</td>\n",
       "      <td>113</td>\n",
       "      <td>...</td>\n",
       "      <td>359</td>\n",
       "      <td>-814</td>\n",
       "      <td>28</td>\n",
       "      <td>19</td>\n",
       "      <td>10</td>\n",
       "      <td>19</td>\n",
       "      <td>-28</td>\n",
       "      <td>10</td>\n",
       "      <td>168</td>\n",
       "      <td>1</td>\n",
       "    </tr>\n",
       "    <tr>\n",
       "      <th>3</th>\n",
       "      <td>48</td>\n",
       "      <td>1056</td>\n",
       "      <td>20</td>\n",
       "      <td>-207</td>\n",
       "      <td>983</td>\n",
       "      <td>196</td>\n",
       "      <td>-146</td>\n",
       "      <td>1004</td>\n",
       "      <td>-12</td>\n",
       "      <td>143</td>\n",
       "      <td>...</td>\n",
       "      <td>354</td>\n",
       "      <td>-810</td>\n",
       "      <td>12</td>\n",
       "      <td>50</td>\n",
       "      <td>-16</td>\n",
       "      <td>50</td>\n",
       "      <td>-12</td>\n",
       "      <td>-16</td>\n",
       "      <td>168</td>\n",
       "      <td>1</td>\n",
       "    </tr>\n",
       "    <tr>\n",
       "      <th>4</th>\n",
       "      <td>61</td>\n",
       "      <td>1058</td>\n",
       "      <td>9</td>\n",
       "      <td>-190</td>\n",
       "      <td>979</td>\n",
       "      <td>192</td>\n",
       "      <td>-257</td>\n",
       "      <td>962</td>\n",
       "      <td>-13</td>\n",
       "      <td>181</td>\n",
       "      <td>...</td>\n",
       "      <td>359</td>\n",
       "      <td>-820</td>\n",
       "      <td>-4</td>\n",
       "      <td>19</td>\n",
       "      <td>3</td>\n",
       "      <td>19</td>\n",
       "      <td>4</td>\n",
       "      <td>3</td>\n",
       "      <td>168</td>\n",
       "      <td>1</td>\n",
       "    </tr>\n",
       "  </tbody>\n",
       "</table>\n",
       "<p>5 rows × 111 columns</p>\n",
       "</div>"
      ],
      "text/plain": [
       "    0     1    2    3    4    5    6     7   8    9   ...    101  102  103  \\\n",
       "0  20  1036  108 -197  974  254 -258  1052 -34   88   ...    358 -821   69   \n",
       "1   0  1038   92 -212  952  229 -250  1066 -22   98   ...    363 -821   52   \n",
       "2  67  1064   71 -224  983  218 -162  1041 -80  113   ...    359 -814   28   \n",
       "3  48  1056   20 -207  983  196 -146  1004 -12  143   ...    354 -810   12   \n",
       "4  61  1058    9 -190  979  192 -257   962 -13  181   ...    359 -820   -4   \n",
       "\n",
       "   104  105  106  107  108  109  labels  \n",
       "0   79   13   79  -69   13  168       1  \n",
       "1   58    9   58  -52    9  168       1  \n",
       "2   19   10   19  -28   10  168       1  \n",
       "3   50  -16   50  -12  -16  168       1  \n",
       "4   19    3   19    4    3  168       1  \n",
       "\n",
       "[5 rows x 111 columns]"
      ]
     },
     "execution_count": 19,
     "metadata": {},
     "output_type": "execute_result"
    }
   ],
   "source": [
    "data.rename(columns ={110: 'labels'}, inplace =True)\n",
    "data.head()"
   ]
  },
  {
   "cell_type": "code",
   "execution_count": 20,
   "metadata": {},
   "outputs": [
    {
     "name": "stdout",
     "output_type": "stream",
     "text": [
      "<class 'pandas.core.frame.DataFrame'>\n",
      "RangeIndex: 54915 entries, 0 to 54914\n",
      "Columns: 111 entries, 0 to labels\n",
      "dtypes: int64(111)\n",
      "memory usage: 46.5 MB\n"
     ]
    }
   ],
   "source": [
    "data.info()"
   ]
  },
  {
   "cell_type": "code",
   "execution_count": 21,
   "metadata": {},
   "outputs": [],
   "source": [
    "from sklearn.preprocessing import OneHotEncoder"
   ]
  },
  {
   "cell_type": "code",
   "execution_count": 22,
   "metadata": {},
   "outputs": [],
   "source": [
    "encoder = OneHotEncoder()"
   ]
  },
  {
   "cell_type": "code",
   "execution_count": 23,
   "metadata": {},
   "outputs": [
    {
     "data": {
      "text/plain": [
       "(54915, 18)"
      ]
     },
     "execution_count": 23,
     "metadata": {},
     "output_type": "execute_result"
    }
   ],
   "source": [
    "one_hot_labels = encoder.fit_transform(data['labels'].values.reshape(-1,1)).toarray()\n",
    "one_hot_labels.shape"
   ]
  },
  {
   "cell_type": "code",
   "execution_count": 24,
   "metadata": {},
   "outputs": [
    {
     "data": {
      "text/html": [
       "<div>\n",
       "<style scoped>\n",
       "    .dataframe tbody tr th:only-of-type {\n",
       "        vertical-align: middle;\n",
       "    }\n",
       "\n",
       "    .dataframe tbody tr th {\n",
       "        vertical-align: top;\n",
       "    }\n",
       "\n",
       "    .dataframe thead th {\n",
       "        text-align: right;\n",
       "    }\n",
       "</style>\n",
       "<table border=\"1\" class=\"dataframe\">\n",
       "  <thead>\n",
       "    <tr style=\"text-align: right;\">\n",
       "      <th></th>\n",
       "      <th>0</th>\n",
       "      <th>1</th>\n",
       "      <th>2</th>\n",
       "      <th>3</th>\n",
       "      <th>4</th>\n",
       "      <th>5</th>\n",
       "      <th>6</th>\n",
       "      <th>7</th>\n",
       "      <th>8</th>\n",
       "      <th>9</th>\n",
       "      <th>...</th>\n",
       "      <th>101</th>\n",
       "      <th>102</th>\n",
       "      <th>103</th>\n",
       "      <th>104</th>\n",
       "      <th>105</th>\n",
       "      <th>106</th>\n",
       "      <th>107</th>\n",
       "      <th>108</th>\n",
       "      <th>109</th>\n",
       "      <th>labels</th>\n",
       "    </tr>\n",
       "  </thead>\n",
       "  <tbody>\n",
       "    <tr>\n",
       "      <th>0</th>\n",
       "      <td>20</td>\n",
       "      <td>1036</td>\n",
       "      <td>108</td>\n",
       "      <td>-197</td>\n",
       "      <td>974</td>\n",
       "      <td>254</td>\n",
       "      <td>-258</td>\n",
       "      <td>1052</td>\n",
       "      <td>-34</td>\n",
       "      <td>88</td>\n",
       "      <td>...</td>\n",
       "      <td>358</td>\n",
       "      <td>-821</td>\n",
       "      <td>69</td>\n",
       "      <td>79</td>\n",
       "      <td>13</td>\n",
       "      <td>79</td>\n",
       "      <td>-69</td>\n",
       "      <td>13</td>\n",
       "      <td>168</td>\n",
       "      <td>1</td>\n",
       "    </tr>\n",
       "    <tr>\n",
       "      <th>1</th>\n",
       "      <td>0</td>\n",
       "      <td>1038</td>\n",
       "      <td>92</td>\n",
       "      <td>-212</td>\n",
       "      <td>952</td>\n",
       "      <td>229</td>\n",
       "      <td>-250</td>\n",
       "      <td>1066</td>\n",
       "      <td>-22</td>\n",
       "      <td>98</td>\n",
       "      <td>...</td>\n",
       "      <td>363</td>\n",
       "      <td>-821</td>\n",
       "      <td>52</td>\n",
       "      <td>58</td>\n",
       "      <td>9</td>\n",
       "      <td>58</td>\n",
       "      <td>-52</td>\n",
       "      <td>9</td>\n",
       "      <td>168</td>\n",
       "      <td>1</td>\n",
       "    </tr>\n",
       "    <tr>\n",
       "      <th>2</th>\n",
       "      <td>67</td>\n",
       "      <td>1064</td>\n",
       "      <td>71</td>\n",
       "      <td>-224</td>\n",
       "      <td>983</td>\n",
       "      <td>218</td>\n",
       "      <td>-162</td>\n",
       "      <td>1041</td>\n",
       "      <td>-80</td>\n",
       "      <td>113</td>\n",
       "      <td>...</td>\n",
       "      <td>359</td>\n",
       "      <td>-814</td>\n",
       "      <td>28</td>\n",
       "      <td>19</td>\n",
       "      <td>10</td>\n",
       "      <td>19</td>\n",
       "      <td>-28</td>\n",
       "      <td>10</td>\n",
       "      <td>168</td>\n",
       "      <td>1</td>\n",
       "    </tr>\n",
       "    <tr>\n",
       "      <th>3</th>\n",
       "      <td>48</td>\n",
       "      <td>1056</td>\n",
       "      <td>20</td>\n",
       "      <td>-207</td>\n",
       "      <td>983</td>\n",
       "      <td>196</td>\n",
       "      <td>-146</td>\n",
       "      <td>1004</td>\n",
       "      <td>-12</td>\n",
       "      <td>143</td>\n",
       "      <td>...</td>\n",
       "      <td>354</td>\n",
       "      <td>-810</td>\n",
       "      <td>12</td>\n",
       "      <td>50</td>\n",
       "      <td>-16</td>\n",
       "      <td>50</td>\n",
       "      <td>-12</td>\n",
       "      <td>-16</td>\n",
       "      <td>168</td>\n",
       "      <td>1</td>\n",
       "    </tr>\n",
       "    <tr>\n",
       "      <th>4</th>\n",
       "      <td>61</td>\n",
       "      <td>1058</td>\n",
       "      <td>9</td>\n",
       "      <td>-190</td>\n",
       "      <td>979</td>\n",
       "      <td>192</td>\n",
       "      <td>-257</td>\n",
       "      <td>962</td>\n",
       "      <td>-13</td>\n",
       "      <td>181</td>\n",
       "      <td>...</td>\n",
       "      <td>359</td>\n",
       "      <td>-820</td>\n",
       "      <td>-4</td>\n",
       "      <td>19</td>\n",
       "      <td>3</td>\n",
       "      <td>19</td>\n",
       "      <td>4</td>\n",
       "      <td>3</td>\n",
       "      <td>168</td>\n",
       "      <td>1</td>\n",
       "    </tr>\n",
       "  </tbody>\n",
       "</table>\n",
       "<p>5 rows × 111 columns</p>\n",
       "</div>"
      ],
      "text/plain": [
       "    0     1    2    3    4    5    6     7   8    9   ...    101  102  103  \\\n",
       "0  20  1036  108 -197  974  254 -258  1052 -34   88   ...    358 -821   69   \n",
       "1   0  1038   92 -212  952  229 -250  1066 -22   98   ...    363 -821   52   \n",
       "2  67  1064   71 -224  983  218 -162  1041 -80  113   ...    359 -814   28   \n",
       "3  48  1056   20 -207  983  196 -146  1004 -12  143   ...    354 -810   12   \n",
       "4  61  1058    9 -190  979  192 -257   962 -13  181   ...    359 -820   -4   \n",
       "\n",
       "   104  105  106  107  108  109  labels  \n",
       "0   79   13   79  -69   13  168       1  \n",
       "1   58    9   58  -52    9  168       1  \n",
       "2   19   10   19  -28   10  168       1  \n",
       "3   50  -16   50  -12  -16  168       1  \n",
       "4   19    3   19    4    3  168       1  \n",
       "\n",
       "[5 rows x 111 columns]"
      ]
     },
     "execution_count": 24,
     "metadata": {},
     "output_type": "execute_result"
    }
   ],
   "source": [
    "data.head()"
   ]
  },
  {
   "cell_type": "code",
   "execution_count": 25,
   "metadata": {},
   "outputs": [
    {
     "name": "stdout",
     "output_type": "stream",
     "text": [
      "54915\n",
      "(43932, 110)\n",
      "(10983, 110)\n",
      "(43932, 18)\n",
      "(10983, 18)\n"
     ]
    }
   ],
   "source": [
    "# split between train and test sets: 80% train, 20% test\n",
    "data.drop(['labels'], 1, inplace=True)\n",
    "train_size = int(len(data)/100*80)\n",
    "train_data = data[0:train_size]\n",
    "test_data = data[train_size:len(data)]\n",
    "print(len(data))\n",
    "print(train_data.shape)\n",
    "print(test_data.shape)\n",
    "train_labels = one_hot_labels[0:train_size]\n",
    "test_labels = one_hot_labels[train_size:len(data)]\n",
    "print(train_labels.shape)\n",
    "print(test_labels.shape)\n",
    "step_size = 24\n",
    "sensors = 110;\n",
    "num_classes = 18"
   ]
  },
  {
   "cell_type": "code",
   "execution_count": 26,
   "metadata": {},
   "outputs": [],
   "source": [
    "from sklearn.preprocessing import MinMaxScaler\n",
    "scaler = MinMaxScaler()\n",
    "scaled_train_data = scaler.fit_transform(train_data)\n",
    "scaled_test_data = scaler.transform(test_data)"
   ]
  },
  {
   "cell_type": "code",
   "execution_count": 27,
   "metadata": {},
   "outputs": [],
   "source": [
    "class trainerHelper():\n",
    "    \n",
    "    def __init__(self, train_data,test_data, train_labels, test_labels, win_size, num_sensor_data, classes):\n",
    "        self.train_data = train_data\n",
    "        self.test_data = test_data\n",
    "        self.train_labels = train_labels\n",
    "        self.test_labels = test_labels\n",
    "        self.win_size = win_size\n",
    "        self.sensor_data = num_sensor_data\n",
    "        self.num_classes = classes\n",
    "        self.tot_train_windows = int(len(self.train_data) / self.win_size)\n",
    "        self.tot_test_windows = int(len(self.test_data) / self.win_size)\n",
    "        self.train_count = 0\n",
    "        self.test_count = 0\n",
    "\n",
    "    def get_train_batch(self):\n",
    "\n",
    "        batch_x = self.train_data[self.train_count*self.win_size:(self.train_count+1)*self.win_size,:]\n",
    "        batch_y = self.train_labels[self.train_count*self.win_size:(self.train_count+1)*self.win_size,:]\n",
    "        self.train_count += 1\n",
    "        if self.train_count == self.tot_train_windows:\n",
    "            self.train_count = 0\n",
    "        \n",
    "        return batch_x.reshape(-1, self.win_size,self.sensor_data), batch_y[-1].reshape(-1, self.num_classes)\n",
    "    \n",
    "    def get_test_batch(self):\n",
    "\n",
    "        batch_x = self.test_data[self.test_count*self.win_size:(self.test_count+1)*self.win_size,:]\n",
    "        batch_y = self.test_labels[self.test_count*self.win_size:(self.test_count+1)*self.win_size,:]\n",
    "        self.test_count += 1\n",
    "        if self.test_count == self.tot_test_windows:\n",
    "            self.test_count = 0\n",
    "        \n",
    "        return batch_x.reshape(-1, self.win_size,self.sensor_data), batch_y[-1].reshape(-1, self.num_classes)\n",
    "        "
   ]
  },
  {
   "cell_type": "code",
   "execution_count": 28,
   "metadata": {},
   "outputs": [],
   "source": [
    "train_helper = trainerHelper(scaled_train_data, scaled_test_data, train_labels, test_labels, step_size,\n",
    "                             sensors, num_classes)\n",
    "new_train_helper = trainerHelper(scaled_train_data, scaled_test_data, train_labels, test_labels, step_size,\n",
    "                                 sensors, num_classes)"
   ]
  },
  {
   "cell_type": "code",
   "execution_count": 30,
   "metadata": {},
   "outputs": [
    {
     "name": "stdout",
     "output_type": "stream",
     "text": [
      "(1, 24, 110)\n"
     ]
    }
   ],
   "source": [
    "batch_train, y_train = train_helper.get_train_batch()\n",
    "print(batch_train.shape)\n"
   ]
  },
  {
   "cell_type": "code",
   "execution_count": 31,
   "metadata": {},
   "outputs": [],
   "source": [
    "# NETWORK ARCHITECTURE\n",
    "import tensorflow as tf\n",
    "tf.reset_default_graph()"
   ]
  },
  {
   "cell_type": "code",
   "execution_count": 32,
   "metadata": {},
   "outputs": [],
   "source": [
    "window_size = 24\n",
    "num_sensor_data = 110\n",
    "number_classes = 18\n",
    "num_units = [window_size, window_size, window_size]"
   ]
  },
  {
   "cell_type": "code",
   "execution_count": 33,
   "metadata": {},
   "outputs": [],
   "source": [
    "win_size = tf.constant(24, dtype=tf.float32)"
   ]
  },
  {
   "cell_type": "code",
   "execution_count": 37,
   "metadata": {},
   "outputs": [],
   "source": [
    "# PLACEHOLDERS\n",
    "X = tf.placeholder(tf.float32, shape=[None,window_size,num_sensor_data])\n",
    "y = tf.placeholder(tf.float32, shape=[None, number_classes])\n",
    "hold_prob = tf.placeholder(tf.float32);"
   ]
  },
  {
   "cell_type": "code",
   "execution_count": 38,
   "metadata": {},
   "outputs": [],
   "source": [
    "def LSTM_with_Dropout(num_units, hold):\n",
    "    _cell = tf.nn.rnn_cell.LSTMCell(num_units)\n",
    "    _cell = tf.contrib.rnn.DropoutWrapper(_cell, output_keep_prob = hold)\n",
    "    \n",
    "    return _cell"
   ]
  },
  {
   "cell_type": "code",
   "execution_count": 39,
   "metadata": {},
   "outputs": [
    {
     "ename": "AttributeError",
     "evalue": "module 'tensorflow.python.ops.nn' has no attribute 'rnn_cell'",
     "output_type": "error",
     "traceback": [
      "\u001b[0;31m---------------------------------------------------------------------------\u001b[0m",
      "\u001b[0;31mAttributeError\u001b[0m                            Traceback (most recent call last)",
      "\u001b[0;32m<ipython-input-39-0fc4f1012f5e>\u001b[0m in \u001b[0;36m<module>\u001b[0;34m()\u001b[0m\n\u001b[0;32m----> 1\u001b[0;31m \u001b[0mfw_cell\u001b[0m \u001b[0;34m=\u001b[0m \u001b[0;34m[\u001b[0m\u001b[0mLSTM_with_Dropout\u001b[0m\u001b[0;34m(\u001b[0m\u001b[0mn\u001b[0m\u001b[0;34m,\u001b[0m \u001b[0mhold_prob\u001b[0m\u001b[0;34m)\u001b[0m \u001b[0;32mfor\u001b[0m \u001b[0mn\u001b[0m \u001b[0;32min\u001b[0m \u001b[0mnum_units\u001b[0m\u001b[0;34m]\u001b[0m\u001b[0;34m\u001b[0m\u001b[0m\n\u001b[0m\u001b[1;32m      2\u001b[0m \u001b[0mbw_cell\u001b[0m \u001b[0;34m=\u001b[0m \u001b[0;34m[\u001b[0m\u001b[0mLSTM_with_Dropout\u001b[0m\u001b[0;34m(\u001b[0m\u001b[0mn\u001b[0m\u001b[0;34m,\u001b[0m \u001b[0mhold_prob\u001b[0m\u001b[0;34m)\u001b[0m \u001b[0;32mfor\u001b[0m \u001b[0mn\u001b[0m \u001b[0;32min\u001b[0m \u001b[0mnum_units\u001b[0m\u001b[0;34m]\u001b[0m\u001b[0;34m\u001b[0m\u001b[0m\n",
      "\u001b[0;32m<ipython-input-39-0fc4f1012f5e>\u001b[0m in \u001b[0;36m<listcomp>\u001b[0;34m(.0)\u001b[0m\n\u001b[0;32m----> 1\u001b[0;31m \u001b[0mfw_cell\u001b[0m \u001b[0;34m=\u001b[0m \u001b[0;34m[\u001b[0m\u001b[0mLSTM_with_Dropout\u001b[0m\u001b[0;34m(\u001b[0m\u001b[0mn\u001b[0m\u001b[0;34m,\u001b[0m \u001b[0mhold_prob\u001b[0m\u001b[0;34m)\u001b[0m \u001b[0;32mfor\u001b[0m \u001b[0mn\u001b[0m \u001b[0;32min\u001b[0m \u001b[0mnum_units\u001b[0m\u001b[0;34m]\u001b[0m\u001b[0;34m\u001b[0m\u001b[0m\n\u001b[0m\u001b[1;32m      2\u001b[0m \u001b[0mbw_cell\u001b[0m \u001b[0;34m=\u001b[0m \u001b[0;34m[\u001b[0m\u001b[0mLSTM_with_Dropout\u001b[0m\u001b[0;34m(\u001b[0m\u001b[0mn\u001b[0m\u001b[0;34m,\u001b[0m \u001b[0mhold_prob\u001b[0m\u001b[0;34m)\u001b[0m \u001b[0;32mfor\u001b[0m \u001b[0mn\u001b[0m \u001b[0;32min\u001b[0m \u001b[0mnum_units\u001b[0m\u001b[0;34m]\u001b[0m\u001b[0;34m\u001b[0m\u001b[0m\n",
      "\u001b[0;32m<ipython-input-38-286c39864ff0>\u001b[0m in \u001b[0;36mLSTM_with_Dropout\u001b[0;34m(num_units, hold)\u001b[0m\n\u001b[1;32m      1\u001b[0m \u001b[0;32mdef\u001b[0m \u001b[0mLSTM_with_Dropout\u001b[0m\u001b[0;34m(\u001b[0m\u001b[0mnum_units\u001b[0m\u001b[0;34m,\u001b[0m \u001b[0mhold\u001b[0m\u001b[0;34m)\u001b[0m\u001b[0;34m:\u001b[0m\u001b[0;34m\u001b[0m\u001b[0m\n\u001b[0;32m----> 2\u001b[0;31m     \u001b[0m_cell\u001b[0m \u001b[0;34m=\u001b[0m \u001b[0mtf\u001b[0m\u001b[0;34m.\u001b[0m\u001b[0mnn\u001b[0m\u001b[0;34m.\u001b[0m\u001b[0mrnn_cell\u001b[0m\u001b[0;34m.\u001b[0m\u001b[0mLSTMCell\u001b[0m\u001b[0;34m(\u001b[0m\u001b[0mnum_units\u001b[0m\u001b[0;34m)\u001b[0m\u001b[0;34m\u001b[0m\u001b[0m\n\u001b[0m\u001b[1;32m      3\u001b[0m     \u001b[0m_cell\u001b[0m \u001b[0;34m=\u001b[0m \u001b[0mtf\u001b[0m\u001b[0;34m.\u001b[0m\u001b[0mcontrib\u001b[0m\u001b[0;34m.\u001b[0m\u001b[0mrnn\u001b[0m\u001b[0;34m.\u001b[0m\u001b[0mDropoutWrapper\u001b[0m\u001b[0;34m(\u001b[0m\u001b[0m_cell\u001b[0m\u001b[0;34m,\u001b[0m \u001b[0moutput_keep_prob\u001b[0m \u001b[0;34m=\u001b[0m \u001b[0mhold\u001b[0m\u001b[0;34m)\u001b[0m\u001b[0;34m\u001b[0m\u001b[0m\n\u001b[1;32m      4\u001b[0m \u001b[0;34m\u001b[0m\u001b[0m\n\u001b[1;32m      5\u001b[0m     \u001b[0;32mreturn\u001b[0m \u001b[0m_cell\u001b[0m\u001b[0;34m\u001b[0m\u001b[0m\n",
      "\u001b[0;31mAttributeError\u001b[0m: module 'tensorflow.python.ops.nn' has no attribute 'rnn_cell'"
     ]
    }
   ],
   "source": [
    "fw_cell = [LSTM_with_Dropout(n, hold_prob) for n in num_units]\n",
    "bw_cell = [LSTM_with_Dropout(n, hold_prob) for n in num_units]"
   ]
  },
  {
   "cell_type": "code",
   "execution_count": 40,
   "metadata": {
    "scrolled": true
   },
   "outputs": [
    {
     "ename": "NameError",
     "evalue": "name 'fw_cell' is not defined",
     "output_type": "error",
     "traceback": [
      "\u001b[0;31m---------------------------------------------------------------------------\u001b[0m",
      "\u001b[0;31mNameError\u001b[0m                                 Traceback (most recent call last)",
      "\u001b[0;32m<ipython-input-40-80569f6269fb>\u001b[0m in \u001b[0;36m<module>\u001b[0;34m()\u001b[0m\n\u001b[0;32m----> 1\u001b[0;31m \u001b[0mbidi_output\u001b[0m\u001b[0;34m,\u001b[0m \u001b[0m_\u001b[0m \u001b[0;34m,\u001b[0m \u001b[0m_\u001b[0m \u001b[0;34m=\u001b[0m \u001b[0mtf\u001b[0m\u001b[0;34m.\u001b[0m\u001b[0mcontrib\u001b[0m\u001b[0;34m.\u001b[0m\u001b[0mrnn\u001b[0m\u001b[0;34m.\u001b[0m\u001b[0mstack_bidirectional_rnn\u001b[0m\u001b[0;34m(\u001b[0m\u001b[0mfw_cell\u001b[0m\u001b[0;34m,\u001b[0m \u001b[0mbw_cell\u001b[0m\u001b[0;34m,\u001b[0m \u001b[0mtf\u001b[0m\u001b[0;34m.\u001b[0m\u001b[0munstack\u001b[0m\u001b[0;34m(\u001b[0m\u001b[0mX\u001b[0m\u001b[0;34m,\u001b[0m\u001b[0mnum_sensor_data\u001b[0m\u001b[0;34m,\u001b[0m\u001b[0;36m2\u001b[0m\u001b[0;34m)\u001b[0m\u001b[0;34m,\u001b[0m \u001b[0mdtype\u001b[0m\u001b[0;34m=\u001b[0m\u001b[0mtf\u001b[0m\u001b[0;34m.\u001b[0m\u001b[0mfloat32\u001b[0m\u001b[0;34m)\u001b[0m\u001b[0;34m\u001b[0m\u001b[0m\n\u001b[0m",
      "\u001b[0;31mNameError\u001b[0m: name 'fw_cell' is not defined"
     ]
    }
   ],
   "source": [
    "bidi_output, _ , _ = tf.contrib.rnn.stack_bidirectional_rnn(fw_cell, bw_cell, tf.unstack(X,num_sensor_data,2), dtype=tf.float32)"
   ]
  },
  {
   "cell_type": "code",
   "execution_count": 70,
   "metadata": {},
   "outputs": [
    {
     "name": "stdout",
     "output_type": "stream",
     "text": [
      "Tensor(\"Reshape:0\", shape=(?, 5280), dtype=float32)\n"
     ]
    }
   ],
   "source": [
    "#fusion_output = tf.convert_to_tensor([tf.reduce_sum(t) / win_size for t in bidi_output])\n",
    "fusion_output_1 = tf.reshape(bidi_output, shape=[-1, num_sensor_data*window_size*2])\n",
    "print(fusion_output_1)"
   ]
  },
  {
   "cell_type": "code",
   "execution_count": 71,
   "metadata": {
    "collapsed": true
   },
   "outputs": [],
   "source": [
    "dense_output1 = tf.contrib.layers.fully_connected(fusion_output_1, 2640, activation_fn=tf.nn.relu)"
   ]
  },
  {
   "cell_type": "code",
   "execution_count": 72,
   "metadata": {
    "collapsed": true
   },
   "outputs": [],
   "source": [
    "dense_output2 = tf.contrib.layers.fully_connected(dense_output1, 1320, activation_fn=tf.nn.relu)"
   ]
  },
  {
   "cell_type": "code",
   "execution_count": 73,
   "metadata": {
    "collapsed": true
   },
   "outputs": [],
   "source": [
    "dense_output3 = tf.contrib.layers.fully_connected(dense_output2, 18, activation_fn=tf.nn.softmax)"
   ]
  },
  {
   "cell_type": "code",
   "execution_count": 78,
   "metadata": {
    "collapsed": true
   },
   "outputs": [],
   "source": [
    "cross_entropy = tf.reduce_mean(tf.squared_difference(y, dense_output3))"
   ]
  },
  {
   "cell_type": "code",
   "execution_count": 86,
   "metadata": {
    "collapsed": true
   },
   "outputs": [],
   "source": [
    "optimizer = tf.train.AdamOptimizer(learning_rate=0.001)\n",
    "train = optimizer.minimize(cross_entropy)"
   ]
  },
  {
   "cell_type": "code",
   "execution_count": 87,
   "metadata": {
    "collapsed": true
   },
   "outputs": [],
   "source": [
    "init = tf.global_variables_initializer()"
   ]
  },
  {
   "cell_type": "code",
   "execution_count": null,
   "metadata": {},
   "outputs": [],
   "source": [
    "# model saver"
   ]
  },
  {
   "cell_type": "code",
   "execution_count": 89,
   "metadata": {},
   "outputs": [
    {
     "name": "stdout",
     "output_type": "stream",
     "text": [
      "Training is on step 0\n",
      "Training is on step 100\n",
      "Training is on step 200\n",
      "Training is on step 300\n",
      "Training is on step 400\n",
      "Training is on step 500\n",
      "Training is on step 600\n",
      "Training is on step 700\n",
      "Training is on step 800\n",
      "Training is on step 900\n",
      "Training is on step 1000\n",
      "Training is on step 1100\n",
      "Training is on step 1200\n",
      "Training is on step 1300\n",
      "Training is on step 1400\n",
      "Training is on step 1500\n",
      "Training is on step 1600\n",
      "Training is on step 1700\n",
      "Training is on step 1800\n",
      "Training is on step 1900\n",
      "Training is on step 2000\n",
      "Training is on step 2100\n",
      "Training is on step 2200\n",
      "Training is on step 2300\n",
      "Training is on step 2400\n",
      "Training is on step 2500\n",
      "Training is on step 2600\n",
      "Training is on step 2700\n",
      "Training is on step 2800\n",
      "Training is on step 2900\n",
      "Training is on step 3000\n",
      "Training is on step 3100\n",
      "Training is on step 3200\n",
      "Training is on step 3300\n",
      "Training is on step 3400\n",
      "Training is on step 3500\n",
      "Training is on step 3600\n",
      "Training is on step 3700\n",
      "Training is on step 3800\n",
      "Training is on step 3900\n",
      "Training is on step 4000\n",
      "Training is on step 4100\n",
      "Training is on step 4200\n",
      "Training is on step 4300\n",
      "Training is on step 4400\n",
      "Training is on step 4500\n",
      "Training is on step 4600\n",
      "Training is on step 4700\n",
      "Training is on step 4800\n",
      "Training is on step 4900\n",
      "Training is on step 5000\n",
      "Training is on step 5100\n",
      "Training is on step 5200\n",
      "Training is on step 5300\n",
      "Training is on step 5400\n",
      "Training is on step 5500\n",
      "Training is on step 5600\n",
      "Training is on step 5700\n",
      "Training is on step 5800\n",
      "Training is on step 5900\n",
      "Training is on step 6000\n",
      "Training is on step 6100\n",
      "Training is on step 6200\n",
      "Training is on step 6300\n",
      "Training is on step 6400\n",
      "Training is on step 6500\n",
      "Training is on step 6600\n",
      "Training is on step 6700\n",
      "Training is on step 6800\n",
      "Training is on step 6900\n",
      "Training is on step 7000\n",
      "Training is on step 7100\n",
      "Training is on step 7200\n",
      "Training is on step 7300\n",
      "Training is on step 7400\n",
      "Training is on step 7500\n",
      "Training is on step 7600\n",
      "Training is on step 7700\n",
      "Training is on step 7800\n",
      "Training is on step 7900\n",
      "Training is on step 8000\n",
      "Training is on step 8100\n",
      "Training is on step 8200\n",
      "Training is on step 8300\n",
      "Training is on step 8400\n",
      "Training is on step 8500\n",
      "Training is on step 8600\n",
      "Training is on step 8700\n",
      "Training is on step 8800\n",
      "Training is on step 8900\n",
      "Training is on step 9000\n",
      "Training is on step 9100\n",
      "Training is on step 9200\n",
      "Training is on step 9300\n",
      "Training is on step 9400\n",
      "Training is on step 9500\n",
      "Training is on step 9600\n",
      "Training is on step 9700\n",
      "Training is on step 9800\n",
      "Training is on step 9900\n",
      "Training finished\n",
      "Evaluating on training\n",
      "Testing is on step 0\n",
      "Partial Accuracy\n",
      "0.0\n",
      "Testing is on step 100\n",
      "Partial Accuracy\n",
      "0.326732673267\n",
      "Testing is on step 200\n",
      "Partial Accuracy\n",
      "0.348258706468\n",
      "Testing is on step 300\n",
      "Partial Accuracy\n",
      "0.34219269103\n",
      "Testing is on step 400\n",
      "Partial Accuracy\n",
      "0.346633416459\n",
      "Testing finished\n"
     ]
    }
   ],
   "source": [
    "steps = 10000\n",
    "\n",
    "with tf.Session() as sess:\n",
    "    \n",
    "    sess.run(init)\n",
    "    \n",
    "    for i in range(steps):\n",
    "        \n",
    "        batch_x , batch_y = train_helper.get_train_batch()\n",
    "        \n",
    "        sess.run(train,feed_dict={X:batch_x,y:batch_y,hold_prob:0.9})\n",
    "        \n",
    "        if i%100 == 0:\n",
    "            print('Training is on step {}'.format(i))\n",
    "    \n",
    "    print('Training finished')\n",
    "    print('Evaluating on training')\n",
    "    test_steps = 500\n",
    "    count = 0.0\n",
    "    den = 0.0\n",
    "    for m in range(test_steps):\n",
    "        den = den + 1.0\n",
    "        batch_x , batch_y = new_train_helper.get_train_batch() \n",
    "        output = dense_output3.eval(feed_dict={X:batch_x,y:batch_y,hold_prob:1.0})\n",
    "        match = np.argmax(output) == np.argmax(batch_y)\n",
    "        match = match.astype(float)\n",
    "        count = count + match\n",
    "        \n",
    "        if m%100 == 0:\n",
    "            print('Testing is on step {}'.format(m))\n",
    "            print('Partial Accuracy')\n",
    "            print(count / den)\n",
    "    \n",
    "    print('Testing finished')"
   ]
  },
  {
   "cell_type": "code",
   "execution_count": 90,
   "metadata": {},
   "outputs": [
    {
     "name": "stdout",
     "output_type": "stream",
     "text": [
      "0.342\n"
     ]
    }
   ],
   "source": [
    "print(count/den)"
   ]
  },
  {
   "cell_type": "code",
   "execution_count": null,
   "metadata": {
    "collapsed": true,
    "scrolled": true
   },
   "outputs": [],
   "source": []
  },
  {
   "cell_type": "code",
   "execution_count": null,
   "metadata": {
    "collapsed": true
   },
   "outputs": [],
   "source": []
  },
  {
   "cell_type": "code",
   "execution_count": null,
   "metadata": {
    "collapsed": true
   },
   "outputs": [],
   "source": []
  },
  {
   "cell_type": "code",
   "execution_count": null,
   "metadata": {
    "collapsed": true
   },
   "outputs": [],
   "source": []
  }
 ],
 "metadata": {
  "kernelspec": {
   "display_name": "Python 3",
   "language": "python",
   "name": "python3"
  },
  "language_info": {
   "codemirror_mode": {
    "name": "ipython",
    "version": 3
   },
   "file_extension": ".py",
   "mimetype": "text/x-python",
   "name": "python",
   "nbconvert_exporter": "python",
   "pygments_lexer": "ipython3",
   "version": "3.5.5"
  }
 },
 "nbformat": 4,
 "nbformat_minor": 2
}
