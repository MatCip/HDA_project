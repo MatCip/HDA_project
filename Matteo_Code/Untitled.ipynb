{
 "cells": [
  {
   "cell_type": "code",
   "execution_count": 40,
   "metadata": {},
   "outputs": [],
   "source": [
    "import pandas as pd\n",
    "import numpy as np\n",
    "from keras.models import Sequential\n",
    "from keras.layers import Dense, Conv1D, LSTM, CuDNNLSTM, Flatten, Dropout\n",
    "from keras import optimizers\n",
    "from keras.utils import to_categorical"
   ]
  },
  {
   "cell_type": "code",
   "execution_count": 2,
   "metadata": {
    "collapsed": true
   },
   "outputs": [],
   "source": [
    "data = pd.read_csv(\"drill1Opportunity.csv\",header=None)\n",
    "data.rename(columns ={110: 'labels'}, inplace =True)"
   ]
  },
  {
   "cell_type": "code",
   "execution_count": 3,
   "metadata": {},
   "outputs": [
    {
     "data": {
      "text/plain": [
       "(54915, 18)"
      ]
     },
     "execution_count": 3,
     "metadata": {},
     "output_type": "execute_result"
    }
   ],
   "source": [
    "from sklearn.preprocessing import OneHotEncoder\n",
    "encoder = OneHotEncoder()\n",
    "one_hot_labels = encoder.fit_transform(data['labels'].values.reshape(-1,1)).toarray()\n",
    "one_hot_labels.shape"
   ]
  },
  {
   "cell_type": "code",
   "execution_count": 4,
   "metadata": {
    "collapsed": true
   },
   "outputs": [],
   "source": [
    "from sklearn.preprocessing import MinMaxScaler\n",
    "scaler = MinMaxScaler()\n",
    "data.drop(['labels'], 1, inplace=True)\n",
    "data.shape\n",
    "data = scaler.fit_transform(data)"
   ]
  },
  {
   "cell_type": "code",
   "execution_count": 5,
   "metadata": {
    "collapsed": true
   },
   "outputs": [],
   "source": [
    "class trainerHelper():\n",
    "    \n",
    "    def __init__(self, data, labels, win_size, num_sensor_data, num_classes):\n",
    "        self.data = data\n",
    "        self.labels = labels\n",
    "        self.win_size = win_size\n",
    "        self.sensor_data = num_sensor_data\n",
    "        self.num_classes = num_classes\n",
    "        self.data_length = self.data.shape[0]\n",
    "        print(self.data_length)\n",
    "        self.start = 0\n",
    "        \n",
    "    def windows(self):\n",
    " \n",
    "        while self.start + self.win_size < self.data_length:\n",
    "            yield int(self.start), int(self.start + self.win_size)\n",
    "            self.start += (self.win_size/2)\n",
    "    \n",
    "    def segment_data(self):\n",
    "        self.start = 0\n",
    "        segments = np.empty((0, self.win_size, 110))\n",
    "        labels= np.empty((0, self.num_classes))\n",
    "        for (start, end) in self.windows():\n",
    "            x = np.zeros((1, self.win_size, 110))\n",
    "            x[0,:] = self.data[start:end,:]\n",
    "            label = self.labels[start:end,:]\n",
    "            if(x.shape[1] == self.win_size):\n",
    "                segments = np.vstack([segments,x])\n",
    "                lb = np.zeros((1, self.num_classes))\n",
    "                lb[0,:] = label[-1]\n",
    "                labels = np.vstack([labels,lb])\n",
    "        return segments, labels"
   ]
  },
  {
   "cell_type": "code",
   "execution_count": 6,
   "metadata": {},
   "outputs": [
    {
     "name": "stdout",
     "output_type": "stream",
     "text": [
      "54915\n"
     ]
    }
   ],
   "source": [
    "trainer_helper = trainerHelper(data, one_hot_labels, 15, 110, 18)"
   ]
  },
  {
   "cell_type": "code",
   "execution_count": 7,
   "metadata": {
    "collapsed": true
   },
   "outputs": [],
   "source": [
    "segments, labels = trainer_helper.segment_data()"
   ]
  },
  {
   "cell_type": "code",
   "execution_count": 8,
   "metadata": {},
   "outputs": [
    {
     "data": {
      "text/plain": [
       "(7320, 15, 110)"
      ]
     },
     "execution_count": 8,
     "metadata": {},
     "output_type": "execute_result"
    }
   ],
   "source": [
    "segments.shape"
   ]
  },
  {
   "cell_type": "code",
   "execution_count": 9,
   "metadata": {},
   "outputs": [
    {
     "data": {
      "text/plain": [
       "(7320, 18)"
      ]
     },
     "execution_count": 9,
     "metadata": {},
     "output_type": "execute_result"
    }
   ],
   "source": [
    "labels.shape"
   ]
  },
  {
   "cell_type": "code",
   "execution_count": 10,
   "metadata": {
    "collapsed": true
   },
   "outputs": [],
   "source": [
    "tot_segments = segments\n",
    "tot_labels = labels"
   ]
  },
  {
   "cell_type": "code",
   "execution_count": 11,
   "metadata": {
    "collapsed": true
   },
   "outputs": [],
   "source": [
    "# maybe we need to normalize the data\n",
    "num_rows = segments.shape[1]\n",
    "num_cols = segments.shape[2]\n",
    "trainSplitRatio = 0.8\n",
    "# reshaping segments for network input\n",
    "reshapedSegments = segments.transpose(0,2,1)\n",
    "# splitting segments in training and testing data\n",
    "trainSplit = np.random.rand(len(reshapedSegments)) < trainSplitRatio\n",
    "trainX = reshapedSegments[trainSplit]\n",
    "testX = reshapedSegments[~trainSplit]\n",
    "trainY = labels[trainSplit]\n",
    "testY = labels[~trainSplit]"
   ]
  },
  {
   "cell_type": "code",
   "execution_count": 12,
   "metadata": {},
   "outputs": [
    {
     "data": {
      "text/plain": [
       "(5824, 110, 15)"
      ]
     },
     "execution_count": 12,
     "metadata": {},
     "output_type": "execute_result"
    }
   ],
   "source": [
    "trainX.shape"
   ]
  },
  {
   "cell_type": "code",
   "execution_count": 13,
   "metadata": {},
   "outputs": [
    {
     "name": "stdout",
     "output_type": "stream",
     "text": [
      "[ 0.56200975  0.55776977  0.57197371  0.56794573  0.57070172  0.56476574\n",
      "  0.55416578  0.55904176  0.55882976  0.55522578  0.55819377  0.54526182\n",
      "  0.56010176  0.55458978  0.54610982]\n"
     ]
    }
   ],
   "source": [
    "print(reshapedSegments[0][0])"
   ]
  },
  {
   "cell_type": "code",
   "execution_count": null,
   "metadata": {
    "collapsed": true
   },
   "outputs": [],
   "source": []
  },
  {
   "cell_type": "code",
   "execution_count": 14,
   "metadata": {
    "collapsed": true
   },
   "outputs": [],
   "source": [
    "model = Sequential()"
   ]
  },
  {
   "cell_type": "code",
   "execution_count": 15,
   "metadata": {
    "collapsed": true
   },
   "outputs": [],
   "source": [
    "win_size = 15\n",
    "classes = 18\n",
    "num_sensors = 110\n",
    "kernel_height = 5\n",
    "inputshape = (num_sensors, win_size)"
   ]
  },
  {
   "cell_type": "code",
   "execution_count": 16,
   "metadata": {
    "collapsed": true
   },
   "outputs": [],
   "source": [
    "model.add(Conv1D(64, kernel_size=kernel_height, strides=1,\n",
    "                 activation='relu',\n",
    "                 input_shape=(num_sensors,15)))"
   ]
  },
  {
   "cell_type": "code",
   "execution_count": 17,
   "metadata": {
    "collapsed": true
   },
   "outputs": [],
   "source": [
    "model.add(Conv1D(64, kernel_size=kernel_height, strides=1,\n",
    "                 activation='relu'))"
   ]
  },
  {
   "cell_type": "code",
   "execution_count": 18,
   "metadata": {
    "collapsed": true
   },
   "outputs": [],
   "source": [
    "model.add(Conv1D(64, kernel_size=kernel_height, strides=1,\n",
    "                 activation='relu'))"
   ]
  },
  {
   "cell_type": "code",
   "execution_count": 19,
   "metadata": {
    "collapsed": true
   },
   "outputs": [],
   "source": [
    "model.add(Conv1D(64, kernel_size=kernel_height, strides=1,\n",
    "                 activation='relu'))"
   ]
  },
  {
   "cell_type": "code",
   "execution_count": 20,
   "metadata": {
    "collapsed": true
   },
   "outputs": [],
   "source": [
    "model.add(Dropout(0.5))"
   ]
  },
  {
   "cell_type": "code",
   "execution_count": 21,
   "metadata": {},
   "outputs": [
    {
     "name": "stdout",
     "output_type": "stream",
     "text": [
      "WARNING:tensorflow:From C:\\Users\\Tommy Azzino\\Anaconda3\\envs\\tfdeeplearning\\lib\\site-packages\\keras\\backend\\tensorflow_backend.py:1238: calling reduce_sum (from tensorflow.python.ops.math_ops) with keep_dims is deprecated and will be removed in a future version.\n",
      "Instructions for updating:\n",
      "keep_dims is deprecated, use keepdims instead\n"
     ]
    }
   ],
   "source": [
    "model.add(CuDNNLSTM(128, return_sequences=True))"
   ]
  },
  {
   "cell_type": "code",
   "execution_count": 22,
   "metadata": {
    "collapsed": true
   },
   "outputs": [],
   "source": [
    "model.add(Dropout(0.5))"
   ]
  },
  {
   "cell_type": "code",
   "execution_count": 23,
   "metadata": {
    "collapsed": true
   },
   "outputs": [],
   "source": [
    "model.add(CuDNNLSTM(128, return_sequences=False))"
   ]
  },
  {
   "cell_type": "code",
   "execution_count": 24,
   "metadata": {
    "collapsed": true
   },
   "outputs": [],
   "source": [
    "model.add(Dropout(0.5))"
   ]
  },
  {
   "cell_type": "code",
   "execution_count": 25,
   "metadata": {
    "collapsed": true
   },
   "outputs": [],
   "source": [
    "model.add(Dense(classes, activation='softmax'))"
   ]
  },
  {
   "cell_type": "code",
   "execution_count": 26,
   "metadata": {},
   "outputs": [
    {
     "name": "stdout",
     "output_type": "stream",
     "text": [
      "WARNING:tensorflow:From C:\\Users\\Tommy Azzino\\Anaconda3\\envs\\tfdeeplearning\\lib\\site-packages\\keras\\backend\\tensorflow_backend.py:1340: calling reduce_mean (from tensorflow.python.ops.math_ops) with keep_dims is deprecated and will be removed in a future version.\n",
      "Instructions for updating:\n",
      "keep_dims is deprecated, use keepdims instead\n"
     ]
    }
   ],
   "source": [
    "adam = optimizers.RMSprop(lr=0.001, decay=1e-6)\n",
    "model.compile(loss='categorical_crossentropy', optimizer=adam, metrics=['accuracy'])"
   ]
  },
  {
   "cell_type": "code",
   "execution_count": 27,
   "metadata": {},
   "outputs": [
    {
     "name": "stdout",
     "output_type": "stream",
     "text": [
      "conv1d_1\n",
      "conv1d_2\n",
      "conv1d_3\n",
      "conv1d_4\n",
      "dropout_1\n",
      "cu_dnnlstm_1\n",
      "dropout_2\n",
      "cu_dnnlstm_2\n",
      "dropout_3\n",
      "dense_1\n"
     ]
    }
   ],
   "source": [
    "for layer in model.layers:\n",
    "    print(layer.name)"
   ]
  },
  {
   "cell_type": "code",
   "execution_count": 28,
   "metadata": {},
   "outputs": [
    {
     "name": "stdout",
     "output_type": "stream",
     "text": [
      "Train on 4659 samples, validate on 1165 samples\n",
      "Epoch 1/100\n",
      "4659/4659 [==============================] - 9s 2ms/step - loss: 2.4585 - acc: 0.3477 - val_loss: 2.2283 - val_acc: 0.4180\n",
      "Epoch 2/100\n",
      "4659/4659 [==============================] - 2s 466us/step - loss: 2.4153 - acc: 0.3599 - val_loss: 2.2178 - val_acc: 0.4180\n",
      "Epoch 3/100\n",
      "4659/4659 [==============================] - 2s 461us/step - loss: 2.3188 - acc: 0.3640 - val_loss: 1.8889 - val_acc: 0.4180\n",
      "Epoch 4/100\n",
      "4659/4659 [==============================] - 2s 461us/step - loss: 2.0597 - acc: 0.3748 - val_loss: 1.6082 - val_acc: 0.4618\n",
      "Epoch 5/100\n",
      "4659/4659 [==============================] - 2s 465us/step - loss: 1.8160 - acc: 0.4190 - val_loss: 1.4022 - val_acc: 0.5030\n",
      "Epoch 6/100\n",
      "4659/4659 [==============================] - 2s 458us/step - loss: 1.6759 - acc: 0.4372 - val_loss: 1.1259 - val_acc: 0.6094\n",
      "Epoch 7/100\n",
      "4659/4659 [==============================] - 2s 472us/step - loss: 1.5369 - acc: 0.4823 - val_loss: 1.6195 - val_acc: 0.4670\n",
      "Epoch 8/100\n",
      "4659/4659 [==============================] - 2s 461us/step - loss: 1.4594 - acc: 0.5001 - val_loss: 1.0334 - val_acc: 0.6223\n",
      "Epoch 9/100\n",
      "4659/4659 [==============================] - 2s 466us/step - loss: 1.3213 - acc: 0.5465 - val_loss: 1.2821 - val_acc: 0.5356\n",
      "Epoch 10/100\n",
      "4659/4659 [==============================] - 2s 467us/step - loss: 1.2267 - acc: 0.5718 - val_loss: 0.8845 - val_acc: 0.6635\n",
      "Epoch 11/100\n",
      "4659/4659 [==============================] - 2s 463us/step - loss: 1.1615 - acc: 0.5806 - val_loss: 0.9911 - val_acc: 0.6618\n",
      "Epoch 12/100\n",
      "4659/4659 [==============================] - 2s 462us/step - loss: 1.0656 - acc: 0.6171 - val_loss: 1.4172 - val_acc: 0.5227\n",
      "Epoch 13/100\n",
      "4659/4659 [==============================] - 2s 457us/step - loss: 0.9965 - acc: 0.6469 - val_loss: 0.7778 - val_acc: 0.6893\n",
      "Epoch 14/100\n",
      "4659/4659 [==============================] - 2s 458us/step - loss: 0.9374 - acc: 0.6465 - val_loss: 0.6569 - val_acc: 0.7451\n",
      "Epoch 15/100\n",
      "4659/4659 [==============================] - 2s 468us/step - loss: 0.8699 - acc: 0.6712 - val_loss: 0.9681 - val_acc: 0.6532\n",
      "Epoch 16/100\n",
      "4659/4659 [==============================] - 2s 457us/step - loss: 0.8646 - acc: 0.6680 - val_loss: 0.6963 - val_acc: 0.7459\n",
      "Epoch 17/100\n",
      "4659/4659 [==============================] - 2s 461us/step - loss: 0.8090 - acc: 0.6806 - val_loss: 0.5805 - val_acc: 0.7785\n",
      "Epoch 18/100\n",
      "4659/4659 [==============================] - 2s 458us/step - loss: 0.7731 - acc: 0.7012 - val_loss: 0.7196 - val_acc: 0.7193\n",
      "Epoch 19/100\n",
      "4659/4659 [==============================] - 2s 465us/step - loss: 0.7632 - acc: 0.7038 - val_loss: 0.5199 - val_acc: 0.7897\n",
      "Epoch 20/100\n",
      "4659/4659 [==============================] - 2s 460us/step - loss: 0.7014 - acc: 0.7152 - val_loss: 0.5642 - val_acc: 0.7828\n",
      "Epoch 21/100\n",
      "4659/4659 [==============================] - 2s 467us/step - loss: 0.7057 - acc: 0.7175 - val_loss: 0.5180 - val_acc: 0.7854\n",
      "Epoch 22/100\n",
      "4659/4659 [==============================] - 2s 463us/step - loss: 0.6618 - acc: 0.7388 - val_loss: 0.6195 - val_acc: 0.7614\n",
      "Epoch 23/100\n",
      "4659/4659 [==============================] - 2s 467us/step - loss: 0.6446 - acc: 0.7435 - val_loss: 0.5432 - val_acc: 0.7845\n",
      "Epoch 24/100\n",
      "4659/4659 [==============================] - 2s 466us/step - loss: 0.6462 - acc: 0.7469 - val_loss: 0.7514 - val_acc: 0.7210\n",
      "Epoch 25/100\n",
      "4659/4659 [==============================] - 2s 465us/step - loss: 0.6164 - acc: 0.7600 - val_loss: 0.5202 - val_acc: 0.7983\n",
      "Epoch 26/100\n",
      "4659/4659 [==============================] - 2s 461us/step - loss: 0.6025 - acc: 0.7630 - val_loss: 0.4626 - val_acc: 0.8206\n",
      "Epoch 27/100\n",
      "4659/4659 [==============================] - 2s 469us/step - loss: 0.5713 - acc: 0.7733 - val_loss: 0.5308 - val_acc: 0.7948\n",
      "Epoch 28/100\n",
      "4659/4659 [==============================] - 2s 460us/step - loss: 0.5486 - acc: 0.7851 - val_loss: 0.4479 - val_acc: 0.8266\n",
      "Epoch 29/100\n",
      "4659/4659 [==============================] - 2s 464us/step - loss: 0.5624 - acc: 0.7804 - val_loss: 0.5375 - val_acc: 0.7914\n",
      "Epoch 30/100\n",
      "4659/4659 [==============================] - 2s 464us/step - loss: 0.5199 - acc: 0.7954 - val_loss: 0.6051 - val_acc: 0.7597\n",
      "Epoch 31/100\n",
      "4659/4659 [==============================] - 2s 458us/step - loss: 0.5188 - acc: 0.7916 - val_loss: 0.4276 - val_acc: 0.8215\n",
      "Epoch 32/100\n",
      "4659/4659 [==============================] - 2s 461us/step - loss: 0.4968 - acc: 0.8027 - val_loss: 0.6170 - val_acc: 0.7760\n",
      "Epoch 33/100\n",
      "4659/4659 [==============================] - 2s 465us/step - loss: 0.4989 - acc: 0.8055 - val_loss: 0.4471 - val_acc: 0.8069\n",
      "Epoch 34/100\n",
      "4659/4659 [==============================] - 2s 456us/step - loss: 0.4814 - acc: 0.8103 - val_loss: 0.5071 - val_acc: 0.8094\n",
      "Epoch 35/100\n",
      "4659/4659 [==============================] - 2s 464us/step - loss: 0.4723 - acc: 0.8186 - val_loss: 0.5313 - val_acc: 0.8009\n",
      "Epoch 36/100\n",
      "4659/4659 [==============================] - 2s 459us/step - loss: 0.4634 - acc: 0.8182 - val_loss: 0.3652 - val_acc: 0.8627\n",
      "Epoch 37/100\n",
      "4659/4659 [==============================] - 2s 461us/step - loss: 0.4376 - acc: 0.8337 - val_loss: 0.3829 - val_acc: 0.8395\n",
      "Epoch 38/100\n",
      "4659/4659 [==============================] - 2s 476us/step - loss: 0.4194 - acc: 0.8388 - val_loss: 0.4778 - val_acc: 0.8464\n",
      "Epoch 39/100\n",
      "4659/4659 [==============================] - 2s 469us/step - loss: 0.4375 - acc: 0.8296 - val_loss: 0.4254 - val_acc: 0.8352\n",
      "Epoch 40/100\n",
      "4659/4659 [==============================] - 2s 464us/step - loss: 0.4445 - acc: 0.8345 - val_loss: 0.5722 - val_acc: 0.7871\n",
      "Epoch 41/100\n",
      "4659/4659 [==============================] - 2s 464us/step - loss: 0.4122 - acc: 0.8401 - val_loss: 0.3745 - val_acc: 0.8661\n",
      "Epoch 42/100\n",
      "4659/4659 [==============================] - 2s 455us/step - loss: 0.4078 - acc: 0.8455 - val_loss: 0.4020 - val_acc: 0.8627\n",
      "Epoch 43/100\n",
      "4659/4659 [==============================] - 2s 465us/step - loss: 0.3917 - acc: 0.8540 - val_loss: 0.4011 - val_acc: 0.8506\n",
      "Epoch 44/100\n",
      "4659/4659 [==============================] - 2s 470us/step - loss: 0.3985 - acc: 0.8547 - val_loss: 0.5493 - val_acc: 0.8120\n",
      "Epoch 45/100\n",
      "4659/4659 [==============================] - 2s 466us/step - loss: 0.3796 - acc: 0.8566 - val_loss: 0.8291 - val_acc: 0.7185\n",
      "Epoch 46/100\n",
      "4659/4659 [==============================] - 2s 462us/step - loss: 0.3712 - acc: 0.8706 - val_loss: 0.4754 - val_acc: 0.8300\n",
      "Epoch 47/100\n",
      "4659/4659 [==============================] - 2s 458us/step - loss: 0.3783 - acc: 0.8639 - val_loss: 0.4220 - val_acc: 0.8549\n",
      "Epoch 48/100\n",
      "4659/4659 [==============================] - 2s 459us/step - loss: 0.3412 - acc: 0.8753 - val_loss: 0.3944 - val_acc: 0.8506\n",
      "Epoch 49/100\n",
      "4659/4659 [==============================] - 2s 454us/step - loss: 0.3536 - acc: 0.8712 - val_loss: 0.4350 - val_acc: 0.8489\n",
      "Epoch 50/100\n",
      "4659/4659 [==============================] - 2s 464us/step - loss: 0.3436 - acc: 0.8729 - val_loss: 0.3172 - val_acc: 0.8850\n",
      "Epoch 51/100\n",
      "4659/4659 [==============================] - 2s 459us/step - loss: 0.3298 - acc: 0.8809 - val_loss: 0.3829 - val_acc: 0.8712\n",
      "Epoch 52/100\n",
      "4659/4659 [==============================] - 2s 454us/step - loss: 0.3338 - acc: 0.8779 - val_loss: 0.3577 - val_acc: 0.8738\n",
      "Epoch 53/100\n",
      "4659/4659 [==============================] - 2s 465us/step - loss: 0.3299 - acc: 0.8869 - val_loss: 0.3072 - val_acc: 0.8884\n",
      "Epoch 54/100\n",
      "4659/4659 [==============================] - 2s 457us/step - loss: 0.2993 - acc: 0.8963 - val_loss: 0.3543 - val_acc: 0.8858\n",
      "Epoch 55/100\n",
      "4659/4659 [==============================] - 2s 462us/step - loss: 0.3160 - acc: 0.8871 - val_loss: 0.6636 - val_acc: 0.7940\n",
      "Epoch 56/100\n",
      "4659/4659 [==============================] - 2s 461us/step - loss: 0.3220 - acc: 0.8882 - val_loss: 0.3468 - val_acc: 0.8824\n",
      "Epoch 57/100\n",
      "4659/4659 [==============================] - 2s 458us/step - loss: 0.2919 - acc: 0.9000 - val_loss: 0.3732 - val_acc: 0.8704\n",
      "Epoch 58/100\n",
      "4659/4659 [==============================] - 2s 458us/step - loss: 0.2792 - acc: 0.8965 - val_loss: 0.3889 - val_acc: 0.8850\n",
      "Epoch 59/100\n",
      "4659/4659 [==============================] - 2s 456us/step - loss: 0.2819 - acc: 0.8993 - val_loss: 0.3428 - val_acc: 0.8841\n",
      "Epoch 60/100\n",
      "4659/4659 [==============================] - 2s 464us/step - loss: 0.2643 - acc: 0.9068 - val_loss: 0.3392 - val_acc: 0.8936\n",
      "Epoch 61/100\n",
      "4659/4659 [==============================] - 2s 465us/step - loss: 0.2761 - acc: 0.9058 - val_loss: 0.4171 - val_acc: 0.8755\n",
      "Epoch 62/100\n",
      "4659/4659 [==============================] - 2s 480us/step - loss: 0.2650 - acc: 0.9111 - val_loss: 0.3389 - val_acc: 0.8850\n",
      "Epoch 63/100\n",
      "4659/4659 [==============================] - 2s 450us/step - loss: 0.2551 - acc: 0.9086 - val_loss: 0.3438 - val_acc: 0.8987\n",
      "Epoch 64/100\n",
      "4659/4659 [==============================] - 2s 464us/step - loss: 0.2465 - acc: 0.9144 - val_loss: 0.3658 - val_acc: 0.8867\n",
      "Epoch 65/100\n",
      "4659/4659 [==============================] - 2s 461us/step - loss: 0.2566 - acc: 0.9137 - val_loss: 0.3639 - val_acc: 0.9021\n",
      "Epoch 66/100\n",
      "4659/4659 [==============================] - 2s 460us/step - loss: 0.2421 - acc: 0.9150 - val_loss: 0.3333 - val_acc: 0.8987\n",
      "Epoch 67/100\n",
      "4659/4659 [==============================] - 2s 465us/step - loss: 0.2475 - acc: 0.9159 - val_loss: 0.3395 - val_acc: 0.9073\n",
      "Epoch 68/100\n",
      "4659/4659 [==============================] - 2s 461us/step - loss: 0.2214 - acc: 0.9270 - val_loss: 0.3880 - val_acc: 0.8901\n",
      "Epoch 69/100\n",
      "4659/4659 [==============================] - 2s 468us/step - loss: 0.2280 - acc: 0.9210 - val_loss: 0.3577 - val_acc: 0.8867\n",
      "Epoch 70/100\n",
      "4659/4659 [==============================] - 2s 461us/step - loss: 0.2107 - acc: 0.9264 - val_loss: 0.3224 - val_acc: 0.9099\n",
      "Epoch 71/100\n",
      "4659/4659 [==============================] - 2s 458us/step - loss: 0.2403 - acc: 0.9154 - val_loss: 0.3014 - val_acc: 0.9150\n",
      "Epoch 72/100\n",
      "4659/4659 [==============================] - 2s 459us/step - loss: 0.2035 - acc: 0.9315 - val_loss: 0.4834 - val_acc: 0.8455\n",
      "Epoch 73/100\n",
      "4659/4659 [==============================] - 2s 460us/step - loss: 0.1926 - acc: 0.9382 - val_loss: 0.3084 - val_acc: 0.9227\n",
      "Epoch 74/100\n",
      "4659/4659 [==============================] - 2s 460us/step - loss: 0.2296 - acc: 0.9240 - val_loss: 0.3961 - val_acc: 0.8790\n",
      "Epoch 75/100\n",
      "4659/4659 [==============================] - 2s 455us/step - loss: 0.2040 - acc: 0.9285 - val_loss: 0.3651 - val_acc: 0.8918\n",
      "Epoch 76/100\n",
      "4659/4659 [==============================] - 2s 465us/step - loss: 0.2031 - acc: 0.9305 - val_loss: 0.4358 - val_acc: 0.8712\n",
      "Epoch 77/100\n",
      "4659/4659 [==============================] - 2s 460us/step - loss: 0.2109 - acc: 0.9275 - val_loss: 0.3567 - val_acc: 0.8944\n",
      "Epoch 78/100\n",
      "4659/4659 [==============================] - 2s 454us/step - loss: 0.1958 - acc: 0.9354 - val_loss: 0.4460 - val_acc: 0.8790\n",
      "Epoch 79/100\n",
      "4659/4659 [==============================] - 2s 464us/step - loss: 0.1781 - acc: 0.9401 - val_loss: 0.2970 - val_acc: 0.9176\n",
      "Epoch 80/100\n",
      "4659/4659 [==============================] - 2s 464us/step - loss: 0.1899 - acc: 0.9341 - val_loss: 0.3532 - val_acc: 0.9082\n",
      "Epoch 81/100\n",
      "4659/4659 [==============================] - 2s 458us/step - loss: 0.1720 - acc: 0.9414 - val_loss: 0.3483 - val_acc: 0.9056\n",
      "Epoch 82/100\n",
      "4659/4659 [==============================] - 2s 456us/step - loss: 0.1775 - acc: 0.9427 - val_loss: 0.3173 - val_acc: 0.9021\n",
      "Epoch 83/100\n",
      "4659/4659 [==============================] - 2s 454us/step - loss: 0.1599 - acc: 0.9457 - val_loss: 0.3894 - val_acc: 0.9107\n",
      "Epoch 84/100\n",
      "4659/4659 [==============================] - 2s 465us/step - loss: 0.1945 - acc: 0.9382 - val_loss: 0.2867 - val_acc: 0.9193\n",
      "Epoch 85/100\n",
      "4659/4659 [==============================] - 2s 455us/step - loss: 0.1710 - acc: 0.9436 - val_loss: 0.2894 - val_acc: 0.9245\n",
      "Epoch 86/100\n",
      "4659/4659 [==============================] - 2s 460us/step - loss: 0.1694 - acc: 0.9412 - val_loss: 0.3167 - val_acc: 0.9245\n",
      "Epoch 87/100\n",
      "4659/4659 [==============================] - 2s 464us/step - loss: 0.1591 - acc: 0.9459 - val_loss: 0.3078 - val_acc: 0.9279\n",
      "Epoch 88/100\n",
      "4659/4659 [==============================] - 2s 468us/step - loss: 0.1628 - acc: 0.9416 - val_loss: 0.3070 - val_acc: 0.9245\n",
      "Epoch 89/100\n",
      "4659/4659 [==============================] - 2s 459us/step - loss: 0.1557 - acc: 0.9504 - val_loss: 0.3418 - val_acc: 0.9176\n",
      "Epoch 90/100\n",
      "4659/4659 [==============================] - 2s 470us/step - loss: 0.1555 - acc: 0.9498 - val_loss: 0.4213 - val_acc: 0.8927\n",
      "Epoch 91/100\n",
      "4659/4659 [==============================] - 2s 471us/step - loss: 0.1529 - acc: 0.9491 - val_loss: 0.5420 - val_acc: 0.8541\n",
      "Epoch 92/100\n",
      "4659/4659 [==============================] - 2s 468us/step - loss: 0.1517 - acc: 0.9478 - val_loss: 0.3676 - val_acc: 0.9082\n",
      "Epoch 93/100\n",
      "4659/4659 [==============================] - 2s 455us/step - loss: 0.1515 - acc: 0.9534 - val_loss: 0.3304 - val_acc: 0.9202\n",
      "Epoch 94/100\n",
      "4659/4659 [==============================] - 2s 457us/step - loss: 0.1420 - acc: 0.9511 - val_loss: 0.3454 - val_acc: 0.9193\n",
      "Epoch 95/100\n",
      "4659/4659 [==============================] - 2s 466us/step - loss: 0.1389 - acc: 0.9554 - val_loss: 0.3315 - val_acc: 0.9167\n",
      "Epoch 96/100\n",
      "4659/4659 [==============================] - 2s 462us/step - loss: 0.1369 - acc: 0.9575 - val_loss: 0.3716 - val_acc: 0.9039\n",
      "Epoch 97/100\n",
      "4659/4659 [==============================] - 2s 455us/step - loss: 0.1398 - acc: 0.9504 - val_loss: 0.4242 - val_acc: 0.8876\n",
      "Epoch 98/100\n",
      "4659/4659 [==============================] - 2s 469us/step - loss: 0.1316 - acc: 0.9571 - val_loss: 0.3786 - val_acc: 0.9133\n",
      "Epoch 99/100\n",
      "4659/4659 [==============================] - 2s 460us/step - loss: 0.1310 - acc: 0.9575 - val_loss: 0.3790 - val_acc: 0.9013\n",
      "Epoch 100/100\n",
      "4659/4659 [==============================] - 2s 473us/step - loss: 0.1327 - acc: 0.9545 - val_loss: 0.3592 - val_acc: 0.9227\n",
      "1496/1496 [==============================] - 1s 502us/step\n"
     ]
    }
   ],
   "source": [
    "batchSize = 100\n",
    "model.fit(trainX,trainY, validation_split=1-trainSplitRatio,epochs=100,batch_size=batchSize,verbose=1)\n",
    "score = model.evaluate(testX,testY,verbose=1)\n",
    "model.save('tommyCUDACNNmodel.h5')"
   ]
  },
  {
   "cell_type": "code",
   "execution_count": 29,
   "metadata": {},
   "outputs": [
    {
     "name": "stdout",
     "output_type": "stream",
     "text": [
      "[0.33150792118836753, 0.92112299465240643]\n"
     ]
    }
   ],
   "source": [
    "print(score)"
   ]
  },
  {
   "cell_type": "code",
   "execution_count": 42,
   "metadata": {},
   "outputs": [
    {
     "data": {
      "text/plain": [
       "(1496, 18)"
      ]
     },
     "execution_count": 42,
     "metadata": {},
     "output_type": "execute_result"
    }
   ],
   "source": [
    "predictions = model.predict(testX)\n",
    "predictions.shape"
   ]
  },
  {
   "cell_type": "code",
   "execution_count": 32,
   "metadata": {},
   "outputs": [
    {
     "name": "stdout",
     "output_type": "stream",
     "text": [
      "0.9211229946524064\n"
     ]
    }
   ],
   "source": [
    "count = 0.0\n",
    "den = 0.0\n",
    "for pair in zip(predictions, testY):\n",
    "    if np.argmax(pair[0]) == np.argmax(pair[1]):\n",
    "        count += 1.0\n",
    "    den += 1.0\n",
    "\n",
    "print(count / den)"
   ]
  },
  {
   "cell_type": "code",
   "execution_count": 38,
   "metadata": {},
   "outputs": [],
   "source": [
    "pred_df = pd.DataFrame(predictions)\n",
    "pred_df.to_csv('preds_test.csv', header=False, index=False)"
   ]
  },
  {
   "cell_type": "code",
   "execution_count": 39,
   "metadata": {
    "collapsed": true
   },
   "outputs": [],
   "source": [
    "true_df = pd.DataFrame(testY)\n",
    "true_df.to_csv('true_test.csv', header=False, index=False)"
   ]
  },
  {
   "cell_type": "code",
   "execution_count": null,
   "metadata": {
    "collapsed": true
   },
   "outputs": [],
   "source": []
  }
 ],
 "metadata": {
  "kernelspec": {
   "display_name": "Python 3",
   "language": "python",
   "name": "python3"
  },
  "language_info": {
   "codemirror_mode": {
    "name": "ipython",
    "version": 3
   },
   "file_extension": ".py",
   "mimetype": "text/x-python",
   "name": "python",
   "nbconvert_exporter": "python",
   "pygments_lexer": "ipython3",
   "version": "3.5.5"
  }
 },
 "nbformat": 4,
 "nbformat_minor": 2
}
