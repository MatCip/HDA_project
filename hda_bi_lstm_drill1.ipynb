{
 "cells": [
  {
   "cell_type": "code",
   "execution_count": 1,
   "metadata": {
    "collapsed": true
   },
   "outputs": [],
   "source": [
    "import pandas as pd\n",
    "import numpy as np"
   ]
  },
  {
   "cell_type": "code",
   "execution_count": 2,
   "metadata": {
    "collapsed": true
   },
   "outputs": [],
   "source": [
    "data = pd.read_csv(\"drill1Opportunity.csv\",header=None)"
   ]
  },
  {
   "cell_type": "code",
   "execution_count": 3,
   "metadata": {},
   "outputs": [
    {
     "data": {
      "text/html": [
       "<div>\n",
       "<style>\n",
       "    .dataframe thead tr:only-child th {\n",
       "        text-align: right;\n",
       "    }\n",
       "\n",
       "    .dataframe thead th {\n",
       "        text-align: left;\n",
       "    }\n",
       "\n",
       "    .dataframe tbody tr th {\n",
       "        vertical-align: top;\n",
       "    }\n",
       "</style>\n",
       "<table border=\"1\" class=\"dataframe\">\n",
       "  <thead>\n",
       "    <tr style=\"text-align: right;\">\n",
       "      <th></th>\n",
       "      <th>0</th>\n",
       "      <th>1</th>\n",
       "      <th>2</th>\n",
       "      <th>3</th>\n",
       "      <th>4</th>\n",
       "      <th>5</th>\n",
       "      <th>6</th>\n",
       "      <th>7</th>\n",
       "      <th>8</th>\n",
       "      <th>9</th>\n",
       "      <th>...</th>\n",
       "      <th>101</th>\n",
       "      <th>102</th>\n",
       "      <th>103</th>\n",
       "      <th>104</th>\n",
       "      <th>105</th>\n",
       "      <th>106</th>\n",
       "      <th>107</th>\n",
       "      <th>108</th>\n",
       "      <th>109</th>\n",
       "      <th>labels</th>\n",
       "    </tr>\n",
       "  </thead>\n",
       "  <tbody>\n",
       "    <tr>\n",
       "      <th>0</th>\n",
       "      <td>20</td>\n",
       "      <td>1036</td>\n",
       "      <td>108</td>\n",
       "      <td>-197</td>\n",
       "      <td>974</td>\n",
       "      <td>254</td>\n",
       "      <td>-258</td>\n",
       "      <td>1052</td>\n",
       "      <td>-34</td>\n",
       "      <td>88</td>\n",
       "      <td>...</td>\n",
       "      <td>358</td>\n",
       "      <td>-821</td>\n",
       "      <td>69</td>\n",
       "      <td>79</td>\n",
       "      <td>13</td>\n",
       "      <td>79</td>\n",
       "      <td>-69</td>\n",
       "      <td>13</td>\n",
       "      <td>168</td>\n",
       "      <td>1</td>\n",
       "    </tr>\n",
       "    <tr>\n",
       "      <th>1</th>\n",
       "      <td>0</td>\n",
       "      <td>1038</td>\n",
       "      <td>92</td>\n",
       "      <td>-212</td>\n",
       "      <td>952</td>\n",
       "      <td>229</td>\n",
       "      <td>-250</td>\n",
       "      <td>1066</td>\n",
       "      <td>-22</td>\n",
       "      <td>98</td>\n",
       "      <td>...</td>\n",
       "      <td>363</td>\n",
       "      <td>-821</td>\n",
       "      <td>52</td>\n",
       "      <td>58</td>\n",
       "      <td>9</td>\n",
       "      <td>58</td>\n",
       "      <td>-52</td>\n",
       "      <td>9</td>\n",
       "      <td>168</td>\n",
       "      <td>1</td>\n",
       "    </tr>\n",
       "    <tr>\n",
       "      <th>2</th>\n",
       "      <td>67</td>\n",
       "      <td>1064</td>\n",
       "      <td>71</td>\n",
       "      <td>-224</td>\n",
       "      <td>983</td>\n",
       "      <td>218</td>\n",
       "      <td>-162</td>\n",
       "      <td>1041</td>\n",
       "      <td>-80</td>\n",
       "      <td>113</td>\n",
       "      <td>...</td>\n",
       "      <td>359</td>\n",
       "      <td>-814</td>\n",
       "      <td>28</td>\n",
       "      <td>19</td>\n",
       "      <td>10</td>\n",
       "      <td>19</td>\n",
       "      <td>-28</td>\n",
       "      <td>10</td>\n",
       "      <td>168</td>\n",
       "      <td>1</td>\n",
       "    </tr>\n",
       "    <tr>\n",
       "      <th>3</th>\n",
       "      <td>48</td>\n",
       "      <td>1056</td>\n",
       "      <td>20</td>\n",
       "      <td>-207</td>\n",
       "      <td>983</td>\n",
       "      <td>196</td>\n",
       "      <td>-146</td>\n",
       "      <td>1004</td>\n",
       "      <td>-12</td>\n",
       "      <td>143</td>\n",
       "      <td>...</td>\n",
       "      <td>354</td>\n",
       "      <td>-810</td>\n",
       "      <td>12</td>\n",
       "      <td>50</td>\n",
       "      <td>-16</td>\n",
       "      <td>50</td>\n",
       "      <td>-12</td>\n",
       "      <td>-16</td>\n",
       "      <td>168</td>\n",
       "      <td>1</td>\n",
       "    </tr>\n",
       "    <tr>\n",
       "      <th>4</th>\n",
       "      <td>61</td>\n",
       "      <td>1058</td>\n",
       "      <td>9</td>\n",
       "      <td>-190</td>\n",
       "      <td>979</td>\n",
       "      <td>192</td>\n",
       "      <td>-257</td>\n",
       "      <td>962</td>\n",
       "      <td>-13</td>\n",
       "      <td>181</td>\n",
       "      <td>...</td>\n",
       "      <td>359</td>\n",
       "      <td>-820</td>\n",
       "      <td>-4</td>\n",
       "      <td>19</td>\n",
       "      <td>3</td>\n",
       "      <td>19</td>\n",
       "      <td>4</td>\n",
       "      <td>3</td>\n",
       "      <td>168</td>\n",
       "      <td>1</td>\n",
       "    </tr>\n",
       "  </tbody>\n",
       "</table>\n",
       "<p>5 rows × 111 columns</p>\n",
       "</div>"
      ],
      "text/plain": [
       "    0     1    2    3    4    5    6     7   8    9   ...    101  102  103  \\\n",
       "0  20  1036  108 -197  974  254 -258  1052 -34   88   ...    358 -821   69   \n",
       "1   0  1038   92 -212  952  229 -250  1066 -22   98   ...    363 -821   52   \n",
       "2  67  1064   71 -224  983  218 -162  1041 -80  113   ...    359 -814   28   \n",
       "3  48  1056   20 -207  983  196 -146  1004 -12  143   ...    354 -810   12   \n",
       "4  61  1058    9 -190  979  192 -257   962 -13  181   ...    359 -820   -4   \n",
       "\n",
       "   104  105  106  107  108  109  labels  \n",
       "0   79   13   79  -69   13  168       1  \n",
       "1   58    9   58  -52    9  168       1  \n",
       "2   19   10   19  -28   10  168       1  \n",
       "3   50  -16   50  -12  -16  168       1  \n",
       "4   19    3   19    4    3  168       1  \n",
       "\n",
       "[5 rows x 111 columns]"
      ]
     },
     "execution_count": 3,
     "metadata": {},
     "output_type": "execute_result"
    }
   ],
   "source": [
    "data.rename(columns ={110: 'labels'}, inplace =True)\n",
    "data.head()"
   ]
  },
  {
   "cell_type": "code",
   "execution_count": 4,
   "metadata": {},
   "outputs": [
    {
     "name": "stdout",
     "output_type": "stream",
     "text": [
      "<class 'pandas.core.frame.DataFrame'>\n",
      "RangeIndex: 54915 entries, 0 to 54914\n",
      "Columns: 111 entries, 0 to labels\n",
      "dtypes: int64(111)\n",
      "memory usage: 46.5 MB\n"
     ]
    }
   ],
   "source": [
    "data.info()"
   ]
  },
  {
   "cell_type": "code",
   "execution_count": 5,
   "metadata": {
    "collapsed": true
   },
   "outputs": [],
   "source": [
    "from sklearn.preprocessing import OneHotEncoder"
   ]
  },
  {
   "cell_type": "code",
   "execution_count": 6,
   "metadata": {
    "collapsed": true
   },
   "outputs": [],
   "source": [
    "encoder = OneHotEncoder()"
   ]
  },
  {
   "cell_type": "code",
   "execution_count": 7,
   "metadata": {},
   "outputs": [
    {
     "data": {
      "text/plain": [
       "(54915, 18)"
      ]
     },
     "execution_count": 7,
     "metadata": {},
     "output_type": "execute_result"
    }
   ],
   "source": [
    "one_hot_labels = encoder.fit_transform(data['labels'].values.reshape(-1,1)).toarray()\n",
    "one_hot_labels.shape"
   ]
  },
  {
   "cell_type": "code",
   "execution_count": 8,
   "metadata": {},
   "outputs": [
    {
     "data": {
      "text/html": [
       "<div>\n",
       "<style>\n",
       "    .dataframe thead tr:only-child th {\n",
       "        text-align: right;\n",
       "    }\n",
       "\n",
       "    .dataframe thead th {\n",
       "        text-align: left;\n",
       "    }\n",
       "\n",
       "    .dataframe tbody tr th {\n",
       "        vertical-align: top;\n",
       "    }\n",
       "</style>\n",
       "<table border=\"1\" class=\"dataframe\">\n",
       "  <thead>\n",
       "    <tr style=\"text-align: right;\">\n",
       "      <th></th>\n",
       "      <th>0</th>\n",
       "      <th>1</th>\n",
       "      <th>2</th>\n",
       "      <th>3</th>\n",
       "      <th>4</th>\n",
       "      <th>5</th>\n",
       "      <th>6</th>\n",
       "      <th>7</th>\n",
       "      <th>8</th>\n",
       "      <th>9</th>\n",
       "      <th>...</th>\n",
       "      <th>101</th>\n",
       "      <th>102</th>\n",
       "      <th>103</th>\n",
       "      <th>104</th>\n",
       "      <th>105</th>\n",
       "      <th>106</th>\n",
       "      <th>107</th>\n",
       "      <th>108</th>\n",
       "      <th>109</th>\n",
       "      <th>labels</th>\n",
       "    </tr>\n",
       "  </thead>\n",
       "  <tbody>\n",
       "    <tr>\n",
       "      <th>0</th>\n",
       "      <td>20</td>\n",
       "      <td>1036</td>\n",
       "      <td>108</td>\n",
       "      <td>-197</td>\n",
       "      <td>974</td>\n",
       "      <td>254</td>\n",
       "      <td>-258</td>\n",
       "      <td>1052</td>\n",
       "      <td>-34</td>\n",
       "      <td>88</td>\n",
       "      <td>...</td>\n",
       "      <td>358</td>\n",
       "      <td>-821</td>\n",
       "      <td>69</td>\n",
       "      <td>79</td>\n",
       "      <td>13</td>\n",
       "      <td>79</td>\n",
       "      <td>-69</td>\n",
       "      <td>13</td>\n",
       "      <td>168</td>\n",
       "      <td>1</td>\n",
       "    </tr>\n",
       "    <tr>\n",
       "      <th>1</th>\n",
       "      <td>0</td>\n",
       "      <td>1038</td>\n",
       "      <td>92</td>\n",
       "      <td>-212</td>\n",
       "      <td>952</td>\n",
       "      <td>229</td>\n",
       "      <td>-250</td>\n",
       "      <td>1066</td>\n",
       "      <td>-22</td>\n",
       "      <td>98</td>\n",
       "      <td>...</td>\n",
       "      <td>363</td>\n",
       "      <td>-821</td>\n",
       "      <td>52</td>\n",
       "      <td>58</td>\n",
       "      <td>9</td>\n",
       "      <td>58</td>\n",
       "      <td>-52</td>\n",
       "      <td>9</td>\n",
       "      <td>168</td>\n",
       "      <td>1</td>\n",
       "    </tr>\n",
       "    <tr>\n",
       "      <th>2</th>\n",
       "      <td>67</td>\n",
       "      <td>1064</td>\n",
       "      <td>71</td>\n",
       "      <td>-224</td>\n",
       "      <td>983</td>\n",
       "      <td>218</td>\n",
       "      <td>-162</td>\n",
       "      <td>1041</td>\n",
       "      <td>-80</td>\n",
       "      <td>113</td>\n",
       "      <td>...</td>\n",
       "      <td>359</td>\n",
       "      <td>-814</td>\n",
       "      <td>28</td>\n",
       "      <td>19</td>\n",
       "      <td>10</td>\n",
       "      <td>19</td>\n",
       "      <td>-28</td>\n",
       "      <td>10</td>\n",
       "      <td>168</td>\n",
       "      <td>1</td>\n",
       "    </tr>\n",
       "    <tr>\n",
       "      <th>3</th>\n",
       "      <td>48</td>\n",
       "      <td>1056</td>\n",
       "      <td>20</td>\n",
       "      <td>-207</td>\n",
       "      <td>983</td>\n",
       "      <td>196</td>\n",
       "      <td>-146</td>\n",
       "      <td>1004</td>\n",
       "      <td>-12</td>\n",
       "      <td>143</td>\n",
       "      <td>...</td>\n",
       "      <td>354</td>\n",
       "      <td>-810</td>\n",
       "      <td>12</td>\n",
       "      <td>50</td>\n",
       "      <td>-16</td>\n",
       "      <td>50</td>\n",
       "      <td>-12</td>\n",
       "      <td>-16</td>\n",
       "      <td>168</td>\n",
       "      <td>1</td>\n",
       "    </tr>\n",
       "    <tr>\n",
       "      <th>4</th>\n",
       "      <td>61</td>\n",
       "      <td>1058</td>\n",
       "      <td>9</td>\n",
       "      <td>-190</td>\n",
       "      <td>979</td>\n",
       "      <td>192</td>\n",
       "      <td>-257</td>\n",
       "      <td>962</td>\n",
       "      <td>-13</td>\n",
       "      <td>181</td>\n",
       "      <td>...</td>\n",
       "      <td>359</td>\n",
       "      <td>-820</td>\n",
       "      <td>-4</td>\n",
       "      <td>19</td>\n",
       "      <td>3</td>\n",
       "      <td>19</td>\n",
       "      <td>4</td>\n",
       "      <td>3</td>\n",
       "      <td>168</td>\n",
       "      <td>1</td>\n",
       "    </tr>\n",
       "  </tbody>\n",
       "</table>\n",
       "<p>5 rows × 111 columns</p>\n",
       "</div>"
      ],
      "text/plain": [
       "    0     1    2    3    4    5    6     7   8    9   ...    101  102  103  \\\n",
       "0  20  1036  108 -197  974  254 -258  1052 -34   88   ...    358 -821   69   \n",
       "1   0  1038   92 -212  952  229 -250  1066 -22   98   ...    363 -821   52   \n",
       "2  67  1064   71 -224  983  218 -162  1041 -80  113   ...    359 -814   28   \n",
       "3  48  1056   20 -207  983  196 -146  1004 -12  143   ...    354 -810   12   \n",
       "4  61  1058    9 -190  979  192 -257   962 -13  181   ...    359 -820   -4   \n",
       "\n",
       "   104  105  106  107  108  109  labels  \n",
       "0   79   13   79  -69   13  168       1  \n",
       "1   58    9   58  -52    9  168       1  \n",
       "2   19   10   19  -28   10  168       1  \n",
       "3   50  -16   50  -12  -16  168       1  \n",
       "4   19    3   19    4    3  168       1  \n",
       "\n",
       "[5 rows x 111 columns]"
      ]
     },
     "execution_count": 8,
     "metadata": {},
     "output_type": "execute_result"
    }
   ],
   "source": [
    "data.head()"
   ]
  },
  {
   "cell_type": "code",
   "execution_count": 9,
   "metadata": {},
   "outputs": [
    {
     "name": "stdout",
     "output_type": "stream",
     "text": [
      "54915\n",
      "(43932, 110)\n",
      "(10983, 110)\n",
      "(43932, 18)\n",
      "(10983, 18)\n"
     ]
    }
   ],
   "source": [
    "# split between train and test sets: 80% train, 20% test\n",
    "data.drop(['labels'], 1, inplace=True)\n",
    "train_size = int(len(data)/100*80)\n",
    "train_data = data[0:train_size]\n",
    "test_data = data[train_size:len(data)]\n",
    "print(len(data))\n",
    "print(train_data.shape)\n",
    "print(test_data.shape)\n",
    "train_labels = one_hot_labels[0:train_size]\n",
    "test_labels = one_hot_labels[train_size:len(data)]\n",
    "print(train_labels.shape)\n",
    "print(test_labels.shape)\n",
    "step_size = 24\n",
    "sensors = 110;"
   ]
  },
  {
   "cell_type": "code",
   "execution_count": 10,
   "metadata": {
    "collapsed": true
   },
   "outputs": [],
   "source": [
    "from sklearn.preprocessing import MinMaxScaler\n",
    "scaler = MinMaxScaler()\n",
    "scaled_train_data = scaler.fit_transform(train_data)\n",
    "scaled_test_data = scaler.transform(test_data)"
   ]
  },
  {
   "cell_type": "code",
   "execution_count": 11,
   "metadata": {
    "collapsed": true
   },
   "outputs": [],
   "source": [
    "-"
   ]
  },
  {
   "cell_type": "code",
   "execution_count": 12,
   "metadata": {},
   "outputs": [
    {
     "name": "stdout",
     "output_type": "stream",
     "text": [
      "1830\n",
      "1830\n"
     ]
    }
   ],
   "source": [
    "train_helper = trainerHelper(scaled_train_data, scaled_test_data, train_labels, test_labels, step_size, sensors)\n",
    "new_train_helper = trainerHelper(scaled_train_data, scaled_test_data, train_labels, test_labels, step_size, sensors)"
   ]
  },
  {
   "cell_type": "code",
   "execution_count": 13,
   "metadata": {},
   "outputs": [
    {
     "data": {
      "text/plain": [
       "(1, 18)"
      ]
     },
     "execution_count": 13,
     "metadata": {},
     "output_type": "execute_result"
    }
   ],
   "source": [
    "batch_test, y_test = train_helper.get_train_batch()\n",
    "y_test.shape"
   ]
  },
  {
   "cell_type": "code",
   "execution_count": 14,
   "metadata": {
    "collapsed": true
   },
   "outputs": [],
   "source": [
    "# NETWORK ARCHITECTURE\n",
    "import tensorflow as tf\n",
    "tf.reset_default_graph()"
   ]
  },
  {
   "cell_type": "code",
   "execution_count": 15,
   "metadata": {
    "collapsed": true
   },
   "outputs": [],
   "source": [
    "window_size = 24\n",
    "num_sensor_data = 110\n",
    "number_classes = 18\n",
    "num_units = [window_size, window_size, window_size]"
   ]
  },
  {
   "cell_type": "code",
   "execution_count": 16,
   "metadata": {
    "collapsed": true
   },
   "outputs": [],
   "source": [
    "win_size = tf.constant(24, dtype=tf.float32)"
   ]
  },
  {
   "cell_type": "code",
   "execution_count": 17,
   "metadata": {
    "collapsed": true
   },
   "outputs": [],
   "source": [
    "# PLACEHOLDERS\n",
    "X = tf.placeholder(tf.float32, shape=[None,window_size,num_sensor_data])\n",
    "y = tf.placeholder(tf.float32, shape=[None, number_classes])\n",
    "hold_prob = tf.placeholder(tf.float32);"
   ]
  },
  {
   "cell_type": "code",
   "execution_count": 18,
   "metadata": {
    "collapsed": true
   },
   "outputs": [],
   "source": [
    "def LSTM_with_Dropout(num_units, hold):\n",
    "    _cell = tf.nn.rnn_cell.LSTMCell(num_units)\n",
    "    _cell = tf.contrib.rnn.DropoutWrapper(_cell, output_keep_prob = hold)\n",
    "    \n",
    "    return _cell"
   ]
  },
  {
   "cell_type": "code",
   "execution_count": 19,
   "metadata": {
    "collapsed": true
   },
   "outputs": [],
   "source": [
    "fw_cell = [LSTM_with_Dropout(n, hold_prob) for n in num_units]\n",
    "bw_cell = [LSTM_with_Dropout(n, hold_prob) for n in num_units]"
   ]
  },
  {
   "cell_type": "code",
   "execution_count": 20,
   "metadata": {
    "collapsed": true,
    "scrolled": true
   },
   "outputs": [],
   "source": [
    "bidi_output, _ , _ = tf.contrib.rnn.stack_bidirectional_rnn(fw_cell, bw_cell, tf.unstack(X,num_sensor_data,2), dtype=tf.float32)"
   ]
  },
  {
   "cell_type": "code",
   "execution_count": 21,
   "metadata": {},
   "outputs": [
    {
     "name": "stdout",
     "output_type": "stream",
     "text": [
      "Tensor(\"Reshape:0\", shape=(1, 110), dtype=float32)\n"
     ]
    }
   ],
   "source": [
    "fusion_output = tf.convert_to_tensor([tf.reduce_sum(t) / win_size for t in bidi_output])\n",
    "fusion_output_1 = tf.reshape(fusion_output, shape=[-1, num_sensor_data])\n",
    "print(fusion_output_1)"
   ]
  },
  {
   "cell_type": "code",
   "execution_count": 22,
   "metadata": {
    "collapsed": true
   },
   "outputs": [],
   "source": [
    "dense_ouput = tf.contrib.layers.fully_connected(fusion_output_1, 18, activation_fn=None)"
   ]
  },
  {
   "cell_type": "code",
   "execution_count": null,
   "metadata": {
    "collapsed": true
   },
   "outputs": [],
   "source": []
  },
  {
   "cell_type": "code",
   "execution_count": 23,
   "metadata": {
    "collapsed": true
   },
   "outputs": [],
   "source": [
    "cross_entropy = tf.reduce_mean(tf.nn.softmax_cross_entropy_with_logits_v2(labels=y,logits=dense_ouput))"
   ]
  },
  {
   "cell_type": "code",
   "execution_count": 24,
   "metadata": {
    "collapsed": true
   },
   "outputs": [],
   "source": [
    "optimizer = tf.train.AdamOptimizer(learning_rate=0.001)\n",
    "train = optimizer.minimize(cross_entropy)"
   ]
  },
  {
   "cell_type": "code",
   "execution_count": 25,
   "metadata": {
    "collapsed": true
   },
   "outputs": [],
   "source": [
    "init = tf.global_variables_initializer()"
   ]
  },
  {
   "cell_type": "code",
   "execution_count": 27,
   "metadata": {},
   "outputs": [
    {
     "name": "stdout",
     "output_type": "stream",
     "text": [
      "Training is on step 0\n",
      "Training is on step 100\n",
      "Training is on step 200\n",
      "Training is on step 300\n",
      "Training is on step 400\n",
      "Training is on step 500\n",
      "Training is on step 600\n",
      "Training is on step 700\n",
      "Training is on step 800\n",
      "Training is on step 900\n",
      "Training is on step 1000\n",
      "Training is on step 1100\n",
      "Training is on step 1200\n",
      "Training is on step 1300\n",
      "Training is on step 1400\n",
      "Training is on step 1500\n",
      "Training is on step 1600\n",
      "Training is on step 1700\n",
      "Training is on step 1800\n",
      "Training is on step 1900\n",
      "Training is on step 2000\n",
      "Training is on step 2100\n",
      "Training is on step 2200\n",
      "Training is on step 2300\n",
      "Training is on step 2400\n",
      "Training is on step 2500\n",
      "Training is on step 2600\n",
      "Training is on step 2700\n",
      "Training is on step 2800\n",
      "Training is on step 2900\n",
      "Training is on step 3000\n",
      "Training is on step 3100\n",
      "Training is on step 3200\n",
      "Training is on step 3300\n",
      "Training is on step 3400\n",
      "Training is on step 3500\n",
      "Training is on step 3600\n",
      "Training is on step 3700\n",
      "Training is on step 3800\n",
      "Training is on step 3900\n",
      "Training is on step 4000\n",
      "Training is on step 4100\n",
      "Training is on step 4200\n",
      "Training is on step 4300\n",
      "Training is on step 4400\n",
      "Training is on step 4500\n",
      "Training is on step 4600\n",
      "Training is on step 4700\n",
      "Training is on step 4800\n",
      "Training is on step 4900\n",
      "Training finished\n",
      "Evaluating on training\n",
      "Testing is on step 0\n",
      "Partial Accuracy\n",
      "1.0\n",
      "Testing is on step 100\n",
      "Partial Accuracy\n",
      "0.693069306931\n",
      "Testing is on step 200\n",
      "Partial Accuracy\n",
      "0.55223880597\n",
      "Testing is on step 300\n",
      "Partial Accuracy\n",
      "0.488372093023\n",
      "Testing is on step 400\n",
      "Partial Accuracy\n",
      "0.448877805486\n",
      "Testing finished\n"
     ]
    }
   ],
   "source": [
    "steps = 5000\n",
    "\n",
    "with tf.Session() as sess:\n",
    "    \n",
    "    sess.run(init)\n",
    "    \n",
    "    for i in range(steps):\n",
    "        \n",
    "        batch_x , batch_y = train_helper.get_train_batch()\n",
    "        \n",
    "        sess.run(train,feed_dict={X:batch_x,y:batch_y,hold_prob:0.75})\n",
    "        \n",
    "        if i%100 == 0:\n",
    "            print('Training is on step {}'.format(i))\n",
    "    \n",
    "    print('Training finished')\n",
    "    print('Evaluating on training')\n",
    "    test_steps = 500\n",
    "    count = 0.0\n",
    "    den = 0.0\n",
    "    for m in range(test_steps):\n",
    "        den = den + 1.0\n",
    "        batch_x , batch_y = new_train_helper.get_train_batch() \n",
    "        output = dense_ouput.eval(feed_dict={X:batch_x,y:batch_y,hold_prob:1.0})\n",
    "        match = np.argmax(output) == np.argmax(batch_y)\n",
    "        match = match.astype(float)\n",
    "        count = count + match\n",
    "        \n",
    "        if m%100 == 0:\n",
    "            print('Testing is on step {}'.format(m))\n",
    "            print('Partial Accuracy')\n",
    "            print(count / den)\n",
    "    \n",
    "    print('Testing finished')"
   ]
  },
  {
   "cell_type": "code",
   "execution_count": null,
   "metadata": {
    "collapsed": true
   },
   "outputs": [],
   "source": [
    "    "
   ]
  },
  {
   "cell_type": "code",
   "execution_count": null,
   "metadata": {
    "collapsed": true,
    "scrolled": true
   },
   "outputs": [],
   "source": []
  },
  {
   "cell_type": "code",
   "execution_count": null,
   "metadata": {
    "collapsed": true
   },
   "outputs": [],
   "source": []
  },
  {
   "cell_type": "code",
   "execution_count": null,
   "metadata": {
    "collapsed": true
   },
   "outputs": [],
   "source": []
  },
  {
   "cell_type": "code",
   "execution_count": null,
   "metadata": {
    "collapsed": true
   },
   "outputs": [],
   "source": []
  }
 ],
 "metadata": {
  "kernelspec": {
   "display_name": "Python 3",
   "language": "python",
   "name": "python3"
  },
  "language_info": {
   "codemirror_mode": {
    "name": "ipython",
    "version": 3
   },
   "file_extension": ".py",
   "mimetype": "text/x-python",
   "name": "python",
   "nbconvert_exporter": "python",
   "pygments_lexer": "ipython3",
   "version": "3.5.4"
  }
 },
 "nbformat": 4,
 "nbformat_minor": 2
}
