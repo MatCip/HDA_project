{
 "cells": [
  {
   "cell_type": "code",
   "execution_count": 1,
   "metadata": {
    "collapsed": true
   },
   "outputs": [],
   "source": [
    "import pandas as pd\n",
    "import numpy as np\n",
    "import tensorflow as tf\n",
    "tf.reset_default_graph()"
   ]
  },
  {
   "cell_type": "code",
   "execution_count": 64,
   "metadata": {
    "collapsed": true
   },
   "outputs": [],
   "source": [
    "window_size = 24\n",
    "num_sensor_data = 113\n",
    "number_classes = 18\n",
    "num_units = [window_size, window_size, window_size]"
   ]
  },
  {
   "cell_type": "code",
   "execution_count": 65,
   "metadata": {
    "collapsed": true
   },
   "outputs": [],
   "source": [
    "win_size = tf.constant(24, dtype=tf.float32)"
   ]
  },
  {
   "cell_type": "code",
   "execution_count": 66,
   "metadata": {
    "collapsed": true
   },
   "outputs": [],
   "source": [
    "# PLACEHOLDERS\n",
    "X = tf.placeholder(tf.float32, shape=[None,window_size,num_sensor_data])\n",
    "y = tf.placeholder(tf.float32, shape=[None, number_classes])\n",
    "hold_prob = tf.placeholder(tf.float32);"
   ]
  },
  {
   "cell_type": "code",
   "execution_count": 67,
   "metadata": {
    "collapsed": true
   },
   "outputs": [],
   "source": [
    "def LSTM_with_Dropout(num_units, hold):\n",
    "    _cell = tf.nn.rnn_cell.LSTMCell(num_units)\n",
    "    \n",
    "    return _cell"
   ]
  },
  {
   "cell_type": "code",
   "execution_count": 68,
   "metadata": {
    "collapsed": true
   },
   "outputs": [],
   "source": [
    "fw_cell = [LSTM_with_Dropout(n, hold_prob) for n in num_units]\n",
    "bw_cell = [LSTM_with_Dropout(n, hold_prob) for n in num_units]"
   ]
  },
  {
   "cell_type": "code",
   "execution_count": 69,
   "metadata": {
    "collapsed": true,
    "scrolled": true
   },
   "outputs": [],
   "source": [
    "bidi_output, _ , _ = tf.contrib.rnn.stack_bidirectional_rnn(fw_cell, bw_cell, tf.unstack(X,num_sensor_data,2), dtype=tf.float32)"
   ]
  },
  {
   "cell_type": "code",
   "execution_count": 70,
   "metadata": {},
   "outputs": [
    {
     "name": "stdout",
     "output_type": "stream",
     "text": [
      "Tensor(\"Reshape:0\", shape=(?, 5280), dtype=float32)\n"
     ]
    }
   ],
   "source": [
    "#fusion_output = tf.convert_to_tensor([tf.reduce_sum(t) / win_size for t in bidi_output])\n",
    "fusion_output_1 = tf.reshape(bidi_output, shape=[-1, num_sensor_data*window_size*2])\n",
    "print(fusion_output_1)"
   ]
  },
  {
   "cell_type": "code",
   "execution_count": 71,
   "metadata": {
    "collapsed": true
   },
   "outputs": [],
   "source": [
    "dense_output1 = tf.contrib.layers.fully_connected(fusion_output_1, 2640, activation_fn=tf.nn.relu)"
   ]
  },
  {
   "cell_type": "code",
   "execution_count": 72,
   "metadata": {
    "collapsed": true
   },
   "outputs": [],
   "source": [
    "dense_output2 = tf.contrib.layers.fully_connected(dense_output1, 1320, activation_fn=tf.nn.relu)"
   ]
  },
  {
   "cell_type": "code",
   "execution_count": 73,
   "metadata": {
    "collapsed": true
   },
   "outputs": [],
   "source": [
    "dense_output3 = tf.contrib.layers.fully_connected(dense_output2, 18, activation_fn=tf.nn.softmax)"
   ]
  },
  {
   "cell_type": "code",
   "execution_count": 78,
   "metadata": {
    "collapsed": true
   },
   "outputs": [],
   "source": [
    "cross_entropy = tf.reduce_mean(tf.squared_difference(y, dense_output3))"
   ]
  },
  {
   "cell_type": "code",
   "execution_count": 86,
   "metadata": {
    "collapsed": true
   },
   "outputs": [],
   "source": [
    "optimizer = tf.train.AdamOptimizer(learning_rate=0.001)\n",
    "train = optimizer.minimize(cross_entropy)"
   ]
  },
  {
   "cell_type": "code",
   "execution_count": 87,
   "metadata": {
    "collapsed": true
   },
   "outputs": [],
   "source": [
    "init = tf.global_variables_initializer()"
   ]
  },
  {
   "cell_type": "code",
   "execution_count": null,
   "metadata": {
    "collapsed": true
   },
   "outputs": [],
   "source": [
    "# model saver"
   ]
  },
  {
   "cell_type": "code",
   "execution_count": 89,
   "metadata": {},
   "outputs": [
    {
     "name": "stdout",
     "output_type": "stream",
     "text": [
      "Training is on step 0\n",
      "Training is on step 100\n",
      "Training is on step 200\n",
      "Training is on step 300\n",
      "Training is on step 400\n",
      "Training is on step 500\n",
      "Training is on step 600\n",
      "Training is on step 700\n",
      "Training is on step 800\n",
      "Training is on step 900\n",
      "Training is on step 1000\n",
      "Training is on step 1100\n",
      "Training is on step 1200\n",
      "Training is on step 1300\n",
      "Training is on step 1400\n",
      "Training is on step 1500\n",
      "Training is on step 1600\n",
      "Training is on step 1700\n",
      "Training is on step 1800\n",
      "Training is on step 1900\n",
      "Training is on step 2000\n",
      "Training is on step 2100\n",
      "Training is on step 2200\n",
      "Training is on step 2300\n",
      "Training is on step 2400\n",
      "Training is on step 2500\n",
      "Training is on step 2600\n",
      "Training is on step 2700\n",
      "Training is on step 2800\n",
      "Training is on step 2900\n",
      "Training is on step 3000\n",
      "Training is on step 3100\n",
      "Training is on step 3200\n",
      "Training is on step 3300\n",
      "Training is on step 3400\n",
      "Training is on step 3500\n",
      "Training is on step 3600\n",
      "Training is on step 3700\n",
      "Training is on step 3800\n",
      "Training is on step 3900\n",
      "Training is on step 4000\n",
      "Training is on step 4100\n",
      "Training is on step 4200\n",
      "Training is on step 4300\n",
      "Training is on step 4400\n",
      "Training is on step 4500\n",
      "Training is on step 4600\n",
      "Training is on step 4700\n",
      "Training is on step 4800\n",
      "Training is on step 4900\n",
      "Training is on step 5000\n",
      "Training is on step 5100\n",
      "Training is on step 5200\n",
      "Training is on step 5300\n",
      "Training is on step 5400\n",
      "Training is on step 5500\n",
      "Training is on step 5600\n",
      "Training is on step 5700\n",
      "Training is on step 5800\n",
      "Training is on step 5900\n",
      "Training is on step 6000\n",
      "Training is on step 6100\n",
      "Training is on step 6200\n",
      "Training is on step 6300\n",
      "Training is on step 6400\n",
      "Training is on step 6500\n",
      "Training is on step 6600\n",
      "Training is on step 6700\n",
      "Training is on step 6800\n",
      "Training is on step 6900\n",
      "Training is on step 7000\n",
      "Training is on step 7100\n",
      "Training is on step 7200\n",
      "Training is on step 7300\n",
      "Training is on step 7400\n",
      "Training is on step 7500\n",
      "Training is on step 7600\n",
      "Training is on step 7700\n",
      "Training is on step 7800\n",
      "Training is on step 7900\n",
      "Training is on step 8000\n",
      "Training is on step 8100\n",
      "Training is on step 8200\n",
      "Training is on step 8300\n",
      "Training is on step 8400\n",
      "Training is on step 8500\n",
      "Training is on step 8600\n",
      "Training is on step 8700\n",
      "Training is on step 8800\n",
      "Training is on step 8900\n",
      "Training is on step 9000\n",
      "Training is on step 9100\n",
      "Training is on step 9200\n",
      "Training is on step 9300\n",
      "Training is on step 9400\n",
      "Training is on step 9500\n",
      "Training is on step 9600\n",
      "Training is on step 9700\n",
      "Training is on step 9800\n",
      "Training is on step 9900\n",
      "Training finished\n",
      "Evaluating on training\n",
      "Testing is on step 0\n",
      "Partial Accuracy\n",
      "0.0\n",
      "Testing is on step 100\n",
      "Partial Accuracy\n",
      "0.326732673267\n",
      "Testing is on step 200\n",
      "Partial Accuracy\n",
      "0.348258706468\n",
      "Testing is on step 300\n",
      "Partial Accuracy\n",
      "0.34219269103\n",
      "Testing is on step 400\n",
      "Partial Accuracy\n",
      "0.346633416459\n",
      "Testing finished\n"
     ]
    }
   ],
   "source": [
    "steps = 10000\n",
    "\n",
    "with tf.Session() as sess:\n",
    "    \n",
    "    sess.run(init)\n",
    "    \n",
    "    for i in range(steps):\n",
    "        \n",
    "        batch_x , batch_y = train_helper.get_train_batch()\n",
    "        \n",
    "        sess.run(train,feed_dict={X:batch_x,y:batch_y,hold_prob:0.9})\n",
    "        \n",
    "        if i%100 == 0:\n",
    "            print('Training is on step {}'.format(i))\n",
    "    \n",
    "    print('Training finished')\n",
    "    print('Evaluating on training')\n",
    "    test_steps = 500\n",
    "    count = 0.0\n",
    "    den = 0.0\n",
    "    for m in range(test_steps):\n",
    "        den = den + 1.0\n",
    "        batch_x , batch_y = new_train_helper.get_train_batch() \n",
    "        output = dense_output3.eval(feed_dict={X:batch_x,y:batch_y,hold_prob:1.0})\n",
    "        match = np.argmax(output) == np.argmax(batch_y)\n",
    "        match = match.astype(float)\n",
    "        count = count + match\n",
    "        \n",
    "        if m%100 == 0:\n",
    "            print('Testing is on step {}'.format(m))\n",
    "            print('Partial Accuracy')\n",
    "            print(count / den)\n",
    "    \n",
    "    print('Testing finished')"
   ]
  },
  {
   "cell_type": "code",
   "execution_count": 90,
   "metadata": {},
   "outputs": [
    {
     "name": "stdout",
     "output_type": "stream",
     "text": [
      "0.342\n"
     ]
    }
   ],
   "source": [
    "print(count/den)"
   ]
  },
  {
   "cell_type": "code",
   "execution_count": null,
   "metadata": {
    "collapsed": true,
    "scrolled": true
   },
   "outputs": [],
   "source": []
  },
  {
   "cell_type": "code",
   "execution_count": null,
   "metadata": {
    "collapsed": true
   },
   "outputs": [],
   "source": []
  },
  {
   "cell_type": "code",
   "execution_count": null,
   "metadata": {
    "collapsed": true
   },
   "outputs": [],
   "source": []
  },
  {
   "cell_type": "code",
   "execution_count": null,
   "metadata": {
    "collapsed": true
   },
   "outputs": [],
   "source": []
  }
 ],
 "metadata": {
  "kernelspec": {
   "display_name": "Python 3",
   "language": "python",
   "name": "python3"
  },
  "language_info": {
   "codemirror_mode": {
    "name": "ipython",
    "version": 3
   },
   "file_extension": ".py",
   "mimetype": "text/x-python",
   "name": "python",
   "nbconvert_exporter": "python",
   "pygments_lexer": "ipython3",
   "version": "3.5.4"
  }
 },
 "nbformat": 4,
 "nbformat_minor": 2
}
