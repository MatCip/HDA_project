{
 "cells": [
  {
   "cell_type": "code",
   "execution_count": 32,
   "metadata": {},
   "outputs": [],
   "source": [
    "import pandas as pd\n",
    "import numpy as np\n",
    "from keras.models import Sequential\n",
    "from keras.layers import Dense, Conv1D, LSTM, CuDNNLSTM, Flatten, Dropout\n",
    "from keras import optimizers"
   ]
  },
  {
   "cell_type": "code",
   "execution_count": 33,
   "metadata": {
    "collapsed": true
   },
   "outputs": [],
   "source": [
    "data = pd.read_csv(\"drill1Opportunity.csv\",header=None)\n",
    "data.rename(columns ={110: 'labels'}, inplace =True)"
   ]
  },
  {
   "cell_type": "code",
   "execution_count": 34,
   "metadata": {},
   "outputs": [
    {
     "data": {
      "text/plain": [
       "(54915, 18)"
      ]
     },
     "execution_count": 34,
     "metadata": {},
     "output_type": "execute_result"
    }
   ],
   "source": [
    "from sklearn.preprocessing import OneHotEncoder\n",
    "encoder = OneHotEncoder()\n",
    "one_hot_labels = encoder.fit_transform(data['labels'].values.reshape(-1,1)).toarray()\n",
    "one_hot_labels.shape"
   ]
  },
  {
   "cell_type": "code",
   "execution_count": 35,
   "metadata": {},
   "outputs": [],
   "source": [
    "from sklearn.preprocessing import MinMaxScaler\n",
    "scaler = MinMaxScaler()\n",
    "data.drop(['labels'], 1, inplace=True)\n",
    "data.shape\n",
    "data = scaler.fit_transform(data)"
   ]
  },
  {
   "cell_type": "code",
   "execution_count": 39,
   "metadata": {
    "collapsed": true
   },
   "outputs": [],
   "source": [
    "class trainerHelper():\n",
    "    \n",
    "    def __init__(self, data, labels, win_size, num_sensor_data, num_classes):\n",
    "        self.data = data\n",
    "        self.labels = labels\n",
    "        self.win_size = win_size\n",
    "        self.sensor_data = num_sensor_data\n",
    "        self.num_classes = num_classes\n",
    "        self.data_length = self.data.shape[0]\n",
    "        print(self.data_length)\n",
    "        self.start = 0\n",
    "        \n",
    "    def windows(self):\n",
    " \n",
    "        while self.start + self.win_size < self.data_length:\n",
    "            yield int(self.start), int(self.start + self.win_size)\n",
    "            self.start += (self.win_size/2)\n",
    "    \n",
    "    def segment_data(self):\n",
    "        self.start = 0\n",
    "        segments = np.empty((0, self.win_size, 110))\n",
    "        labels= np.empty((0, self.num_classes))\n",
    "        for (start, end) in self.windows():\n",
    "            x = np.zeros((1, self.win_size, 110))\n",
    "            x[0,:] = self.data[start:end,:]\n",
    "            label = self.labels[start:end,:]\n",
    "            if(x.shape[1] == self.win_size):\n",
    "                segments = np.vstack([segments,x])\n",
    "                lb = np.zeros((1, self.num_classes))\n",
    "                lb[0,:] = label[-1]\n",
    "                labels = np.vstack([labels,lb])\n",
    "        return segments, labels"
   ]
  },
  {
   "cell_type": "code",
   "execution_count": 40,
   "metadata": {},
   "outputs": [
    {
     "name": "stdout",
     "output_type": "stream",
     "text": [
      "54915\n"
     ]
    }
   ],
   "source": [
    "trainer_helper = trainerHelper(data, one_hot_labels, 15, 110, 18)"
   ]
  },
  {
   "cell_type": "code",
   "execution_count": 41,
   "metadata": {},
   "outputs": [],
   "source": [
    "segments, labels = trainer_helper.segment_data()"
   ]
  },
  {
   "cell_type": "code",
   "execution_count": 42,
   "metadata": {},
   "outputs": [
    {
     "data": {
      "text/plain": [
       "(7320, 15, 110)"
      ]
     },
     "execution_count": 42,
     "metadata": {},
     "output_type": "execute_result"
    }
   ],
   "source": [
    "segments.shape"
   ]
  },
  {
   "cell_type": "code",
   "execution_count": 43,
   "metadata": {},
   "outputs": [
    {
     "data": {
      "text/plain": [
       "(7320, 18)"
      ]
     },
     "execution_count": 43,
     "metadata": {},
     "output_type": "execute_result"
    }
   ],
   "source": [
    "labels.shape"
   ]
  },
  {
   "cell_type": "code",
   "execution_count": 44,
   "metadata": {
    "collapsed": true
   },
   "outputs": [],
   "source": [
    "tot_segments = segments\n",
    "tot_labels = labels"
   ]
  },
  {
   "cell_type": "code",
   "execution_count": 45,
   "metadata": {},
   "outputs": [],
   "source": [
    "# maybe we need to normalize the data\n",
    "num_rows = segments.shape[1]\n",
    "num_cols = segments.shape[2]\n",
    "trainSplitRatio = 0.8\n",
    "# reshaping segments for network input\n",
    "reshapedSegments = segments.transpose(0,2,1)\n",
    "# splitting segments in training and testing data\n",
    "trainSplit = np.random.rand(len(reshapedSegments)) < trainSplitRatio\n",
    "trainX = reshapedSegments[trainSplit]\n",
    "testX = reshapedSegments[~trainSplit]\n",
    "trainY = labels[trainSplit]\n",
    "testY = labels[~trainSplit]"
   ]
  },
  {
   "cell_type": "code",
   "execution_count": 46,
   "metadata": {},
   "outputs": [
    {
     "data": {
      "text/plain": [
       "(5845, 110, 15)"
      ]
     },
     "execution_count": 46,
     "metadata": {},
     "output_type": "execute_result"
    }
   ],
   "source": [
    "trainX.shape"
   ]
  },
  {
   "cell_type": "code",
   "execution_count": 47,
   "metadata": {},
   "outputs": [
    {
     "name": "stdout",
     "output_type": "stream",
     "text": [
      "[ 0.56200975  0.55776977  0.57197371  0.56794573  0.57070172  0.56476574\n",
      "  0.55416578  0.55904176  0.55882976  0.55522578  0.55819377  0.54526182\n",
      "  0.56010176  0.55458978  0.54610982]\n"
     ]
    }
   ],
   "source": [
    "print(reshapedSegments[0][0])"
   ]
  },
  {
   "cell_type": "code",
   "execution_count": null,
   "metadata": {
    "collapsed": true
   },
   "outputs": [],
   "source": []
  },
  {
   "cell_type": "code",
   "execution_count": 48,
   "metadata": {
    "collapsed": true
   },
   "outputs": [],
   "source": [
    "model = Sequential()"
   ]
  },
  {
   "cell_type": "code",
   "execution_count": 49,
   "metadata": {
    "collapsed": true
   },
   "outputs": [],
   "source": [
    "win_size = 15\n",
    "classes = 18\n",
    "num_sensors = 110\n",
    "kernel_height = 5\n",
    "inputshape = (num_sensors, win_size)"
   ]
  },
  {
   "cell_type": "code",
   "execution_count": 50,
   "metadata": {
    "collapsed": true
   },
   "outputs": [],
   "source": [
    "model.add(Conv1D(64, kernel_size=kernel_height, strides=1,\n",
    "                 activation='relu',\n",
    "                 input_shape=(num_sensors,15)))"
   ]
  },
  {
   "cell_type": "code",
   "execution_count": 51,
   "metadata": {
    "collapsed": true
   },
   "outputs": [],
   "source": [
    "model.add(Conv1D(64, kernel_size=kernel_height, strides=1,\n",
    "                 activation='relu'))"
   ]
  },
  {
   "cell_type": "code",
   "execution_count": 52,
   "metadata": {
    "collapsed": true
   },
   "outputs": [],
   "source": [
    "model.add(Conv1D(64, kernel_size=kernel_height, strides=1,\n",
    "                 activation='relu'))"
   ]
  },
  {
   "cell_type": "code",
   "execution_count": 53,
   "metadata": {
    "collapsed": true
   },
   "outputs": [],
   "source": [
    "model.add(Conv1D(64, kernel_size=kernel_height, strides=1,\n",
    "                 activation='relu'))"
   ]
  },
  {
   "cell_type": "code",
   "execution_count": 54,
   "metadata": {
    "collapsed": true
   },
   "outputs": [],
   "source": [
    "model.add(Dropout(0.5))"
   ]
  },
  {
   "cell_type": "code",
   "execution_count": 55,
   "metadata": {
    "collapsed": true
   },
   "outputs": [],
   "source": [
    "model.add(LSTM(128, return_sequences=True))"
   ]
  },
  {
   "cell_type": "code",
   "execution_count": 56,
   "metadata": {
    "collapsed": true
   },
   "outputs": [],
   "source": [
    "model.add(Dropout(0.5))"
   ]
  },
  {
   "cell_type": "code",
   "execution_count": 57,
   "metadata": {
    "collapsed": true
   },
   "outputs": [],
   "source": [
    "model.add(LSTM(128, return_sequences=False))"
   ]
  },
  {
   "cell_type": "code",
   "execution_count": 58,
   "metadata": {
    "collapsed": true
   },
   "outputs": [],
   "source": [
    "model.add(Dropout(0.5))"
   ]
  },
  {
   "cell_type": "code",
   "execution_count": 59,
   "metadata": {
    "collapsed": true
   },
   "outputs": [],
   "source": [
    "model.add(Dense(classes, activation='softmax'))"
   ]
  },
  {
   "cell_type": "code",
   "execution_count": 60,
   "metadata": {
    "collapsed": true
   },
   "outputs": [],
   "source": [
    "adam = optimizers.Adam(lr=0.001, decay=1e-6)\n",
    "model.compile(loss='categorical_crossentropy', optimizer=adam, metrics=['accuracy'])"
   ]
  },
  {
   "cell_type": "code",
   "execution_count": 61,
   "metadata": {},
   "outputs": [
    {
     "name": "stdout",
     "output_type": "stream",
     "text": [
      "conv1d_5\n",
      "conv1d_6\n",
      "conv1d_7\n",
      "conv1d_8\n",
      "dropout_4\n",
      "lstm_3\n",
      "dropout_5\n",
      "lstm_4\n",
      "dropout_6\n",
      "dense_2\n"
     ]
    }
   ],
   "source": [
    "for layer in model.layers:\n",
    "    print(layer.name)"
   ]
  },
  {
   "cell_type": "code",
   "execution_count": null,
   "metadata": {},
   "outputs": [
    {
     "name": "stdout",
     "output_type": "stream",
     "text": [
      "Train on 4676 samples, validate on 1169 samples\n",
      "Epoch 1/100\n",
      "4676/4676 [==============================] - 40s 9ms/step - loss: 2.4713 - acc: 0.3430 - val_loss: 2.2315 - val_acc: 0.4166\n",
      "Epoch 2/100\n",
      "4676/4676 [==============================] - 38s 8ms/step - loss: 2.4052 - acc: 0.3552 - val_loss: 2.0833 - val_acc: 0.4166\n",
      "Epoch 3/100\n",
      "4676/4676 [==============================] - 39s 8ms/step - loss: 2.1766 - acc: 0.3589 - val_loss: 1.9706 - val_acc: 0.4021\n",
      "Epoch 4/100\n",
      "4676/4676 [==============================] - 40s 8ms/step - loss: 1.9732 - acc: 0.3843 - val_loss: 1.5231 - val_acc: 0.4671\n",
      "Epoch 5/100\n",
      "4676/4676 [==============================] - 40s 9ms/step - loss: 1.6577 - acc: 0.4444 - val_loss: 1.2840 - val_acc: 0.5449\n",
      "Epoch 6/100\n",
      "4676/4676 [==============================] - 38s 8ms/step - loss: 1.4890 - acc: 0.4865 - val_loss: 1.1281 - val_acc: 0.5843\n",
      "Epoch 7/100\n",
      "4676/4676 [==============================] - 41s 9ms/step - loss: 1.2670 - acc: 0.5453 - val_loss: 0.9474 - val_acc: 0.6433\n",
      "Epoch 8/100\n",
      "4676/4676 [==============================] - 38s 8ms/step - loss: 1.1132 - acc: 0.5778 - val_loss: 0.8540 - val_acc: 0.6553\n",
      "Epoch 9/100\n",
      "4676/4676 [==============================] - 41s 9ms/step - loss: 1.0404 - acc: 0.5958 - val_loss: 0.8848 - val_acc: 0.6570\n",
      "Epoch 10/100\n",
      "4676/4676 [==============================] - 40s 9ms/step - loss: 0.9071 - acc: 0.6476 - val_loss: 0.7131 - val_acc: 0.7340\n",
      "Epoch 11/100\n",
      "4676/4676 [==============================] - 42s 9ms/step - loss: 0.8970 - acc: 0.6572 - val_loss: 0.7125 - val_acc: 0.7134\n",
      "Epoch 12/100\n",
      "4676/4676 [==============================] - 40s 9ms/step - loss: 0.8642 - acc: 0.6666 - val_loss: 0.7068 - val_acc: 0.7057\n",
      "Epoch 13/100\n",
      "4676/4676 [==============================] - 39s 8ms/step - loss: 0.8063 - acc: 0.6769 - val_loss: 0.6351 - val_acc: 0.7459\n",
      "Epoch 14/100\n",
      "4676/4676 [==============================] - 39s 8ms/step - loss: 0.7599 - acc: 0.6972 - val_loss: 0.7673 - val_acc: 0.6972\n",
      "Epoch 15/100\n",
      "4676/4676 [==============================] - 39s 8ms/step - loss: 0.7252 - acc: 0.7034 - val_loss: 0.6904 - val_acc: 0.7254\n",
      "Epoch 16/100\n",
      "4676/4676 [==============================] - 40s 9ms/step - loss: 0.7020 - acc: 0.7149 - val_loss: 0.6052 - val_acc: 0.7707\n",
      "Epoch 17/100\n",
      "4676/4676 [==============================] - 40s 8ms/step - loss: 0.7137 - acc: 0.7023 - val_loss: 0.6751 - val_acc: 0.7211\n",
      "Epoch 18/100\n",
      "4676/4676 [==============================] - 39s 8ms/step - loss: 0.6823 - acc: 0.7179 - val_loss: 0.5103 - val_acc: 0.7870\n",
      "Epoch 19/100\n",
      "4676/4676 [==============================] - 40s 9ms/step - loss: 0.6704 - acc: 0.7263 - val_loss: 0.6611 - val_acc: 0.7485\n",
      "Epoch 20/100\n",
      "4676/4676 [==============================] - 41s 9ms/step - loss: 0.6108 - acc: 0.7423 - val_loss: 0.5171 - val_acc: 0.8033\n",
      "Epoch 21/100\n",
      "4676/4676 [==============================] - 39s 8ms/step - loss: 0.5705 - acc: 0.7633 - val_loss: 0.4622 - val_acc: 0.8281\n",
      "Epoch 22/100\n",
      "4676/4676 [==============================] - 40s 9ms/step - loss: 0.5438 - acc: 0.7740 - val_loss: 0.4952 - val_acc: 0.8041\n",
      "Epoch 23/100\n",
      "4676/4676 [==============================] - 41s 9ms/step - loss: 0.6121 - acc: 0.7541 - val_loss: 0.6635 - val_acc: 0.7425\n",
      "Epoch 24/100\n",
      "4676/4676 [==============================] - 39s 8ms/step - loss: 0.5605 - acc: 0.7633 - val_loss: 0.4838 - val_acc: 0.8024\n",
      "Epoch 25/100\n",
      "4676/4676 [==============================] - 40s 9ms/step - loss: 0.5393 - acc: 0.7680 - val_loss: 0.4653 - val_acc: 0.8169\n",
      "Epoch 26/100\n",
      "4676/4676 [==============================] - 39s 8ms/step - loss: 0.4970 - acc: 0.7923 - val_loss: 0.4935 - val_acc: 0.8067\n",
      "Epoch 27/100\n",
      "4676/4676 [==============================] - 39s 8ms/step - loss: 0.5224 - acc: 0.7765 - val_loss: 0.4772 - val_acc: 0.8144\n",
      "Epoch 28/100\n",
      "4676/4676 [==============================] - 40s 9ms/step - loss: 0.4787 - acc: 0.7956 - val_loss: 0.7159 - val_acc: 0.7357\n",
      "Epoch 29/100\n",
      "4676/4676 [==============================] - 39s 8ms/step - loss: 0.5335 - acc: 0.7759 - val_loss: 0.4834 - val_acc: 0.8272\n",
      "Epoch 30/100\n",
      "4676/4676 [==============================] - 133s 28ms/step - loss: 0.4958 - acc: 0.7879 - val_loss: 0.5519 - val_acc: 0.7887\n",
      "Epoch 31/100\n",
      "4676/4676 [==============================] - 1704s 364ms/step - loss: 0.4902 - acc: 0.7861 - val_loss: 0.4510 - val_acc: 0.8315\n",
      "Epoch 32/100\n",
      "4676/4676 [==============================] - 79s 17ms/step - loss: 0.4612 - acc: 0.8013 - val_loss: 0.4215 - val_acc: 0.8409\n",
      "Epoch 33/100\n",
      "4676/4676 [==============================] - 41s 9ms/step - loss: 0.4497 - acc: 0.8182 - val_loss: 0.4739 - val_acc: 0.8127\n",
      "Epoch 34/100\n",
      "4676/4676 [==============================] - 39s 8ms/step - loss: 0.4556 - acc: 0.8099 - val_loss: 0.4439 - val_acc: 0.8323\n",
      "Epoch 35/100\n",
      "4676/4676 [==============================] - 38s 8ms/step - loss: 0.4525 - acc: 0.8067 - val_loss: 0.3961 - val_acc: 0.8529\n",
      "Epoch 36/100\n",
      "4676/4676 [==============================] - 39s 8ms/step - loss: 0.4261 - acc: 0.8229 - val_loss: 0.4793 - val_acc: 0.8281\n",
      "Epoch 37/100\n",
      "4676/4676 [==============================] - 39s 8ms/step - loss: 0.4216 - acc: 0.8208 - val_loss: 0.4106 - val_acc: 0.8435\n",
      "Epoch 38/100\n",
      "4676/4676 [==============================] - 39s 8ms/step - loss: 0.4047 - acc: 0.8302 - val_loss: 0.3912 - val_acc: 0.8520\n",
      "Epoch 39/100\n",
      "4676/4676 [==============================] - 39s 8ms/step - loss: 0.3885 - acc: 0.8390 - val_loss: 0.4262 - val_acc: 0.8392\n",
      "Epoch 40/100\n",
      "4676/4676 [==============================] - 40s 8ms/step - loss: 0.4221 - acc: 0.8221 - val_loss: 0.4286 - val_acc: 0.8503\n",
      "Epoch 41/100\n",
      "4676/4676 [==============================] - 38s 8ms/step - loss: 0.3955 - acc: 0.8432 - val_loss: 0.4688 - val_acc: 0.8229\n",
      "Epoch 42/100\n",
      "4676/4676 [==============================] - 39s 8ms/step - loss: 0.3977 - acc: 0.8325 - val_loss: 0.4115 - val_acc: 0.8469\n",
      "Epoch 43/100\n",
      "4676/4676 [==============================] - 39s 8ms/step - loss: 0.3942 - acc: 0.8338 - val_loss: 0.4245 - val_acc: 0.8435\n",
      "Epoch 44/100\n",
      "4676/4676 [==============================] - 38s 8ms/step - loss: 0.4037 - acc: 0.8340 - val_loss: 0.4258 - val_acc: 0.8494\n",
      "Epoch 45/100\n",
      "4676/4676 [==============================] - 39s 8ms/step - loss: 0.3739 - acc: 0.8462 - val_loss: 0.4660 - val_acc: 0.8306\n",
      "Epoch 46/100\n",
      "4676/4676 [==============================] - 39s 8ms/step - loss: 0.3755 - acc: 0.8447 - val_loss: 0.4082 - val_acc: 0.8537\n",
      "Epoch 47/100\n",
      "4676/4676 [==============================] - 39s 8ms/step - loss: 0.3821 - acc: 0.8392 - val_loss: 0.3794 - val_acc: 0.8503\n",
      "Epoch 48/100\n",
      "4676/4676 [==============================] - 39s 8ms/step - loss: 0.3605 - acc: 0.8484 - val_loss: 0.4504 - val_acc: 0.8400\n",
      "Epoch 49/100\n",
      "4676/4676 [==============================] - 113s 24ms/step - loss: 0.3648 - acc: 0.8522 - val_loss: 0.3738 - val_acc: 0.8683\n",
      "Epoch 50/100\n",
      "4676/4676 [==============================] - 40s 9ms/step - loss: 0.3418 - acc: 0.8561 - val_loss: 0.3667 - val_acc: 0.8802\n",
      "Epoch 51/100\n",
      "4676/4676 [==============================] - 42s 9ms/step - loss: 0.3453 - acc: 0.8574 - val_loss: 0.3323 - val_acc: 0.8828\n",
      "Epoch 52/100\n",
      "4676/4676 [==============================] - 39s 8ms/step - loss: 0.3181 - acc: 0.8749 - val_loss: 0.3284 - val_acc: 0.8896\n",
      "Epoch 53/100\n",
      "4676/4676 [==============================] - 41s 9ms/step - loss: 0.3247 - acc: 0.8685 - val_loss: 0.3404 - val_acc: 0.8794\n",
      "Epoch 54/100\n",
      "3400/4676 [====================>.........] - ETA: 10s - loss: 0.3536 - acc: 0.8556"
     ]
    }
   ],
   "source": [
    "batchSize = 100\n",
    "model.fit(trainX,trainY, validation_split=1-trainSplitRatio,epochs=100,batch_size=batchSize,verbose=1)\n",
    "score = model.evaluate(testX,testY,verbose=1)\n",
    "model.save('tommyCNNmodel.h5')"
   ]
  },
  {
   "cell_type": "code",
   "execution_count": null,
   "metadata": {
    "collapsed": true
   },
   "outputs": [],
   "source": []
  }
 ],
 "metadata": {
  "kernelspec": {
   "display_name": "Python 3",
   "language": "python",
   "name": "python3"
  },
  "language_info": {
   "codemirror_mode": {
    "name": "ipython",
    "version": 3
   },
   "file_extension": ".py",
   "mimetype": "text/x-python",
   "name": "python",
   "nbconvert_exporter": "python",
   "pygments_lexer": "ipython3",
   "version": "3.5.4"
  }
 },
 "nbformat": 4,
 "nbformat_minor": 2
}
