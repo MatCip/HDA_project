{
 "cells": [
  {
   "cell_type": "code",
   "execution_count": 1,
   "metadata": {},
   "outputs": [
    {
     "name": "stderr",
     "output_type": "stream",
     "text": [
      "Using TensorFlow backend.\n"
     ]
    }
   ],
   "source": [
    "import pandas as pd\n",
    "import numpy as np\n",
    "from keras.models import Sequential\n",
    "from keras.layers import Dense, Conv1D, LSTM, CuDNNLSTM, Flatten, Dropout\n",
    "from keras import optimizers\n",
    "from keras.utils import to_categorical"
   ]
  },
  {
   "cell_type": "code",
   "execution_count": 2,
   "metadata": {
    "collapsed": true
   },
   "outputs": [],
   "source": [
    "data = pd.read_csv(\"S1-drill.csv\",header=None)\n",
    "data.drop([35,36,37], axis=1, inplace=True) # drop columns 35,36,37 they're all zeros\n",
    "data.columns = [i for i in range(data.shape[1])]\n",
    "data.rename(columns ={110: 'labels'}, inplace =True)"
   ]
  },
  {
   "cell_type": "code",
   "execution_count": 3,
   "metadata": {},
   "outputs": [
    {
     "data": {
      "text/plain": [
       "(54915, 18)"
      ]
     },
     "execution_count": 3,
     "metadata": {},
     "output_type": "execute_result"
    }
   ],
   "source": [
    "from sklearn.preprocessing import OneHotEncoder\n",
    "encoder = OneHotEncoder()\n",
    "one_hot_labels = encoder.fit_transform(data['labels'].values.reshape(-1,1)).toarray()\n",
    "one_hot_labels.shape"
   ]
  },
  {
   "cell_type": "code",
   "execution_count": 4,
   "metadata": {
    "collapsed": true
   },
   "outputs": [],
   "source": [
    "from sklearn.preprocessing import MinMaxScaler\n",
    "scaler = MinMaxScaler()\n",
    "data.drop(['labels'], 1, inplace=True)\n",
    "data.shape\n",
    "data = scaler.fit_transform(data)"
   ]
  },
  {
   "cell_type": "code",
   "execution_count": 5,
   "metadata": {
    "collapsed": true
   },
   "outputs": [],
   "source": [
    "class trainerHelper():\n",
    "    \n",
    "    def __init__(self, data, labels, win_size, num_sensor_data, num_classes):\n",
    "        self.data = data\n",
    "        self.labels = labels\n",
    "        self.win_size = win_size\n",
    "        self.sensor_data = num_sensor_data\n",
    "        self.num_classes = num_classes\n",
    "        self.data_length = self.data.shape[0]\n",
    "        print(self.data_length)\n",
    "        self.start = 0\n",
    "        \n",
    "    def windows(self):\n",
    " \n",
    "        while self.start + self.win_size < self.data_length:\n",
    "            yield int(self.start), int(self.start + self.win_size)\n",
    "            self.start += (self.win_size/2)\n",
    "    \n",
    "    def segment_data(self):\n",
    "        self.start = 0\n",
    "        segments = np.empty((0, self.win_size, 110))\n",
    "        labels= np.empty((0, self.num_classes))\n",
    "        for (start, end) in self.windows():\n",
    "            x = np.zeros((1, self.win_size, 110))\n",
    "            x[0,:] = self.data[start:end,:]\n",
    "            label = self.labels[start:end,:]\n",
    "            if(x.shape[1] == self.win_size):\n",
    "                segments = np.vstack([segments,x])\n",
    "                lb = np.zeros((1, self.num_classes))\n",
    "                lb[0,:] = label[-1]\n",
    "                labels = np.vstack([labels,lb])\n",
    "        return segments, labels"
   ]
  },
  {
   "cell_type": "code",
   "execution_count": 6,
   "metadata": {},
   "outputs": [
    {
     "name": "stdout",
     "output_type": "stream",
     "text": [
      "54915\n"
     ]
    }
   ],
   "source": [
    "trainer_helper = trainerHelper(data, one_hot_labels, 15, 110, 18)"
   ]
  },
  {
   "cell_type": "code",
   "execution_count": 7,
   "metadata": {
    "collapsed": true
   },
   "outputs": [],
   "source": [
    "segments, labels = trainer_helper.segment_data()"
   ]
  },
  {
   "cell_type": "code",
   "execution_count": 8,
   "metadata": {},
   "outputs": [
    {
     "data": {
      "text/plain": [
       "(7320, 15, 110)"
      ]
     },
     "execution_count": 8,
     "metadata": {},
     "output_type": "execute_result"
    }
   ],
   "source": [
    "segments.shape"
   ]
  },
  {
   "cell_type": "code",
   "execution_count": 9,
   "metadata": {},
   "outputs": [
    {
     "data": {
      "text/plain": [
       "(7320, 18)"
      ]
     },
     "execution_count": 9,
     "metadata": {},
     "output_type": "execute_result"
    }
   ],
   "source": [
    "labels.shape"
   ]
  },
  {
   "cell_type": "code",
   "execution_count": 10,
   "metadata": {
    "collapsed": true
   },
   "outputs": [],
   "source": [
    "tot_segments = segments\n",
    "tot_labels = labels"
   ]
  },
  {
   "cell_type": "code",
   "execution_count": 11,
   "metadata": {
    "collapsed": true
   },
   "outputs": [],
   "source": [
    "# maybe we need to normalize the data\n",
    "num_rows = segments.shape[1]\n",
    "num_cols = segments.shape[2]\n",
    "trainSplitRatio = 0.8\n",
    "# reshaping segments for network input\n",
    "reshapedSegments = segments.transpose(0,2,1)\n",
    "# splitting segments in training and testing data\n",
    "trainSplit = np.random.rand(len(reshapedSegments)) < trainSplitRatio\n",
    "trainX = reshapedSegments[trainSplit]\n",
    "testX = reshapedSegments[~trainSplit]\n",
    "trainY = labels[trainSplit]\n",
    "testY = labels[~trainSplit]"
   ]
  },
  {
   "cell_type": "code",
   "execution_count": 12,
   "metadata": {},
   "outputs": [
    {
     "data": {
      "text/plain": [
       "(5915, 110, 15)"
      ]
     },
     "execution_count": 12,
     "metadata": {},
     "output_type": "execute_result"
    }
   ],
   "source": [
    "trainX.shape"
   ]
  },
  {
   "cell_type": "code",
   "execution_count": 13,
   "metadata": {},
   "outputs": [
    {
     "name": "stdout",
     "output_type": "stream",
     "text": [
      "[ 0.56200975  0.55776977  0.57197371  0.56794573  0.57070172  0.56476574\n",
      "  0.55416578  0.55904176  0.55882976  0.55522578  0.55819377  0.54526182\n",
      "  0.56010176  0.55458978  0.54610982]\n"
     ]
    }
   ],
   "source": [
    "print(reshapedSegments[0][0])"
   ]
  },
  {
   "cell_type": "code",
   "execution_count": null,
   "metadata": {
    "collapsed": true
   },
   "outputs": [],
   "source": []
  },
  {
   "cell_type": "code",
   "execution_count": 14,
   "metadata": {
    "collapsed": true
   },
   "outputs": [],
   "source": [
    "model = Sequential() #permettere di usare la struttura a stack"
   ]
  },
  {
   "cell_type": "code",
   "execution_count": 15,
   "metadata": {
    "collapsed": true
   },
   "outputs": [],
   "source": [
    "win_size = 15\n",
    "classes = 18\n",
    "num_sensors = 110\n",
    "kernel_height = 5\n",
    "inputshape = (num_sensors, win_size)"
   ]
  },
  {
   "cell_type": "code",
   "execution_count": 16,
   "metadata": {
    "collapsed": true
   },
   "outputs": [],
   "source": [
    "model.add(Conv1D(64, kernel_size=kernel_height, strides=1,\n",
    "                 activation='relu',\n",
    "                 input_shape=(num_sensors,15)))"
   ]
  },
  {
   "cell_type": "code",
   "execution_count": 17,
   "metadata": {
    "collapsed": true
   },
   "outputs": [],
   "source": [
    "model.add(Conv1D(64, kernel_size=kernel_height, strides=1,\n",
    "                 activation='relu'))"
   ]
  },
  {
   "cell_type": "code",
   "execution_count": 18,
   "metadata": {
    "collapsed": true
   },
   "outputs": [],
   "source": [
    "model.add(Conv1D(64, kernel_size=kernel_height, strides=1,\n",
    "                 activation='relu'))"
   ]
  },
  {
   "cell_type": "code",
   "execution_count": 19,
   "metadata": {
    "collapsed": true
   },
   "outputs": [],
   "source": [
    "model.add(Conv1D(64, kernel_size=kernel_height, strides=1,\n",
    "                 activation='relu'))"
   ]
  },
  {
   "cell_type": "code",
   "execution_count": 20,
   "metadata": {
    "collapsed": true
   },
   "outputs": [],
   "source": [
    "model.add(Dropout(0.5))"
   ]
  },
  {
   "cell_type": "code",
   "execution_count": 21,
   "metadata": {},
   "outputs": [
    {
     "name": "stdout",
     "output_type": "stream",
     "text": [
      "WARNING:tensorflow:From C:\\Users\\Tommy Azzino\\Anaconda3\\envs\\tfdeeplearning\\lib\\site-packages\\keras\\backend\\tensorflow_backend.py:1238: calling reduce_sum (from tensorflow.python.ops.math_ops) with keep_dims is deprecated and will be removed in a future version.\n",
      "Instructions for updating:\n",
      "keep_dims is deprecated, use keepdims instead\n"
     ]
    }
   ],
   "source": [
    "model.add(CuDNNLSTM(128, return_sequences=True))"
   ]
  },
  {
   "cell_type": "code",
   "execution_count": 22,
   "metadata": {
    "collapsed": true
   },
   "outputs": [],
   "source": [
    "model.add(Dropout(0.5))"
   ]
  },
  {
   "cell_type": "code",
   "execution_count": 23,
   "metadata": {
    "collapsed": true
   },
   "outputs": [],
   "source": [
    "model.add(CuDNNLSTM(128, return_sequences=False))"
   ]
  },
  {
   "cell_type": "code",
   "execution_count": 24,
   "metadata": {
    "collapsed": true
   },
   "outputs": [],
   "source": [
    "model.add(Dropout(0.5))"
   ]
  },
  {
   "cell_type": "code",
   "execution_count": 25,
   "metadata": {
    "collapsed": true
   },
   "outputs": [],
   "source": [
    "model.add(Dense(classes, activation='softmax'))"
   ]
  },
  {
   "cell_type": "code",
   "execution_count": 26,
   "metadata": {},
   "outputs": [
    {
     "name": "stdout",
     "output_type": "stream",
     "text": [
      "WARNING:tensorflow:From C:\\Users\\Tommy Azzino\\Anaconda3\\envs\\tfdeeplearning\\lib\\site-packages\\keras\\backend\\tensorflow_backend.py:1340: calling reduce_mean (from tensorflow.python.ops.math_ops) with keep_dims is deprecated and will be removed in a future version.\n",
      "Instructions for updating:\n",
      "keep_dims is deprecated, use keepdims instead\n"
     ]
    }
   ],
   "source": [
    "adam = optimizers.RMSprop(lr=0.001, decay=1e-6) \n",
    "model.compile(loss='categorical_crossentropy', optimizer=adam, metrics=['accuracy'])"
   ]
  },
  {
   "cell_type": "code",
   "execution_count": 27,
   "metadata": {},
   "outputs": [
    {
     "name": "stdout",
     "output_type": "stream",
     "text": [
      "conv1d_1\n",
      "conv1d_2\n",
      "conv1d_3\n",
      "conv1d_4\n",
      "dropout_1\n",
      "cu_dnnlstm_1\n",
      "dropout_2\n",
      "cu_dnnlstm_2\n",
      "dropout_3\n",
      "dense_1\n"
     ]
    }
   ],
   "source": [
    "for layer in model.layers:\n",
    "    print(layer.name)"
   ]
  },
  {
   "cell_type": "code",
   "execution_count": 28,
   "metadata": {
    "collapsed": true
   },
   "outputs": [],
   "source": [
    "import keras as keras"
   ]
  },
  {
   "cell_type": "code",
   "execution_count": 29,
   "metadata": {},
   "outputs": [
    {
     "name": "stdout",
     "output_type": "stream",
     "text": [
      "Train on 4732 samples, validate on 1183 samples\n",
      "Epoch 1/100\n",
      "4732/4732 [==============================] - 8s 2ms/step - loss: 2.4643 - acc: 0.3491 - val_loss: 2.4125 - val_acc: 0.4328\n",
      "Epoch 2/100\n",
      "4732/4732 [==============================] - 2s 479us/step - loss: 2.3538 - acc: 0.3582 - val_loss: 1.8894 - val_acc: 0.4404\n",
      "Epoch 3/100\n",
      "4732/4732 [==============================] - 2s 481us/step - loss: 2.1194 - acc: 0.3681 - val_loss: 1.7173 - val_acc: 0.4463\n",
      "Epoch 4/100\n",
      "4732/4732 [==============================] - 2s 480us/step - loss: 1.9113 - acc: 0.3958 - val_loss: 1.6250 - val_acc: 0.4522\n",
      "Epoch 5/100\n",
      "4732/4732 [==============================] - 2s 478us/step - loss: 1.7222 - acc: 0.4233 - val_loss: 1.4362 - val_acc: 0.5418\n",
      "Epoch 6/100\n",
      "4732/4732 [==============================] - 2s 480us/step - loss: 1.5966 - acc: 0.4383 - val_loss: 1.3679 - val_acc: 0.4759\n",
      "Epoch 7/100\n",
      "4732/4732 [==============================] - 2s 476us/step - loss: 1.4525 - acc: 0.4949 - val_loss: 1.1764 - val_acc: 0.5393\n",
      "Epoch 8/100\n",
      "4732/4732 [==============================] - 2s 491us/step - loss: 1.3434 - acc: 0.5366 - val_loss: 0.9059 - val_acc: 0.6830\n",
      "Epoch 9/100\n",
      "4732/4732 [==============================] - 2s 482us/step - loss: 1.1947 - acc: 0.5733 - val_loss: 1.1263 - val_acc: 0.6205\n",
      "Epoch 10/100\n",
      "4732/4732 [==============================] - 2s 476us/step - loss: 1.1515 - acc: 0.5852 - val_loss: 0.7492 - val_acc: 0.7210\n",
      "Epoch 11/100\n",
      "4732/4732 [==============================] - 2s 478us/step - loss: 1.0571 - acc: 0.6158 - val_loss: 1.3060 - val_acc: 0.5089\n",
      "Epoch 12/100\n",
      "4732/4732 [==============================] - 2s 482us/step - loss: 1.0302 - acc: 0.6158 - val_loss: 0.8184 - val_acc: 0.6881\n",
      "Epoch 13/100\n",
      "4732/4732 [==============================] - 2s 475us/step - loss: 0.9819 - acc: 0.6460 - val_loss: 0.8085 - val_acc: 0.7210\n",
      "Epoch 14/100\n",
      "4732/4732 [==============================] - 2s 476us/step - loss: 0.9229 - acc: 0.6612 - val_loss: 0.6675 - val_acc: 0.7582\n",
      "Epoch 15/100\n",
      "4732/4732 [==============================] - 2s 484us/step - loss: 0.9235 - acc: 0.6553 - val_loss: 0.5940 - val_acc: 0.7625\n",
      "Epoch 16/100\n",
      "4732/4732 [==============================] - 2s 479us/step - loss: 0.8663 - acc: 0.6834 - val_loss: 0.6852 - val_acc: 0.7312\n",
      "Epoch 17/100\n",
      "4732/4732 [==============================] - 2s 476us/step - loss: 0.8113 - acc: 0.6826 - val_loss: 0.6161 - val_acc: 0.7515\n",
      "Epoch 18/100\n",
      "4732/4732 [==============================] - 2s 478us/step - loss: 0.8051 - acc: 0.6841 - val_loss: 0.6157 - val_acc: 0.7388\n",
      "Epoch 19/100\n",
      "4732/4732 [==============================] - 2s 482us/step - loss: 0.7646 - acc: 0.7037 - val_loss: 0.8102 - val_acc: 0.7219\n",
      "Epoch 20/100\n",
      "4732/4732 [==============================] - 2s 476us/step - loss: 0.7461 - acc: 0.7037 - val_loss: 0.5486 - val_acc: 0.7844\n",
      "Epoch 21/100\n",
      "4732/4732 [==============================] - 2s 478us/step - loss: 0.6997 - acc: 0.7170 - val_loss: 0.7013 - val_acc: 0.7616\n",
      "Epoch 22/100\n",
      "4732/4732 [==============================] - 2s 475us/step - loss: 0.7054 - acc: 0.7162 - val_loss: 0.5331 - val_acc: 0.7760\n",
      "Epoch 23/100\n",
      "4732/4732 [==============================] - 2s 475us/step - loss: 0.6708 - acc: 0.7367 - val_loss: 0.6010 - val_acc: 0.7785\n",
      "Epoch 24/100\n",
      "4732/4732 [==============================] - 2s 477us/step - loss: 0.6703 - acc: 0.7284 - val_loss: 0.6602 - val_acc: 0.7515\n",
      "Epoch 25/100\n",
      "4732/4732 [==============================] - 2s 475us/step - loss: 0.6522 - acc: 0.7382 - val_loss: 0.5587 - val_acc: 0.7819\n",
      "Epoch 26/100\n",
      "4732/4732 [==============================] - 2s 478us/step - loss: 0.6051 - acc: 0.7517 - val_loss: 0.6954 - val_acc: 0.7337\n",
      "Epoch 27/100\n",
      "4732/4732 [==============================] - 2s 474us/step - loss: 0.6394 - acc: 0.7441 - val_loss: 0.6575 - val_acc: 0.7785\n",
      "Epoch 28/100\n",
      "4732/4732 [==============================] - 2s 478us/step - loss: 0.5983 - acc: 0.7580 - val_loss: 0.5818 - val_acc: 0.7997\n",
      "Epoch 29/100\n",
      "4732/4732 [==============================] - 2s 475us/step - loss: 0.5740 - acc: 0.7654 - val_loss: 0.4495 - val_acc: 0.8276\n",
      "Epoch 30/100\n",
      "4732/4732 [==============================] - 2s 473us/step - loss: 0.6290 - acc: 0.7593 - val_loss: 0.4847 - val_acc: 0.8267\n",
      "Epoch 31/100\n",
      "4732/4732 [==============================] - 2s 469us/step - loss: 0.5750 - acc: 0.7675 - val_loss: 0.4962 - val_acc: 0.8225\n",
      "Epoch 32/100\n",
      "4732/4732 [==============================] - 2s 486us/step - loss: 0.5328 - acc: 0.7781 - val_loss: 0.6568 - val_acc: 0.7658\n",
      "Epoch 33/100\n",
      "4732/4732 [==============================] - 2s 490us/step - loss: 0.5418 - acc: 0.7870 - val_loss: 0.5865 - val_acc: 0.7912\n",
      "Epoch 34/100\n",
      "4732/4732 [==============================] - 2s 503us/step - loss: 0.5457 - acc: 0.7794 - val_loss: 0.4847 - val_acc: 0.8149\n",
      "Epoch 35/100\n",
      "4732/4732 [==============================] - 2s 494us/step - loss: 0.5389 - acc: 0.7813 - val_loss: 0.5074 - val_acc: 0.8098\n",
      "Epoch 36/100\n",
      "4732/4732 [==============================] - 2s 485us/step - loss: 0.5121 - acc: 0.7910 - val_loss: 0.5971 - val_acc: 0.7794\n",
      "Epoch 37/100\n",
      "4732/4732 [==============================] - 2s 496us/step - loss: 0.5157 - acc: 0.8035 - val_loss: 0.6994 - val_acc: 0.7633\n",
      "Epoch 38/100\n",
      "4732/4732 [==============================] - 2s 478us/step - loss: 0.5068 - acc: 0.8007 - val_loss: 0.4381 - val_acc: 0.8352\n",
      "Epoch 39/100\n",
      "4732/4732 [==============================] - 2s 476us/step - loss: 0.4888 - acc: 0.8058 - val_loss: 0.4056 - val_acc: 0.8521\n",
      "Epoch 40/100\n",
      "4732/4732 [==============================] - 2s 476us/step - loss: 0.4890 - acc: 0.8090 - val_loss: 0.4635 - val_acc: 0.8377\n",
      "Epoch 41/100\n",
      "4732/4732 [==============================] - 2s 476us/step - loss: 0.4678 - acc: 0.8180 - val_loss: 0.5326 - val_acc: 0.7963\n",
      "Epoch 42/100\n",
      "4732/4732 [==============================] - 2s 476us/step - loss: 0.4562 - acc: 0.8199 - val_loss: 0.4320 - val_acc: 0.8436\n",
      "Epoch 43/100\n",
      "4732/4732 [==============================] - 2s 476us/step - loss: 0.4294 - acc: 0.8379 - val_loss: 2.1164 - val_acc: 0.4911\n",
      "Epoch 44/100\n",
      "4732/4732 [==============================] - 2s 473us/step - loss: 0.4875 - acc: 0.8223 - val_loss: 0.5617 - val_acc: 0.8030\n",
      "Epoch 45/100\n",
      "4732/4732 [==============================] - 2s 476us/step - loss: 0.4542 - acc: 0.8276 - val_loss: 0.4440 - val_acc: 0.8445\n",
      "Epoch 46/100\n",
      "4732/4732 [==============================] - 2s 477us/step - loss: 0.4115 - acc: 0.8449 - val_loss: 0.4436 - val_acc: 0.8436\n",
      "Epoch 47/100\n",
      "4732/4732 [==============================] - 2s 478us/step - loss: 0.4227 - acc: 0.8377 - val_loss: 0.3931 - val_acc: 0.8673\n",
      "Epoch 48/100\n",
      "4732/4732 [==============================] - 2s 475us/step - loss: 0.4138 - acc: 0.8430 - val_loss: 0.3506 - val_acc: 0.8774\n",
      "Epoch 49/100\n",
      "4732/4732 [==============================] - 2s 474us/step - loss: 0.3884 - acc: 0.8590 - val_loss: 0.5656 - val_acc: 0.8174\n",
      "Epoch 50/100\n",
      "4732/4732 [==============================] - 2s 477us/step - loss: 0.3909 - acc: 0.8559 - val_loss: 0.4252 - val_acc: 0.8470\n",
      "Epoch 51/100\n",
      "4732/4732 [==============================] - 2s 476us/step - loss: 0.3747 - acc: 0.8618 - val_loss: 0.4413 - val_acc: 0.8512\n",
      "Epoch 52/100\n",
      "4732/4732 [==============================] - 2s 482us/step - loss: 0.3630 - acc: 0.8658 - val_loss: 0.5114 - val_acc: 0.8030\n",
      "Epoch 53/100\n",
      "4732/4732 [==============================] - 2s 477us/step - loss: 0.3626 - acc: 0.8667 - val_loss: 0.4230 - val_acc: 0.8453\n",
      "Epoch 54/100\n",
      "4732/4732 [==============================] - 2s 475us/step - loss: 0.3560 - acc: 0.8696 - val_loss: 0.4686 - val_acc: 0.8512\n",
      "Epoch 55/100\n",
      "4732/4732 [==============================] - 2s 475us/step - loss: 0.3553 - acc: 0.8719 - val_loss: 0.3486 - val_acc: 0.8901\n",
      "Epoch 56/100\n",
      "4732/4732 [==============================] - 2s 479us/step - loss: 0.3447 - acc: 0.8779 - val_loss: 0.3755 - val_acc: 0.8850\n",
      "Epoch 57/100\n",
      "4732/4732 [==============================] - 2s 477us/step - loss: 0.3370 - acc: 0.8776 - val_loss: 0.3990 - val_acc: 0.8749\n",
      "Epoch 58/100\n",
      "4732/4732 [==============================] - 2s 475us/step - loss: 0.3314 - acc: 0.8814 - val_loss: 0.4074 - val_acc: 0.8715\n",
      "Epoch 59/100\n",
      "4732/4732 [==============================] - 2s 473us/step - loss: 0.3184 - acc: 0.8863 - val_loss: 0.3837 - val_acc: 0.8825\n",
      "Epoch 60/100\n"
     ]
    },
    {
     "name": "stdout",
     "output_type": "stream",
     "text": [
      "4732/4732 [==============================] - 2s 472us/step - loss: 0.3239 - acc: 0.8827 - val_loss: 0.3448 - val_acc: 0.9019\n",
      "Epoch 61/100\n",
      "4732/4732 [==============================] - 2s 474us/step - loss: 0.2944 - acc: 0.8954 - val_loss: 0.3712 - val_acc: 0.8910\n",
      "Epoch 62/100\n",
      "4732/4732 [==============================] - 2s 470us/step - loss: 0.2904 - acc: 0.8979 - val_loss: 0.4454 - val_acc: 0.8631\n",
      "Epoch 63/100\n",
      "4732/4732 [==============================] - 2s 472us/step - loss: 0.3097 - acc: 0.8910 - val_loss: 0.3937 - val_acc: 0.8850\n",
      "Epoch 64/100\n",
      "4732/4732 [==============================] - 2s 470us/step - loss: 0.2899 - acc: 0.8960 - val_loss: 0.5601 - val_acc: 0.8191\n",
      "Epoch 65/100\n",
      "4732/4732 [==============================] - 2s 470us/step - loss: 0.2952 - acc: 0.8964 - val_loss: 0.3339 - val_acc: 0.9045\n",
      "Epoch 66/100\n",
      "4732/4732 [==============================] - 2s 470us/step - loss: 0.2690 - acc: 0.9051 - val_loss: 0.5598 - val_acc: 0.8174\n",
      "Epoch 67/100\n",
      "4732/4732 [==============================] - 2s 468us/step - loss: 0.2952 - acc: 0.8971 - val_loss: 0.4085 - val_acc: 0.8732\n",
      "Epoch 68/100\n",
      "4732/4732 [==============================] - 2s 467us/step - loss: 0.2674 - acc: 0.9068 - val_loss: 0.4223 - val_acc: 0.8656\n",
      "Epoch 69/100\n",
      "4732/4732 [==============================] - 2s 468us/step - loss: 0.2526 - acc: 0.9148 - val_loss: 0.3673 - val_acc: 0.8969\n",
      "Epoch 70/100\n",
      "4732/4732 [==============================] - 2s 468us/step - loss: 0.2368 - acc: 0.9150 - val_loss: 0.3404 - val_acc: 0.8986\n",
      "Epoch 71/100\n",
      "4732/4732 [==============================] - 2s 465us/step - loss: 0.2596 - acc: 0.9117 - val_loss: 0.3320 - val_acc: 0.9036\n",
      "Epoch 72/100\n",
      "4732/4732 [==============================] - 2s 468us/step - loss: 0.2466 - acc: 0.9144 - val_loss: 0.4849 - val_acc: 0.8555\n",
      "Epoch 73/100\n",
      "4732/4732 [==============================] - 2s 467us/step - loss: 0.2355 - acc: 0.9229 - val_loss: 0.5214 - val_acc: 0.8563\n",
      "Epoch 74/100\n",
      "4732/4732 [==============================] - 2s 474us/step - loss: 0.2358 - acc: 0.9203 - val_loss: 0.3636 - val_acc: 0.8901\n",
      "Epoch 75/100\n",
      "4732/4732 [==============================] - 2s 497us/step - loss: 0.2333 - acc: 0.9184 - val_loss: 0.2929 - val_acc: 0.9172\n",
      "Epoch 76/100\n",
      "4732/4732 [==============================] - 2s 480us/step - loss: 0.2324 - acc: 0.9222 - val_loss: 0.3602 - val_acc: 0.9011\n",
      "Epoch 77/100\n",
      "4732/4732 [==============================] - 2s 478us/step - loss: 0.2204 - acc: 0.9252 - val_loss: 0.3282 - val_acc: 0.9121\n",
      "Epoch 78/100\n",
      "4732/4732 [==============================] - 2s 501us/step - loss: 0.2041 - acc: 0.9311 - val_loss: 0.3495 - val_acc: 0.9045\n",
      "Epoch 79/100\n",
      "4732/4732 [==============================] - 2s 524us/step - loss: 0.2201 - acc: 0.9281 - val_loss: 0.3732 - val_acc: 0.9045\n",
      "Epoch 80/100\n",
      "4732/4732 [==============================] - 2s 489us/step - loss: 0.2026 - acc: 0.9277 - val_loss: 0.3353 - val_acc: 0.9172\n",
      "Epoch 81/100\n",
      "4732/4732 [==============================] - 2s 480us/step - loss: 0.1961 - acc: 0.9324 - val_loss: 0.2998 - val_acc: 0.9231\n",
      "Epoch 82/100\n",
      "4732/4732 [==============================] - 2s 482us/step - loss: 0.2054 - acc: 0.9320 - val_loss: 0.3765 - val_acc: 0.8960\n",
      "Epoch 83/100\n",
      "4732/4732 [==============================] - 2s 480us/step - loss: 0.2046 - acc: 0.9339 - val_loss: 0.5899 - val_acc: 0.8656\n",
      "Epoch 84/100\n",
      "4732/4732 [==============================] - 2s 477us/step - loss: 0.1979 - acc: 0.9322 - val_loss: 0.3292 - val_acc: 0.9062\n",
      "Epoch 85/100\n",
      "4732/4732 [==============================] - 2s 479us/step - loss: 0.1920 - acc: 0.9370 - val_loss: 0.3502 - val_acc: 0.8969\n",
      "Epoch 86/100\n",
      "4732/4732 [==============================] - 2s 479us/step - loss: 0.1898 - acc: 0.9355 - val_loss: 0.4386 - val_acc: 0.8859\n",
      "Epoch 87/100\n",
      "4732/4732 [==============================] - 2s 478us/step - loss: 0.1994 - acc: 0.9332 - val_loss: 0.4162 - val_acc: 0.8994\n",
      "Epoch 88/100\n",
      "4732/4732 [==============================] - 2s 484us/step - loss: 0.1863 - acc: 0.9387 - val_loss: 0.4008 - val_acc: 0.9112\n",
      "Epoch 89/100\n",
      "4732/4732 [==============================] - 2s 477us/step - loss: 0.1827 - acc: 0.9389 - val_loss: 0.3676 - val_acc: 0.9079\n",
      "Epoch 90/100\n",
      "4732/4732 [==============================] - 2s 478us/step - loss: 0.1772 - acc: 0.9404 - val_loss: 0.3651 - val_acc: 0.9028\n",
      "Epoch 91/100\n",
      "4732/4732 [==============================] - 2s 484us/step - loss: 0.1756 - acc: 0.9385 - val_loss: 0.3963 - val_acc: 0.8960\n",
      "Epoch 92/100\n",
      "4732/4732 [==============================] - 2s 483us/step - loss: 0.1758 - acc: 0.9432 - val_loss: 0.3267 - val_acc: 0.9112\n",
      "Epoch 93/100\n",
      "4732/4732 [==============================] - 2s 476us/step - loss: 0.1650 - acc: 0.9446 - val_loss: 0.3653 - val_acc: 0.9062\n",
      "Epoch 94/100\n",
      "4732/4732 [==============================] - 2s 474us/step - loss: 0.1708 - acc: 0.9446 - val_loss: 0.3677 - val_acc: 0.9045\n",
      "Epoch 95/100\n",
      "4732/4732 [==============================] - 2s 483us/step - loss: 0.1716 - acc: 0.9499 - val_loss: 0.4432 - val_acc: 0.8977\n",
      "Epoch 96/100\n",
      "4732/4732 [==============================] - 2s 479us/step - loss: 0.1761 - acc: 0.9410 - val_loss: 0.4045 - val_acc: 0.8977\n",
      "Epoch 97/100\n",
      "4732/4732 [==============================] - 2s 480us/step - loss: 0.1757 - acc: 0.9453 - val_loss: 0.3648 - val_acc: 0.9172\n",
      "Epoch 98/100\n",
      "4732/4732 [==============================] - 2s 485us/step - loss: 0.1717 - acc: 0.9425 - val_loss: 0.3142 - val_acc: 0.9146\n",
      "Epoch 99/100\n",
      "4732/4732 [==============================] - 2s 482us/step - loss: 0.1430 - acc: 0.9539 - val_loss: 0.3353 - val_acc: 0.9129\n",
      "Epoch 100/100\n",
      "4732/4732 [==============================] - 2s 476us/step - loss: 0.1439 - acc: 0.9548 - val_loss: 0.3874 - val_acc: 0.8986\n",
      "1405/1405 [==============================] - 1s 515us/step\n"
     ]
    }
   ],
   "source": [
    "batchSize = 100\n",
    "keras.callbacks.TensorBoard(log_dir='./logs', histogram_freq=0, batch_size=32, write_graph=True, write_grads=False, write_images=False, embeddings_freq=0, embeddings_layer_names=None, embeddings_metadata=None)\n",
    "model.fit(trainX,trainY, validation_split=1-trainSplitRatio,epochs=100,batch_size=batchSize,verbose=1)\n",
    "score = model.evaluate(testX,testY,verbose=1)\n",
    "model.save('tommyCUDACNNmodel.h5')"
   ]
  },
  {
   "cell_type": "code",
   "execution_count": 30,
   "metadata": {},
   "outputs": [
    {
     "name": "stdout",
     "output_type": "stream",
     "text": [
      "[0.39674958853926046, 0.90106761565836302]\n"
     ]
    }
   ],
   "source": [
    "print(score)"
   ]
  },
  {
   "cell_type": "code",
   "execution_count": 42,
   "metadata": {},
   "outputs": [
    {
     "data": {
      "text/plain": [
       "(1496, 18)"
      ]
     },
     "execution_count": 42,
     "metadata": {},
     "output_type": "execute_result"
    }
   ],
   "source": [
    "predictions = model.predict(testX)\n",
    "predictions.shape"
   ]
  },
  {
   "cell_type": "code",
   "execution_count": 32,
   "metadata": {},
   "outputs": [
    {
     "name": "stdout",
     "output_type": "stream",
     "text": [
      "0.9211229946524064\n"
     ]
    }
   ],
   "source": [
    "count = 0.0\n",
    "den = 0.0\n",
    "for pair in zip(predictions, testY):\n",
    "    if np.argmax(pair[0]) == np.argmax(pair[1]):\n",
    "        count += 1.0\n",
    "    den += 1.0\n",
    "\n",
    "print(count / den)"
   ]
  },
  {
   "cell_type": "code",
   "execution_count": 38,
   "metadata": {
    "collapsed": true
   },
   "outputs": [],
   "source": [
    "pred_df = pd.DataFrame(predictions)\n",
    "pred_df.to_csv('preds_test.csv', header=False, index=False)"
   ]
  },
  {
   "cell_type": "code",
   "execution_count": 39,
   "metadata": {
    "collapsed": true
   },
   "outputs": [],
   "source": [
    "true_df = pd.DataFrame(testY)\n",
    "true_df.to_csv('true_test.csv', header=False, index=False)"
   ]
  },
  {
   "cell_type": "code",
   "execution_count": null,
   "metadata": {
    "collapsed": true
   },
   "outputs": [],
   "source": []
  }
 ],
 "metadata": {
  "kernelspec": {
   "display_name": "Python 3",
   "language": "python",
   "name": "python3"
  },
  "language_info": {
   "codemirror_mode": {
    "name": "ipython",
    "version": 3
   },
   "file_extension": ".py",
   "mimetype": "text/x-python",
   "name": "python",
   "nbconvert_exporter": "python",
   "pygments_lexer": "ipython3",
   "version": "3.5.4"
  }
 },
 "nbformat": 4,
 "nbformat_minor": 2
}
