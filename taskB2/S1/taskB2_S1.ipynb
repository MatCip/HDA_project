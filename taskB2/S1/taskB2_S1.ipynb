{
 "cells": [
  {
   "cell_type": "code",
   "execution_count": 1,
   "metadata": {},
   "outputs": [
    {
     "name": "stderr",
     "output_type": "stream",
     "text": [
      "Using TensorFlow backend.\n"
     ]
    }
   ],
   "source": [
    "import pandas as pd\n",
    "import numpy as np\n",
    "from keras.models import Sequential\n",
    "from keras.layers import Dense, Conv1D, LSTM, CuDNNLSTM, Flatten, Dropout\n",
    "from keras import optimizers\n",
    "from keras.utils import to_categorical"
   ]
  },
  {
   "cell_type": "code",
   "execution_count": 3,
   "metadata": {
    "collapsed": true
   },
   "outputs": [],
   "source": [
    "data = pd.read_csv(\"Drill1Opportunity_taskB2.csv\",header=None)\n",
    "data.rename(columns ={113: 'labels'}, inplace =True)"
   ]
  },
  {
   "cell_type": "code",
   "execution_count": 4,
   "metadata": {},
   "outputs": [
    {
     "data": {
      "text/plain": [
       "(54915, 18)"
      ]
     },
     "execution_count": 4,
     "metadata": {},
     "output_type": "execute_result"
    }
   ],
   "source": [
    "from sklearn.preprocessing import OneHotEncoder\n",
    "encoder = OneHotEncoder()\n",
    "one_hot_labels = encoder.fit_transform(data['labels'].values.reshape(-1,1)).toarray()\n",
    "one_hot_labels.shape"
   ]
  },
  {
   "cell_type": "code",
   "execution_count": 5,
   "metadata": {
    "collapsed": true
   },
   "outputs": [],
   "source": [
    "from sklearn.preprocessing import MinMaxScaler\n",
    "scaler = MinMaxScaler()\n",
    "data.drop(['labels'], 1, inplace=True)\n",
    "data.shape\n",
    "data = scaler.fit_transform(data)"
   ]
  },
  {
   "cell_type": "code",
   "execution_count": 7,
   "metadata": {
    "collapsed": true
   },
   "outputs": [],
   "source": [
    "class trainerHelper():\n",
    "    \n",
    "    def __init__(self, data, labels, win_size, num_sensor_data, num_classes):\n",
    "        self.data = data\n",
    "        self.labels = labels\n",
    "        self.win_size = win_size\n",
    "        self.sensor_data = num_sensor_data\n",
    "        self.num_classes = num_classes\n",
    "        self.data_length = self.data.shape[0]\n",
    "        print(self.data_length)\n",
    "        self.start = 0\n",
    "        \n",
    "    def windows(self):\n",
    " \n",
    "        while self.start + self.win_size < self.data_length:\n",
    "            yield int(self.start), int(self.start + self.win_size)\n",
    "            self.start += (self.win_size/2)\n",
    "    \n",
    "    def segment_data(self):\n",
    "        self.start = 0\n",
    "        segments = np.empty((0, self.win_size, self.sensor_data))\n",
    "        labels= np.empty((0, self.num_classes))\n",
    "        for (start, end) in self.windows():\n",
    "            x = np.zeros((1, self.win_size, self.sensor_data))\n",
    "            x[0,:] = self.data[start:end,:]\n",
    "            label = self.labels[start:end,:]\n",
    "            if(x.shape[1] == self.win_size):\n",
    "                segments = np.vstack([segments,x])\n",
    "                lb = np.zeros((1, self.num_classes))\n",
    "                lb[0,:] = label[-1]\n",
    "                labels = np.vstack([labels,lb])\n",
    "        return segments, labels"
   ]
  },
  {
   "cell_type": "code",
   "execution_count": 8,
   "metadata": {},
   "outputs": [
    {
     "name": "stdout",
     "output_type": "stream",
     "text": [
      "54915\n"
     ]
    }
   ],
   "source": [
    "trainer_helper = trainerHelper(data, one_hot_labels, 15, 113, 18)"
   ]
  },
  {
   "cell_type": "code",
   "execution_count": 9,
   "metadata": {
    "collapsed": true
   },
   "outputs": [],
   "source": [
    "segments, labels = trainer_helper.segment_data()"
   ]
  },
  {
   "cell_type": "code",
   "execution_count": 10,
   "metadata": {},
   "outputs": [
    {
     "data": {
      "text/plain": [
       "(7320, 15, 113)"
      ]
     },
     "execution_count": 10,
     "metadata": {},
     "output_type": "execute_result"
    }
   ],
   "source": [
    "segments.shape"
   ]
  },
  {
   "cell_type": "code",
   "execution_count": 11,
   "metadata": {},
   "outputs": [
    {
     "data": {
      "text/plain": [
       "(7320, 18)"
      ]
     },
     "execution_count": 11,
     "metadata": {},
     "output_type": "execute_result"
    }
   ],
   "source": [
    "labels.shape"
   ]
  },
  {
   "cell_type": "code",
   "execution_count": 12,
   "metadata": {
    "collapsed": true
   },
   "outputs": [],
   "source": [
    "tot_segments = segments\n",
    "tot_labels = labels"
   ]
  },
  {
   "cell_type": "code",
   "execution_count": 13,
   "metadata": {
    "collapsed": true
   },
   "outputs": [],
   "source": [
    "# maybe we need to normalize the data\n",
    "num_rows = segments.shape[1]\n",
    "num_cols = segments.shape[2]\n",
    "trainSplitRatio = 0.8\n",
    "# reshaping segments for network input\n",
    "reshapedSegments = segments.transpose(0,2,1)\n",
    "# splitting segments in training and testing data\n",
    "trainSplit = np.random.rand(len(reshapedSegments)) < trainSplitRatio\n",
    "trainX = reshapedSegments[trainSplit]\n",
    "testX = reshapedSegments[~trainSplit]\n",
    "trainY = labels[trainSplit]\n",
    "testY = labels[~trainSplit]"
   ]
  },
  {
   "cell_type": "code",
   "execution_count": 14,
   "metadata": {},
   "outputs": [
    {
     "data": {
      "text/plain": [
       "(5847, 113, 15)"
      ]
     },
     "execution_count": 14,
     "metadata": {},
     "output_type": "execute_result"
    }
   ],
   "source": [
    "trainX.shape"
   ]
  },
  {
   "cell_type": "code",
   "execution_count": 15,
   "metadata": {},
   "outputs": [
    {
     "name": "stdout",
     "output_type": "stream",
     "text": [
      "[ 0.56200975  0.55776977  0.57197371  0.56794573  0.57070172  0.56476574\n",
      "  0.55416578  0.55904176  0.55882976  0.55522578  0.55819377  0.54526182\n",
      "  0.56010176  0.55458978  0.54610982]\n"
     ]
    }
   ],
   "source": [
    "print(reshapedSegments[0][0])"
   ]
  },
  {
   "cell_type": "code",
   "execution_count": null,
   "metadata": {
    "collapsed": true
   },
   "outputs": [],
   "source": []
  },
  {
   "cell_type": "code",
   "execution_count": 16,
   "metadata": {
    "collapsed": true
   },
   "outputs": [],
   "source": [
    "model = Sequential() #permettere di usare la struttura a stack"
   ]
  },
  {
   "cell_type": "code",
   "execution_count": 18,
   "metadata": {
    "collapsed": true
   },
   "outputs": [],
   "source": [
    "win_size = 15\n",
    "classes = 18\n",
    "num_sensors = 113\n",
    "kernel_height = 5\n",
    "inputshape = (num_sensors, win_size)"
   ]
  },
  {
   "cell_type": "code",
   "execution_count": 19,
   "metadata": {
    "collapsed": true
   },
   "outputs": [],
   "source": [
    "model.add(Conv1D(64, kernel_size=kernel_height, strides=1,\n",
    "                 activation='relu',\n",
    "                 input_shape=(num_sensors,15)))"
   ]
  },
  {
   "cell_type": "code",
   "execution_count": 20,
   "metadata": {
    "collapsed": true
   },
   "outputs": [],
   "source": [
    "model.add(Conv1D(64, kernel_size=kernel_height, strides=1,\n",
    "                 activation='relu'))"
   ]
  },
  {
   "cell_type": "code",
   "execution_count": 21,
   "metadata": {
    "collapsed": true
   },
   "outputs": [],
   "source": [
    "model.add(Conv1D(64, kernel_size=kernel_height, strides=1,\n",
    "                 activation='relu'))"
   ]
  },
  {
   "cell_type": "code",
   "execution_count": 22,
   "metadata": {
    "collapsed": true
   },
   "outputs": [],
   "source": [
    "model.add(Conv1D(64, kernel_size=kernel_height, strides=1,\n",
    "                 activation='relu'))"
   ]
  },
  {
   "cell_type": "code",
   "execution_count": 23,
   "metadata": {
    "collapsed": true
   },
   "outputs": [],
   "source": [
    "model.add(Dropout(0.5))"
   ]
  },
  {
   "cell_type": "code",
   "execution_count": 24,
   "metadata": {},
   "outputs": [
    {
     "name": "stdout",
     "output_type": "stream",
     "text": [
      "WARNING:tensorflow:From C:\\Users\\Tommy Azzino\\Anaconda3\\envs\\tfdeeplearning\\lib\\site-packages\\keras\\backend\\tensorflow_backend.py:1238: calling reduce_sum (from tensorflow.python.ops.math_ops) with keep_dims is deprecated and will be removed in a future version.\n",
      "Instructions for updating:\n",
      "keep_dims is deprecated, use keepdims instead\n"
     ]
    }
   ],
   "source": [
    "model.add(CuDNNLSTM(128, return_sequences=True))"
   ]
  },
  {
   "cell_type": "code",
   "execution_count": 25,
   "metadata": {
    "collapsed": true
   },
   "outputs": [],
   "source": [
    "model.add(Dropout(0.5))"
   ]
  },
  {
   "cell_type": "code",
   "execution_count": 26,
   "metadata": {
    "collapsed": true
   },
   "outputs": [],
   "source": [
    "model.add(CuDNNLSTM(128, return_sequences=False))"
   ]
  },
  {
   "cell_type": "code",
   "execution_count": 27,
   "metadata": {
    "collapsed": true
   },
   "outputs": [],
   "source": [
    "model.add(Dropout(0.5))"
   ]
  },
  {
   "cell_type": "code",
   "execution_count": 28,
   "metadata": {
    "collapsed": true
   },
   "outputs": [],
   "source": [
    "model.add(Dense(classes, activation='softmax'))"
   ]
  },
  {
   "cell_type": "code",
   "execution_count": 29,
   "metadata": {},
   "outputs": [
    {
     "name": "stdout",
     "output_type": "stream",
     "text": [
      "WARNING:tensorflow:From C:\\Users\\Tommy Azzino\\Anaconda3\\envs\\tfdeeplearning\\lib\\site-packages\\keras\\backend\\tensorflow_backend.py:1340: calling reduce_mean (from tensorflow.python.ops.math_ops) with keep_dims is deprecated and will be removed in a future version.\n",
      "Instructions for updating:\n",
      "keep_dims is deprecated, use keepdims instead\n"
     ]
    }
   ],
   "source": [
    "adam = optimizers.RMSprop(lr=0.001, decay=1e-6) \n",
    "model.compile(loss='categorical_crossentropy', optimizer=adam, metrics=['accuracy'])"
   ]
  },
  {
   "cell_type": "code",
   "execution_count": 30,
   "metadata": {},
   "outputs": [
    {
     "name": "stdout",
     "output_type": "stream",
     "text": [
      "conv1d_1\n",
      "conv1d_2\n",
      "conv1d_3\n",
      "conv1d_4\n",
      "dropout_1\n",
      "cu_dnnlstm_1\n",
      "dropout_2\n",
      "cu_dnnlstm_2\n",
      "dropout_3\n",
      "dense_1\n"
     ]
    }
   ],
   "source": [
    "for layer in model.layers:\n",
    "    print(layer.name)"
   ]
  },
  {
   "cell_type": "code",
   "execution_count": 31,
   "metadata": {
    "collapsed": true
   },
   "outputs": [],
   "source": [
    "import keras as keras"
   ]
  },
  {
   "cell_type": "code",
   "execution_count": 32,
   "metadata": {},
   "outputs": [
    {
     "name": "stdout",
     "output_type": "stream",
     "text": [
      "Train on 4677 samples, validate on 1170 samples\n",
      "Epoch 1/100\n",
      "4677/4677 [==============================] - 9s 2ms/step - loss: 2.4681 - acc: 0.3477 - val_loss: 2.2060 - val_acc: 0.4274\n",
      "Epoch 2/100\n",
      "4677/4677 [==============================] - 2s 490us/step - loss: 2.4017 - acc: 0.3560 - val_loss: 2.1401 - val_acc: 0.4274\n",
      "Epoch 3/100\n",
      "4677/4677 [==============================] - 2s 490us/step - loss: 2.3995 - acc: 0.3556 - val_loss: 2.1934 - val_acc: 0.4274\n",
      "Epoch 4/100\n",
      "4677/4677 [==============================] - 2s 488us/step - loss: 2.2806 - acc: 0.3583 - val_loss: 1.8554 - val_acc: 0.4325\n",
      "Epoch 5/100\n",
      "4677/4677 [==============================] - 2s 487us/step - loss: 2.0636 - acc: 0.3671 - val_loss: 1.7002 - val_acc: 0.4615\n",
      "Epoch 6/100\n",
      "4677/4677 [==============================] - 2s 492us/step - loss: 1.8421 - acc: 0.3928 - val_loss: 1.4921 - val_acc: 0.4897\n",
      "Epoch 7/100\n",
      "4677/4677 [==============================] - 2s 486us/step - loss: 1.7011 - acc: 0.4090 - val_loss: 1.8987 - val_acc: 0.4291\n",
      "Epoch 8/100\n",
      "4677/4677 [==============================] - 2s 491us/step - loss: 1.5734 - acc: 0.4635 - val_loss: 1.3318 - val_acc: 0.5453\n",
      "Epoch 9/100\n",
      "4677/4677 [==============================] - 2s 490us/step - loss: 1.4388 - acc: 0.4875 - val_loss: 1.0489 - val_acc: 0.6137\n",
      "Epoch 10/100\n",
      "4677/4677 [==============================] - 2s 488us/step - loss: 1.3302 - acc: 0.5236 - val_loss: 0.9678 - val_acc: 0.6684\n",
      "Epoch 11/100\n",
      "4677/4677 [==============================] - 2s 486us/step - loss: 1.2718 - acc: 0.5486 - val_loss: 0.8536 - val_acc: 0.6940\n",
      "Epoch 12/100\n",
      "4677/4677 [==============================] - 2s 489us/step - loss: 1.1512 - acc: 0.5788 - val_loss: 0.9247 - val_acc: 0.6624\n",
      "Epoch 13/100\n",
      "4677/4677 [==============================] - 2s 493us/step - loss: 1.0716 - acc: 0.6017 - val_loss: 0.8451 - val_acc: 0.6675\n",
      "Epoch 14/100\n",
      "4677/4677 [==============================] - 2s 492us/step - loss: 1.0335 - acc: 0.6171 - val_loss: 0.8349 - val_acc: 0.6658\n",
      "Epoch 15/100\n",
      "4677/4677 [==============================] - 2s 489us/step - loss: 0.9602 - acc: 0.6395 - val_loss: 0.8440 - val_acc: 0.6897\n",
      "Epoch 16/100\n",
      "4677/4677 [==============================] - 2s 489us/step - loss: 0.9424 - acc: 0.6547 - val_loss: 0.7095 - val_acc: 0.7231\n",
      "Epoch 17/100\n",
      "4677/4677 [==============================] - 2s 491us/step - loss: 0.9014 - acc: 0.6549 - val_loss: 0.7967 - val_acc: 0.6821\n",
      "Epoch 18/100\n",
      "4677/4677 [==============================] - 2s 493us/step - loss: 0.8383 - acc: 0.6776 - val_loss: 0.6504 - val_acc: 0.7530\n",
      "Epoch 19/100\n",
      "4677/4677 [==============================] - 2s 486us/step - loss: 0.8319 - acc: 0.6846 - val_loss: 0.6556 - val_acc: 0.7368\n",
      "Epoch 20/100\n",
      "4677/4677 [==============================] - 2s 485us/step - loss: 0.7983 - acc: 0.6915 - val_loss: 0.7035 - val_acc: 0.7265\n",
      "Epoch 21/100\n",
      "4677/4677 [==============================] - 2s 491us/step - loss: 0.7337 - acc: 0.7077 - val_loss: 0.5158 - val_acc: 0.7872\n",
      "Epoch 22/100\n",
      "4677/4677 [==============================] - 2s 488us/step - loss: 0.7444 - acc: 0.7135 - val_loss: 0.6640 - val_acc: 0.7650\n",
      "Epoch 23/100\n",
      "4677/4677 [==============================] - 2s 488us/step - loss: 0.6890 - acc: 0.7244 - val_loss: 0.5984 - val_acc: 0.7803\n",
      "Epoch 24/100\n",
      "4677/4677 [==============================] - 2s 488us/step - loss: 0.7030 - acc: 0.7201 - val_loss: 0.6735 - val_acc: 0.7521\n",
      "Epoch 25/100\n",
      "4677/4677 [==============================] - 2s 489us/step - loss: 0.6405 - acc: 0.7413 - val_loss: 0.6661 - val_acc: 0.7564\n",
      "Epoch 26/100\n",
      "4677/4677 [==============================] - 2s 486us/step - loss: 0.6660 - acc: 0.7353 - val_loss: 0.5239 - val_acc: 0.7923\n",
      "Epoch 27/100\n",
      "4677/4677 [==============================] - 2s 492us/step - loss: 0.6240 - acc: 0.7434 - val_loss: 0.4595 - val_acc: 0.8239\n",
      "Epoch 28/100\n",
      "4677/4677 [==============================] - 2s 488us/step - loss: 0.6013 - acc: 0.7528 - val_loss: 0.8441 - val_acc: 0.7094\n",
      "Epoch 29/100\n",
      "4677/4677 [==============================] - 2s 488us/step - loss: 0.6050 - acc: 0.7533 - val_loss: 0.7988 - val_acc: 0.7342\n",
      "Epoch 30/100\n",
      "4677/4677 [==============================] - 2s 487us/step - loss: 0.5753 - acc: 0.7721 - val_loss: 0.5056 - val_acc: 0.8034\n",
      "Epoch 31/100\n",
      "4677/4677 [==============================] - 2s 497us/step - loss: 0.5791 - acc: 0.7642 - val_loss: 0.5559 - val_acc: 0.7897\n",
      "Epoch 32/100\n",
      "4677/4677 [==============================] - 2s 532us/step - loss: 0.5666 - acc: 0.7716 - val_loss: 0.4409 - val_acc: 0.8299\n",
      "Epoch 33/100\n",
      "4677/4677 [==============================] - 2s 500us/step - loss: 0.5320 - acc: 0.7855 - val_loss: 0.4346 - val_acc: 0.8333\n",
      "Epoch 34/100\n",
      "4677/4677 [==============================] - 2s 490us/step - loss: 0.5283 - acc: 0.7843 - val_loss: 0.4940 - val_acc: 0.8179\n",
      "Epoch 35/100\n",
      "4677/4677 [==============================] - 2s 492us/step - loss: 0.4967 - acc: 0.7952 - val_loss: 0.4796 - val_acc: 0.8197\n",
      "Epoch 36/100\n",
      "4677/4677 [==============================] - 2s 492us/step - loss: 0.4950 - acc: 0.7997 - val_loss: 0.5033 - val_acc: 0.8085\n",
      "Epoch 37/100\n",
      "4677/4677 [==============================] - 2s 490us/step - loss: 0.4826 - acc: 0.8114 - val_loss: 0.4228 - val_acc: 0.8504\n",
      "Epoch 38/100\n",
      "4677/4677 [==============================] - 2s 491us/step - loss: 0.4788 - acc: 0.8129 - val_loss: 0.5651 - val_acc: 0.8026\n",
      "Epoch 39/100\n",
      "4677/4677 [==============================] - 2s 490us/step - loss: 0.4776 - acc: 0.8155 - val_loss: 0.4115 - val_acc: 0.8419\n",
      "Epoch 40/100\n",
      "4677/4677 [==============================] - 2s 490us/step - loss: 0.4473 - acc: 0.8277 - val_loss: 0.4661 - val_acc: 0.8308\n",
      "Epoch 41/100\n",
      "4677/4677 [==============================] - 2s 491us/step - loss: 0.4383 - acc: 0.8307 - val_loss: 0.4498 - val_acc: 0.8436\n",
      "Epoch 42/100\n",
      "4677/4677 [==============================] - 2s 491us/step - loss: 0.4354 - acc: 0.8328 - val_loss: 0.3948 - val_acc: 0.8547\n",
      "Epoch 43/100\n",
      "4677/4677 [==============================] - 2s 492us/step - loss: 0.4082 - acc: 0.8420 - val_loss: 0.4097 - val_acc: 0.8530\n",
      "Epoch 44/100\n",
      "4677/4677 [==============================] - 2s 489us/step - loss: 0.4119 - acc: 0.8446 - val_loss: 0.5434 - val_acc: 0.8085\n",
      "Epoch 45/100\n",
      "4677/4677 [==============================] - 2s 492us/step - loss: 0.4281 - acc: 0.8403 - val_loss: 0.3983 - val_acc: 0.8624\n",
      "Epoch 46/100\n",
      "4677/4677 [==============================] - 2s 519us/step - loss: 0.3840 - acc: 0.8505 - val_loss: 0.4527 - val_acc: 0.8436\n",
      "Epoch 47/100\n",
      "4677/4677 [==============================] - 2s 507us/step - loss: 0.4182 - acc: 0.8456 - val_loss: 0.4334 - val_acc: 0.8444\n",
      "Epoch 48/100\n",
      "4677/4677 [==============================] - 2s 525us/step - loss: 0.3825 - acc: 0.8544 - val_loss: 0.4017 - val_acc: 0.8590\n",
      "Epoch 49/100\n",
      "4677/4677 [==============================] - 2s 510us/step - loss: 0.3759 - acc: 0.8565 - val_loss: 0.4124 - val_acc: 0.8598\n",
      "Epoch 50/100\n",
      "4677/4677 [==============================] - 2s 489us/step - loss: 0.3787 - acc: 0.8589 - val_loss: 0.3424 - val_acc: 0.8761\n",
      "Epoch 51/100\n",
      "4677/4677 [==============================] - 2s 490us/step - loss: 0.3516 - acc: 0.8694 - val_loss: 0.4175 - val_acc: 0.8701\n",
      "Epoch 52/100\n",
      "4677/4677 [==============================] - 2s 489us/step - loss: 0.3586 - acc: 0.8642 - val_loss: 0.3823 - val_acc: 0.8744\n",
      "Epoch 53/100\n",
      "4677/4677 [==============================] - 2s 495us/step - loss: 0.3472 - acc: 0.8698 - val_loss: 0.3451 - val_acc: 0.8863\n",
      "Epoch 54/100\n",
      "4677/4677 [==============================] - 2s 494us/step - loss: 0.3389 - acc: 0.8764 - val_loss: 0.3458 - val_acc: 0.8983\n",
      "Epoch 55/100\n",
      "4677/4677 [==============================] - 2s 506us/step - loss: 0.3236 - acc: 0.8779 - val_loss: 0.4043 - val_acc: 0.8786\n",
      "Epoch 56/100\n",
      "4677/4677 [==============================] - 2s 490us/step - loss: 0.3391 - acc: 0.8749 - val_loss: 0.3463 - val_acc: 0.8846\n",
      "Epoch 57/100\n",
      "4677/4677 [==============================] - 2s 495us/step - loss: 0.2984 - acc: 0.8873 - val_loss: 0.4033 - val_acc: 0.8778\n",
      "Epoch 58/100\n",
      "4677/4677 [==============================] - 2s 490us/step - loss: 0.3205 - acc: 0.8843 - val_loss: 0.4269 - val_acc: 0.8709\n",
      "Epoch 59/100\n",
      "4677/4677 [==============================] - 2s 489us/step - loss: 0.2846 - acc: 0.8969 - val_loss: 0.3864 - val_acc: 0.8923\n",
      "Epoch 60/100\n"
     ]
    },
    {
     "name": "stdout",
     "output_type": "stream",
     "text": [
      "4677/4677 [==============================] - 2s 486us/step - loss: 0.2905 - acc: 0.8948 - val_loss: 0.4072 - val_acc: 0.8795\n",
      "Epoch 61/100\n",
      "4677/4677 [==============================] - 2s 489us/step - loss: 0.3002 - acc: 0.8905 - val_loss: 0.4094 - val_acc: 0.8744\n",
      "Epoch 62/100\n",
      "4677/4677 [==============================] - 2s 487us/step - loss: 0.2851 - acc: 0.8997 - val_loss: 0.3512 - val_acc: 0.8786\n",
      "Epoch 63/100\n",
      "4677/4677 [==============================] - 2s 487us/step - loss: 0.2599 - acc: 0.9087 - val_loss: 0.5543 - val_acc: 0.8316\n",
      "Epoch 64/100\n",
      "4677/4677 [==============================] - 2s 487us/step - loss: 0.2835 - acc: 0.9012 - val_loss: 0.4137 - val_acc: 0.8889\n",
      "Epoch 65/100\n",
      "4677/4677 [==============================] - 2s 484us/step - loss: 0.2581 - acc: 0.9102 - val_loss: 0.4030 - val_acc: 0.8838\n",
      "Epoch 66/100\n",
      "4677/4677 [==============================] - 2s 486us/step - loss: 0.2579 - acc: 0.9089 - val_loss: 0.4896 - val_acc: 0.8581\n",
      "Epoch 67/100\n",
      "4677/4677 [==============================] - 2s 482us/step - loss: 0.2507 - acc: 0.9132 - val_loss: 0.4758 - val_acc: 0.8701\n",
      "Epoch 68/100\n",
      "4677/4677 [==============================] - 2s 483us/step - loss: 0.2661 - acc: 0.9089 - val_loss: 0.4754 - val_acc: 0.8641\n",
      "Epoch 69/100\n",
      "4677/4677 [==============================] - 2s 487us/step - loss: 0.2431 - acc: 0.9160 - val_loss: 0.5040 - val_acc: 0.8513\n",
      "Epoch 70/100\n",
      "4677/4677 [==============================] - 2s 490us/step - loss: 0.2506 - acc: 0.9134 - val_loss: 0.3538 - val_acc: 0.8906\n",
      "Epoch 71/100\n",
      "4677/4677 [==============================] - 2s 483us/step - loss: 0.2489 - acc: 0.9151 - val_loss: 0.3694 - val_acc: 0.8932\n",
      "Epoch 72/100\n",
      "4677/4677 [==============================] - 2s 488us/step - loss: 0.2411 - acc: 0.9138 - val_loss: 0.3384 - val_acc: 0.9026\n",
      "Epoch 73/100\n",
      "4677/4677 [==============================] - 2s 494us/step - loss: 0.2266 - acc: 0.9232 - val_loss: 0.3160 - val_acc: 0.9188\n",
      "Epoch 74/100\n",
      "4677/4677 [==============================] - 2s 500us/step - loss: 0.2278 - acc: 0.9177 - val_loss: 0.4388 - val_acc: 0.8615\n",
      "Epoch 75/100\n",
      "4677/4677 [==============================] - 2s 487us/step - loss: 0.2033 - acc: 0.9277 - val_loss: 0.3771 - val_acc: 0.8940\n",
      "Epoch 76/100\n",
      "4677/4677 [==============================] - 2s 489us/step - loss: 0.2281 - acc: 0.9192 - val_loss: 0.3758 - val_acc: 0.8991\n",
      "Epoch 77/100\n",
      "4677/4677 [==============================] - 2s 502us/step - loss: 0.2277 - acc: 0.9162 - val_loss: 0.3385 - val_acc: 0.9085\n",
      "Epoch 78/100\n",
      "4677/4677 [==============================] - 2s 487us/step - loss: 0.2087 - acc: 0.9279 - val_loss: 0.4860 - val_acc: 0.8726\n",
      "Epoch 79/100\n",
      "4677/4677 [==============================] - 2s 496us/step - loss: 0.2172 - acc: 0.9275 - val_loss: 0.3811 - val_acc: 0.8966\n",
      "Epoch 80/100\n",
      "4677/4677 [==============================] - 2s 491us/step - loss: 0.2035 - acc: 0.9290 - val_loss: 0.4564 - val_acc: 0.8735\n",
      "Epoch 81/100\n",
      "4677/4677 [==============================] - 2s 492us/step - loss: 0.1942 - acc: 0.9279 - val_loss: 0.3771 - val_acc: 0.9051\n",
      "Epoch 82/100\n",
      "4677/4677 [==============================] - 2s 488us/step - loss: 0.1836 - acc: 0.9369 - val_loss: 0.6930 - val_acc: 0.8368\n",
      "Epoch 83/100\n",
      "4677/4677 [==============================] - 2s 493us/step - loss: 0.1967 - acc: 0.9324 - val_loss: 0.3696 - val_acc: 0.8949\n",
      "Epoch 84/100\n",
      "4677/4677 [==============================] - 2s 490us/step - loss: 0.1884 - acc: 0.9324 - val_loss: 0.3948 - val_acc: 0.9000\n",
      "Epoch 85/100\n",
      "4677/4677 [==============================] - 2s 493us/step - loss: 0.1876 - acc: 0.9365 - val_loss: 0.3769 - val_acc: 0.8949\n",
      "Epoch 86/100\n",
      "4677/4677 [==============================] - 2s 492us/step - loss: 0.1889 - acc: 0.9397 - val_loss: 0.3536 - val_acc: 0.9043\n",
      "Epoch 87/100\n",
      "4677/4677 [==============================] - 2s 492us/step - loss: 0.1775 - acc: 0.9356 - val_loss: 0.3934 - val_acc: 0.8897\n",
      "Epoch 88/100\n",
      "4677/4677 [==============================] - 2s 490us/step - loss: 0.1783 - acc: 0.9393 - val_loss: 0.3861 - val_acc: 0.9043\n",
      "Epoch 89/100\n",
      "4677/4677 [==============================] - 2s 496us/step - loss: 0.1720 - acc: 0.9421 - val_loss: 0.4267 - val_acc: 0.8889\n",
      "Epoch 90/100\n",
      "4677/4677 [==============================] - 2s 491us/step - loss: 0.1667 - acc: 0.9427 - val_loss: 0.3254 - val_acc: 0.9231\n",
      "Epoch 91/100\n",
      "4677/4677 [==============================] - 2s 490us/step - loss: 0.1710 - acc: 0.9433 - val_loss: 0.3408 - val_acc: 0.9137\n",
      "Epoch 92/100\n",
      "4677/4677 [==============================] - 2s 490us/step - loss: 0.1781 - acc: 0.9401 - val_loss: 0.3157 - val_acc: 0.9256\n",
      "Epoch 93/100\n",
      "4677/4677 [==============================] - 2s 493us/step - loss: 0.1660 - acc: 0.9448 - val_loss: 0.3776 - val_acc: 0.9094\n",
      "Epoch 94/100\n",
      "4677/4677 [==============================] - 2s 488us/step - loss: 0.1766 - acc: 0.9416 - val_loss: 0.3420 - val_acc: 0.9145\n",
      "Epoch 95/100\n",
      "4677/4677 [==============================] - 2s 491us/step - loss: 0.1505 - acc: 0.9493 - val_loss: 0.4741 - val_acc: 0.8829\n",
      "Epoch 96/100\n",
      "4677/4677 [==============================] - 2s 491us/step - loss: 0.1680 - acc: 0.9393 - val_loss: 0.3947 - val_acc: 0.8983\n",
      "Epoch 97/100\n",
      "4677/4677 [==============================] - 2s 490us/step - loss: 0.1579 - acc: 0.9461 - val_loss: 0.3738 - val_acc: 0.9205\n",
      "Epoch 98/100\n",
      "4677/4677 [==============================] - 2s 488us/step - loss: 0.1494 - acc: 0.9495 - val_loss: 0.3826 - val_acc: 0.9043\n",
      "Epoch 99/100\n",
      "4677/4677 [==============================] - 2s 490us/step - loss: 0.1554 - acc: 0.9455 - val_loss: 0.3655 - val_acc: 0.9162\n",
      "Epoch 100/100\n",
      "4677/4677 [==============================] - 2s 491us/step - loss: 0.1552 - acc: 0.9461 - val_loss: 0.3674 - val_acc: 0.9077\n",
      "1473/1473 [==============================] - 1s 572us/step\n"
     ]
    }
   ],
   "source": [
    "batchSize = 100\n",
    "keras.callbacks.TensorBoard(log_dir='./logs', histogram_freq=0, batch_size=32, write_graph=True, write_grads=False, write_images=False, embeddings_freq=0, embeddings_layer_names=None, embeddings_metadata=None)\n",
    "model.fit(trainX,trainY, validation_split=1-trainSplitRatio,epochs=100,batch_size=batchSize,verbose=1)\n",
    "score = model.evaluate(testX,testY,verbose=1)\n",
    "model.save('tommyCUDACNNmodel.h5')"
   ]
  },
  {
   "cell_type": "code",
   "execution_count": 33,
   "metadata": {},
   "outputs": [
    {
     "name": "stdout",
     "output_type": "stream",
     "text": [
      "[0.38436227645924964, 0.89816700610997968]\n"
     ]
    }
   ],
   "source": [
    "print(score)"
   ]
  },
  {
   "cell_type": "code",
   "execution_count": 42,
   "metadata": {},
   "outputs": [
    {
     "data": {
      "text/plain": [
       "(1496, 18)"
      ]
     },
     "execution_count": 42,
     "metadata": {},
     "output_type": "execute_result"
    }
   ],
   "source": [
    "predictions = model.predict(testX)\n",
    "predictions.shape"
   ]
  },
  {
   "cell_type": "code",
   "execution_count": 32,
   "metadata": {},
   "outputs": [
    {
     "name": "stdout",
     "output_type": "stream",
     "text": [
      "0.9211229946524064\n"
     ]
    }
   ],
   "source": [
    "count = 0.0\n",
    "den = 0.0\n",
    "for pair in zip(predictions, testY):\n",
    "    if np.argmax(pair[0]) == np.argmax(pair[1]):\n",
    "        count += 1.0\n",
    "    den += 1.0\n",
    "\n",
    "print(count / den)"
   ]
  },
  {
   "cell_type": "code",
   "execution_count": 38,
   "metadata": {
    "collapsed": true
   },
   "outputs": [],
   "source": [
    "pred_df = pd.DataFrame(predictions)\n",
    "pred_df.to_csv('preds_test.csv', header=False, index=False)"
   ]
  },
  {
   "cell_type": "code",
   "execution_count": 39,
   "metadata": {
    "collapsed": true
   },
   "outputs": [],
   "source": [
    "true_df = pd.DataFrame(testY)\n",
    "true_df.to_csv('true_test.csv', header=False, index=False)"
   ]
  },
  {
   "cell_type": "code",
   "execution_count": null,
   "metadata": {
    "collapsed": true
   },
   "outputs": [],
   "source": []
  }
 ],
 "metadata": {
  "kernelspec": {
   "display_name": "Python 3",
   "language": "python",
   "name": "python3"
  },
  "language_info": {
   "codemirror_mode": {
    "name": "ipython",
    "version": 3
   },
   "file_extension": ".py",
   "mimetype": "text/x-python",
   "name": "python",
   "nbconvert_exporter": "python",
   "pygments_lexer": "ipython3",
   "version": "3.5.4"
  }
 },
 "nbformat": 4,
 "nbformat_minor": 2
}
