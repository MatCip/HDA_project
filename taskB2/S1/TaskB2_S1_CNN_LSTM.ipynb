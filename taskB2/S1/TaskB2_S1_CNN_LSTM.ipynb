{
 "cells": [
  {
   "cell_type": "code",
   "execution_count": 1,
   "metadata": {},
   "outputs": [
    {
     "name": "stderr",
     "output_type": "stream",
     "text": [
      "Using TensorFlow backend.\n"
     ]
    }
   ],
   "source": [
    "import pandas as pd\n",
    "import numpy as np\n",
    "from keras.models import Sequential\n",
    "from keras.layers import Dense, Conv1D, LSTM, CuDNNLSTM, Flatten, Dropout\n",
    "from keras import optimizers\n",
    "from keras.utils import to_categorical"
   ]
  },
  {
   "cell_type": "code",
   "execution_count": 2,
   "metadata": {
    "collapsed": true
   },
   "outputs": [],
   "source": [
    "class trainerHelper():\n",
    "    \n",
    "    def __init__(self, data, labels, win_size, num_sensor_data, num_classes):\n",
    "        self.data = data\n",
    "        self.labels = labels\n",
    "        self.win_size = win_size\n",
    "        self.sensor_data = num_sensor_data\n",
    "        self.num_classes = num_classes\n",
    "        self.data_length = self.data.shape[0]\n",
    "        print(self.data_length)\n",
    "        self.start = 0\n",
    "        \n",
    "    def windows(self):\n",
    " \n",
    "        while self.start + self.win_size < self.data_length:\n",
    "            yield int(self.start), int(self.start + self.win_size)\n",
    "            self.start += (self.win_size/2)\n",
    "    \n",
    "    def segment_data(self):\n",
    "        self.start = 0\n",
    "        segments = np.empty((0, self.win_size, self.sensor_data))\n",
    "        labels= np.empty((0, self.num_classes))\n",
    "        for (start, end) in self.windows():\n",
    "            x = np.zeros((1, self.win_size, self.sensor_data))\n",
    "            x[0,:] = self.data[start:end,:]\n",
    "            label = self.labels[start:end,:]\n",
    "            if(x.shape[1] == self.win_size):\n",
    "                segments = np.vstack([segments,x])\n",
    "                lb = np.zeros((1, self.num_classes))\n",
    "                lb[0,:] = label[-1]\n",
    "                labels = np.vstack([labels,lb])\n",
    "        return segments, labels"
   ]
  },
  {
   "cell_type": "code",
   "execution_count": 3,
   "metadata": {
    "collapsed": true
   },
   "outputs": [],
   "source": [
    "from sklearn.preprocessing import OneHotEncoder\n",
    "from sklearn.preprocessing import MinMaxScaler\n",
    "\n",
    "def prepare_data(train_data, test_data):\n",
    "    encoder = OneHotEncoder()\n",
    "    train_labels = encoder.fit_transform(train_data['labels'].values.reshape(-1,1)).toarray()\n",
    "    test_labels = encoder.transform(test_data['labels'].values.reshape(-1,1)).toarray()\n",
    "    print(train_labels.shape)\n",
    "    print(test_labels.shape)\n",
    "    scaler = MinMaxScaler()\n",
    "    train_data.drop(['labels'], axis=1, inplace=True)\n",
    "    test_data.drop(['labels'], axis=1, inplace=True)\n",
    "    train_data = scaler.fit_transform(train_data)\n",
    "    test_data = scaler.transform(test_data)\n",
    "    \n",
    "    return train_data, test_data, train_labels, test_labels"
   ]
  },
  {
   "cell_type": "code",
   "execution_count": 4,
   "metadata": {
    "collapsed": true
   },
   "outputs": [],
   "source": [
    "adl_1 = pd.read_csv(\"ADL1Opportunity_taskB2_S1.csv\",header=None)\n",
    "adl_2 = pd.read_csv(\"ADL2Opportunity_taskB2_S1.csv\",header=None)\n",
    "adl_3 = pd.read_csv(\"ADL3Opportunity_taskB2_S1.csv\",header=None)\n",
    "adl_4 = pd.read_csv(\"ADL4Opportunity_taskB2_S1.csv\",header=None)\n",
    "adl_5 = pd.read_csv(\"ADL5Opportunity_taskB2_S1.csv\",header=None)\n",
    "drill = pd.read_csv(\"Drill1Opportunity_taskB2.csv\",header=None)"
   ]
  },
  {
   "cell_type": "code",
   "execution_count": 5,
   "metadata": {
    "collapsed": true
   },
   "outputs": [],
   "source": [
    "train_frames = [adl_1, adl_2, adl_3, drill]\n",
    "test_frames = [adl_4, adl_5]\n",
    "train_data = pd.concat(train_frames)\n",
    "test_data = pd.concat(test_frames)\n",
    "train_data.rename(columns ={113: 'labels'}, inplace =True)\n",
    "test_data.rename(columns ={113: 'labels'}, inplace =True)"
   ]
  },
  {
   "cell_type": "code",
   "execution_count": 6,
   "metadata": {},
   "outputs": [
    {
     "name": "stdout",
     "output_type": "stream",
     "text": [
      "(63083, 114)\n"
     ]
    },
    {
     "data": {
      "text/html": [
       "<div>\n",
       "<style>\n",
       "    .dataframe thead tr:only-child th {\n",
       "        text-align: right;\n",
       "    }\n",
       "\n",
       "    .dataframe thead th {\n",
       "        text-align: left;\n",
       "    }\n",
       "\n",
       "    .dataframe tbody tr th {\n",
       "        vertical-align: top;\n",
       "    }\n",
       "</style>\n",
       "<table border=\"1\" class=\"dataframe\">\n",
       "  <thead>\n",
       "    <tr style=\"text-align: right;\">\n",
       "      <th></th>\n",
       "      <th>0</th>\n",
       "      <th>1</th>\n",
       "      <th>2</th>\n",
       "      <th>3</th>\n",
       "      <th>4</th>\n",
       "      <th>5</th>\n",
       "      <th>6</th>\n",
       "      <th>7</th>\n",
       "      <th>8</th>\n",
       "      <th>9</th>\n",
       "      <th>...</th>\n",
       "      <th>104</th>\n",
       "      <th>105</th>\n",
       "      <th>106</th>\n",
       "      <th>107</th>\n",
       "      <th>108</th>\n",
       "      <th>109</th>\n",
       "      <th>110</th>\n",
       "      <th>111</th>\n",
       "      <th>112</th>\n",
       "      <th>labels</th>\n",
       "    </tr>\n",
       "  </thead>\n",
       "  <tbody>\n",
       "    <tr>\n",
       "      <th>0</th>\n",
       "      <td>148.0</td>\n",
       "      <td>956.0</td>\n",
       "      <td>-358.0</td>\n",
       "      <td>19.0</td>\n",
       "      <td>986.0</td>\n",
       "      <td>196.0</td>\n",
       "      <td>95.0</td>\n",
       "      <td>975.0</td>\n",
       "      <td>152.0</td>\n",
       "      <td>194.0</td>\n",
       "      <td>...</td>\n",
       "      <td>319</td>\n",
       "      <td>-845</td>\n",
       "      <td>-20</td>\n",
       "      <td>57</td>\n",
       "      <td>42</td>\n",
       "      <td>57</td>\n",
       "      <td>20</td>\n",
       "      <td>42</td>\n",
       "      <td>175</td>\n",
       "      <td>1</td>\n",
       "    </tr>\n",
       "    <tr>\n",
       "      <th>1</th>\n",
       "      <td>89.0</td>\n",
       "      <td>973.0</td>\n",
       "      <td>-287.0</td>\n",
       "      <td>10.0</td>\n",
       "      <td>1004.0</td>\n",
       "      <td>162.0</td>\n",
       "      <td>125.0</td>\n",
       "      <td>968.0</td>\n",
       "      <td>122.0</td>\n",
       "      <td>224.0</td>\n",
       "      <td>...</td>\n",
       "      <td>325</td>\n",
       "      <td>-847</td>\n",
       "      <td>-17</td>\n",
       "      <td>38</td>\n",
       "      <td>31</td>\n",
       "      <td>38</td>\n",
       "      <td>17</td>\n",
       "      <td>31</td>\n",
       "      <td>175</td>\n",
       "      <td>1</td>\n",
       "    </tr>\n",
       "    <tr>\n",
       "      <th>2</th>\n",
       "      <td>130.0</td>\n",
       "      <td>988.0</td>\n",
       "      <td>-418.0</td>\n",
       "      <td>-11.0</td>\n",
       "      <td>1014.0</td>\n",
       "      <td>202.0</td>\n",
       "      <td>127.0</td>\n",
       "      <td>1002.0</td>\n",
       "      <td>113.0</td>\n",
       "      <td>279.0</td>\n",
       "      <td>...</td>\n",
       "      <td>328</td>\n",
       "      <td>-852</td>\n",
       "      <td>27</td>\n",
       "      <td>31</td>\n",
       "      <td>15</td>\n",
       "      <td>31</td>\n",
       "      <td>-27</td>\n",
       "      <td>15</td>\n",
       "      <td>175</td>\n",
       "      <td>1</td>\n",
       "    </tr>\n",
       "    <tr>\n",
       "      <th>3</th>\n",
       "      <td>89.0</td>\n",
       "      <td>980.0</td>\n",
       "      <td>-425.0</td>\n",
       "      <td>-47.0</td>\n",
       "      <td>1025.0</td>\n",
       "      <td>191.0</td>\n",
       "      <td>110.0</td>\n",
       "      <td>1006.0</td>\n",
       "      <td>105.0</td>\n",
       "      <td>353.0</td>\n",
       "      <td>...</td>\n",
       "      <td>321</td>\n",
       "      <td>-852</td>\n",
       "      <td>26</td>\n",
       "      <td>22</td>\n",
       "      <td>-2</td>\n",
       "      <td>22</td>\n",
       "      <td>-26</td>\n",
       "      <td>-2</td>\n",
       "      <td>175</td>\n",
       "      <td>1</td>\n",
       "    </tr>\n",
       "    <tr>\n",
       "      <th>4</th>\n",
       "      <td>64.0</td>\n",
       "      <td>857.0</td>\n",
       "      <td>-391.0</td>\n",
       "      <td>-8.0</td>\n",
       "      <td>1022.0</td>\n",
       "      <td>204.0</td>\n",
       "      <td>97.0</td>\n",
       "      <td>1002.0</td>\n",
       "      <td>93.0</td>\n",
       "      <td>548.0</td>\n",
       "      <td>...</td>\n",
       "      <td>321</td>\n",
       "      <td>-850</td>\n",
       "      <td>22</td>\n",
       "      <td>45</td>\n",
       "      <td>-7</td>\n",
       "      <td>45</td>\n",
       "      <td>-22</td>\n",
       "      <td>-7</td>\n",
       "      <td>175</td>\n",
       "      <td>1</td>\n",
       "    </tr>\n",
       "  </tbody>\n",
       "</table>\n",
       "<p>5 rows × 114 columns</p>\n",
       "</div>"
      ],
      "text/plain": [
       "       0      1      2     3       4      5      6       7      8      9  \\\n",
       "0  148.0  956.0 -358.0  19.0   986.0  196.0   95.0   975.0  152.0  194.0   \n",
       "1   89.0  973.0 -287.0  10.0  1004.0  162.0  125.0   968.0  122.0  224.0   \n",
       "2  130.0  988.0 -418.0 -11.0  1014.0  202.0  127.0  1002.0  113.0  279.0   \n",
       "3   89.0  980.0 -425.0 -47.0  1025.0  191.0  110.0  1006.0  105.0  353.0   \n",
       "4   64.0  857.0 -391.0  -8.0  1022.0  204.0   97.0  1002.0   93.0  548.0   \n",
       "\n",
       "    ...    104  105  106  107  108  109  110  111  112  labels  \n",
       "0   ...    319 -845  -20   57   42   57   20   42  175       1  \n",
       "1   ...    325 -847  -17   38   31   38   17   31  175       1  \n",
       "2   ...    328 -852   27   31   15   31  -27   15  175       1  \n",
       "3   ...    321 -852   26   22   -2   22  -26   -2  175       1  \n",
       "4   ...    321 -850   22   45   -7   45  -22   -7  175       1  \n",
       "\n",
       "[5 rows x 114 columns]"
      ]
     },
     "execution_count": 6,
     "metadata": {},
     "output_type": "execute_result"
    }
   ],
   "source": [
    "print(test_data.shape)\n",
    "train_data.head()"
   ]
  },
  {
   "cell_type": "code",
   "execution_count": 7,
   "metadata": {},
   "outputs": [
    {
     "name": "stdout",
     "output_type": "stream",
     "text": [
      "(171500, 18)\n",
      "(63083, 18)\n"
     ]
    }
   ],
   "source": [
    "scaled_train, scaled_test, train_labels, test_labels = prepare_data(train_data, test_data)"
   ]
  },
  {
   "cell_type": "code",
   "execution_count": 8,
   "metadata": {},
   "outputs": [
    {
     "name": "stdout",
     "output_type": "stream",
     "text": [
      "(171500, 113)\n",
      "(171500, 18)\n"
     ]
    }
   ],
   "source": [
    "print(scaled_train.shape)\n",
    "print(train_labels.shape)"
   ]
  },
  {
   "cell_type": "code",
   "execution_count": 10,
   "metadata": {},
   "outputs": [
    {
     "name": "stdout",
     "output_type": "stream",
     "text": [
      "51088\n",
      "32223\n",
      "33274\n",
      "54915\n",
      "Train data has been segmented\n",
      "32955\n",
      "30128\n",
      "Test data has been segmented\n"
     ]
    }
   ],
   "source": [
    "win_size = 15\n",
    "classes = 18\n",
    "num_sensors = scaled_train.shape[1]\n",
    "\n",
    "train_segments = np.empty((0, win_size, num_sensors))\n",
    "train_segments_labels= np.empty((0, classes))\n",
    "last_idx = 0\n",
    "for adl in train_frames:\n",
    "\n",
    "    trainer_helper = trainerHelper(scaled_train[last_idx:last_idx+adl.shape[0]], train_labels[last_idx:last_idx+adl.shape[0]], win_size, num_sensors, classes)\n",
    "    segments, labels = trainer_helper.segment_data()\n",
    "    train_segments = np.vstack([train_segments, segments])\n",
    "    train_segments_labels = np.vstack([train_segments_labels, labels])\n",
    "    last_idx = adl.shape[0]\n",
    "\n",
    "print('Train data has been segmented')\n",
    "\n",
    "test_segments = np.empty((0, win_size, num_sensors))\n",
    "test_segments_labels= np.empty((0, classes))\n",
    "last_idx = 0\n",
    "for adl in test_frames:\n",
    "\n",
    "    trainer_helper = trainerHelper(scaled_test[last_idx:last_idx+adl.shape[0]], test_labels[last_idx:last_idx+adl.shape[0]], win_size, num_sensors, classes)\n",
    "    segments, labels = trainer_helper.segment_data()\n",
    "    test_segments = np.vstack([test_segments, segments])\n",
    "    test_segments_labels = np.vstack([test_segments_labels, labels])\n",
    "    last_idx = adl.shape[0]\n",
    "    \n",
    "print('Test data has been segmented')    "
   ]
  },
  {
   "cell_type": "code",
   "execution_count": 11,
   "metadata": {},
   "outputs": [
    {
     "data": {
      "text/plain": [
       "(22860, 15, 113)"
      ]
     },
     "execution_count": 11,
     "metadata": {},
     "output_type": "execute_result"
    }
   ],
   "source": [
    "train_segments.shape"
   ]
  },
  {
   "cell_type": "code",
   "execution_count": 12,
   "metadata": {},
   "outputs": [
    {
     "data": {
      "text/plain": [
       "(22860, 18)"
      ]
     },
     "execution_count": 12,
     "metadata": {},
     "output_type": "execute_result"
    }
   ],
   "source": [
    "train_segments_labels.shape"
   ]
  },
  {
   "cell_type": "code",
   "execution_count": 13,
   "metadata": {
    "collapsed": true
   },
   "outputs": [],
   "source": [
    "reshaped_train = train_segments.transpose(0,2,1)\n",
    "reshaped_test = test_segments.transpose(0,2,1)"
   ]
  },
  {
   "cell_type": "code",
   "execution_count": 15,
   "metadata": {
    "collapsed": true
   },
   "outputs": [],
   "source": [
    "model = Sequential()\n",
    "kernel_height = 5\n",
    "inputshape = (num_sensors, win_size)\n"
   ]
  },
  {
   "cell_type": "code",
   "execution_count": 16,
   "metadata": {},
   "outputs": [
    {
     "name": "stdout",
     "output_type": "stream",
     "text": [
      "WARNING:tensorflow:From C:\\Users\\Tommy Azzino\\Anaconda3\\envs\\tfdeeplearning\\lib\\site-packages\\keras\\backend\\tensorflow_backend.py:1238: calling reduce_sum (from tensorflow.python.ops.math_ops) with keep_dims is deprecated and will be removed in a future version.\n",
      "Instructions for updating:\n",
      "keep_dims is deprecated, use keepdims instead\n",
      "WARNING:tensorflow:From C:\\Users\\Tommy Azzino\\Anaconda3\\envs\\tfdeeplearning\\lib\\site-packages\\keras\\backend\\tensorflow_backend.py:1340: calling reduce_mean (from tensorflow.python.ops.math_ops) with keep_dims is deprecated and will be removed in a future version.\n",
      "Instructions for updating:\n",
      "keep_dims is deprecated, use keepdims instead\n"
     ]
    }
   ],
   "source": [
    "model.add(Conv1D(64, kernel_size=kernel_height, strides=1,\n",
    "                 activation='relu',\n",
    "                 input_shape=inputshape))\n",
    "\n",
    "model.add(Conv1D(64, kernel_size=kernel_height, strides=1,\n",
    "                 activation='relu'))\n",
    "\n",
    "model.add(Conv1D(64, kernel_size=kernel_height, strides=1,\n",
    "                 activation='relu'))\n",
    "\n",
    "model.add(Conv1D(64, kernel_size=kernel_height, strides=1,\n",
    "                 activation='relu'))\n",
    "\n",
    "model.add(Dropout(0.5))\n",
    "\n",
    "model.add(CuDNNLSTM(128, return_sequences=True))\n",
    "\n",
    "model.add(Dropout(0.5))\n",
    "\n",
    "model.add(CuDNNLSTM(128, return_sequences=False))\n",
    "\n",
    "model.add(Dropout(0.5))\n",
    "\n",
    "model.add(Dense(classes, activation='softmax'))\n",
    "\n",
    "rms = optimizers.RMSprop(lr=0.001, decay=1e-6)\n",
    "model.compile(loss='categorical_crossentropy', optimizer=rms, metrics=['accuracy'])"
   ]
  },
  {
   "cell_type": "code",
   "execution_count": 17,
   "metadata": {},
   "outputs": [
    {
     "name": "stdout",
     "output_type": "stream",
     "text": [
      "conv1d_1\n",
      "conv1d_2\n",
      "conv1d_3\n",
      "conv1d_4\n",
      "dropout_1\n",
      "cu_dnnlstm_1\n",
      "dropout_2\n",
      "cu_dnnlstm_2\n",
      "dropout_3\n",
      "dense_1\n"
     ]
    }
   ],
   "source": [
    "for layer in model.layers:\n",
    "    print(layer.name)"
   ]
  },
  {
   "cell_type": "code",
   "execution_count": 19,
   "metadata": {},
   "outputs": [
    {
     "name": "stdout",
     "output_type": "stream",
     "text": [
      "Epoch 1/50\n",
      "22860/22860 [==============================] - 11s 471us/step - loss: 0.1563 - acc: 0.9501\n",
      "Epoch 2/50\n",
      "22860/22860 [==============================] - 10s 422us/step - loss: 0.1404 - acc: 0.9550\n",
      "Epoch 3/50\n",
      "22860/22860 [==============================] - 10s 421us/step - loss: 0.1348 - acc: 0.9563\n",
      "Epoch 4/50\n",
      "22860/22860 [==============================] - 10s 422us/step - loss: 0.1331 - acc: 0.9551\n",
      "Epoch 5/50\n",
      "22860/22860 [==============================] - 10s 426us/step - loss: 0.1277 - acc: 0.9573\n",
      "Epoch 6/50\n",
      "22860/22860 [==============================] - 10s 423us/step - loss: 0.1227 - acc: 0.9605\n",
      "Epoch 7/50\n",
      "22860/22860 [==============================] - 10s 423us/step - loss: 0.1163 - acc: 0.9615\n",
      "Epoch 8/50\n",
      "22860/22860 [==============================] - 10s 422us/step - loss: 0.1110 - acc: 0.9643\n",
      "Epoch 9/50\n",
      "22860/22860 [==============================] - 10s 422us/step - loss: 0.1091 - acc: 0.9628\n",
      "Epoch 10/50\n",
      "22860/22860 [==============================] - 10s 422us/step - loss: 0.1119 - acc: 0.9635\n",
      "Epoch 11/50\n",
      "22860/22860 [==============================] - 10s 425us/step - loss: 0.1030 - acc: 0.9657\n",
      "Epoch 12/50\n",
      "22860/22860 [==============================] - 10s 421us/step - loss: 0.1098 - acc: 0.9638\n",
      "Epoch 13/50\n",
      "22860/22860 [==============================] - 10s 422us/step - loss: 0.0997 - acc: 0.9673\n",
      "Epoch 14/50\n",
      "22860/22860 [==============================] - 10s 424us/step - loss: 0.0999 - acc: 0.9677\n",
      "Epoch 15/50\n",
      "22860/22860 [==============================] - 10s 427us/step - loss: 0.0976 - acc: 0.9673\n",
      "Epoch 16/50\n",
      "22860/22860 [==============================] - 10s 421us/step - loss: 0.0983 - acc: 0.9687\n",
      "Epoch 17/50\n",
      "22860/22860 [==============================] - 10s 421us/step - loss: 0.0977 - acc: 0.9692\n",
      "Epoch 18/50\n",
      "22860/22860 [==============================] - 10s 424us/step - loss: 0.0934 - acc: 0.9696\n",
      "Epoch 19/50\n",
      "22860/22860 [==============================] - 10s 422us/step - loss: 0.0884 - acc: 0.9716\n",
      "Epoch 20/50\n",
      "22860/22860 [==============================] - 10s 421us/step - loss: 0.0813 - acc: 0.9720\n",
      "Epoch 21/50\n",
      "22860/22860 [==============================] - 10s 421us/step - loss: 0.0897 - acc: 0.9713\n",
      "Epoch 22/50\n",
      "22860/22860 [==============================] - 10s 420us/step - loss: 0.0864 - acc: 0.9714\n",
      "Epoch 23/50\n",
      "22860/22860 [==============================] - 10s 421us/step - loss: 0.0820 - acc: 0.9732\n",
      "Epoch 24/50\n",
      "22860/22860 [==============================] - 10s 424us/step - loss: 0.0812 - acc: 0.9745\n",
      "Epoch 25/50\n",
      "22860/22860 [==============================] - 10s 427us/step - loss: 0.0851 - acc: 0.9730\n",
      "Epoch 26/50\n",
      "22860/22860 [==============================] - 10s 422us/step - loss: 0.0861 - acc: 0.9734\n",
      "Epoch 27/50\n",
      "22860/22860 [==============================] - 10s 421us/step - loss: 0.0812 - acc: 0.9746\n",
      "Epoch 28/50\n",
      "22860/22860 [==============================] - 10s 422us/step - loss: 0.0792 - acc: 0.9750\n",
      "Epoch 29/50\n",
      "22860/22860 [==============================] - 10s 423us/step - loss: 0.0770 - acc: 0.9759\n",
      "Epoch 30/50\n",
      "22860/22860 [==============================] - 10s 428us/step - loss: 0.0746 - acc: 0.9755\n",
      "Epoch 31/50\n",
      "22860/22860 [==============================] - 10s 422us/step - loss: 0.0771 - acc: 0.9747\n",
      "Epoch 32/50\n",
      "22860/22860 [==============================] - 10s 423us/step - loss: 0.0721 - acc: 0.9776\n",
      "Epoch 33/50\n",
      "22860/22860 [==============================] - 10s 421us/step - loss: 0.0705 - acc: 0.9773\n",
      "Epoch 34/50\n",
      "22860/22860 [==============================] - 10s 422us/step - loss: 0.0708 - acc: 0.9764\n",
      "Epoch 35/50\n",
      "22860/22860 [==============================] - 10s 422us/step - loss: 0.0727 - acc: 0.9786\n",
      "Epoch 36/50\n",
      "22860/22860 [==============================] - 10s 422us/step - loss: 0.0689 - acc: 0.9778\n",
      "Epoch 37/50\n",
      "22860/22860 [==============================] - 10s 421us/step - loss: 0.0679 - acc: 0.9779\n",
      "Epoch 38/50\n",
      "22860/22860 [==============================] - 10s 422us/step - loss: 0.0674 - acc: 0.9780\n",
      "Epoch 39/50\n",
      "22860/22860 [==============================] - 10s 421us/step - loss: 0.0649 - acc: 0.9789\n",
      "Epoch 40/50\n",
      "22860/22860 [==============================] - 10s 422us/step - loss: 0.0720 - acc: 0.9775\n",
      "Epoch 41/50\n",
      "22860/22860 [==============================] - 10s 423us/step - loss: 0.0719 - acc: 0.9784\n",
      "Epoch 42/50\n",
      "22860/22860 [==============================] - 10s 420us/step - loss: 0.0665 - acc: 0.9795\n",
      "Epoch 43/50\n",
      "22860/22860 [==============================] - 10s 418us/step - loss: 0.0680 - acc: 0.9782\n",
      "Epoch 44/50\n",
      "22860/22860 [==============================] - 10s 420us/step - loss: 0.0669 - acc: 0.9791\n",
      "Epoch 45/50\n",
      "22860/22860 [==============================] - 10s 422us/step - loss: 0.0665 - acc: 0.9794\n",
      "Epoch 46/50\n",
      "22860/22860 [==============================] - 10s 421us/step - loss: 0.0662 - acc: 0.9796\n",
      "Epoch 47/50\n",
      "22860/22860 [==============================] - 10s 420us/step - loss: 0.0626 - acc: 0.9804\n",
      "Epoch 48/50\n",
      "22860/22860 [==============================] - 10s 421us/step - loss: 0.0656 - acc: 0.9798\n",
      "Epoch 49/50\n",
      "22860/22860 [==============================] - 10s 421us/step - loss: 0.0569 - acc: 0.9824\n",
      "Epoch 50/50\n",
      "22860/22860 [==============================] - 10s 420us/step - loss: 0.0602 - acc: 0.9795\n",
      "Calculating score.. \n",
      "8408/8408 [==============================] - 3s 362us/step\n",
      "[1.2611962267017711, 0.82968601332064695]\n"
     ]
    }
   ],
   "source": [
    "batchSize = 100\n",
    "validationRatio=1.0;\n",
    "model.fit(reshaped_train,train_segments_labels, validation_split=1-validationRatio,epochs=50,batch_size=batchSize,verbose=1)\n",
    "\n",
    "print('Calculating score.. ')\n",
    "score = model.evaluate(reshaped_test,test_segments_labels,verbose=1)\n",
    "print(score)\n",
    "model.save('taskB2_S1_CNN_LSTM_model.h5')"
   ]
  },
  {
   "cell_type": "code",
   "execution_count": 19,
   "metadata": {
    "collapsed": true
   },
   "outputs": [],
   "source": [
    "predictions = model.predict(reshaped_test)"
   ]
  },
  {
   "cell_type": "code",
   "execution_count": 20,
   "metadata": {},
   "outputs": [
    {
     "name": "stdout",
     "output_type": "stream",
     "text": [
      "0.8530876494023905\n"
     ]
    }
   ],
   "source": [
    "count = 0.0\n",
    "den = 0.0\n",
    "for pair in zip(predictions, test_segments_labels):\n",
    "    if np.argmax(pair[0]) == np.argmax(pair[1]):\n",
    "        count += 1.0\n",
    "    den += 1.0\n",
    "\n",
    "print(count / den)"
   ]
  },
  {
   "cell_type": "code",
   "execution_count": 38,
   "metadata": {
    "collapsed": true
   },
   "outputs": [],
   "source": [
    "pred_df = pd.DataFrame(predictions)\n",
    "pred_df.to_csv('preds_test.csv', header=False, index=False)"
   ]
  },
  {
   "cell_type": "code",
   "execution_count": 39,
   "metadata": {
    "collapsed": true
   },
   "outputs": [],
   "source": [
    "true_df = pd.DataFrame(testY)\n",
    "true_df.to_csv('true_test.csv', header=False, index=False)"
   ]
  },
  {
   "cell_type": "code",
   "execution_count": null,
   "metadata": {
    "collapsed": true
   },
   "outputs": [],
   "source": []
  }
 ],
 "metadata": {
  "kernelspec": {
   "display_name": "Python 3",
   "language": "python",
   "name": "python3"
  },
  "language_info": {
   "codemirror_mode": {
    "name": "ipython",
    "version": 3
   },
   "file_extension": ".py",
   "mimetype": "text/x-python",
   "name": "python",
   "nbconvert_exporter": "python",
   "pygments_lexer": "ipython3",
   "version": "3.5.4"
  }
 },
 "nbformat": 4,
 "nbformat_minor": 2
}
