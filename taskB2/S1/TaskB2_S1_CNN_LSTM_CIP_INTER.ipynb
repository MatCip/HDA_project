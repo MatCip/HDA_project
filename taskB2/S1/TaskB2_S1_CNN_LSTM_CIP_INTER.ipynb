{
 "cells": [
  {
   "cell_type": "code",
   "execution_count": 1,
   "metadata": {},
   "outputs": [
    {
     "name": "stderr",
     "output_type": "stream",
     "text": [
      "Using TensorFlow backend.\n"
     ]
    }
   ],
   "source": [
    "import pandas as pd\n",
    "import numpy as np\n",
    "from keras.models import Sequential\n",
    "from keras.layers import Dense, Conv1D, Conv2D, LSTM, CuDNNLSTM, Flatten, Dropout, Input, TimeDistributed, Reshape\n",
    "from keras import optimizers\n",
    "from keras.utils import to_categorical"
   ]
  },
  {
   "cell_type": "code",
   "execution_count": 2,
   "metadata": {
    "collapsed": true
   },
   "outputs": [],
   "source": [
    "class trainerHelper():\n",
    "    \n",
    "    def __init__(self, data, labels, win_size, num_sensor_data, num_classes):\n",
    "        self.data = data\n",
    "        self.labels = labels\n",
    "        self.win_size = win_size\n",
    "        self.sensor_data = num_sensor_data\n",
    "        self.num_classes = num_classes\n",
    "        self.data_length = self.data.shape[0]\n",
    "        print(self.data_length)\n",
    "        self.start = 0\n",
    "        \n",
    "    def windows(self):\n",
    " \n",
    "        while self.start + self.win_size < self.data_length:\n",
    "            yield int(self.start), int(self.start + self.win_size)\n",
    "            self.start += (self.win_size/2)\n",
    "    \n",
    "    def segment_data(self):\n",
    "        self.start = 0\n",
    "        segments = np.empty((0, self.win_size, self.sensor_data))\n",
    "        labels= np.empty((0, self.num_classes))\n",
    "        for (start, end) in self.windows():\n",
    "            x = np.zeros((1, self.win_size, self.sensor_data))\n",
    "            x[0,:] = self.data[start:end,:]\n",
    "            label = self.labels[start:end,:]\n",
    "            if(x.shape[1] == self.win_size):\n",
    "                segments = np.vstack([segments,x])\n",
    "                lb = np.zeros((1, self.num_classes))\n",
    "                lb[0,:] = label[-1]\n",
    "                labels = np.vstack([labels,lb])\n",
    "        return segments, labels"
   ]
  },
  {
   "cell_type": "code",
   "execution_count": 3,
   "metadata": {
    "collapsed": true
   },
   "outputs": [],
   "source": [
    "from sklearn.preprocessing import OneHotEncoder\n",
    "from sklearn.preprocessing import MinMaxScaler\n",
    "\n",
    "def prepare_data(train_data, test_data):\n",
    "    encoder = OneHotEncoder()\n",
    "    train_labels = encoder.fit_transform(train_data['labels'].values.reshape(-1,1)).toarray()\n",
    "    test_labels = encoder.transform(test_data['labels'].values.reshape(-1,1)).toarray()\n",
    "    scaler = MinMaxScaler(feature_range=(0, 1))\n",
    "    train_data.drop(['labels'], axis=1, inplace=True)\n",
    "    test_data.drop(['labels'], axis=1, inplace=True)\n",
    "    train_data = scaler.fit_transform(train_data)\n",
    "    test_data = scaler.transform(test_data)\n",
    "    \n",
    "    return train_data, test_data, train_labels, test_labels"
   ]
  },
  {
   "cell_type": "code",
   "execution_count": 4,
   "metadata": {
    "collapsed": true
   },
   "outputs": [],
   "source": [
    "adl_1 = pd.read_csv(\"ADL1Opportunity_taskB2_S1.csv\",header=None)\n",
    "adl_2 = pd.read_csv(\"ADL2Opportunity_taskB2_S1.csv\",header=None)\n",
    "adl_3 = pd.read_csv(\"ADL3Opportunity_taskB2_S1.csv\",header=None)\n",
    "adl_4 = pd.read_csv(\"ADL4Opportunity_taskB2_S1.csv\",header=None)\n",
    "adl_5 = pd.read_csv(\"ADL5Opportunity_taskB2_S1.csv\",header=None)\n",
    "drill = pd.read_csv(\"Drill1Opportunity_taskB2.csv\",header=None)"
   ]
  },
  {
   "cell_type": "code",
   "execution_count": 5,
   "metadata": {
    "collapsed": true
   },
   "outputs": [],
   "source": [
    "train_frames = [adl_1, adl_2, adl_3, drill]\n",
    "test_frames = [adl_4, adl_5]\n",
    "train_data = pd.concat(train_frames)\n",
    "test_data = pd.concat(test_frames)\n",
    "train_data.rename(columns ={113: 'labels'}, inplace =True)\n",
    "test_data.rename(columns ={113: 'labels'}, inplace =True)"
   ]
  },
  {
   "cell_type": "code",
   "execution_count": 6,
   "metadata": {},
   "outputs": [
    {
     "name": "stdout",
     "output_type": "stream",
     "text": [
      "Shape of train data is (171500, 114)\n",
      "Shape of test data is (63083, 114)\n"
     ]
    },
    {
     "data": {
      "text/html": [
       "<div>\n",
       "<style>\n",
       "    .dataframe thead tr:only-child th {\n",
       "        text-align: right;\n",
       "    }\n",
       "\n",
       "    .dataframe thead th {\n",
       "        text-align: left;\n",
       "    }\n",
       "\n",
       "    .dataframe tbody tr th {\n",
       "        vertical-align: top;\n",
       "    }\n",
       "</style>\n",
       "<table border=\"1\" class=\"dataframe\">\n",
       "  <thead>\n",
       "    <tr style=\"text-align: right;\">\n",
       "      <th></th>\n",
       "      <th>0</th>\n",
       "      <th>1</th>\n",
       "      <th>2</th>\n",
       "      <th>3</th>\n",
       "      <th>4</th>\n",
       "      <th>5</th>\n",
       "      <th>6</th>\n",
       "      <th>7</th>\n",
       "      <th>8</th>\n",
       "      <th>9</th>\n",
       "      <th>...</th>\n",
       "      <th>104</th>\n",
       "      <th>105</th>\n",
       "      <th>106</th>\n",
       "      <th>107</th>\n",
       "      <th>108</th>\n",
       "      <th>109</th>\n",
       "      <th>110</th>\n",
       "      <th>111</th>\n",
       "      <th>112</th>\n",
       "      <th>labels</th>\n",
       "    </tr>\n",
       "  </thead>\n",
       "  <tbody>\n",
       "    <tr>\n",
       "      <th>0</th>\n",
       "      <td>148.0</td>\n",
       "      <td>956.0</td>\n",
       "      <td>-358.0</td>\n",
       "      <td>19.0</td>\n",
       "      <td>986.0</td>\n",
       "      <td>196.0</td>\n",
       "      <td>95.0</td>\n",
       "      <td>975.0</td>\n",
       "      <td>152.0</td>\n",
       "      <td>194.0</td>\n",
       "      <td>...</td>\n",
       "      <td>319</td>\n",
       "      <td>-845</td>\n",
       "      <td>-20</td>\n",
       "      <td>57</td>\n",
       "      <td>42</td>\n",
       "      <td>57</td>\n",
       "      <td>20</td>\n",
       "      <td>42</td>\n",
       "      <td>175</td>\n",
       "      <td>1</td>\n",
       "    </tr>\n",
       "    <tr>\n",
       "      <th>1</th>\n",
       "      <td>89.0</td>\n",
       "      <td>973.0</td>\n",
       "      <td>-287.0</td>\n",
       "      <td>10.0</td>\n",
       "      <td>1004.0</td>\n",
       "      <td>162.0</td>\n",
       "      <td>125.0</td>\n",
       "      <td>968.0</td>\n",
       "      <td>122.0</td>\n",
       "      <td>224.0</td>\n",
       "      <td>...</td>\n",
       "      <td>325</td>\n",
       "      <td>-847</td>\n",
       "      <td>-17</td>\n",
       "      <td>38</td>\n",
       "      <td>31</td>\n",
       "      <td>38</td>\n",
       "      <td>17</td>\n",
       "      <td>31</td>\n",
       "      <td>175</td>\n",
       "      <td>1</td>\n",
       "    </tr>\n",
       "    <tr>\n",
       "      <th>2</th>\n",
       "      <td>130.0</td>\n",
       "      <td>988.0</td>\n",
       "      <td>-418.0</td>\n",
       "      <td>-11.0</td>\n",
       "      <td>1014.0</td>\n",
       "      <td>202.0</td>\n",
       "      <td>127.0</td>\n",
       "      <td>1002.0</td>\n",
       "      <td>113.0</td>\n",
       "      <td>279.0</td>\n",
       "      <td>...</td>\n",
       "      <td>328</td>\n",
       "      <td>-852</td>\n",
       "      <td>27</td>\n",
       "      <td>31</td>\n",
       "      <td>15</td>\n",
       "      <td>31</td>\n",
       "      <td>-27</td>\n",
       "      <td>15</td>\n",
       "      <td>175</td>\n",
       "      <td>1</td>\n",
       "    </tr>\n",
       "    <tr>\n",
       "      <th>3</th>\n",
       "      <td>89.0</td>\n",
       "      <td>980.0</td>\n",
       "      <td>-425.0</td>\n",
       "      <td>-47.0</td>\n",
       "      <td>1025.0</td>\n",
       "      <td>191.0</td>\n",
       "      <td>110.0</td>\n",
       "      <td>1006.0</td>\n",
       "      <td>105.0</td>\n",
       "      <td>353.0</td>\n",
       "      <td>...</td>\n",
       "      <td>321</td>\n",
       "      <td>-852</td>\n",
       "      <td>26</td>\n",
       "      <td>22</td>\n",
       "      <td>-2</td>\n",
       "      <td>22</td>\n",
       "      <td>-26</td>\n",
       "      <td>-2</td>\n",
       "      <td>175</td>\n",
       "      <td>1</td>\n",
       "    </tr>\n",
       "    <tr>\n",
       "      <th>4</th>\n",
       "      <td>64.0</td>\n",
       "      <td>857.0</td>\n",
       "      <td>-391.0</td>\n",
       "      <td>-8.0</td>\n",
       "      <td>1022.0</td>\n",
       "      <td>204.0</td>\n",
       "      <td>97.0</td>\n",
       "      <td>1002.0</td>\n",
       "      <td>93.0</td>\n",
       "      <td>548.0</td>\n",
       "      <td>...</td>\n",
       "      <td>321</td>\n",
       "      <td>-850</td>\n",
       "      <td>22</td>\n",
       "      <td>45</td>\n",
       "      <td>-7</td>\n",
       "      <td>45</td>\n",
       "      <td>-22</td>\n",
       "      <td>-7</td>\n",
       "      <td>175</td>\n",
       "      <td>1</td>\n",
       "    </tr>\n",
       "  </tbody>\n",
       "</table>\n",
       "<p>5 rows × 114 columns</p>\n",
       "</div>"
      ],
      "text/plain": [
       "       0      1      2     3       4      5      6       7      8      9  \\\n",
       "0  148.0  956.0 -358.0  19.0   986.0  196.0   95.0   975.0  152.0  194.0   \n",
       "1   89.0  973.0 -287.0  10.0  1004.0  162.0  125.0   968.0  122.0  224.0   \n",
       "2  130.0  988.0 -418.0 -11.0  1014.0  202.0  127.0  1002.0  113.0  279.0   \n",
       "3   89.0  980.0 -425.0 -47.0  1025.0  191.0  110.0  1006.0  105.0  353.0   \n",
       "4   64.0  857.0 -391.0  -8.0  1022.0  204.0   97.0  1002.0   93.0  548.0   \n",
       "\n",
       "    ...    104  105  106  107  108  109  110  111  112  labels  \n",
       "0   ...    319 -845  -20   57   42   57   20   42  175       1  \n",
       "1   ...    325 -847  -17   38   31   38   17   31  175       1  \n",
       "2   ...    328 -852   27   31   15   31  -27   15  175       1  \n",
       "3   ...    321 -852   26   22   -2   22  -26   -2  175       1  \n",
       "4   ...    321 -850   22   45   -7   45  -22   -7  175       1  \n",
       "\n",
       "[5 rows x 114 columns]"
      ]
     },
     "execution_count": 6,
     "metadata": {},
     "output_type": "execute_result"
    }
   ],
   "source": [
    "print('Shape of train data is {}'.format(train_data.shape))\n",
    "print('Shape of test data is {}'.format(test_data.shape))\n",
    "train_data.head()"
   ]
  },
  {
   "cell_type": "code",
   "execution_count": 7,
   "metadata": {},
   "outputs": [],
   "source": [
    "scaled_train, scaled_test, train_labels, test_labels = prepare_data(train_data, test_data)"
   ]
  },
  {
   "cell_type": "code",
   "execution_count": 9,
   "metadata": {},
   "outputs": [
    {
     "name": "stdout",
     "output_type": "stream",
     "text": [
      "(171500, 113)\n",
      "[[ 1.  0.  0. ...,  0.  0.  0.]\n",
      " [ 1.  0.  0. ...,  0.  0.  0.]\n",
      " [ 1.  0.  0. ...,  0.  0.  0.]\n",
      " ..., \n",
      " [ 1.  0.  0. ...,  0.  0.  0.]\n",
      " [ 1.  0.  0. ...,  0.  0.  0.]\n",
      " [ 1.  0.  0. ...,  0.  0.  0.]]\n"
     ]
    }
   ],
   "source": [
    "print(scaled_train.shape)\n",
    "print(train_labels)"
   ]
  },
  {
   "cell_type": "code",
   "execution_count": 325,
   "metadata": {},
   "outputs": [
    {
     "name": "stdout",
     "output_type": "stream",
     "text": [
      "[[ 0.451319    0.55016061  0.55583438 ...,  0.41258607  0.3406629\n",
      "   0.80560748]\n",
      " [ 0.45576862  0.55003706  0.55795773 ...,  0.41090665  0.34028023\n",
      "   0.80560748]\n",
      " [ 0.45672211  0.54954287  0.55679954 ...,  0.41160241  0.34133993\n",
      "   0.80560748]\n",
      " ..., \n",
      " [ 0.46540947  0.41919941  0.55583438 ...,  0.41102661  0.34142824\n",
      "   0.54392523]\n",
      " [ 0.46540947  0.41919941  0.55583438 ...,  0.41177035  0.34148711\n",
      "   0.54766355]\n",
      " [ 0.46540947  0.41919941  0.55583438 ...,  0.41088266  0.34142824\n",
      "   0.5046729 ]]\n"
     ]
    }
   ],
   "source": [
    "print(scaled_test)"
   ]
  },
  {
   "cell_type": "code",
   "execution_count": 331,
   "metadata": {},
   "outputs": [
    {
     "name": "stdout",
     "output_type": "stream",
     "text": [
      "51088\n",
      "32223\n",
      "33274\n",
      "54915\n",
      "Train data has been segmented\n",
      "32955\n",
      "30128\n",
      "Test data has been segmented\n"
     ]
    }
   ],
   "source": [
    "win_size = 15\n",
    "classes = 18\n",
    "num_sensors = scaled_train.shape[1]\n",
    "\n",
    "train_segments = np.empty((0, win_size, num_sensors))\n",
    "train_segments_labels= np.empty((0, classes))\n",
    "last_idx = 0\n",
    "for adl in train_frames:\n",
    "\n",
    "    trainer_helper = trainerHelper(scaled_train[last_idx:last_idx+adl.shape[0]], train_labels[last_idx:last_idx+adl.shape[0]], win_size, num_sensors, classes)\n",
    "    segments, labels = trainer_helper.segment_data()\n",
    "    train_segments = np.vstack([train_segments, segments])\n",
    "    train_segments_labels = np.vstack([train_segments_labels, labels])\n",
    "    last_idx = adl.shape[0]\n",
    "\n",
    "print('Train data has been segmented')\n",
    "\n",
    "test_segments = np.empty((0, win_size, num_sensors))\n",
    "test_segments_labels= np.empty((0, classes))\n",
    "last_idx = 0\n",
    "for adl in test_frames:\n",
    "\n",
    "    trainer_helper = trainerHelper(scaled_test[last_idx:last_idx+adl.shape[0]], test_labels[last_idx:last_idx+adl.shape[0]], win_size, num_sensors, classes)\n",
    "    segments, labels = trainer_helper.segment_data()\n",
    "    test_segments = np.vstack([test_segments, segments])\n",
    "    test_segments_labels = np.vstack([test_segments_labels, labels])\n",
    "    last_idx = adl.shape[0]\n",
    "    \n",
    "print('Test data has been segmented')    "
   ]
  },
  {
   "cell_type": "code",
   "execution_count": 332,
   "metadata": {},
   "outputs": [
    {
     "data": {
      "text/plain": [
       "(22860, 15, 113)"
      ]
     },
     "execution_count": 332,
     "metadata": {},
     "output_type": "execute_result"
    }
   ],
   "source": [
    "train_segments.shape"
   ]
  },
  {
   "cell_type": "code",
   "execution_count": 333,
   "metadata": {},
   "outputs": [
    {
     "data": {
      "text/plain": [
       "(22860, 18)"
      ]
     },
     "execution_count": 333,
     "metadata": {},
     "output_type": "execute_result"
    }
   ],
   "source": [
    "train_segments_labels.shape"
   ]
  },
  {
   "cell_type": "code",
   "execution_count": 334,
   "metadata": {
    "collapsed": true
   },
   "outputs": [],
   "source": [
    "# reshape input for CNN\n",
    "reshaped_train = train_segments.reshape(train_segments.shape[0], win_size, num_sensors, 1)\n",
    "reshaped_test = test_segments.reshape(test_segments.shape[0], win_size, num_sensors, 1)"
   ]
  },
  {
   "cell_type": "code",
   "execution_count": 394,
   "metadata": {
    "collapsed": true
   },
   "outputs": [],
   "source": [
    "model = Sequential()\n",
    "size_of_kernel = (3,1)\n",
    "num_filters = 64\n",
    "num_lstm_cells = 128\n",
    "dropout_prob = 0.5\n",
    "inputshape = (win_size, num_sensors, 1)\n",
    "batchshape = (None, win_size, num_sensors)"
   ]
  },
  {
   "cell_type": "code",
   "execution_count": 395,
   "metadata": {
    "collapsed": true
   },
   "outputs": [],
   "source": [
    "model.add(Conv2D(num_filters, kernel_size=size_of_kernel, strides=1,\n",
    "                 activation='relu', input_shape=inputshape, name='1_conv_layer'))"
   ]
  },
  {
   "cell_type": "code",
   "execution_count": 396,
   "metadata": {
    "collapsed": true
   },
   "outputs": [],
   "source": [
    "model.add(Conv2D(num_filters, kernel_size=size_of_kernel, strides=1,\n",
    "                 activation='relu', name='2_conv_layer'))"
   ]
  },
  {
   "cell_type": "code",
   "execution_count": 397,
   "metadata": {
    "collapsed": true
   },
   "outputs": [],
   "source": [
    "model.add(Conv2D(num_filters, kernel_size=size_of_kernel, strides=1,\n",
    "                 activation='relu', name='3_conv_layer'))"
   ]
  },
  {
   "cell_type": "code",
   "execution_count": 398,
   "metadata": {
    "collapsed": true
   },
   "outputs": [],
   "source": [
    "model.add(Conv2D(num_filters, kernel_size=size_of_kernel, strides=1,\n",
    "                 activation='relu', name='4_conv_layer'))"
   ]
  },
  {
   "cell_type": "code",
   "execution_count": 399,
   "metadata": {
    "collapsed": true
   },
   "outputs": [],
   "source": [
    "model.add(Conv2D(num_filters, kernel_size=size_of_kernel, strides=1,\n",
    "                 activation='relu', name='5_conv_layer'))"
   ]
  },
  {
   "cell_type": "code",
   "execution_count": 400,
   "metadata": {
    "collapsed": true
   },
   "outputs": [],
   "source": [
    "model.add(Conv2D(num_filters, kernel_size=size_of_kernel, strides=1,\n",
    "                 activation='relu', name='6_conv_layer'))"
   ]
  },
  {
   "cell_type": "code",
   "execution_count": 401,
   "metadata": {
    "collapsed": true
   },
   "outputs": [],
   "source": [
    "model.add(Conv2D(num_filters, kernel_size=size_of_kernel, strides=1,\n",
    "                 activation='relu', name='7_conv_layer'))"
   ]
  },
  {
   "cell_type": "code",
   "execution_count": 402,
   "metadata": {
    "collapsed": true
   },
   "outputs": [],
   "source": [
    "model.add(Reshape((-1, num_filters*num_sensors)))"
   ]
  },
  {
   "cell_type": "code",
   "execution_count": 403,
   "metadata": {
    "collapsed": true
   },
   "outputs": [],
   "source": [
    "model.add(CuDNNLSTM(num_lstm_cells, return_sequences=True, name='1_lstm_layer'))\n",
    "\n",
    "model.add(Dropout(dropout_prob, name='2_dropout_layer'))\n",
    "\n",
    "model.add(CuDNNLSTM(num_lstm_cells, return_sequences=False, name='2_lstm_layer'))\n",
    "\n",
    "model.add(Dropout(dropout_prob, name='3_dropout_layer'))\n",
    "\n",
    "model.add(Dense(classes, activation='softmax', name='softmax_layer'))\n",
    "\n",
    "rms = optimizers.RMSprop(lr=0.001, decay=1e-6)\n",
    "model.compile(loss='categorical_crossentropy', optimizer=rms, metrics=['accuracy'])"
   ]
  },
  {
   "cell_type": "code",
   "execution_count": 404,
   "metadata": {},
   "outputs": [
    {
     "name": "stdout",
     "output_type": "stream",
     "text": [
      "1_conv_layer: input shape: (None, 15, 113, 1) output shape: (None, 13, 113, 64)\n",
      "2_conv_layer: input shape: (None, 13, 113, 64) output shape: (None, 11, 113, 64)\n",
      "3_conv_layer: input shape: (None, 11, 113, 64) output shape: (None, 9, 113, 64)\n",
      "4_conv_layer: input shape: (None, 9, 113, 64) output shape: (None, 7, 113, 64)\n",
      "5_conv_layer: input shape: (None, 7, 113, 64) output shape: (None, 5, 113, 64)\n",
      "6_conv_layer: input shape: (None, 5, 113, 64) output shape: (None, 3, 113, 64)\n",
      "7_conv_layer: input shape: (None, 3, 113, 64) output shape: (None, 1, 113, 64)\n",
      "reshape_9: input shape: (None, 1, 113, 64) output shape: (None, 1, 7232)\n",
      "1_lstm_layer: input shape: (None, 1, 7232) output shape: (None, 1, 128)\n",
      "2_dropout_layer: input shape: (None, 1, 128) output shape: (None, 1, 128)\n",
      "2_lstm_layer: input shape: (None, 1, 128) output shape: (None, 128)\n",
      "3_dropout_layer: input shape: (None, 128) output shape: (None, 128)\n",
      "softmax_layer: input shape: (None, 128) output shape: (None, 18)\n"
     ]
    }
   ],
   "source": [
    "for layer in model.layers:\n",
    "    print(str(layer.name) + ': input shape: ' + str(layer.input_shape) + ' output shape: ' + str(layer.output_shape))"
   ]
  },
  {
   "cell_type": "code",
   "execution_count": 405,
   "metadata": {},
   "outputs": [
    {
     "name": "stdout",
     "output_type": "stream",
     "text": [
      "_________________________________________________________________\n",
      "Layer (type)                 Output Shape              Param #   \n",
      "=================================================================\n",
      "1_conv_layer (Conv2D)        (None, 13, 113, 64)       256       \n",
      "_________________________________________________________________\n",
      "2_conv_layer (Conv2D)        (None, 11, 113, 64)       12352     \n",
      "_________________________________________________________________\n",
      "3_conv_layer (Conv2D)        (None, 9, 113, 64)        12352     \n",
      "_________________________________________________________________\n",
      "4_conv_layer (Conv2D)        (None, 7, 113, 64)        12352     \n",
      "_________________________________________________________________\n",
      "5_conv_layer (Conv2D)        (None, 5, 113, 64)        12352     \n",
      "_________________________________________________________________\n",
      "6_conv_layer (Conv2D)        (None, 3, 113, 64)        12352     \n",
      "_________________________________________________________________\n",
      "7_conv_layer (Conv2D)        (None, 1, 113, 64)        12352     \n",
      "_________________________________________________________________\n",
      "reshape_9 (Reshape)          (None, 1, 7232)           0         \n",
      "_________________________________________________________________\n",
      "1_lstm_layer (CuDNNLSTM)     (None, 1, 128)            3769344   \n",
      "_________________________________________________________________\n",
      "2_dropout_layer (Dropout)    (None, 1, 128)            0         \n",
      "_________________________________________________________________\n",
      "2_lstm_layer (CuDNNLSTM)     (None, 128)               132096    \n",
      "_________________________________________________________________\n",
      "3_dropout_layer (Dropout)    (None, 128)               0         \n",
      "_________________________________________________________________\n",
      "softmax_layer (Dense)        (None, 18)                2322      \n",
      "=================================================================\n",
      "Total params: 3,978,130\n",
      "Trainable params: 3,978,130\n",
      "Non-trainable params: 0\n",
      "_________________________________________________________________\n"
     ]
    }
   ],
   "source": [
    "model.summary()"
   ]
  },
  {
   "cell_type": "code",
   "execution_count": 406,
   "metadata": {},
   "outputs": [
    {
     "name": "stdout",
     "output_type": "stream",
     "text": [
      "Epoch 1/50\n",
      "22860/22860 [==============================] - 27s 1ms/step - loss: 0.9551 - acc: 0.8258\n",
      "Epoch 2/50\n",
      "22860/22860 [==============================] - 17s 763us/step - loss: 0.7102 - acc: 0.8344\n",
      "Epoch 3/50\n",
      "22860/22860 [==============================] - 18s 766us/step - loss: 0.5533 - acc: 0.8562\n",
      "Epoch 4/50\n",
      "22860/22860 [==============================] - 17s 757us/step - loss: 0.4873 - acc: 0.8640\n",
      "Epoch 5/50\n",
      "22860/22860 [==============================] - 17s 759us/step - loss: 0.4409 - acc: 0.8708\n",
      "Epoch 6/50\n",
      "22860/22860 [==============================] - 17s 758us/step - loss: 0.4009 - acc: 0.8805\n",
      "Epoch 7/50\n",
      "22860/22860 [==============================] - 17s 760us/step - loss: 0.3618 - acc: 0.8901\n",
      "Epoch 8/50\n",
      "22860/22860 [==============================] - 17s 761us/step - loss: 0.3336 - acc: 0.8963\n",
      "Epoch 9/50\n",
      "22860/22860 [==============================] - 17s 759us/step - loss: 0.3021 - acc: 0.9036\n",
      "Epoch 10/50\n",
      "22860/22860 [==============================] - 17s 760us/step - loss: 0.2833 - acc: 0.9087\n",
      "Epoch 11/50\n",
      "22860/22860 [==============================] - 17s 760us/step - loss: 0.2635 - acc: 0.9162\n",
      "Epoch 12/50\n",
      "22860/22860 [==============================] - 17s 764us/step - loss: 0.2484 - acc: 0.9202\n",
      "Epoch 13/50\n",
      "22860/22860 [==============================] - 18s 773us/step - loss: 0.2343 - acc: 0.9246\n",
      "Epoch 14/50\n",
      "22860/22860 [==============================] - 17s 763us/step - loss: 0.2231 - acc: 0.9291\n",
      "Epoch 15/50\n",
      "22860/22860 [==============================] - 17s 763us/step - loss: 0.2123 - acc: 0.9314\n",
      "Epoch 16/50\n",
      "22860/22860 [==============================] - 18s 768us/step - loss: 0.1942 - acc: 0.9369\n",
      "Epoch 17/50\n",
      "22860/22860 [==============================] - 17s 757us/step - loss: 0.1900 - acc: 0.9383\n",
      "Epoch 18/50\n",
      "22860/22860 [==============================] - 17s 757us/step - loss: 0.1790 - acc: 0.9415\n",
      "Epoch 19/50\n",
      "22860/22860 [==============================] - 17s 754us/step - loss: 0.1723 - acc: 0.9440\n",
      "Epoch 20/50\n",
      "22860/22860 [==============================] - 17s 758us/step - loss: 0.1645 - acc: 0.9461\n",
      "Epoch 21/50\n",
      "22860/22860 [==============================] - 17s 755us/step - loss: 0.1576 - acc: 0.9480\n",
      "Epoch 22/50\n",
      "22860/22860 [==============================] - 17s 759us/step - loss: 0.1473 - acc: 0.9537\n",
      "Epoch 23/50\n",
      "22860/22860 [==============================] - 17s 755us/step - loss: 0.1415 - acc: 0.9539\n",
      "Epoch 24/50\n",
      "22860/22860 [==============================] - 17s 755us/step - loss: 0.1409 - acc: 0.9544\n",
      "Epoch 25/50\n",
      "22860/22860 [==============================] - 17s 754us/step - loss: 0.1351 - acc: 0.9556\n",
      "Epoch 26/50\n",
      "22860/22860 [==============================] - 17s 755us/step - loss: 0.1341 - acc: 0.9576\n",
      "Epoch 27/50\n",
      "22860/22860 [==============================] - 17s 756us/step - loss: 0.1291 - acc: 0.9576\n",
      "Epoch 28/50\n",
      "22860/22860 [==============================] - 17s 758us/step - loss: 0.1227 - acc: 0.9605\n",
      "Epoch 29/50\n",
      "22860/22860 [==============================] - 17s 764us/step - loss: 0.1161 - acc: 0.9629\n",
      "Epoch 30/50\n",
      "22860/22860 [==============================] - 17s 764us/step - loss: 0.1184 - acc: 0.9636\n",
      "Epoch 31/50\n",
      "22860/22860 [==============================] - 17s 762us/step - loss: 0.1087 - acc: 0.9662\n",
      "Epoch 32/50\n",
      "22860/22860 [==============================] - 17s 757us/step - loss: 0.1067 - acc: 0.9660\n",
      "Epoch 33/50\n",
      "22860/22860 [==============================] - 17s 752us/step - loss: 0.1024 - acc: 0.9680\n",
      "Epoch 34/50\n",
      "22860/22860 [==============================] - 17s 754us/step - loss: 0.1093 - acc: 0.9663\n",
      "Epoch 35/50\n",
      "22860/22860 [==============================] - 17s 757us/step - loss: 0.0956 - acc: 0.9687\n",
      "Epoch 36/50\n",
      "22860/22860 [==============================] - 17s 755us/step - loss: 0.0969 - acc: 0.9693\n",
      "Epoch 37/50\n",
      "22860/22860 [==============================] - 17s 752us/step - loss: 0.0922 - acc: 0.9700\n",
      "Epoch 38/50\n",
      "22860/22860 [==============================] - 17s 751us/step - loss: 0.0941 - acc: 0.9710\n",
      "Epoch 39/50\n",
      "22860/22860 [==============================] - 17s 757us/step - loss: 0.0875 - acc: 0.9727\n",
      "Epoch 40/50\n",
      "22860/22860 [==============================] - 17s 757us/step - loss: 0.0894 - acc: 0.9712\n",
      "Epoch 41/50\n",
      "22860/22860 [==============================] - 17s 762us/step - loss: 0.0872 - acc: 0.9726\n",
      "Epoch 42/50\n",
      "22860/22860 [==============================] - 17s 759us/step - loss: 0.0884 - acc: 0.9724\n",
      "Epoch 43/50\n",
      "22860/22860 [==============================] - 17s 757us/step - loss: 0.0862 - acc: 0.9724\n",
      "Epoch 44/50\n",
      "22860/22860 [==============================] - 17s 752us/step - loss: 0.0841 - acc: 0.9728\n",
      "Epoch 45/50\n",
      "22860/22860 [==============================] - 18s 766us/step - loss: 0.0737 - acc: 0.9760\n",
      "Epoch 46/50\n",
      "22860/22860 [==============================] - 17s 762us/step - loss: 0.0760 - acc: 0.9756\n",
      "Epoch 47/50\n",
      "22860/22860 [==============================] - 17s 761us/step - loss: 0.0774 - acc: 0.9763\n",
      "Epoch 48/50\n",
      "22860/22860 [==============================] - 18s 768us/step - loss: 0.0768 - acc: 0.9755\n",
      "Epoch 49/50\n",
      "22860/22860 [==============================] - 18s 780us/step - loss: 0.0704 - acc: 0.9769\n",
      "Epoch 50/50\n",
      "22860/22860 [==============================] - 17s 751us/step - loss: 0.0729 - acc: 0.9776\n",
      "Calculating score.. \n",
      "8408/8408 [==============================] - 5s 547us/step\n",
      "[0.98882892879338546, 0.85204567078972404]\n"
     ]
    }
   ],
   "source": [
    "batchSize = 200\n",
    "train_epoches = 50\n",
    "validationRatio=1.0;\n",
    "model.fit(reshaped_train,train_segments_labels, validation_split=1-validationRatio,epochs=train_epoches,batch_size=batchSize,verbose=1)\n",
    "\n",
    "print('Calculating score.. ')\n",
    "score = model.evaluate(reshaped_test,test_segments_labels,verbose=1)\n",
    "print(score)\n",
    "model.save('taskB2_S1_CNN_LSTM_model.h5')"
   ]
  },
  {
   "cell_type": "code",
   "execution_count": 363,
   "metadata": {
    "collapsed": true
   },
   "outputs": [],
   "source": [
    "predictions = model.predict(reshaped_test)"
   ]
  },
  {
   "cell_type": "code",
   "execution_count": 364,
   "metadata": {},
   "outputs": [
    {
     "name": "stdout",
     "output_type": "stream",
     "text": [
      "0.8503805899143673\n"
     ]
    }
   ],
   "source": [
    "count = 0.0\n",
    "den = 0.0\n",
    "for pair in zip(predictions, test_segments_labels):\n",
    "    if np.argmax(pair[0]) == np.argmax(pair[1]):\n",
    "        count += 1.0\n",
    "    den += 1.0\n",
    "\n",
    "print(count / den)"
   ]
  },
  {
   "cell_type": "code",
   "execution_count": 365,
   "metadata": {},
   "outputs": [
    {
     "name": "stdout",
     "output_type": "stream",
     "text": [
      "Standard accuracy is 0.8503805899143673\n",
      "0 0.763796384396 0.921625544267\n",
      "1 0.0149857278782 0.774193548387\n",
      "2 0.0128449096099 0.760416666667\n",
      "3 0.0132017126546 0.766355140187\n",
      "4 0.0105851569933 0.747252747253\n",
      "5 0.0140342530923 0.461538461538\n",
      "6 0.0165318744053 0.489795918367\n",
      "7 0.00475737392959 0.136363636364\n",
      "8 0.00701712654615 0.32\n",
      "9 0.00273549000951 0.19512195122\n",
      "10 0.00333016175071 0.409638554217\n",
      "11 0.00463843958135 0.0\n",
      "12 0.00701712654615 0.0606060606061\n",
      "13 0.00749286393911 0.594202898551\n",
      "14 0.00547098001903 0.518518518519\n",
      "15 0.00558991436727 0.350877192982\n",
      "16 0.0971693625119 0.483437779767\n",
      "17 0.00880114176974 0.464646464646\n",
      "The weigths sum is 1.0\n",
      "The computed f1-score is 0.8234378060146824\n",
      "The f1-score with sklearn function is 0.8234378060146825\n"
     ]
    }
   ],
   "source": [
    "# F1-score measure\n",
    "from sklearn.metrics import f1_score\n",
    "num_classes = 18\n",
    "class_predictions = []\n",
    "class_true = []\n",
    "tot_labels = 0.0\n",
    "count = 0.0\n",
    "for pair in zip(predictions, test_segments_labels):\n",
    "    class_predictions.append(np.argmax(pair[0]))\n",
    "    class_true.append(np.argmax(pair[1]))\n",
    "    if np.argmax(pair[0]) == np.argmax(pair[1]):\n",
    "        count += 1.0\n",
    "    tot_labels += 1.0\n",
    "    \n",
    "print('Standard accuracy is ' + str(count/tot_labels))    \n",
    "\n",
    "unique, counts = np.unique(class_true, return_counts=True)\n",
    "counted_labels = dict(zip(unique, counts))\n",
    "f1_scores = f1_score(class_predictions, class_true, average=None)\n",
    "\n",
    "tot_f1_score = 0.0\n",
    "weights_sum = 0.0\n",
    "for i in range(num_classes):\n",
    "    labels_class_i = counted_labels[i]\n",
    "    weight_i = labels_class_i / tot_labels\n",
    "    weights_sum += weight_i\n",
    "    tot_f1_score += f1_scores[i]*weight_i\n",
    "    print(str(i) + ' ' + str(weight_i) + ' ' + str(f1_scores[i]))\n",
    "\n",
    "    \n",
    "print('The weigths sum is ' + str(weights_sum))\n",
    "print('The computed f1-score is {}'.format(tot_f1_score))\n",
    "print('The f1-score with sklearn function is {}'.format(f1_score(class_true, class_predictions, average='weighted')))"
   ]
  },
  {
   "cell_type": "code",
   "execution_count": 102,
   "metadata": {},
   "outputs": [
    {
     "name": "stdout",
     "output_type": "stream",
     "text": [
      "_________________________________________________________________\n",
      "Layer (type)                 Output Shape              Param #   \n",
      "=================================================================\n",
      "conv1d_49 (Conv1D)           (None, 11, 64)            36224     \n",
      "_________________________________________________________________\n",
      "conv1d_50 (Conv1D)           (None, 7, 64)             20544     \n",
      "_________________________________________________________________\n",
      "conv1d_51 (Conv1D)           (None, 3, 64)             20544     \n",
      "_________________________________________________________________\n",
      "conv1d_52 (Conv1D)           (None, 3, 64)             20544     \n",
      "_________________________________________________________________\n",
      "dropout_28 (Dropout)         (None, 3, 64)             0         \n",
      "_________________________________________________________________\n",
      "cu_dnnlstm_19 (CuDNNLSTM)    (None, 3, 128)            99328     \n",
      "_________________________________________________________________\n",
      "dropout_29 (Dropout)         (None, 3, 128)            0         \n",
      "_________________________________________________________________\n",
      "cu_dnnlstm_20 (CuDNNLSTM)    (None, 128)               132096    \n",
      "_________________________________________________________________\n",
      "dropout_30 (Dropout)         (None, 128)               0         \n",
      "_________________________________________________________________\n",
      "dense_10 (Dense)             (None, 18)                2322      \n",
      "=================================================================\n",
      "Total params: 331,602\n",
      "Trainable params: 331,602\n",
      "Non-trainable params: 0\n",
      "_________________________________________________________________\n"
     ]
    }
   ],
   "source": [
    "model.summary()"
   ]
  },
  {
   "cell_type": "code",
   "execution_count": 38,
   "metadata": {
    "collapsed": true
   },
   "outputs": [],
   "source": [
    "pred_df = pd.DataFrame(predictions)\n",
    "pred_df.to_csv('preds_test.csv', header=False, index=False)"
   ]
  },
  {
   "cell_type": "code",
   "execution_count": 39,
   "metadata": {
    "collapsed": true
   },
   "outputs": [],
   "source": [
    "true_df = pd.DataFrame(testY)\n",
    "true_df.to_csv('true_test.csv', header=False, index=False)"
   ]
  },
  {
   "cell_type": "code",
   "execution_count": null,
   "metadata": {
    "collapsed": true
   },
   "outputs": [],
   "source": []
  }
 ],
 "metadata": {
  "kernelspec": {
   "display_name": "Python 3",
   "language": "python",
   "name": "python3"
  },
  "language_info": {
   "codemirror_mode": {
    "name": "ipython",
    "version": 3
   },
   "file_extension": ".py",
   "mimetype": "text/x-python",
   "name": "python",
   "nbconvert_exporter": "python",
   "pygments_lexer": "ipython3",
   "version": "3.5.4"
  }
 },
 "nbformat": 4,
 "nbformat_minor": 2
}
