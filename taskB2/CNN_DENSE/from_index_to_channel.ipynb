{
 "cells": [
  {
   "cell_type": "code",
   "execution_count": 9,
   "metadata": {
    "collapsed": true
   },
   "outputs": [],
   "source": [
    "from from_index_to_channel import *\n",
    "import pickle as pk"
   ]
  },
  {
   "cell_type": "code",
   "execution_count": 10,
   "metadata": {
    "collapsed": true
   },
   "outputs": [],
   "source": [
    "def from_index_to_channel(list_of_channels):\n",
    "    pkl_file = open('index_to_channel.pkl', 'rb')\n",
    "    mydict = pk.load(pkl_file)\n",
    "    channel_names=[]\n",
    "    for key in list_of_channels:\n",
    "        channel_names.append(mydict[key])\n",
    "    return channel_names"
   ]
  },
  {
   "cell_type": "code",
   "execution_count": 23,
   "metadata": {},
   "outputs": [
    {
     "name": "stdout",
     "output_type": "stream",
     "text": [
      "[ 94  90 106 110 111 108  92  95  57  91  93 109 107  59  75  48  77  66\n",
      "  58  76  89 105  39  31  50  54  22  78  60  13  10   1  72  68  34  49\n",
      "  67  52  44  28  19 104  88  21   2 103  80  69 101  62  70  61 102  85\n",
      "  23 100  79  71  51  86  84  27  14  24  53  56  46  87  33   9  35  64\n",
      "  43  11  12  40  20  42  30  26   8  16  25  17  18  32   6  55  74   0\n",
      "  38  29  73   5   3   7  47  45  65  63  41  15  36  37   4  81  96  97\n",
      "  83  99 112  82  98]\n",
      "['InertialMeasurementUnit_L-SHOE_AngVelNavFrameY;column_116', 'InertialMeasurementUnit_L-SHOE_AngVelBodyFrameX;column_112', 'InertialMeasurementUnit_R-SHOE_AngVelBodyFrameX;column_128', 'InertialMeasurementUnit_R-SHOE_AngVelNavFrameY;column_132', 'InertialMeasurementUnit_R-SHOE_AngVelNavFrameZ;column_133', 'InertialMeasurementUnit_R-SHOE_AngVelBodyFrameZ;column_130', 'InertialMeasurementUnit_L-SHOE_AngVelBodyFrameZ;column_114', 'InertialMeasurementUnit_L-SHOE_AngVelNavFrameZ;column_117', 'InertialMeasurementUnit_RLA_gyroX;column_67', 'InertialMeasurementUnit_L-SHOE_AngVelBodyFrameY;column_113', 'InertialMeasurementUnit_L-SHOE_AngVelNavFrameX;column_115', 'InertialMeasurementUnit_R-SHOE_AngVelNavFrameX;column_131', 'InertialMeasurementUnit_R-SHOE_AngVelBodyFrameY;column_129', 'InertialMeasurementUnit_RLA_gyroZ;column_69', 'InertialMeasurementUnit_LLA_gyroX;column_93', 'InertialMeasurementUnit_RUA_gyroX;column_54', 'InertialMeasurementUnit_LLA_gyroZ;column_95', 'InertialMeasurementUnit_LUA_gyroX;column_80', 'InertialMeasurementUnit_RLA_gyroY;column_68', 'InertialMeasurementUnit_LLA_gyroY;column_94', 'InertialMeasurementUnit_L-SHOE_Body_Az;column_111', 'InertialMeasurementUnit_R-SHOE_Body_Az;column_127', 'InertialMeasurementUnit_BACK_gyroX;column_41', 'Accelerometer_LWR_accY;column_33', 'InertialMeasurementUnit_RUA_gyroZ;column_56', 'InertialMeasurementUnit_RLA_accX;column_64', 'Accelerometer_RWR_accY;column_24', 'InertialMeasurementUnit_LLA_magneticX;column_96', 'InertialMeasurementUnit_RLA_magneticX;column_70', 'Accelerometer_LH_accY;column_15', 'Accelerometer_RUA__accY;column_12', 'Accelerometer_RKN^_accY;column_3', 'InertialMeasurementUnit_LLA_accX;column_90', 'InertialMeasurementUnit_LUA_gyroZ;column_82', 'Accelerometer_RH_accY;column_36', 'InertialMeasurementUnit_RUA_gyroY;column_55', 'InertialMeasurementUnit_LUA_gyroY;column_81', 'InertialMeasurementUnit_RUA_magneticY;column_58', 'InertialMeasurementUnit_BACK_magneticZ;column_46', 'Accelerometer_LUA__accY;column_30']\n"
     ]
    }
   ],
   "source": [
    "pkl_file = open('channels_by_variance.pkl', 'rb')\n",
    "list_index=pk.load(pkl_file)\n",
    "vect=list_index[0]\n",
    "print(vect)\n",
    "channels_name=from_index_to_channel(vect[:40])\n",
    "print(channels_name)"
   ]
  },
  {
   "cell_type": "code",
   "execution_count": null,
   "metadata": {
    "collapsed": true
   },
   "outputs": [],
   "source": []
  }
 ],
 "metadata": {
  "kernelspec": {
   "display_name": "Python 3",
   "language": "python",
   "name": "python3"
  },
  "language_info": {
   "codemirror_mode": {
    "name": "ipython",
    "version": 3
   },
   "file_extension": ".py",
   "mimetype": "text/x-python",
   "name": "python",
   "nbconvert_exporter": "python",
   "pygments_lexer": "ipython3",
   "version": "3.5.4"
  }
 },
 "nbformat": 4,
 "nbformat_minor": 2
}
