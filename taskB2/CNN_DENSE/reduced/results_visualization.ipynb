{
 "cells": [
  {
   "cell_type": "code",
   "execution_count": 5,
   "metadata": {
    "collapsed": true
   },
   "outputs": [],
   "source": [
    "import pickle as pk\n",
    "import numpy as np"
   ]
  },
  {
   "cell_type": "code",
   "execution_count": 3,
   "metadata": {},
   "outputs": [],
   "source": [
    "pkl_file = open('results_CNN_DENSE_IMU_2.pkl', 'rb')\n",
    "mydict = pk.load(pkl_file)"
   ]
  },
  {
   "cell_type": "code",
   "execution_count": 4,
   "metadata": {},
   "outputs": [
    {
     "name": "stdout",
     "output_type": "stream",
     "text": [
      "[0.91036576194414753, 0.91038120653020793, 0.90965481493330747, 0.90975983767606128, 0.91007357013849244, 0.90956418227944502, 0.91019091611563563, 0.91082318700951037, 0.91061245881829578, 0.91111476454752971, 0.90926157827734055, 0.90995409613381673, 0.90974909514827795, 0.90977354755891693, 0.90982760404212371, 0.90947862740585361, 0.90959707268887025, 0.90981755452315682, 0.90967490988538124, 0.90971328257602935, 0.90981100862459019, 0.90975793736316701, 0.90989035343983993, 0.90979979455126458, 0.90968728058550008, 0.90976283114422207, 0.90973486844069251, 0.90971135527139324, 0.90973486844069251, 0.90971135527139324]\n"
     ]
    }
   ],
   "source": [
    "print(mydict[1])"
   ]
  },
  {
   "cell_type": "code",
   "execution_count": 6,
   "metadata": {},
   "outputs": [
    {
     "name": "stdout",
     "output_type": "stream",
     "text": [
      "0.911114764548\n"
     ]
    }
   ],
   "source": [
    "print(np.amax(mydict[1]))"
   ]
  },
  {
   "cell_type": "code",
   "execution_count": null,
   "metadata": {
    "collapsed": true
   },
   "outputs": [],
   "source": []
  }
 ],
 "metadata": {
  "kernelspec": {
   "display_name": "Python 3",
   "language": "python",
   "name": "python3"
  },
  "language_info": {
   "codemirror_mode": {
    "name": "ipython",
    "version": 3
   },
   "file_extension": ".py",
   "mimetype": "text/x-python",
   "name": "python",
   "nbconvert_exporter": "python",
   "pygments_lexer": "ipython3",
   "version": "3.5.4"
  }
 },
 "nbformat": 4,
 "nbformat_minor": 2
}
