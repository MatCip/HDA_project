{
 "cells": [
  {
   "cell_type": "code",
   "execution_count": 1,
   "metadata": {},
   "outputs": [
    {
     "name": "stderr",
     "output_type": "stream",
     "text": [
      "Using TensorFlow backend.\n"
     ]
    }
   ],
   "source": [
    "import pandas as pd\n",
    "import numpy as np\n",
    "from keras.models import Sequential\n",
    "from keras.layers import Dense, Conv1D, Conv2D, LSTM, CuDNNLSTM, Flatten, Dropout, Input, TimeDistributed, Reshape\n",
    "from keras import optimizers\n",
    "from keras.utils import to_categorical"
   ]
  },
  {
   "cell_type": "code",
   "execution_count": 2,
   "metadata": {
    "collapsed": true
   },
   "outputs": [],
   "source": [
    "class trainerHelper():\n",
    "    \n",
    "    def __init__(self, data, labels, win_size, num_sensor_data, num_classes):\n",
    "        self.data = data\n",
    "        self.labels = labels\n",
    "        self.win_size = win_size\n",
    "        self.sensor_data = num_sensor_data\n",
    "        self.num_classes = num_classes\n",
    "        self.data_length = self.data.shape[0]\n",
    "        print(self.data_length)\n",
    "        self.start = 0\n",
    "        \n",
    "    def windows(self):\n",
    " \n",
    "        while self.start + self.win_size < self.data_length:\n",
    "            yield int(self.start), int(self.start + self.win_size)\n",
    "            self.start += (self.win_size/2)\n",
    "    \n",
    "    def segment_data(self):\n",
    "        self.start = 0\n",
    "        segments = np.empty((0, self.win_size, self.sensor_data))\n",
    "        labels= np.empty((0, self.num_classes))\n",
    "        for (start, end) in self.windows():\n",
    "            x = np.zeros((1, self.win_size, self.sensor_data))\n",
    "            x[0,:] = self.data[start:end,:]\n",
    "            label = self.labels[start:end,:]\n",
    "            if(x.shape[1] == self.win_size):\n",
    "                segments = np.vstack([segments,x])\n",
    "                lb = np.zeros((1, self.num_classes))\n",
    "                lb[0,:] = label[-1]\n",
    "                labels = np.vstack([labels,lb])\n",
    "        return segments, labels"
   ]
  },
  {
   "cell_type": "code",
   "execution_count": 3,
   "metadata": {
    "collapsed": true
   },
   "outputs": [],
   "source": [
    "from sklearn.preprocessing import OneHotEncoder\n",
    "from sklearn.preprocessing import MinMaxScaler\n",
    "\n",
    "def prepare_data(train_data, val_data, test_data):\n",
    "    encoder = OneHotEncoder()\n",
    "    train_labels = encoder.fit_transform(train_data['labels'].values.reshape(-1,1)).toarray()\n",
    "    val_labels = encoder.transform(val_data['labels'].values.reshape(-1,1)).toarray()\n",
    "    test_labels = encoder.transform(test_data['labels'].values.reshape(-1,1)).toarray()\n",
    "    scaler = MinMaxScaler(feature_range=(0, 1))\n",
    "    train_data.drop(['labels'], axis=1, inplace=True)\n",
    "    val_data.drop(['labels'], axis=1, inplace=True)\n",
    "    test_data.drop(['labels'], axis=1, inplace=True)\n",
    "    train_data = scaler.fit_transform(train_data)\n",
    "    val_data = scaler.transform(val_data)\n",
    "    test_data = scaler.transform(test_data)\n",
    "    \n",
    "    return train_data, val_data, test_data, train_labels, val_labels, test_labels"
   ]
  },
  {
   "cell_type": "code",
   "execution_count": 4,
   "metadata": {
    "collapsed": true
   },
   "outputs": [],
   "source": [
    "# import train data\n",
    "adl_1_1 = pd.read_csv(\"ADL1Opportunity_taskB2_S1.csv\",header=None)\n",
    "adl_1_2 = pd.read_csv(\"ADL2Opportunity_taskB2_S1.csv\",header=None)\n",
    "adl_1_3 = pd.read_csv(\"ADL3Opportunity_taskB2_S1.csv\",header=None)\n",
    "adl_1_4 = pd.read_csv(\"ADL4Opportunity_taskB2_S1.csv\",header=None)\n",
    "adl_1_5 = pd.read_csv(\"ADL5Opportunity_taskB2_S1.csv\",header=None)\n",
    "drill_1 = pd.read_csv(\"Drill1Opportunity_taskB2.csv\",header=None)\n",
    "adl_2_1 = pd.read_csv(\"ADL1Opportunity_taskB2_S2.csv\",header=None)\n",
    "adl_2_2 = pd.read_csv(\"ADL2Opportunity_taskB2_S2.csv\",header=None)\n",
    "drill_2 = pd.read_csv(\"Drill2Opportunity_taskB2.csv\",header=None)\n",
    "adl_3_1 = pd.read_csv(\"ADL1Opportunity_taskB2_S3.csv\",header=None)\n",
    "adl_3_2 = pd.read_csv(\"ADL2Opportunity_taskB2_S3.csv\",header=None)\n",
    "drill_3 = pd.read_csv(\"Drill3Opportunity_taskB2.csv\",header=None)\n",
    "\n",
    "# import validation data\n",
    "adl_2_3 = pd.read_csv(\"ADL3Opportunity_taskB2_S2.csv\",header=None)\n",
    "adl_3_3 = pd.read_csv(\"ADL3Opportunity_taskB2_S3.csv\",header=None)\n",
    "\n",
    "# import test data\n",
    "adl_2_4 = pd.read_csv(\"ADL4Opportunity_taskB2_S2.csv\",header=None)\n",
    "adl_2_5 = pd.read_csv(\"ADL5Opportunity_taskB2_S2.csv\",header=None)\n",
    "adl_3_4 = pd.read_csv(\"ADL4Opportunity_taskB2_S3.csv\",header=None)\n",
    "adl_3_5 = pd.read_csv(\"ADL5Opportunity_taskB2_S3.csv\",header=None)"
   ]
  },
  {
   "cell_type": "code",
   "execution_count": 5,
   "metadata": {
    "collapsed": true
   },
   "outputs": [],
   "source": [
    "train_frames = [adl_1_1,adl_1_2,adl_1_3,adl_1_4,adl_1_5,drill_1,adl_2_1,adl_2_2,drill_2,adl_3_1,adl_3_2,drill_3]\n",
    "val_frames = [adl_2_3,adl_3_3]\n",
    "test_frames = [adl_2_4,adl_2_5,adl_3_4,adl_3_5]\n",
    "train_data = pd.concat(train_frames)\n",
    "val_data = pd.concat(val_frames)\n",
    "test_data = pd.concat(test_frames)\n",
    "train_data.rename(columns ={113: 'labels'}, inplace =True)\n",
    "val_data.rename(columns ={113: 'labels'}, inplace =True)\n",
    "test_data.rename(columns ={113: 'labels'}, inplace =True)"
   ]
  },
  {
   "cell_type": "code",
   "execution_count": 6,
   "metadata": {},
   "outputs": [
    {
     "name": "stdout",
     "output_type": "stream",
     "text": [
      "Shape of train data is (495691, 114)\n",
      "Shape of test data is (118456, 114)\n"
     ]
    },
    {
     "data": {
      "text/html": [
       "<div>\n",
       "<style>\n",
       "    .dataframe thead tr:only-child th {\n",
       "        text-align: right;\n",
       "    }\n",
       "\n",
       "    .dataframe thead th {\n",
       "        text-align: left;\n",
       "    }\n",
       "\n",
       "    .dataframe tbody tr th {\n",
       "        vertical-align: top;\n",
       "    }\n",
       "</style>\n",
       "<table border=\"1\" class=\"dataframe\">\n",
       "  <thead>\n",
       "    <tr style=\"text-align: right;\">\n",
       "      <th></th>\n",
       "      <th>0</th>\n",
       "      <th>1</th>\n",
       "      <th>2</th>\n",
       "      <th>3</th>\n",
       "      <th>4</th>\n",
       "      <th>5</th>\n",
       "      <th>6</th>\n",
       "      <th>7</th>\n",
       "      <th>8</th>\n",
       "      <th>9</th>\n",
       "      <th>...</th>\n",
       "      <th>104</th>\n",
       "      <th>105</th>\n",
       "      <th>106</th>\n",
       "      <th>107</th>\n",
       "      <th>108</th>\n",
       "      <th>109</th>\n",
       "      <th>110</th>\n",
       "      <th>111</th>\n",
       "      <th>112</th>\n",
       "      <th>labels</th>\n",
       "    </tr>\n",
       "  </thead>\n",
       "  <tbody>\n",
       "    <tr>\n",
       "      <th>0</th>\n",
       "      <td>148.0</td>\n",
       "      <td>956.0</td>\n",
       "      <td>-358.0</td>\n",
       "      <td>19.0</td>\n",
       "      <td>986.0</td>\n",
       "      <td>196.0</td>\n",
       "      <td>95.0</td>\n",
       "      <td>975.0</td>\n",
       "      <td>152.0</td>\n",
       "      <td>194.0</td>\n",
       "      <td>...</td>\n",
       "      <td>319</td>\n",
       "      <td>-845</td>\n",
       "      <td>-20</td>\n",
       "      <td>57</td>\n",
       "      <td>42</td>\n",
       "      <td>57</td>\n",
       "      <td>20</td>\n",
       "      <td>42</td>\n",
       "      <td>175</td>\n",
       "      <td>1</td>\n",
       "    </tr>\n",
       "    <tr>\n",
       "      <th>1</th>\n",
       "      <td>89.0</td>\n",
       "      <td>973.0</td>\n",
       "      <td>-287.0</td>\n",
       "      <td>10.0</td>\n",
       "      <td>1004.0</td>\n",
       "      <td>162.0</td>\n",
       "      <td>125.0</td>\n",
       "      <td>968.0</td>\n",
       "      <td>122.0</td>\n",
       "      <td>224.0</td>\n",
       "      <td>...</td>\n",
       "      <td>325</td>\n",
       "      <td>-847</td>\n",
       "      <td>-17</td>\n",
       "      <td>38</td>\n",
       "      <td>31</td>\n",
       "      <td>38</td>\n",
       "      <td>17</td>\n",
       "      <td>31</td>\n",
       "      <td>175</td>\n",
       "      <td>1</td>\n",
       "    </tr>\n",
       "    <tr>\n",
       "      <th>2</th>\n",
       "      <td>130.0</td>\n",
       "      <td>988.0</td>\n",
       "      <td>-418.0</td>\n",
       "      <td>-11.0</td>\n",
       "      <td>1014.0</td>\n",
       "      <td>202.0</td>\n",
       "      <td>127.0</td>\n",
       "      <td>1002.0</td>\n",
       "      <td>113.0</td>\n",
       "      <td>279.0</td>\n",
       "      <td>...</td>\n",
       "      <td>328</td>\n",
       "      <td>-852</td>\n",
       "      <td>27</td>\n",
       "      <td>31</td>\n",
       "      <td>15</td>\n",
       "      <td>31</td>\n",
       "      <td>-27</td>\n",
       "      <td>15</td>\n",
       "      <td>175</td>\n",
       "      <td>1</td>\n",
       "    </tr>\n",
       "    <tr>\n",
       "      <th>3</th>\n",
       "      <td>89.0</td>\n",
       "      <td>980.0</td>\n",
       "      <td>-425.0</td>\n",
       "      <td>-47.0</td>\n",
       "      <td>1025.0</td>\n",
       "      <td>191.0</td>\n",
       "      <td>110.0</td>\n",
       "      <td>1006.0</td>\n",
       "      <td>105.0</td>\n",
       "      <td>353.0</td>\n",
       "      <td>...</td>\n",
       "      <td>321</td>\n",
       "      <td>-852</td>\n",
       "      <td>26</td>\n",
       "      <td>22</td>\n",
       "      <td>-2</td>\n",
       "      <td>22</td>\n",
       "      <td>-26</td>\n",
       "      <td>-2</td>\n",
       "      <td>175</td>\n",
       "      <td>1</td>\n",
       "    </tr>\n",
       "    <tr>\n",
       "      <th>4</th>\n",
       "      <td>64.0</td>\n",
       "      <td>857.0</td>\n",
       "      <td>-391.0</td>\n",
       "      <td>-8.0</td>\n",
       "      <td>1022.0</td>\n",
       "      <td>204.0</td>\n",
       "      <td>97.0</td>\n",
       "      <td>1002.0</td>\n",
       "      <td>93.0</td>\n",
       "      <td>548.0</td>\n",
       "      <td>...</td>\n",
       "      <td>321</td>\n",
       "      <td>-850</td>\n",
       "      <td>22</td>\n",
       "      <td>45</td>\n",
       "      <td>-7</td>\n",
       "      <td>45</td>\n",
       "      <td>-22</td>\n",
       "      <td>-7</td>\n",
       "      <td>175</td>\n",
       "      <td>1</td>\n",
       "    </tr>\n",
       "  </tbody>\n",
       "</table>\n",
       "<p>5 rows × 114 columns</p>\n",
       "</div>"
      ],
      "text/plain": [
       "       0      1      2     3       4      5      6       7      8      9  \\\n",
       "0  148.0  956.0 -358.0  19.0   986.0  196.0   95.0   975.0  152.0  194.0   \n",
       "1   89.0  973.0 -287.0  10.0  1004.0  162.0  125.0   968.0  122.0  224.0   \n",
       "2  130.0  988.0 -418.0 -11.0  1014.0  202.0  127.0  1002.0  113.0  279.0   \n",
       "3   89.0  980.0 -425.0 -47.0  1025.0  191.0  110.0  1006.0  105.0  353.0   \n",
       "4   64.0  857.0 -391.0  -8.0  1022.0  204.0   97.0  1002.0   93.0  548.0   \n",
       "\n",
       "    ...    104  105  106  107  108  109  110  111  112  labels  \n",
       "0   ...    319 -845  -20   57   42   57   20   42  175       1  \n",
       "1   ...    325 -847  -17   38   31   38   17   31  175       1  \n",
       "2   ...    328 -852   27   31   15   31  -27   15  175       1  \n",
       "3   ...    321 -852   26   22   -2   22  -26   -2  175       1  \n",
       "4   ...    321 -850   22   45   -7   45  -22   -7  175       1  \n",
       "\n",
       "[5 rows x 114 columns]"
      ]
     },
     "execution_count": 6,
     "metadata": {},
     "output_type": "execute_result"
    }
   ],
   "source": [
    "print('Shape of train data is {}'.format(train_data.shape))\n",
    "print('Shape of test data is {}'.format(test_data.shape))\n",
    "train_data.head()"
   ]
  },
  {
   "cell_type": "code",
   "execution_count": 7,
   "metadata": {
    "collapsed": true
   },
   "outputs": [],
   "source": [
    "scaled_train, scaled_val, scaled_test, train_labels, val_labels, test_labels = prepare_data(train_data, val_data, test_data)"
   ]
  },
  {
   "cell_type": "code",
   "execution_count": 8,
   "metadata": {},
   "outputs": [
    {
     "name": "stdout",
     "output_type": "stream",
     "text": [
      "(495691, 113)\n",
      "(495691, 18)\n"
     ]
    }
   ],
   "source": [
    "print(scaled_train.shape)\n",
    "print(train_labels.shape)"
   ]
  },
  {
   "cell_type": "code",
   "execution_count": 9,
   "metadata": {},
   "outputs": [
    {
     "name": "stdout",
     "output_type": "stream",
     "text": [
      "[[ 0.46148956  0.55077835  0.55815076 ...,  0.48342048  0.3418109\n",
      "   0.79345955]\n",
      " [ 0.46212523  0.55077835  0.55728212 ...,  0.48453348  0.34175203\n",
      "   0.79345955]\n",
      " [ 0.45831126  0.54855448  0.553518   ...,  0.48444948  0.34116331\n",
      "   0.79345955]\n",
      " ..., \n",
      " [ 0.46540947  0.41919941  0.55583438 ...,  0.48474348  0.34098669\n",
      "   0.41480207]\n",
      " [ 0.46540947  0.41919941  0.55583438 ...,  0.48440748  0.34092782\n",
      "   0.40963855]\n",
      " [ 0.46540947  0.41919941  0.55583438 ...,  0.48434448  0.34142824\n",
      "   0.49913941]]\n"
     ]
    }
   ],
   "source": [
    "print(scaled_test)"
   ]
  },
  {
   "cell_type": "code",
   "execution_count": 10,
   "metadata": {},
   "outputs": [
    {
     "name": "stdout",
     "output_type": "stream",
     "text": [
      "51088\n",
      "32223\n",
      "33274\n",
      "32955\n",
      "30128\n",
      "54915\n",
      "42798\n",
      "30183\n",
      "53127\n",
      "36465\n",
      "27811\n",
      "70724\n",
      "Train data has been segmented\n",
      "34062\n",
      "26717\n",
      "Validation data has been segmented\n",
      "32714\n",
      "31566\n",
      "27681\n",
      "26495\n",
      "Test data has been segmented\n"
     ]
    }
   ],
   "source": [
    "win_size = 24\n",
    "classes = 18\n",
    "num_sensors = scaled_train.shape[1]\n",
    "\n",
    "train_segments = np.empty((0, win_size, num_sensors))\n",
    "train_segments_labels= np.empty((0, classes))\n",
    "last_idx = 0\n",
    "for adl in train_frames:\n",
    "\n",
    "    trainer_helper = trainerHelper(scaled_train[last_idx:last_idx+adl.shape[0]], train_labels[last_idx:last_idx+adl.shape[0]], win_size, num_sensors, classes)\n",
    "    segments, labels = trainer_helper.segment_data()\n",
    "    train_segments = np.vstack([train_segments, segments])\n",
    "    train_segments_labels = np.vstack([train_segments_labels, labels])\n",
    "    last_idx = adl.shape[0]\n",
    "\n",
    "print('Train data has been segmented')\n",
    "\n",
    "val_segments = np.empty((0, win_size, num_sensors))\n",
    "val_segments_labels= np.empty((0, classes))\n",
    "last_idx = 0\n",
    "for adl in val_frames:\n",
    "\n",
    "    trainer_helper = trainerHelper(scaled_val[last_idx:last_idx+adl.shape[0]], val_labels[last_idx:last_idx+adl.shape[0]], win_size, num_sensors, classes)\n",
    "    segments, labels = trainer_helper.segment_data()\n",
    "    val_segments = np.vstack([val_segments, segments])\n",
    "    val_segments_labels = np.vstack([val_segments_labels, labels])\n",
    "    last_idx = adl.shape[0]\n",
    "\n",
    "print('Validation data has been segmented')\n",
    "\n",
    "test_segments = np.empty((0, win_size, num_sensors))\n",
    "test_segments_labels= np.empty((0, classes))\n",
    "last_idx = 0\n",
    "for adl in test_frames:\n",
    "\n",
    "    trainer_helper = trainerHelper(scaled_test[last_idx:last_idx+adl.shape[0]], test_labels[last_idx:last_idx+adl.shape[0]], win_size, num_sensors, classes)\n",
    "    segments, labels = trainer_helper.segment_data()\n",
    "    test_segments = np.vstack([test_segments, segments])\n",
    "    test_segments_labels = np.vstack([test_segments_labels, labels])\n",
    "    last_idx = adl.shape[0]\n",
    "    \n",
    "print('Test data has been segmented')    "
   ]
  },
  {
   "cell_type": "code",
   "execution_count": 11,
   "metadata": {},
   "outputs": [
    {
     "data": {
      "text/plain": [
       "(41290, 24, 113)"
      ]
     },
     "execution_count": 11,
     "metadata": {},
     "output_type": "execute_result"
    }
   ],
   "source": [
    "train_segments.shape"
   ]
  },
  {
   "cell_type": "code",
   "execution_count": 12,
   "metadata": {},
   "outputs": [
    {
     "data": {
      "text/plain": [
       "(41290, 18)"
      ]
     },
     "execution_count": 12,
     "metadata": {},
     "output_type": "execute_result"
    }
   ],
   "source": [
    "train_segments_labels.shape"
   ]
  },
  {
   "cell_type": "code",
   "execution_count": 13,
   "metadata": {
    "collapsed": true
   },
   "outputs": [],
   "source": [
    "# reshape input for CNN\n",
    "reshaped_train = train_segments.reshape(train_segments.shape[0], win_size, num_sensors, 1)\n",
    "reshaped_val = val_segments.reshape(val_segments.shape[0], win_size, num_sensors, 1)\n",
    "reshaped_test = test_segments.reshape(test_segments.shape[0], win_size, num_sensors, 1)"
   ]
  },
  {
   "cell_type": "code",
   "execution_count": 14,
   "metadata": {
    "collapsed": true
   },
   "outputs": [],
   "source": [
    "model = Sequential()\n",
    "num_sensors = 113\n",
    "win_size = 24\n",
    "classes = 18\n",
    "size_of_kernel = (5,1)\n",
    "kernel_strides = 1\n",
    "num_filters = 64\n",
    "num_lstm_cells = 128\n",
    "dropout_prob = 0.5\n",
    "inputshape = (win_size, num_sensors, 1)\n",
    "batchshape = (None, win_size, num_sensors)"
   ]
  },
  {
   "cell_type": "code",
   "execution_count": 15,
   "metadata": {
    "collapsed": true
   },
   "outputs": [],
   "source": [
    "model.add(Conv2D(num_filters, kernel_size=size_of_kernel, strides=kernel_strides,\n",
    "                 activation='relu', input_shape=inputshape, name='1_conv_layer'))"
   ]
  },
  {
   "cell_type": "code",
   "execution_count": 16,
   "metadata": {
    "collapsed": true
   },
   "outputs": [],
   "source": [
    "model.add(Conv2D(num_filters, kernel_size=size_of_kernel, strides=kernel_strides,\n",
    "                 activation='relu', name='2_conv_layer'))"
   ]
  },
  {
   "cell_type": "code",
   "execution_count": 17,
   "metadata": {
    "collapsed": true
   },
   "outputs": [],
   "source": [
    "model.add(Conv2D(num_filters, kernel_size=size_of_kernel, strides=kernel_strides,\n",
    "                 activation='relu', name='3_conv_layer'))"
   ]
  },
  {
   "cell_type": "code",
   "execution_count": 18,
   "metadata": {
    "collapsed": true
   },
   "outputs": [],
   "source": [
    "model.add(Conv2D(num_filters, kernel_size=size_of_kernel, strides=kernel_strides,\n",
    "                 activation='relu', name='4_conv_layer'))"
   ]
  },
  {
   "cell_type": "code",
   "execution_count": 19,
   "metadata": {
    "collapsed": true
   },
   "outputs": [],
   "source": [
    "model.add(Reshape((8, num_filters*num_sensors)))"
   ]
  },
  {
   "cell_type": "code",
   "execution_count": 20,
   "metadata": {},
   "outputs": [
    {
     "name": "stdout",
     "output_type": "stream",
     "text": [
      "WARNING:tensorflow:From C:\\Users\\Tommy Azzino\\Anaconda3\\envs\\tfdeeplearning\\lib\\site-packages\\keras\\backend\\tensorflow_backend.py:1238: calling reduce_sum (from tensorflow.python.ops.math_ops) with keep_dims is deprecated and will be removed in a future version.\n",
      "Instructions for updating:\n",
      "keep_dims is deprecated, use keepdims instead\n",
      "WARNING:tensorflow:From C:\\Users\\Tommy Azzino\\Anaconda3\\envs\\tfdeeplearning\\lib\\site-packages\\keras\\backend\\tensorflow_backend.py:1340: calling reduce_mean (from tensorflow.python.ops.math_ops) with keep_dims is deprecated and will be removed in a future version.\n",
      "Instructions for updating:\n",
      "keep_dims is deprecated, use keepdims instead\n"
     ]
    }
   ],
   "source": [
    "model.add(CuDNNLSTM(num_lstm_cells, return_sequences=True, name='1_lstm_layer'))\n",
    "\n",
    "model.add(Dropout(dropout_prob, name='2_dropout_layer'))\n",
    "\n",
    "model.add(CuDNNLSTM(num_lstm_cells, return_sequences=False, name='2_lstm_layer'))\n",
    "\n",
    "model.add(Dropout(dropout_prob, name='3_dropout_layer'))\n",
    "\n",
    "model.add(Dense(classes, activation='softmax', name='softmax_layer'))\n",
    "\n",
    "rms = optimizers.RMSprop(lr=0.001, decay=1e-6)\n",
    "model.compile(loss='categorical_crossentropy', optimizer=rms, metrics=['accuracy'])"
   ]
  },
  {
   "cell_type": "code",
   "execution_count": 21,
   "metadata": {},
   "outputs": [
    {
     "name": "stdout",
     "output_type": "stream",
     "text": [
      "1_conv_layer: input shape: (None, 24, 113, 1) output shape: (None, 20, 113, 64)\n",
      "2_conv_layer: input shape: (None, 20, 113, 64) output shape: (None, 16, 113, 64)\n",
      "3_conv_layer: input shape: (None, 16, 113, 64) output shape: (None, 12, 113, 64)\n",
      "4_conv_layer: input shape: (None, 12, 113, 64) output shape: (None, 8, 113, 64)\n",
      "reshape_1: input shape: (None, 8, 113, 64) output shape: (None, 8, 7232)\n",
      "1_lstm_layer: input shape: (None, 8, 7232) output shape: (None, 8, 128)\n",
      "2_dropout_layer: input shape: (None, 8, 128) output shape: (None, 8, 128)\n",
      "2_lstm_layer: input shape: (None, 8, 128) output shape: (None, 128)\n",
      "3_dropout_layer: input shape: (None, 128) output shape: (None, 128)\n",
      "softmax_layer: input shape: (None, 128) output shape: (None, 18)\n"
     ]
    }
   ],
   "source": [
    "for layer in model.layers:\n",
    "    print(str(layer.name) + ': input shape: ' + str(layer.input_shape) + ' output shape: ' + str(layer.output_shape))"
   ]
  },
  {
   "cell_type": "code",
   "execution_count": 22,
   "metadata": {},
   "outputs": [
    {
     "name": "stdout",
     "output_type": "stream",
     "text": [
      "_________________________________________________________________\n",
      "Layer (type)                 Output Shape              Param #   \n",
      "=================================================================\n",
      "1_conv_layer (Conv2D)        (None, 20, 113, 64)       384       \n",
      "_________________________________________________________________\n",
      "2_conv_layer (Conv2D)        (None, 16, 113, 64)       20544     \n",
      "_________________________________________________________________\n",
      "3_conv_layer (Conv2D)        (None, 12, 113, 64)       20544     \n",
      "_________________________________________________________________\n",
      "4_conv_layer (Conv2D)        (None, 8, 113, 64)        20544     \n",
      "_________________________________________________________________\n",
      "reshape_1 (Reshape)          (None, 8, 7232)           0         \n",
      "_________________________________________________________________\n",
      "1_lstm_layer (CuDNNLSTM)     (None, 8, 128)            3769344   \n",
      "_________________________________________________________________\n",
      "2_dropout_layer (Dropout)    (None, 8, 128)            0         \n",
      "_________________________________________________________________\n",
      "2_lstm_layer (CuDNNLSTM)     (None, 128)               132096    \n",
      "_________________________________________________________________\n",
      "3_dropout_layer (Dropout)    (None, 128)               0         \n",
      "_________________________________________________________________\n",
      "softmax_layer (Dense)        (None, 18)                2322      \n",
      "=================================================================\n",
      "Total params: 3,965,778\n",
      "Trainable params: 3,965,778\n",
      "Non-trainable params: 0\n",
      "_________________________________________________________________\n"
     ]
    }
   ],
   "source": [
    "model.summary()"
   ]
  },
  {
   "cell_type": "code",
   "execution_count": 23,
   "metadata": {},
   "outputs": [
    {
     "name": "stdout",
     "output_type": "stream",
     "text": [
      "Train on 41290 samples, validate on 5062 samples\n",
      "Epoch 1/50\n",
      "41290/41290 [==============================] - 56s 1ms/step - loss: 0.6636 - acc: 0.8380 - val_loss: 0.9989 - val_acc: 0.7604\n",
      "Epoch 2/50\n",
      "41290/41290 [==============================] - 49s 1ms/step - loss: 0.3313 - acc: 0.8958 - val_loss: 1.4011 - val_acc: 0.7675\n",
      "Epoch 3/50\n",
      "41290/41290 [==============================] - 49s 1ms/step - loss: 0.2532 - acc: 0.9174 - val_loss: 1.3313 - val_acc: 0.7687\n",
      "Epoch 4/50\n",
      "41290/41290 [==============================] - 49s 1ms/step - loss: 0.2092 - acc: 0.9340 - val_loss: 1.7308 - val_acc: 0.7649\n",
      "Epoch 5/50\n",
      "41290/41290 [==============================] - 49s 1ms/step - loss: 0.1730 - acc: 0.9451 - val_loss: 1.5128 - val_acc: 0.7718\n",
      "Epoch 6/50\n",
      "41290/41290 [==============================] - 49s 1ms/step - loss: 0.1515 - acc: 0.9525 - val_loss: 1.9042 - val_acc: 0.7635\n",
      "Epoch 7/50\n",
      "41290/41290 [==============================] - 49s 1ms/step - loss: 0.1342 - acc: 0.9585 - val_loss: 1.7548 - val_acc: 0.7679\n",
      "Epoch 8/50\n",
      "41290/41290 [==============================] - 49s 1ms/step - loss: 0.1230 - acc: 0.9620 - val_loss: 1.8447 - val_acc: 0.7704\n",
      "Epoch 9/50\n",
      "41290/41290 [==============================] - 49s 1ms/step - loss: 0.1103 - acc: 0.9644 - val_loss: 2.1942 - val_acc: 0.7657\n",
      "Epoch 10/50\n",
      "41290/41290 [==============================] - 49s 1ms/step - loss: 0.1128 - acc: 0.9660 - val_loss: 1.7569 - val_acc: 0.7663\n",
      "Epoch 11/50\n",
      "41290/41290 [==============================] - 49s 1ms/step - loss: 0.0993 - acc: 0.9675 - val_loss: 1.9974 - val_acc: 0.7614\n",
      "Epoch 12/50\n",
      "41290/41290 [==============================] - 49s 1ms/step - loss: 0.0940 - acc: 0.9708 - val_loss: 2.0246 - val_acc: 0.7673\n",
      "Epoch 13/50\n",
      "41290/41290 [==============================] - 49s 1ms/step - loss: 0.0854 - acc: 0.9729 - val_loss: 2.3576 - val_acc: 0.7643\n",
      "Epoch 14/50\n",
      "41290/41290 [==============================] - 49s 1ms/step - loss: 0.0841 - acc: 0.9746 - val_loss: 2.0825 - val_acc: 0.7701\n",
      "Epoch 15/50\n",
      "41290/41290 [==============================] - 49s 1ms/step - loss: 0.0758 - acc: 0.9759 - val_loss: 2.2000 - val_acc: 0.7738\n",
      "Epoch 16/50\n",
      "41290/41290 [==============================] - 49s 1ms/step - loss: 0.0775 - acc: 0.9762 - val_loss: 2.2280 - val_acc: 0.7687\n",
      "Epoch 17/50\n",
      "41290/41290 [==============================] - 49s 1ms/step - loss: 0.0758 - acc: 0.9767 - val_loss: 2.1126 - val_acc: 0.7689\n",
      "Epoch 18/50\n",
      "41290/41290 [==============================] - 49s 1ms/step - loss: 0.0716 - acc: 0.9780 - val_loss: 2.2200 - val_acc: 0.7752\n",
      "Epoch 19/50\n",
      "41290/41290 [==============================] - 49s 1ms/step - loss: 0.0721 - acc: 0.9787 - val_loss: 2.4441 - val_acc: 0.7695\n",
      "Epoch 20/50\n",
      "41290/41290 [==============================] - 49s 1ms/step - loss: 0.0678 - acc: 0.9795 - val_loss: 2.1849 - val_acc: 0.7675\n",
      "Epoch 21/50\n",
      "41290/41290 [==============================] - 49s 1ms/step - loss: 0.0679 - acc: 0.9797 - val_loss: 2.2577 - val_acc: 0.7661\n",
      "Epoch 22/50\n",
      "41290/41290 [==============================] - 49s 1ms/step - loss: 0.0654 - acc: 0.9809 - val_loss: 2.4193 - val_acc: 0.7675\n",
      "Epoch 23/50\n",
      "41290/41290 [==============================] - 49s 1ms/step - loss: 0.0630 - acc: 0.9812 - val_loss: 2.3873 - val_acc: 0.7701\n",
      "Epoch 24/50\n",
      "41290/41290 [==============================] - 49s 1ms/step - loss: 0.0654 - acc: 0.9809 - val_loss: 2.3889 - val_acc: 0.7637\n",
      "Epoch 25/50\n",
      "41290/41290 [==============================] - 49s 1ms/step - loss: 0.0623 - acc: 0.9814 - val_loss: 2.6504 - val_acc: 0.7643\n",
      "Epoch 26/50\n",
      "41290/41290 [==============================] - 49s 1ms/step - loss: 0.0648 - acc: 0.9819 - val_loss: 2.2047 - val_acc: 0.7728\n",
      "Epoch 27/50\n",
      "41290/41290 [==============================] - 49s 1ms/step - loss: 0.0603 - acc: 0.9825 - val_loss: 2.4306 - val_acc: 0.7716\n",
      "Epoch 28/50\n",
      "41290/41290 [==============================] - 49s 1ms/step - loss: 0.0659 - acc: 0.9807 - val_loss: 2.3483 - val_acc: 0.7669\n",
      "Epoch 29/50\n",
      "41290/41290 [==============================] - 49s 1ms/step - loss: 0.0600 - acc: 0.9825 - val_loss: 2.3814 - val_acc: 0.7738\n",
      "Epoch 30/50\n",
      "41290/41290 [==============================] - 49s 1ms/step - loss: 0.0624 - acc: 0.9821 - val_loss: 2.2953 - val_acc: 0.7752\n",
      "Epoch 31/50\n",
      "41290/41290 [==============================] - 49s 1ms/step - loss: 0.0637 - acc: 0.9820 - val_loss: 2.3635 - val_acc: 0.7716\n",
      "Epoch 32/50\n",
      "41290/41290 [==============================] - 49s 1ms/step - loss: 0.0606 - acc: 0.9830 - val_loss: 2.3906 - val_acc: 0.7732\n",
      "Epoch 33/50\n",
      "41290/41290 [==============================] - 49s 1ms/step - loss: 0.0577 - acc: 0.9832 - val_loss: 2.4270 - val_acc: 0.7699\n",
      "Epoch 34/50\n",
      "41290/41290 [==============================] - 49s 1ms/step - loss: 0.0568 - acc: 0.9834 - val_loss: 2.4637 - val_acc: 0.7649\n",
      "Epoch 35/50\n",
      "41290/41290 [==============================] - 49s 1ms/step - loss: 0.0635 - acc: 0.9834 - val_loss: 2.2784 - val_acc: 0.7734\n",
      "Epoch 36/50\n",
      "41290/41290 [==============================] - 49s 1ms/step - loss: 0.0556 - acc: 0.9838 - val_loss: 2.1660 - val_acc: 0.7689\n",
      "Epoch 37/50\n",
      "41290/41290 [==============================] - 49s 1ms/step - loss: 0.0556 - acc: 0.9839 - val_loss: 2.3288 - val_acc: 0.7699\n",
      "Epoch 38/50\n",
      "41290/41290 [==============================] - 49s 1ms/step - loss: 0.0598 - acc: 0.9835 - val_loss: 2.6356 - val_acc: 0.7746\n",
      "Epoch 39/50\n",
      "41290/41290 [==============================] - 49s 1ms/step - loss: 0.0656 - acc: 0.9826 - val_loss: 2.5603 - val_acc: 0.7724\n",
      "Epoch 40/50\n",
      "41290/41290 [==============================] - 49s 1ms/step - loss: 0.0619 - acc: 0.9826 - val_loss: 2.6772 - val_acc: 0.7724\n",
      "Epoch 41/50\n",
      "41290/41290 [==============================] - 49s 1ms/step - loss: 0.0624 - acc: 0.9830 - val_loss: 2.4419 - val_acc: 0.7720\n",
      "Epoch 42/50\n",
      "41290/41290 [==============================] - 49s 1ms/step - loss: 0.0606 - acc: 0.9835 - val_loss: 2.3817 - val_acc: 0.7728\n",
      "Epoch 43/50\n",
      "41290/41290 [==============================] - 49s 1ms/step - loss: 0.0549 - acc: 0.9838 - val_loss: 2.5185 - val_acc: 0.7738\n",
      "Epoch 44/50\n",
      "41290/41290 [==============================] - 49s 1ms/step - loss: 0.0596 - acc: 0.9829 - val_loss: 2.4411 - val_acc: 0.7704\n",
      "Epoch 45/50\n",
      "41290/41290 [==============================] - 49s 1ms/step - loss: 0.0553 - acc: 0.9842 - val_loss: 2.4092 - val_acc: 0.7706\n",
      "Epoch 46/50\n",
      "41290/41290 [==============================] - 49s 1ms/step - loss: 0.0595 - acc: 0.9838 - val_loss: 2.3708 - val_acc: 0.7754\n",
      "Epoch 47/50\n",
      "41290/41290 [==============================] - 49s 1ms/step - loss: 0.0612 - acc: 0.9833 - val_loss: 2.6177 - val_acc: 0.7738\n",
      "Epoch 48/50\n",
      "41290/41290 [==============================] - 49s 1ms/step - loss: 0.0559 - acc: 0.9852 - val_loss: 2.4718 - val_acc: 0.7740\n",
      "Epoch 49/50\n",
      "41290/41290 [==============================] - 49s 1ms/step - loss: 0.0571 - acc: 0.9844 - val_loss: 2.2421 - val_acc: 0.7657\n",
      "Epoch 50/50\n",
      "41290/41290 [==============================] - 49s 1ms/step - loss: 0.0597 - acc: 0.9838 - val_loss: 2.4079 - val_acc: 0.7693\n",
      "Calculating score.. \n",
      "9865/9865 [==============================] - 5s 546us/step\n",
      "[2.0089976039566015, 0.83010643689812469]\n"
     ]
    }
   ],
   "source": [
    "batchSize = 100\n",
    "train_epoches = 50\n",
    "model.fit(reshaped_train,train_segments_labels,validation_data=(reshaped_val,val_segments_labels),epochs=train_epoches,batch_size=batchSize,verbose=1)\n",
    "\n",
    "print('Calculating score.. ')\n",
    "score = model.evaluate(reshaped_test,test_segments_labels,verbose=1)\n",
    "print(score)\n",
    "model.save('taskB2_all_Subjects_CNN_LSTM_model.h5')"
   ]
  },
  {
   "cell_type": "code",
   "execution_count": 363,
   "metadata": {
    "collapsed": true
   },
   "outputs": [],
   "source": [
    "predictions = model.predict(reshaped_test)"
   ]
  },
  {
   "cell_type": "code",
   "execution_count": 364,
   "metadata": {},
   "outputs": [
    {
     "name": "stdout",
     "output_type": "stream",
     "text": [
      "0.8503805899143673\n"
     ]
    }
   ],
   "source": [
    "count = 0.0\n",
    "den = 0.0\n",
    "for pair in zip(predictions, test_segments_labels):\n",
    "    if np.argmax(pair[0]) == np.argmax(pair[1]):\n",
    "        count += 1.0\n",
    "    den += 1.0\n",
    "\n",
    "print(count / den)"
   ]
  },
  {
   "cell_type": "code",
   "execution_count": 365,
   "metadata": {},
   "outputs": [
    {
     "name": "stdout",
     "output_type": "stream",
     "text": [
      "Standard accuracy is 0.8503805899143673\n",
      "0 0.763796384396 0.921625544267\n",
      "1 0.0149857278782 0.774193548387\n",
      "2 0.0128449096099 0.760416666667\n",
      "3 0.0132017126546 0.766355140187\n",
      "4 0.0105851569933 0.747252747253\n",
      "5 0.0140342530923 0.461538461538\n",
      "6 0.0165318744053 0.489795918367\n",
      "7 0.00475737392959 0.136363636364\n",
      "8 0.00701712654615 0.32\n",
      "9 0.00273549000951 0.19512195122\n",
      "10 0.00333016175071 0.409638554217\n",
      "11 0.00463843958135 0.0\n",
      "12 0.00701712654615 0.0606060606061\n",
      "13 0.00749286393911 0.594202898551\n",
      "14 0.00547098001903 0.518518518519\n",
      "15 0.00558991436727 0.350877192982\n",
      "16 0.0971693625119 0.483437779767\n",
      "17 0.00880114176974 0.464646464646\n",
      "The weigths sum is 1.0\n",
      "The computed f1-score is 0.8234378060146824\n",
      "The f1-score with sklearn function is 0.8234378060146825\n"
     ]
    }
   ],
   "source": [
    "# F1-score measure\n",
    "from sklearn.metrics import f1_score\n",
    "num_classes = 18\n",
    "class_predictions = []\n",
    "class_true = []\n",
    "tot_labels = 0.0\n",
    "count = 0.0\n",
    "for pair in zip(predictions, test_segments_labels):\n",
    "    class_predictions.append(np.argmax(pair[0]))\n",
    "    class_true.append(np.argmax(pair[1]))\n",
    "    if np.argmax(pair[0]) == np.argmax(pair[1]):\n",
    "        count += 1.0\n",
    "    tot_labels += 1.0\n",
    "    \n",
    "print('Standard accuracy is ' + str(count/tot_labels))    \n",
    "\n",
    "unique, counts = np.unique(class_true, return_counts=True)\n",
    "counted_labels = dict(zip(unique, counts))\n",
    "f1_scores = f1_score(class_predictions, class_true, average=None)\n",
    "\n",
    "tot_f1_score = 0.0\n",
    "weights_sum = 0.0\n",
    "for i in range(num_classes):\n",
    "    labels_class_i = counted_labels[i]\n",
    "    weight_i = labels_class_i / tot_labels\n",
    "    weights_sum += weight_i\n",
    "    tot_f1_score += f1_scores[i]*weight_i\n",
    "    print(str(i) + ' ' + str(weight_i) + ' ' + str(f1_scores[i]))\n",
    "\n",
    "    \n",
    "print('The weigths sum is ' + str(weights_sum))\n",
    "print('The computed f1-score is {}'.format(tot_f1_score))\n",
    "print('The f1-score with sklearn function is {}'.format(f1_score(class_true, class_predictions, average='weighted')))"
   ]
  },
  {
   "cell_type": "code",
   "execution_count": 102,
   "metadata": {},
   "outputs": [
    {
     "name": "stdout",
     "output_type": "stream",
     "text": [
      "_________________________________________________________________\n",
      "Layer (type)                 Output Shape              Param #   \n",
      "=================================================================\n",
      "conv1d_49 (Conv1D)           (None, 11, 64)            36224     \n",
      "_________________________________________________________________\n",
      "conv1d_50 (Conv1D)           (None, 7, 64)             20544     \n",
      "_________________________________________________________________\n",
      "conv1d_51 (Conv1D)           (None, 3, 64)             20544     \n",
      "_________________________________________________________________\n",
      "conv1d_52 (Conv1D)           (None, 3, 64)             20544     \n",
      "_________________________________________________________________\n",
      "dropout_28 (Dropout)         (None, 3, 64)             0         \n",
      "_________________________________________________________________\n",
      "cu_dnnlstm_19 (CuDNNLSTM)    (None, 3, 128)            99328     \n",
      "_________________________________________________________________\n",
      "dropout_29 (Dropout)         (None, 3, 128)            0         \n",
      "_________________________________________________________________\n",
      "cu_dnnlstm_20 (CuDNNLSTM)    (None, 128)               132096    \n",
      "_________________________________________________________________\n",
      "dropout_30 (Dropout)         (None, 128)               0         \n",
      "_________________________________________________________________\n",
      "dense_10 (Dense)             (None, 18)                2322      \n",
      "=================================================================\n",
      "Total params: 331,602\n",
      "Trainable params: 331,602\n",
      "Non-trainable params: 0\n",
      "_________________________________________________________________\n"
     ]
    }
   ],
   "source": []
  },
  {
   "cell_type": "code",
   "execution_count": 38,
   "metadata": {
    "collapsed": true
   },
   "outputs": [],
   "source": [
    "pred_df = pd.DataFrame(predictions)\n",
    "pred_df.to_csv('preds_test.csv', header=False, index=False)"
   ]
  },
  {
   "cell_type": "code",
   "execution_count": 39,
   "metadata": {
    "collapsed": true
   },
   "outputs": [],
   "source": [
    "true_df = pd.DataFrame(testY)\n",
    "true_df.to_csv('true_test.csv', header=False, index=False)"
   ]
  },
  {
   "cell_type": "code",
   "execution_count": null,
   "metadata": {
    "collapsed": true
   },
   "outputs": [],
   "source": []
  }
 ],
 "metadata": {
  "kernelspec": {
   "display_name": "Python 3",
   "language": "python",
   "name": "python3"
  },
  "language_info": {
   "codemirror_mode": {
    "name": "ipython",
    "version": 3
   },
   "file_extension": ".py",
   "mimetype": "text/x-python",
   "name": "python",
   "nbconvert_exporter": "python",
   "pygments_lexer": "ipython3",
   "version": "3.5.4"
  }
 },
 "nbformat": 4,
 "nbformat_minor": 2
}
