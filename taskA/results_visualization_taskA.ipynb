{
 "cells": [
  {
   "cell_type": "code",
   "execution_count": 1,
   "metadata": {
    "collapsed": true
   },
   "outputs": [],
   "source": [
    "import pickle as pk\n",
    "import numpy as np"
   ]
  },
  {
   "cell_type": "markdown",
   "metadata": {},
   "source": [
    "# TASK A"
   ]
  },
  {
   "cell_type": "markdown",
   "metadata": {},
   "source": [
    "# CNN DENSE"
   ]
  },
  {
   "cell_type": "code",
   "execution_count": 6,
   "metadata": {},
   "outputs": [
    {
     "name": "stdout",
     "output_type": "stream",
     "text": [
      "5 Sensory channels: Test Accuracy is: 0.5534211532423023, F1-score is: 0.520931820139465\n",
      "10 Sensory channels: Test Accuracy is: 0.672771453445777, F1-score is: 0.6715182074987064\n",
      "20 Sensory channels: Test Accuracy is: 0.7528072644688769, F1-score is: 0.7524398125034458\n",
      "40 Sensory channels: Test Accuracy is: 0.8822867359586316, F1-score is: 0.8815986704353088\n",
      "80 Sensory channels: Test Accuracy is: 0.898094387482249, F1-score is: 0.8971741388907677\n",
      "113 Sensory channels: Test Accuracy is: 0.8895510957817057, F1-score is: 0.8889228332825131\n"
     ]
    }
   ],
   "source": [
    "pkl_file = open('./CNN_DENSE/results_PCA_CNN_DENSE_new_5.pkl', 'rb')\n",
    "pca_5 = pk.load(pkl_file)\n",
    "pkl_file = open('./CNN_DENSE/results_PCA_CNN_DENSE_new_10.pkl', 'rb')\n",
    "pca_10 = pk.load(pkl_file)\n",
    "pkl_file = open('./CNN_DENSE/results_PCA_CNN_DENSE_new_20.pkl', 'rb')\n",
    "pca_20 = pk.load(pkl_file)\n",
    "pkl_file = open('./CNN_DENSE/results_PCA_CNN_DENSE_new_40.pkl', 'rb')\n",
    "pca_40 = pk.load(pkl_file)\n",
    "pkl_file = open('./CNN_DENSE/results_PCA_CNN_DENSE_new_80.pkl', 'rb')\n",
    "pca_80 = pk.load(pkl_file)\n",
    "\n",
    "pkl_file = open('./CNN_DENSE/results_all_subjects_CNN_DENSE_new.pkl', 'rb')\n",
    "all_channels = pk.load(pkl_file)\n",
    "\n",
    "print('{0} Sensory channels: Test Accuracy is: {1}, F1-score is: {2}'.format(5, np.amax(pca_5[0]), np.amax(pca_5[1])))\n",
    "print('{0} Sensory channels: Test Accuracy is: {1}, F1-score is: {2}'.format(10, np.amax(pca_10[0]), np.amax(pca_10[1])))\n",
    "print('{0} Sensory channels: Test Accuracy is: {1}, F1-score is: {2}'.format(20, np.amax(pca_20[0]), np.amax(pca_20[1])))\n",
    "print('{0} Sensory channels: Test Accuracy is: {1}, F1-score is: {2}'.format(40, np.amax(pca_40[0]), np.amax(pca_40[1])))\n",
    "print('{0} Sensory channels: Test Accuracy is: {1}, F1-score is: {2}'.format(80, np.amax(pca_80[0]), np.amax(pca_80[1])))\n",
    "\n",
    "print('{0} Sensory channels: Test Accuracy is: {1}, F1-score is: {2}'.format(113, np.amax(all_channels[0]), np.amax(all_channels[1])))"
   ]
  },
  {
   "cell_type": "markdown",
   "metadata": {},
   "source": [
    "# CNN LSTM"
   ]
  },
  {
   "cell_type": "code",
   "execution_count": 7,
   "metadata": {},
   "outputs": [
    {
     "name": "stdout",
     "output_type": "stream",
     "text": [
      "5 Sensory channels: Test Accuracy is: 0.5823506835720883, F1-score is: 0.5672451030673759\n",
      "10 Sensory channels: Test Accuracy is: 0.6407468998191271, F1-score is: 0.640255277390932\n",
      "20 Sensory channels: Test Accuracy is: 0.7121371005422732, F1-score is: 0.7116055439524418\n",
      "40 Sensory channels: Test Accuracy is: 0.8720808280278143, F1-score is: 0.8713324915510866\n",
      "80 Sensory channels: Test Accuracy is: 0.8966108140303268, F1-score is: 0.8961325943964205\n",
      "113 Sensory channels: Test Accuracy is: 0.901700988238479, F1-score is: 0.9013630872881492\n"
     ]
    }
   ],
   "source": [
    "pkl_file = open('./CNN_LSTM/results_PCA_CNN_LSTM_new_5.pkl', 'rb')\n",
    "pca_5 = pk.load(pkl_file)\n",
    "pkl_file = open('./CNN_LSTM/results_PCA_CNN_LSTM_new_10.pkl', 'rb')\n",
    "pca_10 = pk.load(pkl_file)\n",
    "pkl_file = open('./CNN_LSTM/results_PCA_CNN_LSTM_new_20.pkl', 'rb')\n",
    "pca_20 = pk.load(pkl_file)\n",
    "pkl_file = open('./CNN_LSTM/results_PCA_CNN_LSTM_new_40.pkl', 'rb')\n",
    "pca_40 = pk.load(pkl_file)\n",
    "pkl_file = open('./CNN_LSTM/results_PCA_CNN_LSTM_new_80.pkl', 'rb')\n",
    "pca_80 = pk.load(pkl_file)\n",
    "\n",
    "pkl_file = open('./CNN_LSTM/results_all_subjects_CNN_LSTM_new.pkl', 'rb')\n",
    "all_channels = pk.load(pkl_file)\n",
    "\n",
    "print('{0} Sensory channels: Test Accuracy is: {1}, F1-score is: {2}'.format(5, np.amax(pca_5[0]), np.amax(pca_5[1])))\n",
    "print('{0} Sensory channels: Test Accuracy is: {1}, F1-score is: {2}'.format(10, np.amax(pca_10[0]), np.amax(pca_10[1])))\n",
    "print('{0} Sensory channels: Test Accuracy is: {1}, F1-score is: {2}'.format(20, np.amax(pca_20[0]), np.amax(pca_20[1])))\n",
    "print('{0} Sensory channels: Test Accuracy is: {1}, F1-score is: {2}'.format(40, np.amax(pca_40[0]), np.amax(pca_40[1])))\n",
    "print('{0} Sensory channels: Test Accuracy is: {1}, F1-score is: {2}'.format(80, np.amax(pca_80[0]), np.amax(pca_80[1])))\n",
    "\n",
    "print('{0} Sensory channels: Test Accuracy is: {1}, F1-score is: {2}'.format(113, np.amax(all_channels[0]), np.amax(all_channels[1])))"
   ]
  },
  {
   "cell_type": "markdown",
   "metadata": {},
   "source": [
    "# MLP"
   ]
  },
  {
   "cell_type": "code",
   "execution_count": 9,
   "metadata": {},
   "outputs": [
    {
     "name": "stdout",
     "output_type": "stream",
     "text": [
      "5 Sensory channels: Test Accuracy is: 0.4787824504589132, F1-score is: 0.33961945433053276\n",
      "10 Sensory channels: Test Accuracy is: 0.5625015989656811, F1-score is: 0.5151941794669411\n",
      "20 Sensory channels: Test Accuracy is: 0.6808543273716239, F1-score is: 0.6808643668984592\n",
      "40 Sensory channels: Test Accuracy is: 0.8615423971955041, F1-score is: 0.8606056748577526\n",
      "80 Sensory channels: Test Accuracy is: 0.8811612751481173, F1-score is: 0.8805364675995141\n",
      "113 Sensory channels: Test Accuracy is: 0.8593170488790899, F1-score is: 0.8588757229039554\n"
     ]
    }
   ],
   "source": [
    "pkl_file = open('./MLP/results_PCA_MLP_new_5.pkl', 'rb')\n",
    "pca_5 = pk.load(pkl_file)\n",
    "pkl_file = open('./MLP/results_PCA_MLP_new_10.pkl', 'rb')\n",
    "pca_10 = pk.load(pkl_file)\n",
    "pkl_file = open('./MLP/results_PCA_MLP_new_20.pkl', 'rb')\n",
    "pca_20 = pk.load(pkl_file)\n",
    "pkl_file = open('./MLP/results_PCA_MLP_new_40.pkl', 'rb')\n",
    "pca_40 = pk.load(pkl_file)\n",
    "pkl_file = open('./MLP/results_PCA_MLP_new_80.pkl', 'rb')\n",
    "pca_80 = pk.load(pkl_file)\n",
    "\n",
    "pkl_file = open('./MLP/results_all_subjects_MLP_new.pkl', 'rb')\n",
    "all_channels = pk.load(pkl_file)\n",
    "\n",
    "print('{0} Sensory channels: Test Accuracy is: {1}, F1-score is: {2}'.format(5, np.amax(pca_5[0]), np.amax(pca_5[1])))\n",
    "print('{0} Sensory channels: Test Accuracy is: {1}, F1-score is: {2}'.format(10, np.amax(pca_10[0]), np.amax(pca_10[1])))\n",
    "print('{0} Sensory channels: Test Accuracy is: {1}, F1-score is: {2}'.format(20, np.amax(pca_20[0]), np.amax(pca_20[1])))\n",
    "print('{0} Sensory channels: Test Accuracy is: {1}, F1-score is: {2}'.format(40, np.amax(pca_40[0]), np.amax(pca_40[1])))\n",
    "print('{0} Sensory channels: Test Accuracy is: {1}, F1-score is: {2}'.format(80, np.amax(pca_80[0]), np.amax(pca_80[1])))\n",
    "\n",
    "print('{0} Sensory channels: Test Accuracy is: {1}, F1-score is: {2}'.format(113, np.amax(all_channels[0]), np.amax(all_channels[1])))"
   ]
  },
  {
   "cell_type": "markdown",
   "metadata": {},
   "source": [
    "# MCF"
   ]
  },
  {
   "cell_type": "code",
   "execution_count": 10,
   "metadata": {},
   "outputs": [
    {
     "name": "stdout",
     "output_type": "stream",
     "text": [
      "5 Sensory channels: Test Accuracy is: 0.4892060568856149, F1-score is: 0.38317219337991126\n",
      "10 Sensory channels: Test Accuracy is: 0.49647022713321054, F1-score is: 0.39563364095462217\n",
      "20 Sensory channels: Test Accuracy is: 0.5295682422754246, F1-score is: 0.4461062667631984\n",
      "40 Sensory channels: Test Accuracy is: 0.8292408430529977, F1-score is: 0.8268318185420845\n",
      "80 Sensory channels: Test Accuracy is: 0.8551258440761204, F1-score is: 0.8537310755874616\n"
     ]
    }
   ],
   "source": [
    "pkl_file = open('./MCF/results_PCA_MCF_new_5.pkl', 'rb')\n",
    "pca_5 = pk.load(pkl_file)\n",
    "pkl_file = open('./MCF/results_PCA_MCF_new_10.pkl', 'rb')\n",
    "pca_10 = pk.load(pkl_file)\n",
    "pkl_file = open('./MCF/results_PCA_MCF_new_20.pkl', 'rb')\n",
    "pca_20 = pk.load(pkl_file)\n",
    "pkl_file = open('./MCF/results_PCA_MCF_new_40.pkl', 'rb')\n",
    "pca_40 = pk.load(pkl_file)\n",
    "pkl_file = open('./MCF/results_PCA_MCF_new_80.pkl', 'rb')\n",
    "pca_80 = pk.load(pkl_file)\n",
    "\n",
    "print('{0} Sensory channels: Test Accuracy is: {1}, F1-score is: {2}'.format(5, np.amax(pca_5[0]), np.amax(pca_5[1])))\n",
    "print('{0} Sensory channels: Test Accuracy is: {1}, F1-score is: {2}'.format(10, np.amax(pca_10[0]), np.amax(pca_10[1])))\n",
    "print('{0} Sensory channels: Test Accuracy is: {1}, F1-score is: {2}'.format(20, np.amax(pca_20[0]), np.amax(pca_20[1])))\n",
    "print('{0} Sensory channels: Test Accuracy is: {1}, F1-score is: {2}'.format(40, np.amax(pca_40[0]), np.amax(pca_40[1])))\n",
    "print('{0} Sensory channels: Test Accuracy is: {1}, F1-score is: {2}'.format(80, np.amax(pca_80[0]), np.amax(pca_80[1])))"
   ]
  },
  {
   "cell_type": "markdown",
   "metadata": {},
   "source": [
    "# REDUCED"
   ]
  },
  {
   "cell_type": "code",
   "execution_count": 17,
   "metadata": {},
   "outputs": [
    {
     "name": "stdout",
     "output_type": "stream",
     "text": [
      "Conf 1: Test Accuracy is: 0.8885791002141346, F1-score is: 0.8882079035286298\n",
      "Conf 2: Test Accuracy is: 0.8535874151317554, F1-score is: 0.8530329534435648\n",
      "DENSE\n"
     ]
    }
   ],
   "source": [
    "pkl_file = open('./CNN_DENSE/reduced/results_CNN_DENSE_conf_1.pkl', 'rb')\n",
    "conf1 = pk.load(pkl_file)\n",
    "pkl_file = open('./CNN_DENSE/reduced/results_CNN_DENSE_conf_2.pkl', 'rb')\n",
    "conf2 = pk.load(pkl_file)\n",
    "\n",
    "print('Conf 1: Test Accuracy is: {}, F1-score is: {}'.format(np.amax(conf1[0]), np.amax(conf1[1])))\n",
    "print('Conf 2: Test Accuracy is: {}, F1-score is: {}'.format(np.amax(conf2[0]), np.amax(conf2[1])))\n",
    "print('DENSE')"
   ]
  },
  {
   "cell_type": "code",
   "execution_count": 18,
   "metadata": {},
   "outputs": [
    {
     "name": "stdout",
     "output_type": "stream",
     "text": [
      "Conf 1: Test Accuracy is: 0.8868397463769129, F1-score is: 0.8866223880477272\n",
      "Conf 2: Test Accuracy is: 0.8461951663509661, F1-score is: 0.846429722841841\n",
      "LSTM\n"
     ]
    }
   ],
   "source": [
    "pkl_file = open('./CNN_LSTM/reduced/results_CNN_DENSE_conf_1.pkl', 'rb')\n",
    "conf1 = pk.load(pkl_file)\n",
    "pkl_file = open('./CNN_LSTM/reduced/results_CNN_DENSE_conf_2.pkl', 'rb')\n",
    "conf2 = pk.load(pkl_file)\n",
    "\n",
    "print('Conf 1: Test Accuracy is: {}, F1-score is: {}'.format(np.amax(conf1[0]), np.amax(conf1[1])))\n",
    "print('Conf 2: Test Accuracy is: {}, F1-score is: {}'.format(np.amax(conf2[0]), np.amax(conf2[1])))\n",
    "print('LSTM')"
   ]
  },
  {
   "cell_type": "markdown",
   "metadata": {},
   "source": [
    "# SUBJECTS"
   ]
  },
  {
   "cell_type": "code",
   "execution_count": 15,
   "metadata": {},
   "outputs": [
    {
     "name": "stdout",
     "output_type": "stream",
     "text": [
      "User 1: Test Accuracy is: 0.9062797293903485, F1-score is: 0.9061088316002947\n",
      "User 2: Test Accuracy is: 0.9200669221579336, F1-score is: 0.9200450562672667\n",
      "User 3: Test Accuracy is: 0.8893197448402081, F1-score is: 0.8870467276227568\n",
      "User 4: Test Accuracy is: 0.8833769477801269, F1-score is: 0.8823355987346533\n"
     ]
    }
   ],
   "source": [
    "pkl_file = open('./CNN_DENSE/single-subject/results_CNN_DENSE_user_1.pkl', 'rb')\n",
    "user_1 = pk.load(pkl_file)\n",
    "pkl_file = open('./CNN_DENSE/single-subject/results_CNN_DENSE_user_2.pkl', 'rb')\n",
    "user_2 = pk.load(pkl_file)\n",
    "pkl_file = open('./CNN_DENSE/single-subject/results_CNN_DENSE_user_3.pkl', 'rb')\n",
    "user_3 = pk.load(pkl_file)\n",
    "pkl_file = open('./CNN_DENSE/single-subject/results_CNN_DENSE_user_4.pkl', 'rb')\n",
    "user_4 = pk.load(pkl_file)\n",
    "\n",
    "\n",
    "print('User {0}: Test Accuracy is: {1}, F1-score is: {2}'.format(1, np.amax(user_1[0]), np.amax(user_1[1])))\n",
    "print('User {0}: Test Accuracy is: {1}, F1-score is: {2}'.format(2, np.amax(user_2[0]), np.amax(user_2[1])))\n",
    "print('User {0}: Test Accuracy is: {1}, F1-score is: {2}'.format(3, np.amax(user_3[0]), np.amax(user_3[1])))\n",
    "print('User {0}: Test Accuracy is: {1}, F1-score is: {2}'.format(4, np.amax(user_4[0]), np.amax(user_4[1])))"
   ]
  },
  {
   "cell_type": "code",
   "execution_count": null,
   "metadata": {
    "collapsed": true
   },
   "outputs": [],
   "source": []
  }
 ],
 "metadata": {
  "kernelspec": {
   "display_name": "Python 3",
   "language": "python",
   "name": "python3"
  },
  "language_info": {
   "codemirror_mode": {
    "name": "ipython",
    "version": 3
   },
   "file_extension": ".py",
   "mimetype": "text/x-python",
   "name": "python",
   "nbconvert_exporter": "python",
   "pygments_lexer": "ipython3",
   "version": "3.5.4"
  }
 },
 "nbformat": 4,
 "nbformat_minor": 2
}
