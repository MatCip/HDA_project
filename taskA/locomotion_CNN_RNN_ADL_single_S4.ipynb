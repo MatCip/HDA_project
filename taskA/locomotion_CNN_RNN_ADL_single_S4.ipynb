{
 "cells": [
  {
   "cell_type": "code",
   "execution_count": 2,
   "metadata": {},
   "outputs": [
    {
     "name": "stderr",
     "output_type": "stream",
     "text": [
      "Using TensorFlow backend.\n"
     ]
    }
   ],
   "source": [
    "import pandas as pd\n",
    "import numpy as np\n",
    "from keras.models import Sequential\n",
    "from keras.layers import Dense, Conv1D, LSTM, CuDNNLSTM, Flatten, Dropout\n",
    "from keras import optimizers\n",
    "from keras.utils import to_categorical"
   ]
  },
  {
   "cell_type": "code",
   "execution_count": 3,
   "metadata": {
    "collapsed": true
   },
   "outputs": [],
   "source": [
    "class trainerHelper():\n",
    "    \n",
    "    def __init__(self, data, labels, win_size, num_sensor_data, num_classes):\n",
    "        self.data = data\n",
    "        self.labels = labels\n",
    "        self.win_size = win_size\n",
    "        self.sensor_data = num_sensor_data\n",
    "        self.num_classes = num_classes\n",
    "        self.data_length = self.data.shape[0]\n",
    "        print(self.data_length)\n",
    "        self.start = 0\n",
    "        \n",
    "    def windows(self):\n",
    " \n",
    "        while self.start + self.win_size < self.data_length:\n",
    "            yield int(self.start), int(self.start + self.win_size)\n",
    "            self.start += (self.win_size/2)\n",
    "    \n",
    "    def segment_data(self):\n",
    "        self.start = 0\n",
    "        segments = np.empty((0, self.win_size, self.sensor_data))\n",
    "        labels= np.empty((0, self.num_classes))\n",
    "        for (start, end) in self.windows():\n",
    "            x = np.zeros((1, self.win_size, self.sensor_data))\n",
    "            x[0,:] = self.data[start:end,:]\n",
    "            label = self.labels[start:end,:]\n",
    "            if(x.shape[1] == self.win_size):\n",
    "                segments = np.vstack([segments,x])\n",
    "                lb = np.zeros((1, self.num_classes))\n",
    "                lb[0,:] = label[-1]\n",
    "                labels = np.vstack([labels,lb])\n",
    "        return segments, labels"
   ]
  },
  {
   "cell_type": "code",
   "execution_count": 4,
   "metadata": {
    "collapsed": true
   },
   "outputs": [],
   "source": [
    "from sklearn.preprocessing import OneHotEncoder\n",
    "from sklearn.preprocessing import MinMaxScaler\n",
    "\n",
    "def prepare_data(train_data, test_data):\n",
    "    encoder = OneHotEncoder()\n",
    "    train_labels = encoder.fit_transform(train_data['labels'].values.reshape(-1,1)).toarray()\n",
    "    test_labels = encoder.transform(test_data['labels'].values.reshape(-1,1)).toarray()\n",
    "    print(train_labels.shape)\n",
    "    print(test_labels.shape)\n",
    "    scaler = MinMaxScaler()\n",
    "    train_data.drop(['labels'], axis=1, inplace=True)\n",
    "    test_data.drop(['labels'], axis=1, inplace=True)\n",
    "    train_data = scaler.fit_transform(train_data)\n",
    "    test_data = scaler.transform(test_data)\n",
    "    \n",
    "    return train_data, test_data, train_labels, test_labels"
   ]
  },
  {
   "cell_type": "code",
   "execution_count": 13,
   "metadata": {
    "collapsed": true
   },
   "outputs": [],
   "source": [
    "ADL_data1= pd.read_csv(\"ADL1Opportunity_locomotion_S4.csv\",header=None)\n",
    "ADL_data2= pd.read_csv(\"ADL2Opportunity_locomotion_S4.csv\",header=None)\n",
    "ADL_data3= pd.read_csv(\"ADL3Opportunity_locomotion_S4.csv\",header=None)\n",
    "ADL_data4= pd.read_csv(\"ADL4Opportunity_locomotion_S4.csv\",header=None)\n",
    "ADL_data5= pd.read_csv(\"ADL5Opportunity_locomotion_S4.csv\",header=None)\n",
    "Drill_data=pd.read_csv(\"Drill4Opportunity_locomotion.csv\",header=None)"
   ]
  },
  {
   "cell_type": "code",
   "execution_count": 15,
   "metadata": {
    "collapsed": true
   },
   "outputs": [],
   "source": [
    "train_frames = [ADL_data1, ADL_data2, ADL_data3, Drill_data]\n",
    "test_frames = [ADL_data4,ADL_data5]\n",
    "train_data = pd.concat(train_frames)\n",
    "test_data = pd.concat(test_frames)\n",
    "\n",
    "train_data.columns = [i for i in range(train_data.shape[1])]\n",
    "test_data.columns = [i for i in range(test_data.shape[1])]\n",
    "train_data.rename(columns ={113: 'labels'}, inplace =True)\n",
    "test_data.rename(columns ={113: 'labels'}, inplace =True)"
   ]
  },
  {
   "cell_type": "code",
   "execution_count": 16,
   "metadata": {},
   "outputs": [
    {
     "name": "stdout",
     "output_type": "stream",
     "text": [
      "(63083, 114)\n"
     ]
    },
    {
     "data": {
      "text/html": [
       "<div>\n",
       "<style scoped>\n",
       "    .dataframe tbody tr th:only-of-type {\n",
       "        vertical-align: middle;\n",
       "    }\n",
       "\n",
       "    .dataframe tbody tr th {\n",
       "        vertical-align: top;\n",
       "    }\n",
       "\n",
       "    .dataframe thead th {\n",
       "        text-align: right;\n",
       "    }\n",
       "</style>\n",
       "<table border=\"1\" class=\"dataframe\">\n",
       "  <thead>\n",
       "    <tr style=\"text-align: right;\">\n",
       "      <th></th>\n",
       "      <th>0</th>\n",
       "      <th>1</th>\n",
       "      <th>2</th>\n",
       "      <th>3</th>\n",
       "      <th>4</th>\n",
       "      <th>5</th>\n",
       "      <th>6</th>\n",
       "      <th>7</th>\n",
       "      <th>8</th>\n",
       "      <th>9</th>\n",
       "      <th>...</th>\n",
       "      <th>104</th>\n",
       "      <th>105</th>\n",
       "      <th>106</th>\n",
       "      <th>107</th>\n",
       "      <th>108</th>\n",
       "      <th>109</th>\n",
       "      <th>110</th>\n",
       "      <th>111</th>\n",
       "      <th>112</th>\n",
       "      <th>labels</th>\n",
       "    </tr>\n",
       "  </thead>\n",
       "  <tbody>\n",
       "    <tr>\n",
       "      <th>0</th>\n",
       "      <td>148.0</td>\n",
       "      <td>956.0</td>\n",
       "      <td>-358.0</td>\n",
       "      <td>19.0</td>\n",
       "      <td>986.0</td>\n",
       "      <td>196.0</td>\n",
       "      <td>95.0</td>\n",
       "      <td>975.0</td>\n",
       "      <td>152.0</td>\n",
       "      <td>194.0</td>\n",
       "      <td>...</td>\n",
       "      <td>319.0</td>\n",
       "      <td>-845.0</td>\n",
       "      <td>-20.0</td>\n",
       "      <td>57.0</td>\n",
       "      <td>42</td>\n",
       "      <td>57.0</td>\n",
       "      <td>20.0</td>\n",
       "      <td>42</td>\n",
       "      <td>175.0</td>\n",
       "      <td>1</td>\n",
       "    </tr>\n",
       "    <tr>\n",
       "      <th>1</th>\n",
       "      <td>89.0</td>\n",
       "      <td>973.0</td>\n",
       "      <td>-287.0</td>\n",
       "      <td>10.0</td>\n",
       "      <td>1004.0</td>\n",
       "      <td>162.0</td>\n",
       "      <td>125.0</td>\n",
       "      <td>968.0</td>\n",
       "      <td>122.0</td>\n",
       "      <td>224.0</td>\n",
       "      <td>...</td>\n",
       "      <td>325.0</td>\n",
       "      <td>-847.0</td>\n",
       "      <td>-17.0</td>\n",
       "      <td>38.0</td>\n",
       "      <td>31</td>\n",
       "      <td>38.0</td>\n",
       "      <td>17.0</td>\n",
       "      <td>31</td>\n",
       "      <td>175.0</td>\n",
       "      <td>1</td>\n",
       "    </tr>\n",
       "    <tr>\n",
       "      <th>2</th>\n",
       "      <td>130.0</td>\n",
       "      <td>988.0</td>\n",
       "      <td>-418.0</td>\n",
       "      <td>-11.0</td>\n",
       "      <td>1014.0</td>\n",
       "      <td>202.0</td>\n",
       "      <td>127.0</td>\n",
       "      <td>1002.0</td>\n",
       "      <td>113.0</td>\n",
       "      <td>279.0</td>\n",
       "      <td>...</td>\n",
       "      <td>328.0</td>\n",
       "      <td>-852.0</td>\n",
       "      <td>27.0</td>\n",
       "      <td>31.0</td>\n",
       "      <td>15</td>\n",
       "      <td>31.0</td>\n",
       "      <td>-27.0</td>\n",
       "      <td>15</td>\n",
       "      <td>175.0</td>\n",
       "      <td>1</td>\n",
       "    </tr>\n",
       "    <tr>\n",
       "      <th>3</th>\n",
       "      <td>89.0</td>\n",
       "      <td>980.0</td>\n",
       "      <td>-425.0</td>\n",
       "      <td>-47.0</td>\n",
       "      <td>1025.0</td>\n",
       "      <td>191.0</td>\n",
       "      <td>110.0</td>\n",
       "      <td>1006.0</td>\n",
       "      <td>105.0</td>\n",
       "      <td>353.0</td>\n",
       "      <td>...</td>\n",
       "      <td>321.0</td>\n",
       "      <td>-852.0</td>\n",
       "      <td>26.0</td>\n",
       "      <td>22.0</td>\n",
       "      <td>-2</td>\n",
       "      <td>22.0</td>\n",
       "      <td>-26.0</td>\n",
       "      <td>-2</td>\n",
       "      <td>175.0</td>\n",
       "      <td>1</td>\n",
       "    </tr>\n",
       "    <tr>\n",
       "      <th>4</th>\n",
       "      <td>64.0</td>\n",
       "      <td>857.0</td>\n",
       "      <td>-391.0</td>\n",
       "      <td>-8.0</td>\n",
       "      <td>1022.0</td>\n",
       "      <td>204.0</td>\n",
       "      <td>97.0</td>\n",
       "      <td>1002.0</td>\n",
       "      <td>93.0</td>\n",
       "      <td>548.0</td>\n",
       "      <td>...</td>\n",
       "      <td>321.0</td>\n",
       "      <td>-850.0</td>\n",
       "      <td>22.0</td>\n",
       "      <td>45.0</td>\n",
       "      <td>-7</td>\n",
       "      <td>45.0</td>\n",
       "      <td>-22.0</td>\n",
       "      <td>-7</td>\n",
       "      <td>175.0</td>\n",
       "      <td>1</td>\n",
       "    </tr>\n",
       "  </tbody>\n",
       "</table>\n",
       "<p>5 rows × 114 columns</p>\n",
       "</div>"
      ],
      "text/plain": [
       "       0      1      2     3       4      5      6       7      8      9  \\\n",
       "0  148.0  956.0 -358.0  19.0   986.0  196.0   95.0   975.0  152.0  194.0   \n",
       "1   89.0  973.0 -287.0  10.0  1004.0  162.0  125.0   968.0  122.0  224.0   \n",
       "2  130.0  988.0 -418.0 -11.0  1014.0  202.0  127.0  1002.0  113.0  279.0   \n",
       "3   89.0  980.0 -425.0 -47.0  1025.0  191.0  110.0  1006.0  105.0  353.0   \n",
       "4   64.0  857.0 -391.0  -8.0  1022.0  204.0   97.0  1002.0   93.0  548.0   \n",
       "\n",
       "    ...      104    105   106   107  108   109   110  111    112  labels  \n",
       "0   ...    319.0 -845.0 -20.0  57.0   42  57.0  20.0   42  175.0       1  \n",
       "1   ...    325.0 -847.0 -17.0  38.0   31  38.0  17.0   31  175.0       1  \n",
       "2   ...    328.0 -852.0  27.0  31.0   15  31.0 -27.0   15  175.0       1  \n",
       "3   ...    321.0 -852.0  26.0  22.0   -2  22.0 -26.0   -2  175.0       1  \n",
       "4   ...    321.0 -850.0  22.0  45.0   -7  45.0 -22.0   -7  175.0       1  \n",
       "\n",
       "[5 rows x 114 columns]"
      ]
     },
     "execution_count": 16,
     "metadata": {},
     "output_type": "execute_result"
    }
   ],
   "source": [
    "print(test_data.shape)\n",
    "train_data.head()"
   ]
  },
  {
   "cell_type": "code",
   "execution_count": 17,
   "metadata": {},
   "outputs": [
    {
     "name": "stdout",
     "output_type": "stream",
     "text": [
      "(171500, 5)\n",
      "(63083, 5)\n"
     ]
    }
   ],
   "source": [
    "scaled_train, scaled_test, train_labels, test_labels = prepare_data(train_data, test_data)"
   ]
  },
  {
   "cell_type": "code",
   "execution_count": 19,
   "metadata": {},
   "outputs": [
    {
     "name": "stdout",
     "output_type": "stream",
     "text": [
      "51088\n"
     ]
    },
    {
     "ename": "KeyboardInterrupt",
     "evalue": "",
     "output_type": "error",
     "traceback": [
      "\u001b[0;31m---------------------------------------------------------------------------\u001b[0m",
      "\u001b[0;31mKeyboardInterrupt\u001b[0m                         Traceback (most recent call last)",
      "\u001b[0;32m<ipython-input-19-6d893d51074b>\u001b[0m in \u001b[0;36m<module>\u001b[0;34m()\u001b[0m\n\u001b[1;32m      9\u001b[0m \u001b[0;34m\u001b[0m\u001b[0m\n\u001b[1;32m     10\u001b[0m     \u001b[0mtrainer_helper\u001b[0m \u001b[0;34m=\u001b[0m \u001b[0mtrainerHelper\u001b[0m\u001b[0;34m(\u001b[0m\u001b[0mscaled_train\u001b[0m\u001b[0;34m[\u001b[0m\u001b[0mlast_idx\u001b[0m\u001b[0;34m:\u001b[0m\u001b[0mlast_idx\u001b[0m\u001b[0;34m+\u001b[0m\u001b[0madl\u001b[0m\u001b[0;34m.\u001b[0m\u001b[0mshape\u001b[0m\u001b[0;34m[\u001b[0m\u001b[0;36m0\u001b[0m\u001b[0;34m]\u001b[0m\u001b[0;34m]\u001b[0m\u001b[0;34m,\u001b[0m \u001b[0mtrain_labels\u001b[0m\u001b[0;34m[\u001b[0m\u001b[0mlast_idx\u001b[0m\u001b[0;34m:\u001b[0m\u001b[0mlast_idx\u001b[0m\u001b[0;34m+\u001b[0m\u001b[0madl\u001b[0m\u001b[0;34m.\u001b[0m\u001b[0mshape\u001b[0m\u001b[0;34m[\u001b[0m\u001b[0;36m0\u001b[0m\u001b[0;34m]\u001b[0m\u001b[0;34m]\u001b[0m\u001b[0;34m,\u001b[0m \u001b[0mwin_size\u001b[0m\u001b[0;34m,\u001b[0m \u001b[0mnum_sensors\u001b[0m\u001b[0;34m,\u001b[0m \u001b[0mclasses\u001b[0m\u001b[0;34m)\u001b[0m\u001b[0;34m\u001b[0m\u001b[0m\n\u001b[0;32m---> 11\u001b[0;31m     \u001b[0msegments\u001b[0m\u001b[0;34m,\u001b[0m \u001b[0mlabels\u001b[0m \u001b[0;34m=\u001b[0m \u001b[0mtrainer_helper\u001b[0m\u001b[0;34m.\u001b[0m\u001b[0msegment_data\u001b[0m\u001b[0;34m(\u001b[0m\u001b[0;34m)\u001b[0m\u001b[0;34m\u001b[0m\u001b[0m\n\u001b[0m\u001b[1;32m     12\u001b[0m     \u001b[0mtrain_segments\u001b[0m \u001b[0;34m=\u001b[0m \u001b[0mnp\u001b[0m\u001b[0;34m.\u001b[0m\u001b[0mvstack\u001b[0m\u001b[0;34m(\u001b[0m\u001b[0;34m[\u001b[0m\u001b[0mtrain_segments\u001b[0m\u001b[0;34m,\u001b[0m \u001b[0msegments\u001b[0m\u001b[0;34m]\u001b[0m\u001b[0;34m)\u001b[0m\u001b[0;34m\u001b[0m\u001b[0m\n\u001b[1;32m     13\u001b[0m     \u001b[0mtrain_segments_labels\u001b[0m \u001b[0;34m=\u001b[0m \u001b[0mnp\u001b[0m\u001b[0;34m.\u001b[0m\u001b[0mvstack\u001b[0m\u001b[0;34m(\u001b[0m\u001b[0;34m[\u001b[0m\u001b[0mtrain_segments_labels\u001b[0m\u001b[0;34m,\u001b[0m \u001b[0mlabels\u001b[0m\u001b[0;34m]\u001b[0m\u001b[0;34m)\u001b[0m\u001b[0;34m\u001b[0m\u001b[0m\n",
      "\u001b[0;32m<ipython-input-3-5ad2d9be8030>\u001b[0m in \u001b[0;36msegment_data\u001b[0;34m(self)\u001b[0m\n\u001b[1;32m     26\u001b[0m             \u001b[0mlabel\u001b[0m \u001b[0;34m=\u001b[0m \u001b[0mself\u001b[0m\u001b[0;34m.\u001b[0m\u001b[0mlabels\u001b[0m\u001b[0;34m[\u001b[0m\u001b[0mstart\u001b[0m\u001b[0;34m:\u001b[0m\u001b[0mend\u001b[0m\u001b[0;34m,\u001b[0m\u001b[0;34m:\u001b[0m\u001b[0;34m]\u001b[0m\u001b[0;34m\u001b[0m\u001b[0m\n\u001b[1;32m     27\u001b[0m             \u001b[0;32mif\u001b[0m\u001b[0;34m(\u001b[0m\u001b[0mx\u001b[0m\u001b[0;34m.\u001b[0m\u001b[0mshape\u001b[0m\u001b[0;34m[\u001b[0m\u001b[0;36m1\u001b[0m\u001b[0;34m]\u001b[0m \u001b[0;34m==\u001b[0m \u001b[0mself\u001b[0m\u001b[0;34m.\u001b[0m\u001b[0mwin_size\u001b[0m\u001b[0;34m)\u001b[0m\u001b[0;34m:\u001b[0m\u001b[0;34m\u001b[0m\u001b[0m\n\u001b[0;32m---> 28\u001b[0;31m                 \u001b[0msegments\u001b[0m \u001b[0;34m=\u001b[0m \u001b[0mnp\u001b[0m\u001b[0;34m.\u001b[0m\u001b[0mvstack\u001b[0m\u001b[0;34m(\u001b[0m\u001b[0;34m[\u001b[0m\u001b[0msegments\u001b[0m\u001b[0;34m,\u001b[0m\u001b[0mx\u001b[0m\u001b[0;34m]\u001b[0m\u001b[0;34m)\u001b[0m\u001b[0;34m\u001b[0m\u001b[0m\n\u001b[0m\u001b[1;32m     29\u001b[0m                 \u001b[0mlb\u001b[0m \u001b[0;34m=\u001b[0m \u001b[0mnp\u001b[0m\u001b[0;34m.\u001b[0m\u001b[0mzeros\u001b[0m\u001b[0;34m(\u001b[0m\u001b[0;34m(\u001b[0m\u001b[0;36m1\u001b[0m\u001b[0;34m,\u001b[0m \u001b[0mself\u001b[0m\u001b[0;34m.\u001b[0m\u001b[0mnum_classes\u001b[0m\u001b[0;34m)\u001b[0m\u001b[0;34m)\u001b[0m\u001b[0;34m\u001b[0m\u001b[0m\n\u001b[1;32m     30\u001b[0m                 \u001b[0mlb\u001b[0m\u001b[0;34m[\u001b[0m\u001b[0;36m0\u001b[0m\u001b[0;34m,\u001b[0m\u001b[0;34m:\u001b[0m\u001b[0;34m]\u001b[0m \u001b[0;34m=\u001b[0m \u001b[0mlabel\u001b[0m\u001b[0;34m[\u001b[0m\u001b[0;34m-\u001b[0m\u001b[0;36m1\u001b[0m\u001b[0;34m]\u001b[0m\u001b[0;34m\u001b[0m\u001b[0m\n",
      "\u001b[0;32m~/anaconda/lib/python3.5/site-packages/numpy/core/shape_base.py\u001b[0m in \u001b[0;36mvstack\u001b[0;34m(tup)\u001b[0m\n\u001b[1;32m    232\u001b[0m \u001b[0;34m\u001b[0m\u001b[0m\n\u001b[1;32m    233\u001b[0m     \"\"\"\n\u001b[0;32m--> 234\u001b[0;31m     \u001b[0;32mreturn\u001b[0m \u001b[0m_nx\u001b[0m\u001b[0;34m.\u001b[0m\u001b[0mconcatenate\u001b[0m\u001b[0;34m(\u001b[0m\u001b[0;34m[\u001b[0m\u001b[0matleast_2d\u001b[0m\u001b[0;34m(\u001b[0m\u001b[0m_m\u001b[0m\u001b[0;34m)\u001b[0m \u001b[0;32mfor\u001b[0m \u001b[0m_m\u001b[0m \u001b[0;32min\u001b[0m \u001b[0mtup\u001b[0m\u001b[0;34m]\u001b[0m\u001b[0;34m,\u001b[0m \u001b[0;36m0\u001b[0m\u001b[0;34m)\u001b[0m\u001b[0;34m\u001b[0m\u001b[0m\n\u001b[0m\u001b[1;32m    235\u001b[0m \u001b[0;34m\u001b[0m\u001b[0m\n\u001b[1;32m    236\u001b[0m \u001b[0;32mdef\u001b[0m \u001b[0mhstack\u001b[0m\u001b[0;34m(\u001b[0m\u001b[0mtup\u001b[0m\u001b[0;34m)\u001b[0m\u001b[0;34m:\u001b[0m\u001b[0;34m\u001b[0m\u001b[0m\n",
      "\u001b[0;31mKeyboardInterrupt\u001b[0m: "
     ]
    }
   ],
   "source": [
    "win_size = 15\n",
    "classes = 5\n",
    "num_sensors = scaled_train.shape[1]\n",
    "\n",
    "train_segments = np.empty((0, win_size, num_sensors))\n",
    "train_segments_labels= np.empty((0, classes))\n",
    "last_idx = 0\n",
    "for adl in train_frames:\n",
    "\n",
    "    trainer_helper = trainerHelper(scaled_train[last_idx:last_idx+adl.shape[0]], train_labels[last_idx:last_idx+adl.shape[0]], win_size, num_sensors, classes)\n",
    "    segments, labels = trainer_helper.segment_data()\n",
    "    train_segments = np.vstack([train_segments, segments])\n",
    "    train_segments_labels = np.vstack([train_segments_labels, labels])\n",
    "    last_idx = adl.shape[0]\n",
    "\n",
    "print('Train data has been segmented')\n",
    "\n",
    "test_segments = np.empty((0, win_size, num_sensors))\n",
    "test_segments_labels= np.empty((0, classes))\n",
    "last_idx = 0\n",
    "for adl in test_frames:\n",
    "\n",
    "    trainer_helper = trainerHelper(scaled_test[last_idx:last_idx+adl.shape[0]], test_labels[last_idx:last_idx+adl.shape[0]], win_size, num_sensors, classes)\n",
    "    segments, labels = trainer_helper.segment_data()\n",
    "    test_segments = np.vstack([test_segments, segments])\n",
    "    test_segments_labels = np.vstack([test_segments_labels, labels])\n",
    "    last_idx = adl.shape[0]\n",
    "    \n",
    "print('Test data has been segmented')    "
   ]
  },
  {
   "cell_type": "code",
   "execution_count": 12,
   "metadata": {},
   "outputs": [
    {
     "data": {
      "text/plain": [
       "(19932, 15, 110)"
      ]
     },
     "execution_count": 12,
     "metadata": {},
     "output_type": "execute_result"
    }
   ],
   "source": [
    "train_segments.shape"
   ]
  },
  {
   "cell_type": "code",
   "execution_count": 13,
   "metadata": {},
   "outputs": [
    {
     "data": {
      "text/plain": [
       "(19932, 5)"
      ]
     },
     "execution_count": 13,
     "metadata": {},
     "output_type": "execute_result"
    }
   ],
   "source": [
    "train_segments_labels.shape"
   ]
  },
  {
   "cell_type": "code",
   "execution_count": 14,
   "metadata": {
    "collapsed": true
   },
   "outputs": [],
   "source": [
    "reshaped_train = train_segments.transpose(0,2,1)\n",
    "reshaped_test = test_segments.transpose(0,2,1)"
   ]
  },
  {
   "cell_type": "code",
   "execution_count": 15,
   "metadata": {
    "collapsed": true
   },
   "outputs": [],
   "source": [
    "model = Sequential()\n",
    "kernel_height = 5\n",
    "inputshape = (num_sensors, win_size)\n",
    "validationRatio=0.8;"
   ]
  },
  {
   "cell_type": "code",
   "execution_count": 16,
   "metadata": {},
   "outputs": [
    {
     "name": "stdout",
     "output_type": "stream",
     "text": [
      "WARNING:tensorflow:From C:\\Users\\Tommy Azzino\\Anaconda3\\envs\\tfdeeplearning\\lib\\site-packages\\keras\\backend\\tensorflow_backend.py:1238: calling reduce_sum (from tensorflow.python.ops.math_ops) with keep_dims is deprecated and will be removed in a future version.\n",
      "Instructions for updating:\n",
      "keep_dims is deprecated, use keepdims instead\n",
      "WARNING:tensorflow:From C:\\Users\\Tommy Azzino\\Anaconda3\\envs\\tfdeeplearning\\lib\\site-packages\\keras\\backend\\tensorflow_backend.py:1340: calling reduce_mean (from tensorflow.python.ops.math_ops) with keep_dims is deprecated and will be removed in a future version.\n",
      "Instructions for updating:\n",
      "keep_dims is deprecated, use keepdims instead\n"
     ]
    }
   ],
   "source": [
    "model.add(Conv1D(64, kernel_size=kernel_height, strides=1,\n",
    "                 activation='relu',\n",
    "                 input_shape=inputshape))\n",
    "\n",
    "model.add(Conv1D(64, kernel_size=kernel_height, strides=1,\n",
    "                 activation='relu'))\n",
    "\n",
    "model.add(Conv1D(64, kernel_size=kernel_height, strides=1,\n",
    "                 activation='relu'))\n",
    "\n",
    "model.add(Conv1D(64, kernel_size=kernel_height, strides=1,\n",
    "                 activation='relu'))\n",
    "\n",
    "model.add(Dropout(0.5))\n",
    "\n",
    "model.add(CuDNNLSTM(128, return_sequences=True))\n",
    "\n",
    "model.add(Dropout(0.5))\n",
    "\n",
    "model.add(CuDNNLSTM(128, return_sequences=False))\n",
    "\n",
    "model.add(Dropout(0.5))\n",
    "\n",
    "model.add(Dense(classes, activation='softmax'))\n",
    "\n",
    "adam = optimizers.RMSprop(lr=0.001, decay=1e-6)\n",
    "model.compile(loss='categorical_crossentropy', optimizer=adam, metrics=['accuracy'])"
   ]
  },
  {
   "cell_type": "code",
   "execution_count": 17,
   "metadata": {},
   "outputs": [
    {
     "name": "stdout",
     "output_type": "stream",
     "text": [
      "conv1d_1\n",
      "conv1d_2\n",
      "conv1d_3\n",
      "conv1d_4\n",
      "dropout_1\n",
      "cu_dnnlstm_1\n",
      "dropout_2\n",
      "cu_dnnlstm_2\n",
      "dropout_3\n",
      "dense_1\n"
     ]
    }
   ],
   "source": [
    "for layer in model.layers:\n",
    "    print(layer.name)"
   ]
  },
  {
   "cell_type": "code",
   "execution_count": 18,
   "metadata": {},
   "outputs": [
    {
     "name": "stdout",
     "output_type": "stream",
     "text": [
      "Train on 15945 samples, validate on 3987 samples\n",
      "Epoch 1/50\n",
      "15945/15945 [==============================] - 13s 814us/step - loss: 1.4659 - acc: 0.3629 - val_loss: 1.5729 - val_acc: 0.2789\n",
      "Epoch 2/50\n",
      "15945/15945 [==============================] - 8s 472us/step - loss: 1.2047 - acc: 0.4672 - val_loss: 1.3263 - val_acc: 0.3868\n",
      "Epoch 3/50\n",
      "15945/15945 [==============================] - 8s 472us/step - loss: 1.1904 - acc: 0.4839 - val_loss: 1.0510 - val_acc: 0.5122\n",
      "Epoch 4/50\n",
      "15945/15945 [==============================] - 8s 475us/step - loss: 0.9535 - acc: 0.5594 - val_loss: 0.7835 - val_acc: 0.6090\n",
      "Epoch 5/50\n",
      "15945/15945 [==============================] - 8s 472us/step - loss: 0.8508 - acc: 0.6211 - val_loss: 0.6607 - val_acc: 0.7256\n",
      "Epoch 6/50\n",
      "15945/15945 [==============================] - 8s 478us/step - loss: 0.7268 - acc: 0.7029 - val_loss: 0.6479 - val_acc: 0.7457\n",
      "Epoch 7/50\n",
      "15945/15945 [==============================] - 7s 463us/step - loss: 0.6259 - acc: 0.7513 - val_loss: 0.6342 - val_acc: 0.7218\n",
      "Epoch 8/50\n",
      "15945/15945 [==============================] - 8s 474us/step - loss: 0.5638 - acc: 0.7766 - val_loss: 0.4826 - val_acc: 0.8061\n",
      "Epoch 9/50\n",
      "15945/15945 [==============================] - 8s 472us/step - loss: 0.5104 - acc: 0.7994 - val_loss: 0.4855 - val_acc: 0.8066\n",
      "Epoch 10/50\n",
      "15945/15945 [==============================] - 8s 474us/step - loss: 0.4813 - acc: 0.8100 - val_loss: 0.5234 - val_acc: 0.7785\n",
      "Epoch 11/50\n",
      "15945/15945 [==============================] - 8s 473us/step - loss: 0.4464 - acc: 0.8307 - val_loss: 0.3999 - val_acc: 0.8187\n",
      "Epoch 12/50\n",
      "15945/15945 [==============================] - 8s 475us/step - loss: 0.4205 - acc: 0.8408 - val_loss: 0.5218 - val_acc: 0.7823\n",
      "Epoch 13/50\n",
      "15945/15945 [==============================] - 8s 475us/step - loss: 0.3897 - acc: 0.8532 - val_loss: 0.3174 - val_acc: 0.8801\n",
      "Epoch 14/50\n",
      "15945/15945 [==============================] - 8s 476us/step - loss: 0.3654 - acc: 0.8636 - val_loss: 0.2832 - val_acc: 0.8841\n",
      "Epoch 15/50\n",
      "15945/15945 [==============================] - 8s 474us/step - loss: 0.3503 - acc: 0.8696 - val_loss: 0.3458 - val_acc: 0.8618\n",
      "Epoch 16/50\n",
      "15945/15945 [==============================] - 8s 475us/step - loss: 0.3235 - acc: 0.8806 - val_loss: 0.2647 - val_acc: 0.8977\n",
      "Epoch 17/50\n",
      "15945/15945 [==============================] - 8s 475us/step - loss: 0.3105 - acc: 0.8889 - val_loss: 0.3678 - val_acc: 0.8463\n",
      "Epoch 18/50\n",
      "15945/15945 [==============================] - 8s 477us/step - loss: 0.2890 - acc: 0.8957 - val_loss: 0.1992 - val_acc: 0.9230\n",
      "Epoch 19/50\n",
      "15945/15945 [==============================] - 8s 476us/step - loss: 0.2739 - acc: 0.8978 - val_loss: 0.2874 - val_acc: 0.8874\n",
      "Epoch 20/50\n",
      "15945/15945 [==============================] - 8s 481us/step - loss: 0.2631 - acc: 0.9050 - val_loss: 0.1793 - val_acc: 0.9320\n",
      "Epoch 21/50\n",
      "15945/15945 [==============================] - 8s 476us/step - loss: 0.2541 - acc: 0.9067 - val_loss: 0.2259 - val_acc: 0.9220\n",
      "Epoch 22/50\n",
      "15945/15945 [==============================] - 8s 473us/step - loss: 0.2366 - acc: 0.9171 - val_loss: 0.1934 - val_acc: 0.9243\n",
      "Epoch 23/50\n",
      "15945/15945 [==============================] - 8s 476us/step - loss: 0.2282 - acc: 0.9164 - val_loss: 0.1518 - val_acc: 0.9448\n",
      "Epoch 24/50\n",
      "15945/15945 [==============================] - 8s 471us/step - loss: 0.2197 - acc: 0.9199 - val_loss: 0.2303 - val_acc: 0.9087\n",
      "Epoch 25/50\n",
      "15945/15945 [==============================] - 7s 470us/step - loss: 0.2107 - acc: 0.9252 - val_loss: 0.1399 - val_acc: 0.9498\n",
      "Epoch 26/50\n",
      "15945/15945 [==============================] - 8s 523us/step - loss: 0.2001 - acc: 0.9289 - val_loss: 0.1680 - val_acc: 0.9398\n",
      "Epoch 27/50\n",
      "15945/15945 [==============================] - 9s 563us/step - loss: 0.1940 - acc: 0.9302 - val_loss: 0.1578 - val_acc: 0.9378\n",
      "Epoch 28/50\n",
      "15945/15945 [==============================] - 8s 495us/step - loss: 0.1890 - acc: 0.9327 - val_loss: 0.2770 - val_acc: 0.8967\n",
      "Epoch 29/50\n",
      "15945/15945 [==============================] - 8s 479us/step - loss: 0.1823 - acc: 0.9357 - val_loss: 0.1236 - val_acc: 0.9546\n",
      "Epoch 30/50\n",
      "15945/15945 [==============================] - 8s 475us/step - loss: 0.1765 - acc: 0.9369 - val_loss: 0.1304 - val_acc: 0.9508\n",
      "Epoch 31/50\n",
      "15945/15945 [==============================] - 8s 477us/step - loss: 0.1672 - acc: 0.9425 - val_loss: 0.1251 - val_acc: 0.9576\n",
      "Epoch 32/50\n",
      "15945/15945 [==============================] - 8s 475us/step - loss: 0.1661 - acc: 0.9409 - val_loss: 0.1031 - val_acc: 0.9614\n",
      "Epoch 33/50\n",
      "15945/15945 [==============================] - 8s 476us/step - loss: 0.1594 - acc: 0.9454 - val_loss: 0.1251 - val_acc: 0.9579\n",
      "Epoch 34/50\n",
      "15945/15945 [==============================] - 8s 473us/step - loss: 0.1520 - acc: 0.9471 - val_loss: 0.1241 - val_acc: 0.9539\n",
      "Epoch 35/50\n",
      "15945/15945 [==============================] - 8s 477us/step - loss: 0.1474 - acc: 0.9483 - val_loss: 0.0841 - val_acc: 0.9707\n",
      "Epoch 36/50\n",
      "15945/15945 [==============================] - 8s 479us/step - loss: 0.1480 - acc: 0.9499 - val_loss: 0.0814 - val_acc: 0.9722\n",
      "Epoch 37/50\n",
      "15945/15945 [==============================] - 8s 478us/step - loss: 0.1391 - acc: 0.9515 - val_loss: 0.0822 - val_acc: 0.9704\n",
      "Epoch 38/50\n",
      "15945/15945 [==============================] - 8s 478us/step - loss: 0.1397 - acc: 0.9533 - val_loss: 0.1222 - val_acc: 0.9571\n",
      "Epoch 39/50\n",
      "15945/15945 [==============================] - 8s 477us/step - loss: 0.1325 - acc: 0.9556 - val_loss: 0.1081 - val_acc: 0.9631\n",
      "Epoch 40/50\n",
      "15945/15945 [==============================] - 8s 473us/step - loss: 0.1322 - acc: 0.9567 - val_loss: 0.0854 - val_acc: 0.9702\n",
      "Epoch 41/50\n",
      "15945/15945 [==============================] - 8s 471us/step - loss: 0.1279 - acc: 0.9563 - val_loss: 0.0796 - val_acc: 0.9739\n",
      "Epoch 42/50\n",
      "15945/15945 [==============================] - 8s 471us/step - loss: 0.1223 - acc: 0.9589 - val_loss: 0.0745 - val_acc: 0.9744\n",
      "Epoch 43/50\n",
      "15945/15945 [==============================] - 8s 474us/step - loss: 0.1190 - acc: 0.9602 - val_loss: 0.0997 - val_acc: 0.9674\n",
      "Epoch 44/50\n",
      "15945/15945 [==============================] - 8s 475us/step - loss: 0.1174 - acc: 0.9621 - val_loss: 0.0979 - val_acc: 0.9684\n",
      "Epoch 45/50\n",
      "15945/15945 [==============================] - 8s 476us/step - loss: 0.1209 - acc: 0.9586 - val_loss: 0.0624 - val_acc: 0.9787\n",
      "Epoch 46/50\n",
      "15945/15945 [==============================] - 8s 472us/step - loss: 0.1111 - acc: 0.9627 - val_loss: 0.0754 - val_acc: 0.9749\n",
      "Epoch 47/50\n",
      "15945/15945 [==============================] - 7s 470us/step - loss: 0.1089 - acc: 0.9636 - val_loss: 0.1207 - val_acc: 0.9541\n",
      "Epoch 48/50\n",
      "15945/15945 [==============================] - 8s 483us/step - loss: 0.1086 - acc: 0.9627 - val_loss: 0.1123 - val_acc: 0.9624\n",
      "Epoch 49/50\n",
      "15945/15945 [==============================] - 8s 471us/step - loss: 0.1107 - acc: 0.9623 - val_loss: 0.0593 - val_acc: 0.9819\n",
      "Epoch 50/50\n",
      "15945/15945 [==============================] - 8s 474us/step - loss: 0.1057 - acc: 0.9654 - val_loss: 0.0830 - val_acc: 0.9742\n",
      "Calculating score.. \n",
      "4016/4016 [==============================] - 2s 460us/step\n",
      "[0.57719213816383841, 0.85308764940239046]\n"
     ]
    }
   ],
   "source": [
    "batchSize = 100\n",
    "\n",
    "model.fit(reshaped_train,train_segments_labels, validation_split=1-validationRatio,epochs=50,batch_size=batchSize,verbose=1)\n",
    "\n",
    "print('Calculating score.. ')\n",
    "score = model.evaluate(reshaped_test,test_segments_labels,verbose=1)\n",
    "print(score)\n",
    "model.save('CIP_CNN4_LSTM2_mode_S4.h5')"
   ]
  },
  {
   "cell_type": "code",
   "execution_count": 19,
   "metadata": {
    "collapsed": true
   },
   "outputs": [],
   "source": [
    "predictions = model.predict(reshaped_test)"
   ]
  },
  {
   "cell_type": "code",
   "execution_count": 20,
   "metadata": {},
   "outputs": [
    {
     "name": "stdout",
     "output_type": "stream",
     "text": [
      "0.8530876494023905\n"
     ]
    }
   ],
   "source": [
    "count = 0.0\n",
    "den = 0.0\n",
    "for pair in zip(predictions, test_segments_labels):\n",
    "    if np.argmax(pair[0]) == np.argmax(pair[1]):\n",
    "        count += 1.0\n",
    "    den += 1.0\n",
    "\n",
    "print(count / den)"
   ]
  },
  {
   "cell_type": "code",
   "execution_count": 38,
   "metadata": {
    "collapsed": true
   },
   "outputs": [],
   "source": [
    "pred_df = pd.DataFrame(predictions)\n",
    "pred_df.to_csv('preds_test.csv', header=False, index=False)"
   ]
  },
  {
   "cell_type": "code",
   "execution_count": 39,
   "metadata": {
    "collapsed": true
   },
   "outputs": [],
   "source": [
    "true_df = pd.DataFrame(testY)\n",
    "true_df.to_csv('true_test.csv', header=False, index=False)"
   ]
  },
  {
   "cell_type": "code",
   "execution_count": null,
   "metadata": {
    "collapsed": true
   },
   "outputs": [],
   "source": []
  }
 ],
 "metadata": {
  "kernelspec": {
   "display_name": "Python 3",
   "language": "python",
   "name": "python3"
  },
  "language_info": {
   "codemirror_mode": {
    "name": "ipython",
    "version": 3
   },
   "file_extension": ".py",
   "mimetype": "text/x-python",
   "name": "python",
   "nbconvert_exporter": "python",
   "pygments_lexer": "ipython3",
   "version": "3.5.4"
  }
 },
 "nbformat": 4,
 "nbformat_minor": 2
}
