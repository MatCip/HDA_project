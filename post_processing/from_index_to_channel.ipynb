{
 "cells": [
  {
   "cell_type": "code",
   "execution_count": 4,
   "metadata": {},
   "outputs": [],
   "source": [
    "import pandas as pd\n",
    "import numpy as np\n",
    "import pickle as pk\n",
    "import sys\n",
    "\n",
    "\n",
    "\n",
    "\n",
    "\n"
   ]
  },
  {
   "cell_type": "code",
   "execution_count": 6,
   "metadata": {},
   "outputs": [
    {
     "name": "stdout",
     "output_type": "stream",
     "text": [
      "[0, 54, 46]\n",
      "['Accelerometer_RKN^_accX;column_2', 'InertialMeasurementUnit_RLA_accX;column_64', 'InertialMeasurementUnit_RUA_accY;column_52']\n"
     ]
    }
   ],
   "source": [
    "list_of_channels= [0,54,46];\n",
    "print(list_of_channels)\n",
    "channel_names=from_index_to_channel(list_of_channels)\n",
    "print(channel_names)\n"
   ]
  },
  {
   "cell_type": "code",
   "execution_count": 2,
   "metadata": {},
   "outputs": [],
   "source": [
    "def from_index_to_channel(list_of_channels):\n",
    "    pkl_file = open('index_to_channel.pkl', 'rb')\n",
    "    mydict = pk.load(pkl_file)\n",
    "    channel_names=[]\n",
    "    for key in list_of_channels:\n",
    "        channel_names.append(mydict[key])\n",
    "    return channel_names"
   ]
  },
  {
   "cell_type": "code",
   "execution_count": 125,
   "metadata": {},
   "outputs": [
    {
     "name": "stdout",
     "output_type": "stream",
     "text": [
      "(113,)\n",
      "\n",
      "\n",
      "{0: 'Accelerometer_RKN^_accX;column_2', 1: 'Accelerometer_RKN^_accY;column_3', 2: 'Accelerometer_RKN^_accZ;column_4', 3: 'Accelerometer_HIP_accX;column_5', 4: 'Accelerometer_HIP_accY;column_6', 5: 'Accelerometer_HIP_accZ;column_7', 6: 'Accelerometer_LUA^_accX;column_8', 7: 'Accelerometer_LUA^_accY;column_9', 8: 'Accelerometer_LUA^_accZ;column_10', 9: 'Accelerometer_RUA__accX;column_11', 10: 'Accelerometer_RUA__accY;column_12', 11: 'Accelerometer_RUA__accZ;column_13', 12: 'Accelerometer_LH_accX;column_14', 13: 'Accelerometer_LH_accY;column_15', 14: 'Accelerometer_LH_accZ;column_16', 15: 'Accelerometer_BACK_accX;column_17', 16: 'Accelerometer_BACK_accY;column_18', 17: 'Accelerometer_BACK_accZ;column_19', 18: 'Accelerometer_RKN__accX;column_20', 19: 'Accelerometer_RKN__accY;column_21', 20: 'Accelerometer_RKN__accZ;column_22', 21: 'Accelerometer_RWR_accX;column_23', 22: 'Accelerometer_RWR_accY;column_24', 23: 'Accelerometer_RWR_accZ;column_25', 24: 'Accelerometer_RUA^_accX;column_26', 25: 'Accelerometer_RUA^_accY;column_27', 26: 'Accelerometer_RUA^_accZ;column_28', 27: 'Accelerometer_LUA__accX;column_29', 28: 'Accelerometer_LUA__accY;column_30', 29: 'Accelerometer_LUA__accZ;column_31', 30: 'Accelerometer_LWR_accX;column_32', 31: 'Accelerometer_LWR_accY;column_33', 32: 'Accelerometer_LWR_accZ;column_34', 33: 'Accelerometer_RH_accX;column_35', 34: 'Accelerometer_RH_accY;column_36', 35: 'Accelerometer_RH_accZ;column_37', 36: 'InertialMeasurementUnit_BACK_accX;column_38', 37: 'InertialMeasurementUnit_BACK_accY;column_39', 38: 'InertialMeasurementUnit_BACK_accZ;column_40', 39: 'InertialMeasurementUnit_BACK_gyroX;column_41', 40: 'InertialMeasurementUnit_BACK_gyroY;column_42', 41: 'InertialMeasurementUnit_BACK_gyroZ;column_43', 42: 'InertialMeasurementUnit_BACK_magneticX;column_44', 43: 'InertialMeasurementUnit_BACK_magneticY;column_45', 44: 'InertialMeasurementUnit_BACK_magneticZ;column_46', 45: 'InertialMeasurementUnit_RUA_accX;column_51', 46: 'InertialMeasurementUnit_RUA_accY;column_52', 47: 'InertialMeasurementUnit_RUA_accZ;column_53', 48: 'InertialMeasurementUnit_RUA_gyroX;column_54', 49: 'InertialMeasurementUnit_RUA_gyroY;column_55', 50: 'InertialMeasurementUnit_RUA_gyroZ;column_56', 51: 'InertialMeasurementUnit_RUA_magneticX;column_57', 52: 'InertialMeasurementUnit_RUA_magneticY;column_58', 53: 'InertialMeasurementUnit_RUA_magneticZ;column_59', 54: 'InertialMeasurementUnit_RLA_accX;column_64', 55: 'InertialMeasurementUnit_RLA_accY;column_65', 56: 'InertialMeasurementUnit_RLA_accZ;column_66', 57: 'InertialMeasurementUnit_RLA_gyroX;column_67', 58: 'InertialMeasurementUnit_RLA_gyroY;column_68', 59: 'InertialMeasurementUnit_RLA_gyroZ;column_69', 60: 'InertialMeasurementUnit_RLA_magneticX;column_70', 61: 'InertialMeasurementUnit_RLA_magneticY;column_71', 62: 'InertialMeasurementUnit_RLA_magneticZ;column_72', 63: 'InertialMeasurementUnit_LUA_accX;column_77', 64: 'InertialMeasurementUnit_LUA_accY;column_78', 65: 'InertialMeasurementUnit_LUA_accZ;column_79', 66: 'InertialMeasurementUnit_LUA_gyroX;column_80', 67: 'InertialMeasurementUnit_LUA_gyroY;column_81', 68: 'InertialMeasurementUnit_LUA_gyroZ;column_82', 69: 'InertialMeasurementUnit_LUA_magneticX;column_83', 70: 'InertialMeasurementUnit_LUA_magneticY;column_84', 71: 'InertialMeasurementUnit_LUA_magneticZ;column_85', 72: 'InertialMeasurementUnit_LLA_accX;column_90', 73: 'InertialMeasurementUnit_LLA_accY;column_91', 74: 'InertialMeasurementUnit_LLA_accZ;column_92', 75: 'InertialMeasurementUnit_LLA_gyroX;column_93', 76: 'InertialMeasurementUnit_LLA_gyroY;column_94', 77: 'InertialMeasurementUnit_LLA_gyroZ;column_95', 78: 'InertialMeasurementUnit_LLA_magneticX;column_96', 79: 'InertialMeasurementUnit_LLA_magneticY;column_97', 80: 'InertialMeasurementUnit_LLA_magneticZ;column_98', 81: 'InertialMeasurementUnit_L-SHOE_EuX;column_103', 82: 'InertialMeasurementUnit_L-SHOE_EuY;column_104', 83: 'InertialMeasurementUnit_L-SHOE_EuZ;column_105', 84: 'InertialMeasurementUnit_L-SHOE_Nav_Ax;column_106', 85: 'InertialMeasurementUnit_L-SHOE_Nav_Ay;column_107', 86: 'InertialMeasurementUnit_L-SHOE_Nav_Az;column_108', 87: 'InertialMeasurementUnit_L-SHOE_Body_Ax;column_109', 88: 'InertialMeasurementUnit_L-SHOE_Body_Ay;column_110', 89: 'InertialMeasurementUnit_L-SHOE_Body_Az;column_111', 90: 'InertialMeasurementUnit_L-SHOE_AngVelBodyFrameX;column_112', 91: 'InertialMeasurementUnit_L-SHOE_AngVelBodyFrameY;column_113', 92: 'InertialMeasurementUnit_L-SHOE_AngVelBodyFrameZ;column_114', 93: 'InertialMeasurementUnit_L-SHOE_AngVelNavFrameX;column_115', 94: 'InertialMeasurementUnit_L-SHOE_AngVelNavFrameY;column_116', 95: 'InertialMeasurementUnit_L-SHOE_AngVelNavFrameZ;column_117', 96: 'InertialMeasurementUnit_L-SHOE_Compass;column_118', 97: 'InertialMeasurementUnit_R-SHOE_EuX;column_119', 98: 'InertialMeasurementUnit_R-SHOE_EuY;column_120', 99: 'InertialMeasurementUnit_R-SHOE_EuZ;column_121', 100: 'InertialMeasurementUnit_R-SHOE_Nav_Ax;column_122', 101: 'InertialMeasurementUnit_R-SHOE_Nav_Ay;column_123', 102: 'InertialMeasurementUnit_R-SHOE_Nav_Az;column_124', 103: 'InertialMeasurementUnit_R-SHOE_Body_Ax;column_125', 104: 'InertialMeasurementUnit_R-SHOE_Body_Ay;column_126', 105: 'InertialMeasurementUnit_R-SHOE_Body_Az;column_127', 106: 'InertialMeasurementUnit_R-SHOE_AngVelBodyFrameX;column_128', 107: 'InertialMeasurementUnit_R-SHOE_AngVelBodyFrameY;column_129', 108: 'InertialMeasurementUnit_R-SHOE_AngVelBodyFrameZ;column_130', 109: 'InertialMeasurementUnit_R-SHOE_AngVelNavFrameX;column_131', 110: 'InertialMeasurementUnit_R-SHOE_AngVelNavFrameY;column_132', 111: 'InertialMeasurementUnit_R-SHOE_AngVelNavFrameZ;column_133', 112: 'InertialMeasurementUnit_R-SHOE_Compass;column_134'}\n"
     ]
    }
   ],
   "source": [
    "full_path='column_names.txt'\n",
    "file = open(full_path,\"r\")  \n",
    "dict_={}\n",
    "keep_cols=np.concatenate([np.arange(2,47),np.arange(51,60),np.arange(64,73),np.arange(77,86),np.arange(90,99),np.arange(103,135)])\n",
    "print(keep_cols.shape)\n",
    "\n",
    "indexes=range(0,113)\n",
    "cont=0;\n",
    "\n",
    "for line in file:\n",
    "    \n",
    "    string=line;\n",
    "    line_splitted=line.split();\n",
    "    if(len(line_splitted)!=0):\n",
    "        \n",
    "        try:\n",
    "            numb = int(line_splitted[1])\n",
    "            if(numb<=243 and numb >1 and np.sum(keep_cols==numb)>0):\n",
    "                dict_[indexes[cont]]=line_splitted[2]+'_'+line_splitted[3]+'_'+line_splitted[4]+'column_'+line_splitted[1]\n",
    "                cont=cont+1;\n",
    "                \n",
    "        except ValueError:\n",
    "            print()\n",
    "            j\n",
    "print(dict_)\n",
    "output = open('index_to_channel.pkl', 'wb')\n",
    "pk.dump(dict_, output)\n",
    "output.close()\n",
    "    \n"
   ]
  },
  {
   "cell_type": "code",
   "execution_count": 112,
   "metadata": {},
   "outputs": [
    {
     "name": "stdout",
     "output_type": "stream",
     "text": [
      "1\n"
     ]
    }
   ],
   "source": [
    "print(np.sum(indexes==2))"
   ]
  },
  {
   "cell_type": "code",
   "execution_count": null,
   "metadata": {},
   "outputs": [],
   "source": []
  }
 ],
 "metadata": {
  "kernelspec": {
   "display_name": "Python 3",
   "language": "python",
   "name": "python3"
  },
  "language_info": {
   "codemirror_mode": {
    "name": "ipython",
    "version": 3
   },
   "file_extension": ".py",
   "mimetype": "text/x-python",
   "name": "python",
   "nbconvert_exporter": "python",
   "pygments_lexer": "ipython3",
   "version": "3.5.5"
  }
 },
 "nbformat": 4,
 "nbformat_minor": 2
}
